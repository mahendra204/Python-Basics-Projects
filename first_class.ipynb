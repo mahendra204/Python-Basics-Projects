{
 "cells": [
  {
   "cell_type": "markdown",
   "id": "5c473d8f",
   "metadata": {},
   "source": [
    "# Class 1"
   ]
  },
  {
   "cell_type": "code",
   "execution_count": 1,
   "id": "9c3422ca-866c-4b0f-82c6-16defaee218d",
   "metadata": {},
   "outputs": [
    {
     "name": "stdout",
     "output_type": "stream",
     "text": [
      "welcome to python programming\n"
     ]
    }
   ],
   "source": [
    "print('welcome to python programming')"
   ]
  },
  {
   "cell_type": "markdown",
   "id": "bf33520c",
   "metadata": {},
   "source": [
    "# welcome to python programming"
   ]
  },
  {
   "cell_type": "code",
   "execution_count": 2,
   "id": "2f1f830a",
   "metadata": {},
   "outputs": [
    {
     "name": "stdout",
     "output_type": "stream",
     "text": [
      "9\n"
     ]
    }
   ],
   "source": [
    "print(9)"
   ]
  },
  {
   "cell_type": "code",
   "execution_count": 3,
   "id": "2659c690",
   "metadata": {},
   "outputs": [
    {
     "name": "stdout",
     "output_type": "stream",
     "text": [
      "hello\n"
     ]
    }
   ],
   "source": [
    "print('hello')"
   ]
  },
  {
   "cell_type": "raw",
   "id": "ca0a8a0e",
   "metadata": {},
   "source": [
    "print('nothing')"
   ]
  },
  {
   "cell_type": "markdown",
   "id": "eb0e3f5c",
   "metadata": {},
   "source": [
    "9+9"
   ]
  },
  {
   "cell_type": "markdown",
   "id": "758ab9bd-cb7a-45b0-b830-4f09b4a2e614",
   "metadata": {},
   "source": [
    "9*766"
   ]
  },
  {
   "cell_type": "code",
   "execution_count": 4,
   "id": "6f100a30-58cb-4587-a404-49d900f8840a",
   "metadata": {},
   "outputs": [],
   "source": [
    "#mahendra"
   ]
  },
  {
   "cell_type": "code",
   "execution_count": null,
   "id": "7cb48995-1801-4161-b666-49ba47aa38af",
   "metadata": {},
   "outputs": [],
   "source": [
    "#mahendra"
   ]
  },
  {
   "cell_type": "markdown",
   "id": "887161c4-f95e-4884-9832-db44df30896f",
   "metadata": {},
   "source": [
    "# mahendra"
   ]
  },
  {
   "cell_type": "code",
   "execution_count": null,
   "id": "260dba52-8ee3-458b-9f7f-57eb57ac1313",
   "metadata": {},
   "outputs": [],
   "source": [
    "## mahendra"
   ]
  },
  {
   "cell_type": "markdown",
   "id": "81dbb019-c3ee-4b41-8deb-c4299c27d90b",
   "metadata": {},
   "source": [
    "## mahendra"
   ]
  },
  {
   "cell_type": "code",
   "execution_count": null,
   "id": "cf50bea8-7b5d-4382-8c16-a12da5424ccd",
   "metadata": {},
   "outputs": [],
   "source": [
    "''' amhendraglajg\"\"\""
   ]
  },
  {
   "cell_type": "code",
   "execution_count": null,
   "id": "193d5fc2-bba7-43a7-ae3a-07f44e0d604a",
   "metadata": {},
   "outputs": [],
   "source": [
    "akghagha"
   ]
  },
  {
   "cell_type": "code",
   "execution_count": null,
   "id": "978f9b2c-a050-451b-a9cb-18c058f2defc",
   "metadata": {},
   "outputs": [],
   "source": [
    "alghaoihga"
   ]
  },
  {
   "cell_type": "code",
   "execution_count": null,
   "id": "d0eef783-7204-4263-9a9b-0ef0cae50440",
   "metadata": {},
   "outputs": [],
   "source": [
    "lakjgoiahg'''"
   ]
  },
  {
   "cell_type": "markdown",
   "id": "2412dbe8",
   "metadata": {},
   "source": [
    "# Class 2"
   ]
  },
  {
   "cell_type": "markdown",
   "id": "20970b62",
   "metadata": {},
   "source": [
    "## Data Types"
   ]
  },
  {
   "cell_type": "code",
   "execution_count": null,
   "id": "8fcce52e",
   "metadata": {},
   "outputs": [],
   "source": [
    "# data types in sql\n",
    "# int, varchar, decimal, float, data, date time, money, ............."
   ]
  },
  {
   "cell_type": "code",
   "execution_count": null,
   "id": "b7b3dc88",
   "metadata": {},
   "outputs": [],
   "source": [
    "int, str, float, list, tuple, set, dict, bool"
   ]
  },
  {
   "cell_type": "code",
   "execution_count": null,
   "id": "93c6d09d",
   "metadata": {},
   "outputs": [],
   "source": [
    "a=9"
   ]
  },
  {
   "cell_type": "code",
   "execution_count": null,
   "id": "9606ffd3",
   "metadata": {},
   "outputs": [],
   "source": [
    "A"
   ]
  },
  {
   "cell_type": "code",
   "execution_count": null,
   "id": "d5aad157",
   "metadata": {},
   "outputs": [],
   "source": [
    "type(9)"
   ]
  },
  {
   "cell_type": "code",
   "execution_count": null,
   "id": "8e8468fb",
   "metadata": {},
   "outputs": [],
   "source": [
    "type(9.09)"
   ]
  },
  {
   "cell_type": "code",
   "execution_count": null,
   "id": "0965879e",
   "metadata": {},
   "outputs": [],
   "source": [
    "type('mahendra')"
   ]
  },
  {
   "cell_type": "code",
   "execution_count": null,
   "id": "32bb18f8",
   "metadata": {},
   "outputs": [],
   "source": [
    "type(\"mahendra\")"
   ]
  },
  {
   "cell_type": "code",
   "execution_count": null,
   "id": "d68291be",
   "metadata": {},
   "outputs": [],
   "source": [
    "type(True)"
   ]
  },
  {
   "cell_type": "code",
   "execution_count": null,
   "id": "13182aa9",
   "metadata": {},
   "outputs": [],
   "source": [
    "type('true')"
   ]
  },
  {
   "cell_type": "code",
   "execution_count": null,
   "id": "f9616dff",
   "metadata": {},
   "outputs": [],
   "source": [
    "type(False)"
   ]
  },
  {
   "cell_type": "code",
   "execution_count": null,
   "id": "285b7fb3",
   "metadata": {},
   "outputs": [],
   "source": [
    "type([1,2,3, 'maheandra', True, 1, 8.8])"
   ]
  },
  {
   "cell_type": "code",
   "execution_count": null,
   "id": "19971955",
   "metadata": {},
   "outputs": [],
   "source": [
    "type((1,2,3))"
   ]
  },
  {
   "cell_type": "code",
   "execution_count": null,
   "id": "9aab3d6f",
   "metadata": {},
   "outputs": [],
   "source": [
    "type({1,2,34,9})"
   ]
  },
  {
   "cell_type": "code",
   "execution_count": null,
   "id": "89f338cb",
   "metadata": {},
   "outputs": [],
   "source": [
    "type({1:'mahendra', 2:766888})"
   ]
  },
  {
   "cell_type": "code",
   "execution_count": null,
   "id": "ad47527e",
   "metadata": {},
   "outputs": [],
   "source": [
    "type(int(9.0))"
   ]
  },
  {
   "cell_type": "code",
   "execution_count": null,
   "id": "757700fc",
   "metadata": {},
   "outputs": [],
   "source": [
    "type(int(9.8777))"
   ]
  },
  {
   "cell_type": "code",
   "execution_count": null,
   "id": "efa386d1",
   "metadata": {},
   "outputs": [],
   "source": [
    "type('mahendra')"
   ]
  },
  {
   "cell_type": "code",
   "execution_count": null,
   "id": "36b2a99f",
   "metadata": {},
   "outputs": [],
   "source": [
    "type('9877789')"
   ]
  },
  {
   "cell_type": "code",
   "execution_count": null,
   "id": "f432e410",
   "metadata": {},
   "outputs": [],
   "source": [
    "type(int('9822772'))"
   ]
  },
  {
   "cell_type": "code",
   "execution_count": null,
   "id": "1232489a",
   "metadata": {},
   "outputs": [],
   "source": [
    "type(float('28277272'))"
   ]
  },
  {
   "cell_type": "code",
   "execution_count": null,
   "id": "8990e717",
   "metadata": {},
   "outputs": [],
   "source": [
    "a = [9, 2]"
   ]
  },
  {
   "cell_type": "code",
   "execution_count": null,
   "id": "f1a39ff2",
   "metadata": {},
   "outputs": [],
   "source": [
    "type(a)"
   ]
  },
  {
   "cell_type": "code",
   "execution_count": null,
   "id": "839ba0e9",
   "metadata": {},
   "outputs": [],
   "source": [
    "int(a)"
   ]
  },
  {
   "cell_type": "code",
   "execution_count": null,
   "id": "505b9854",
   "metadata": {},
   "outputs": [],
   "source": [
    "8277272"
   ]
  },
  {
   "cell_type": "code",
   "execution_count": null,
   "id": "7caa6245",
   "metadata": {},
   "outputs": [],
   "source": [
    "type(str(287272782))"
   ]
  },
  {
   "cell_type": "code",
   "execution_count": null,
   "id": "2babab83",
   "metadata": {},
   "outputs": [],
   "source": [
    "bool(0)"
   ]
  },
  {
   "cell_type": "code",
   "execution_count": null,
   "id": "7701be1f",
   "metadata": {},
   "outputs": [],
   "source": [
    "bool(1)"
   ]
  },
  {
   "cell_type": "code",
   "execution_count": null,
   "id": "56052983",
   "metadata": {},
   "outputs": [],
   "source": [
    "type(bool(1))"
   ]
  },
  {
   "cell_type": "code",
   "execution_count": null,
   "id": "5e0c084e",
   "metadata": {},
   "outputs": [],
   "source": [
    "type(False)"
   ]
  },
  {
   "cell_type": "code",
   "execution_count": null,
   "id": "39a0e39b",
   "metadata": {},
   "outputs": [],
   "source": [
    "# keywords"
   ]
  },
  {
   "cell_type": "code",
   "execution_count": null,
   "id": "4e649ee3",
   "metadata": {
    "scrolled": true
   },
   "outputs": [],
   "source": [
    "help('keywords')"
   ]
  },
  {
   "cell_type": "code",
   "execution_count": null,
   "id": "cc7d95c4",
   "metadata": {},
   "outputs": [],
   "source": [
    "help('for')"
   ]
  },
  {
   "cell_type": "code",
   "execution_count": null,
   "id": "476cad06",
   "metadata": {},
   "outputs": [],
   "source": [
    "help('False')"
   ]
  },
  {
   "cell_type": "code",
   "execution_count": null,
   "id": "652d2fb0",
   "metadata": {
    "scrolled": true
   },
   "outputs": [],
   "source": [
    "help('if'a)"
   ]
  },
  {
   "cell_type": "code",
   "execution_count": null,
   "id": "d828bdae",
   "metadata": {},
   "outputs": [],
   "source": []
  },
  {
   "cell_type": "markdown",
   "id": "0ee50b49",
   "metadata": {},
   "source": [
    "# variables"
   ]
  },
  {
   "cell_type": "code",
   "execution_count": null,
   "id": "1c40357d",
   "metadata": {},
   "outputs": [],
   "source": [
    "a = 9988"
   ]
  },
  {
   "cell_type": "code",
   "execution_count": null,
   "id": "09c1e31a",
   "metadata": {},
   "outputs": [],
   "source": [
    "name = 'mahendra aghoaihg'"
   ]
  },
  {
   "cell_type": "code",
   "execution_count": null,
   "id": "d62e29ab",
   "metadata": {},
   "outputs": [],
   "source": [
    "age = 877"
   ]
  },
  {
   "cell_type": "markdown",
   "id": "b70dc17b",
   "metadata": {},
   "source": [
    "# Identifiers"
   ]
  },
  {
   "cell_type": "code",
   "execution_count": null,
   "id": "b73c6266",
   "metadata": {},
   "outputs": [],
   "source": [
    "# aaghiah='mahendra'"
   ]
  },
  {
   "cell_type": "code",
   "execution_count": null,
   "id": "ee090753",
   "metadata": {},
   "outputs": [],
   "source": [
    "for5 = 8"
   ]
  },
  {
   "cell_type": "code",
   "execution_count": null,
   "id": "7507cec0",
   "metadata": {},
   "outputs": [],
   "source": [
    "a=9"
   ]
  },
  {
   "cell_type": "code",
   "execution_count": null,
   "id": "fd106bca",
   "metadata": {},
   "outputs": [],
   "source": [
    "a=10"
   ]
  },
  {
   "cell_type": "code",
   "execution_count": null,
   "id": "8483e479",
   "metadata": {},
   "outputs": [],
   "source": [
    "a"
   ]
  },
  {
   "cell_type": "code",
   "execution_count": null,
   "id": "c3b26a93",
   "metadata": {},
   "outputs": [],
   "source": [
    "name = 'mahendra'"
   ]
  },
  {
   "cell_type": "code",
   "execution_count": null,
   "id": "1b52e21c",
   "metadata": {},
   "outputs": [],
   "source": [
    "name = 'unknown'"
   ]
  },
  {
   "cell_type": "code",
   "execution_count": null,
   "id": "d438fd51",
   "metadata": {},
   "outputs": [],
   "source": [
    "print(name)"
   ]
  },
  {
   "cell_type": "code",
   "execution_count": null,
   "id": "35687d27",
   "metadata": {},
   "outputs": [],
   "source": [
    "name = input()"
   ]
  },
  {
   "cell_type": "code",
   "execution_count": null,
   "id": "b35e133a",
   "metadata": {},
   "outputs": [],
   "source": [
    "type(name)"
   ]
  },
  {
   "cell_type": "code",
   "execution_count": null,
   "id": "ae515ff2",
   "metadata": {},
   "outputs": [],
   "source": [
    "age = int(input())"
   ]
  },
  {
   "cell_type": "code",
   "execution_count": null,
   "id": "93c6e6b4",
   "metadata": {},
   "outputs": [],
   "source": [
    "age"
   ]
  },
  {
   "cell_type": "code",
   "execution_count": null,
   "id": "b52308a9",
   "metadata": {},
   "outputs": [],
   "source": [
    "name = input('enter your name:')"
   ]
  },
  {
   "cell_type": "code",
   "execution_count": null,
   "id": "e791392c",
   "metadata": {},
   "outputs": [],
   "source": [
    "mail = input('Enter your mail id:')"
   ]
  },
  {
   "cell_type": "code",
   "execution_count": null,
   "id": "0cb960a9",
   "metadata": {},
   "outputs": [],
   "source": [
    "weight = float(input('enter your weight:'))"
   ]
  },
  {
   "cell_type": "code",
   "execution_count": null,
   "id": "e9a60281",
   "metadata": {},
   "outputs": [],
   "source": [
    "type(weight)"
   ]
  },
  {
   "cell_type": "code",
   "execution_count": null,
   "id": "3049475e",
   "metadata": {},
   "outputs": [],
   "source": [
    "print(weight)"
   ]
  },
  {
   "cell_type": "code",
   "execution_count": null,
   "id": "24852ac7",
   "metadata": {},
   "outputs": [],
   "source": [
    "name = 'mahendra'\n",
    "age = 89\n",
    "location = 'usa'\n",
    "mail_id = 'alihga@gmail.com'\n",
    "phone_number= 9282727727"
   ]
  },
  {
   "cell_type": "code",
   "execution_count": null,
   "id": "dd7ebcbf",
   "metadata": {},
   "outputs": [],
   "source": [
    "print(name)"
   ]
  },
  {
   "cell_type": "code",
   "execution_count": null,
   "id": "c0169976",
   "metadata": {},
   "outputs": [],
   "source": [
    "print(age)"
   ]
  },
  {
   "cell_type": "code",
   "execution_count": null,
   "id": "e013e1ca",
   "metadata": {},
   "outputs": [],
   "source": [
    "print(location)"
   ]
  },
  {
   "cell_type": "code",
   "execution_count": null,
   "id": "3dd9b8ad",
   "metadata": {},
   "outputs": [],
   "source": [
    "print(phone_number)"
   ]
  },
  {
   "cell_type": "code",
   "execution_count": null,
   "id": "2f431b6d",
   "metadata": {},
   "outputs": [],
   "source": [
    "print(f' hello hi my name is {name}, and my age is {age}, my mail id is {mail_id}, my address is {location}, \\n \\n \\n my phone number is {phone_number}')"
   ]
  },
  {
   "cell_type": "code",
   "execution_count": null,
   "id": "ab7c5c64",
   "metadata": {},
   "outputs": [],
   "source": [
    "age = 66\n",
    "    "
   ]
  },
  {
   "cell_type": "code",
   "execution_count": null,
   "id": "46e43f31",
   "metadata": {},
   "outputs": [],
   "source": [
    "if age > 77:\n",
    "    print(age)\n",
    "    print(age * age)\n",
    "else:\n",
    "    print(age-8)\n",
    "print(age *0)"
   ]
  },
  {
   "cell_type": "code",
   "execution_count": null,
   "id": "f67dcb34",
   "metadata": {},
   "outputs": [],
   "source": [
    "for i in range(100):\n",
    "    print(i*i, end=' ')"
   ]
  },
  {
   "cell_type": "code",
   "execution_count": null,
   "id": "ec370aee",
   "metadata": {},
   "outputs": [],
   "source": [
    "if age > 70:\n",
    "    print('something')\n",
    "    print('nothing')\n",
    "elif (age > 76):\n",
    "    print('someting1111')\n",
    "    print(age)\n",
    "else:\n",
    "    print(age *0)"
   ]
  },
  {
   "cell_type": "markdown",
   "id": "981e9c15",
   "metadata": {},
   "source": [
    "# Operators in python"
   ]
  },
  {
   "cell_type": "markdown",
   "id": "42486eda",
   "metadata": {},
   "source": [
    "## i. Arithmetic operators"
   ]
  },
  {
   "cell_type": "markdown",
   "id": "e07bd786",
   "metadata": {},
   "source": [
    "### +, -, *, /, //, %, **"
   ]
  },
  {
   "cell_type": "code",
   "execution_count": null,
   "id": "5dc51948",
   "metadata": {},
   "outputs": [],
   "source": [
    "a = 78"
   ]
  },
  {
   "cell_type": "code",
   "execution_count": null,
   "id": "86e94d18",
   "metadata": {},
   "outputs": [],
   "source": [
    "a"
   ]
  },
  {
   "cell_type": "code",
   "execution_count": null,
   "id": "bf6d0211",
   "metadata": {},
   "outputs": [],
   "source": [
    "b= 65"
   ]
  },
  {
   "cell_type": "code",
   "execution_count": null,
   "id": "ac1ae973",
   "metadata": {},
   "outputs": [],
   "source": [
    "b"
   ]
  },
  {
   "cell_type": "code",
   "execution_count": null,
   "id": "af9706a7",
   "metadata": {},
   "outputs": [],
   "source": [
    "a\n",
    "b"
   ]
  },
  {
   "cell_type": "code",
   "execution_count": null,
   "id": "dc505873",
   "metadata": {},
   "outputs": [],
   "source": [
    "print(a)\n",
    "print(b)"
   ]
  },
  {
   "cell_type": "code",
   "execution_count": null,
   "id": "36e81ff2",
   "metadata": {},
   "outputs": [],
   "source": [
    "print(a)"
   ]
  },
  {
   "cell_type": "code",
   "execution_count": null,
   "id": "364b722b",
   "metadata": {},
   "outputs": [],
   "source": [
    "a"
   ]
  },
  {
   "cell_type": "code",
   "execution_count": null,
   "id": "53c1acea",
   "metadata": {},
   "outputs": [],
   "source": [
    "b\n",
    "a"
   ]
  },
  {
   "cell_type": "code",
   "execution_count": null,
   "id": "d53860f7",
   "metadata": {},
   "outputs": [],
   "source": [
    "a + b"
   ]
  },
  {
   "cell_type": "code",
   "execution_count": null,
   "id": "a24c5d93",
   "metadata": {},
   "outputs": [],
   "source": [
    "print(a+b)"
   ]
  },
  {
   "cell_type": "code",
   "execution_count": null,
   "id": "03716feb",
   "metadata": {},
   "outputs": [],
   "source": [
    "a=int(input('enter a value:'))\n",
    "b = int(float(input('enter b value:')))\n",
    "ans = a+b\n",
    "print(f'sum of a and b values are {ans}')"
   ]
  },
  {
   "cell_type": "code",
   "execution_count": null,
   "id": "b7a8c885",
   "metadata": {},
   "outputs": [],
   "source": [
    "a-b"
   ]
  },
  {
   "cell_type": "code",
   "execution_count": null,
   "id": "1cb8a6ce",
   "metadata": {},
   "outputs": [],
   "source": [
    "9+j9"
   ]
  },
  {
   "cell_type": "code",
   "execution_count": null,
   "id": "80931213",
   "metadata": {},
   "outputs": [],
   "source": [
    "9+9j"
   ]
  },
  {
   "cell_type": "code",
   "execution_count": null,
   "id": "6d75bfba",
   "metadata": {},
   "outputs": [],
   "source": [
    "type(9+9j)"
   ]
  },
  {
   "cell_type": "code",
   "execution_count": null,
   "id": "0101635d",
   "metadata": {},
   "outputs": [],
   "source": [
    "x = 877+877j"
   ]
  },
  {
   "cell_type": "code",
   "execution_count": null,
   "id": "fcc5ab21",
   "metadata": {},
   "outputs": [],
   "source": [
    "type(x)"
   ]
  },
  {
   "cell_type": "code",
   "execution_count": null,
   "id": "79d033fa",
   "metadata": {},
   "outputs": [],
   "source": [
    "y=x.conjugate()"
   ]
  },
  {
   "cell_type": "code",
   "execution_count": null,
   "id": "060119d9",
   "metadata": {},
   "outputs": [],
   "source": [
    "x+y"
   ]
  },
  {
   "cell_type": "code",
   "execution_count": null,
   "id": "bebea808",
   "metadata": {},
   "outputs": [],
   "source": [
    "x - y"
   ]
  },
  {
   "cell_type": "code",
   "execution_count": null,
   "id": "fc74fc46",
   "metadata": {},
   "outputs": [],
   "source": [
    " 877j + 877j"
   ]
  },
  {
   "cell_type": "code",
   "execution_count": null,
   "id": "7ef1d32a",
   "metadata": {},
   "outputs": [],
   "source": [
    "x * y"
   ]
  },
  {
   "cell_type": "code",
   "execution_count": null,
   "id": "f9381a74",
   "metadata": {},
   "outputs": [],
   "source": [
    "a=8\n",
    "b = 23"
   ]
  },
  {
   "cell_type": "code",
   "execution_count": null,
   "id": "dbe2fb68",
   "metadata": {},
   "outputs": [],
   "source": [
    "a+b"
   ]
  },
  {
   "cell_type": "code",
   "execution_count": null,
   "id": "751400a0",
   "metadata": {},
   "outputs": [],
   "source": [
    "a-b"
   ]
  },
  {
   "cell_type": "code",
   "execution_count": null,
   "id": "b05106fe",
   "metadata": {},
   "outputs": [],
   "source": [
    "a*b"
   ]
  },
  {
   "cell_type": "code",
   "execution_count": null,
   "id": "165705a8",
   "metadata": {},
   "outputs": [],
   "source": [
    "a/b"
   ]
  },
  {
   "cell_type": "code",
   "execution_count": null,
   "id": "e88c996e",
   "metadata": {},
   "outputs": [],
   "source": [
    "a//b"
   ]
  },
  {
   "cell_type": "code",
   "execution_count": null,
   "id": "701f1158",
   "metadata": {},
   "outputs": [],
   "source": [
    "a"
   ]
  },
  {
   "cell_type": "code",
   "execution_count": null,
   "id": "412a3fae",
   "metadata": {},
   "outputs": [],
   "source": [
    "a=6"
   ]
  },
  {
   "cell_type": "code",
   "execution_count": null,
   "id": "dc61dd9f",
   "metadata": {},
   "outputs": [],
   "source": [
    "b"
   ]
  },
  {
   "cell_type": "code",
   "execution_count": null,
   "id": "f4d3f197",
   "metadata": {},
   "outputs": [],
   "source": [
    "b=4"
   ]
  },
  {
   "cell_type": "code",
   "execution_count": null,
   "id": "dc4b448a",
   "metadata": {},
   "outputs": [],
   "source": [
    "a/b"
   ]
  },
  {
   "cell_type": "code",
   "execution_count": null,
   "id": "48bb4419",
   "metadata": {},
   "outputs": [],
   "source": [
    "a//b"
   ]
  },
  {
   "cell_type": "code",
   "execution_count": null,
   "id": "b044b5ac",
   "metadata": {},
   "outputs": [],
   "source": [
    "x"
   ]
  },
  {
   "cell_type": "code",
   "execution_count": null,
   "id": "be19bb81",
   "metadata": {},
   "outputs": [],
   "source": [
    "x.conjugate()"
   ]
  },
  {
   "cell_type": "code",
   "execution_count": null,
   "id": "2dbaa9a1",
   "metadata": {},
   "outputs": [],
   "source": [
    "x=9"
   ]
  },
  {
   "cell_type": "code",
   "execution_count": null,
   "id": "1848932e",
   "metadata": {},
   "outputs": [],
   "source": [
    "x"
   ]
  },
  {
   "cell_type": "code",
   "execution_count": null,
   "id": "204dfb3a",
   "metadata": {},
   "outputs": [],
   "source": [
    "8**2"
   ]
  },
  {
   "cell_type": "code",
   "execution_count": null,
   "id": "0d6edd14",
   "metadata": {},
   "outputs": [],
   "source": [
    "7**7"
   ]
  },
  {
   "cell_type": "code",
   "execution_count": null,
   "id": "9e220b08",
   "metadata": {},
   "outputs": [],
   "source": [
    "7**2"
   ]
  },
  {
   "cell_type": "code",
   "execution_count": null,
   "id": "60cfcbff",
   "metadata": {},
   "outputs": [],
   "source": [
    "a"
   ]
  },
  {
   "cell_type": "code",
   "execution_count": null,
   "id": "74f867fd",
   "metadata": {},
   "outputs": [],
   "source": [
    "b"
   ]
  },
  {
   "cell_type": "code",
   "execution_count": null,
   "id": "2b0aee84",
   "metadata": {},
   "outputs": [],
   "source": [
    "a%b"
   ]
  },
  {
   "cell_type": "code",
   "execution_count": null,
   "id": "fc9989b4",
   "metadata": {},
   "outputs": [],
   "source": [
    "# % ---> return remainder\n",
    "# / ---> it will coefficient\n",
    "# // ---> it will floor value of coefficient\n",
    "# + --> addition, - => subtraction, ** ==> power"
   ]
  },
  {
   "cell_type": "code",
   "execution_count": null,
   "id": "276a582d",
   "metadata": {},
   "outputs": [],
   "source": [
    "24//5"
   ]
  },
  {
   "cell_type": "code",
   "execution_count": null,
   "id": "d1368081",
   "metadata": {},
   "outputs": [],
   "source": [
    "b=9"
   ]
  },
  {
   "cell_type": "code",
   "execution_count": null,
   "id": "d442d916",
   "metadata": {},
   "outputs": [],
   "source": [
    "if b%2==0:\n",
    "    print(f'{b} is even number')\n",
    "else:\n",
    "    print(f'{b} is odd number')\n",
    "    "
   ]
  },
  {
   "cell_type": "markdown",
   "id": "f9a5a714",
   "metadata": {},
   "source": [
    "# assignment operators\n",
    "## =, +=, -=, *=, /=, //=, **="
   ]
  },
  {
   "cell_type": "code",
   "execution_count": null,
   "id": "ea8b938a",
   "metadata": {},
   "outputs": [],
   "source": [
    "a=8"
   ]
  },
  {
   "cell_type": "code",
   "execution_count": null,
   "id": "c48b04ae",
   "metadata": {},
   "outputs": [],
   "source": [
    "a"
   ]
  },
  {
   "cell_type": "code",
   "execution_count": null,
   "id": "1eea4532",
   "metadata": {},
   "outputs": [],
   "source": [
    "a+=1"
   ]
  },
  {
   "cell_type": "code",
   "execution_count": null,
   "id": "31c63550",
   "metadata": {},
   "outputs": [],
   "source": [
    "a"
   ]
  },
  {
   "cell_type": "code",
   "execution_count": null,
   "id": "05c8f82d",
   "metadata": {},
   "outputs": [],
   "source": [
    "a=a+1"
   ]
  },
  {
   "cell_type": "code",
   "execution_count": null,
   "id": "9d030988",
   "metadata": {},
   "outputs": [],
   "source": [
    "a"
   ]
  },
  {
   "cell_type": "code",
   "execution_count": null,
   "id": "ffa59429",
   "metadata": {},
   "outputs": [],
   "source": [
    "a-=1"
   ]
  },
  {
   "cell_type": "code",
   "execution_count": null,
   "id": "827c184d",
   "metadata": {},
   "outputs": [],
   "source": [
    "a"
   ]
  },
  {
   "cell_type": "code",
   "execution_count": null,
   "id": "07525b0b",
   "metadata": {},
   "outputs": [],
   "source": [
    "a"
   ]
  },
  {
   "cell_type": "code",
   "execution_count": null,
   "id": "b9624ddd",
   "metadata": {},
   "outputs": [],
   "source": [
    "a/=3"
   ]
  },
  {
   "cell_type": "code",
   "execution_count": null,
   "id": "b1dafc69",
   "metadata": {},
   "outputs": [],
   "source": [
    "a"
   ]
  },
  {
   "cell_type": "code",
   "execution_count": null,
   "id": "50122238",
   "metadata": {},
   "outputs": [],
   "source": [
    "a=3333\n",
    "a=a/3"
   ]
  },
  {
   "cell_type": "code",
   "execution_count": null,
   "id": "5b6433bf",
   "metadata": {},
   "outputs": [],
   "source": [
    "a"
   ]
  },
  {
   "cell_type": "code",
   "execution_count": null,
   "id": "4d56eb14",
   "metadata": {},
   "outputs": [],
   "source": [
    "a/=3"
   ]
  },
  {
   "cell_type": "code",
   "execution_count": null,
   "id": "e5394792",
   "metadata": {},
   "outputs": [],
   "source": [
    "a"
   ]
  },
  {
   "cell_type": "code",
   "execution_count": null,
   "id": "3800e216",
   "metadata": {},
   "outputs": [],
   "source": [
    "a"
   ]
  },
  {
   "cell_type": "code",
   "execution_count": null,
   "id": "ab3964c8",
   "metadata": {},
   "outputs": [],
   "source": [
    "a*=3"
   ]
  },
  {
   "cell_type": "code",
   "execution_count": null,
   "id": "b82e68c4",
   "metadata": {},
   "outputs": [],
   "source": [
    "a"
   ]
  },
  {
   "cell_type": "code",
   "execution_count": null,
   "id": "16e9e992",
   "metadata": {},
   "outputs": [],
   "source": [
    "a=[1,2,3,4,5,6,7,8,9,10,11,12,13,14]\n",
    "ans=0\n",
    "for i in a:\n",
    "    count+=i\n",
    "print(count)"
   ]
  },
  {
   "cell_type": "code",
   "execution_count": null,
   "id": "4a19b395",
   "metadata": {},
   "outputs": [],
   "source": [
    "#the sum of n number = n*(n+1)/2"
   ]
  },
  {
   "cell_type": "code",
   "execution_count": null,
   "id": "a8b6e173",
   "metadata": {},
   "outputs": [],
   "source": [
    "a"
   ]
  },
  {
   "cell_type": "code",
   "execution_count": null,
   "id": "fda88f57",
   "metadata": {},
   "outputs": [],
   "source": [
    "a=98"
   ]
  },
  {
   "cell_type": "code",
   "execution_count": null,
   "id": "63b4b501",
   "metadata": {},
   "outputs": [],
   "source": [
    "a%=5"
   ]
  },
  {
   "cell_type": "code",
   "execution_count": null,
   "id": "81d8ca69",
   "metadata": {},
   "outputs": [],
   "source": [
    "a"
   ]
  },
  {
   "cell_type": "code",
   "execution_count": null,
   "id": "1f2b3e2b",
   "metadata": {},
   "outputs": [],
   "source": [
    "a"
   ]
  },
  {
   "cell_type": "code",
   "execution_count": null,
   "id": "68e0a8b0",
   "metadata": {},
   "outputs": [],
   "source": [
    "a**=2"
   ]
  },
  {
   "cell_type": "code",
   "execution_count": null,
   "id": "c6a6c0e7",
   "metadata": {},
   "outputs": [],
   "source": [
    "a"
   ]
  },
  {
   "cell_type": "code",
   "execution_count": null,
   "id": "2a7fe609",
   "metadata": {},
   "outputs": [],
   "source": [
    "a"
   ]
  },
  {
   "cell_type": "code",
   "execution_count": null,
   "id": "fbfb665b",
   "metadata": {},
   "outputs": [],
   "source": [
    "a//=7"
   ]
  },
  {
   "cell_type": "code",
   "execution_count": null,
   "id": "2c6169d3",
   "metadata": {},
   "outputs": [],
   "source": [
    "a"
   ]
  },
  {
   "cell_type": "code",
   "execution_count": null,
   "id": "58cb11c2",
   "metadata": {},
   "outputs": [],
   "source": [
    "6561/7"
   ]
  },
  {
   "cell_type": "code",
   "execution_count": null,
   "id": "6c1fdd18",
   "metadata": {},
   "outputs": [],
   "source": [
    "a=[1,2,3,4,0]"
   ]
  },
  {
   "cell_type": "code",
   "execution_count": null,
   "id": "6157046a",
   "metadata": {},
   "outputs": [],
   "source": [
    "mul = 1\n",
    "for i in a:\n",
    "    mul*=i\n",
    "    \n",
    "    "
   ]
  },
  {
   "cell_type": "code",
   "execution_count": null,
   "id": "56c5c476",
   "metadata": {},
   "outputs": [],
   "source": [
    "mul"
   ]
  },
  {
   "cell_type": "code",
   "execution_count": null,
   "id": "a5a2619b",
   "metadata": {},
   "outputs": [],
   "source": [
    "for i,j,k in a:\n",
    "    print(ahgahg)"
   ]
  },
  {
   "cell_type": "code",
   "execution_count": null,
   "id": "1a172bb7",
   "metadata": {},
   "outputs": [],
   "source": [
    "a = 9"
   ]
  },
  {
   "cell_type": "code",
   "execution_count": null,
   "id": "d1f9034b",
   "metadata": {},
   "outputs": [],
   "source": [
    "b=8"
   ]
  },
  {
   "cell_type": "code",
   "execution_count": null,
   "id": "5ff4e264",
   "metadata": {},
   "outputs": [],
   "source": [
    "a,b = 8, 2"
   ]
  },
  {
   "cell_type": "code",
   "execution_count": null,
   "id": "c73e933a",
   "metadata": {},
   "outputs": [],
   "source": [
    "a"
   ]
  },
  {
   "cell_type": "code",
   "execution_count": null,
   "id": "acb899c5",
   "metadata": {},
   "outputs": [],
   "source": [
    "b"
   ]
  },
  {
   "cell_type": "code",
   "execution_count": null,
   "id": "32a9b601",
   "metadata": {},
   "outputs": [],
   "source": [
    "a = 'mahendra ooi'"
   ]
  },
  {
   "cell_type": "code",
   "execution_count": null,
   "id": "431a77c1",
   "metadata": {},
   "outputs": [],
   "source": [
    "a"
   ]
  },
  {
   "cell_type": "code",
   "execution_count": null,
   "id": "d17d39aa",
   "metadata": {},
   "outputs": [],
   "source": [
    "a"
   ]
  },
  {
   "cell_type": "code",
   "execution_count": null,
   "id": "36a3ba96",
   "metadata": {},
   "outputs": [],
   "source": [
    "len('mahendraai')"
   ]
  },
  {
   "cell_type": "code",
   "execution_count": null,
   "id": "ec18d26e",
   "metadata": {},
   "outputs": [],
   "source": [
    "a[:]"
   ]
  },
  {
   "cell_type": "code",
   "execution_count": null,
   "id": "c2518c4f",
   "metadata": {},
   "outputs": [],
   "source": [
    "a[0]"
   ]
  },
  {
   "cell_type": "code",
   "execution_count": null,
   "id": "8a8f5e51",
   "metadata": {},
   "outputs": [],
   "source": [
    "a[10]"
   ]
  },
  {
   "cell_type": "code",
   "execution_count": null,
   "id": "bce38afd",
   "metadata": {},
   "outputs": [],
   "source": [
    "type(a[10])"
   ]
  },
  {
   "cell_type": "code",
   "execution_count": null,
   "id": "89e7ba21",
   "metadata": {},
   "outputs": [],
   "source": [
    "a[2:len(a)-2]"
   ]
  },
  {
   "cell_type": "code",
   "execution_count": null,
   "id": "20b8c0ce",
   "metadata": {},
   "outputs": [],
   "source": [
    "a[-4]"
   ]
  },
  {
   "cell_type": "code",
   "execution_count": null,
   "id": "fde0525f",
   "metadata": {},
   "outputs": [],
   "source": [
    "a= 'mahendra'"
   ]
  },
  {
   "cell_type": "code",
   "execution_count": null,
   "id": "522f5554",
   "metadata": {},
   "outputs": [],
   "source": [
    "a[-1]"
   ]
  },
  {
   "cell_type": "code",
   "execution_count": null,
   "id": "b429d73a",
   "metadata": {},
   "outputs": [],
   "source": [
    "a[-2]"
   ]
  },
  {
   "cell_type": "code",
   "execution_count": null,
   "id": "ff2a5d7f",
   "metadata": {},
   "outputs": [],
   "source": [
    "a[-1:len(a)]"
   ]
  },
  {
   "cell_type": "code",
   "execution_count": null,
   "id": "0fe2d14c",
   "metadata": {},
   "outputs": [],
   "source": [
    "a, *b = 'mahendra'"
   ]
  },
  {
   "cell_type": "code",
   "execution_count": null,
   "id": "ca87cb3a",
   "metadata": {},
   "outputs": [],
   "source": [
    "a"
   ]
  },
  {
   "cell_type": "code",
   "execution_count": null,
   "id": "c437bc0c",
   "metadata": {},
   "outputs": [],
   "source": [
    "b"
   ]
  },
  {
   "cell_type": "code",
   "execution_count": null,
   "id": "5bbe87c5",
   "metadata": {},
   "outputs": [],
   "source": [
    "# =, +=, -=, *=, /=, //=, **= (numberic, string)"
   ]
  },
  {
   "cell_type": "code",
   "execution_count": null,
   "id": "eedf3c0d",
   "metadata": {},
   "outputs": [],
   "source": [
    "a, b = 'mahendra', 'amahi'"
   ]
  },
  {
   "cell_type": "code",
   "execution_count": null,
   "id": "db90a54c",
   "metadata": {},
   "outputs": [],
   "source": [
    "a"
   ]
  },
  {
   "cell_type": "code",
   "execution_count": null,
   "id": "46ad7d29",
   "metadata": {},
   "outputs": [],
   "source": [
    "b"
   ]
  },
  {
   "cell_type": "code",
   "execution_count": null,
   "id": "464d310a",
   "metadata": {},
   "outputs": [],
   "source": [
    "a, *b = 'mahendra'"
   ]
  },
  {
   "cell_type": "code",
   "execution_count": null,
   "id": "2efe5a55",
   "metadata": {},
   "outputs": [],
   "source": [
    "a"
   ]
  },
  {
   "cell_type": "code",
   "execution_count": null,
   "id": "9a74b077",
   "metadata": {},
   "outputs": [],
   "source": [
    "b"
   ]
  },
  {
   "cell_type": "markdown",
   "id": "c75a074d",
   "metadata": {},
   "source": [
    "# logical operators\n",
    "# and, or, not"
   ]
  },
  {
   "cell_type": "code",
   "execution_count": null,
   "id": "c42cd79e",
   "metadata": {},
   "outputs": [],
   "source": [
    "0 and 9   "
   ]
  },
  {
   "cell_type": "code",
   "execution_count": null,
   "id": "fcb7bbe5",
   "metadata": {},
   "outputs": [],
   "source": [
    "7 and 9"
   ]
  },
  {
   "cell_type": "code",
   "execution_count": null,
   "id": "778bbcbd",
   "metadata": {},
   "outputs": [],
   "source": [
    "8 or 9"
   ]
  },
  {
   "cell_type": "code",
   "execution_count": null,
   "id": "b918f01f",
   "metadata": {},
   "outputs": [],
   "source": [
    "a=30\n",
    "b=9"
   ]
  },
  {
   "cell_type": "code",
   "execution_count": null,
   "id": "6049a0d4",
   "metadata": {},
   "outputs": [],
   "source": [
    "8 == 9"
   ]
  },
  {
   "cell_type": "code",
   "execution_count": null,
   "id": "fe7ad5ce",
   "metadata": {},
   "outputs": [],
   "source": [
    "a=6\n",
    "b=8\n",
    "a and b"
   ]
  },
  {
   "cell_type": "code",
   "execution_count": null,
   "id": "6268e8a9",
   "metadata": {},
   "outputs": [],
   "source": [
    "a or b"
   ]
  },
  {
   "cell_type": "code",
   "execution_count": null,
   "id": "6363251d",
   "metadata": {},
   "outputs": [],
   "source": [
    "a and a"
   ]
  },
  {
   "cell_type": "code",
   "execution_count": null,
   "id": "34096a96",
   "metadata": {},
   "outputs": [],
   "source": [
    "type(a and b)"
   ]
  },
  {
   "cell_type": "code",
   "execution_count": null,
   "id": "f9d969ff",
   "metadata": {},
   "outputs": [],
   "source": [
    "bool(a and b)"
   ]
  },
  {
   "cell_type": "code",
   "execution_count": null,
   "id": "e8c5ff5a",
   "metadata": {},
   "outputs": [],
   "source": [
    "bool(9 and 9)"
   ]
  },
  {
   "cell_type": "code",
   "execution_count": null,
   "id": "aa8dc341",
   "metadata": {},
   "outputs": [],
   "source": [
    "bool(0 or 8)"
   ]
  },
  {
   "cell_type": "code",
   "execution_count": null,
   "id": "7abe41c6",
   "metadata": {},
   "outputs": [],
   "source": [
    "a"
   ]
  },
  {
   "cell_type": "code",
   "execution_count": null,
   "id": "594d8ace",
   "metadata": {},
   "outputs": [],
   "source": [
    "not a"
   ]
  },
  {
   "cell_type": "code",
   "execution_count": null,
   "id": "62a34409",
   "metadata": {},
   "outputs": [],
   "source": [
    "bool (not 77)"
   ]
  },
  {
   "cell_type": "code",
   "execution_count": null,
   "id": "27999ed1",
   "metadata": {},
   "outputs": [],
   "source": [
    "bool(7777)"
   ]
  },
  {
   "cell_type": "code",
   "execution_count": null,
   "id": "da1d07ce",
   "metadata": {},
   "outputs": [],
   "source": [
    "age = 88\n",
    "salary =828278\n",
    "if age == 50 and salary == 8877:\n",
    "    print('something')\n",
    "else:\n",
    "    print('another')"
   ]
  },
  {
   "cell_type": "code",
   "execution_count": null,
   "id": "4d71febc",
   "metadata": {},
   "outputs": [],
   "source": [
    "9>7 or 8 < 3"
   ]
  },
  {
   "cell_type": "markdown",
   "id": "73666a56",
   "metadata": {},
   "source": [
    "# Comparision operators\n",
    "# ==, !=, <, >, <=, >="
   ]
  },
  {
   "cell_type": "code",
   "execution_count": null,
   "id": "e15cd095",
   "metadata": {},
   "outputs": [],
   "source": [
    "a=9"
   ]
  },
  {
   "cell_type": "code",
   "execution_count": null,
   "id": "ee9eed77",
   "metadata": {},
   "outputs": [],
   "source": [
    "a"
   ]
  },
  {
   "cell_type": "code",
   "execution_count": null,
   "id": "d5d85e85",
   "metadata": {},
   "outputs": [],
   "source": [
    "a==9"
   ]
  },
  {
   "cell_type": "code",
   "execution_count": null,
   "id": "075f31c7",
   "metadata": {},
   "outputs": [],
   "source": [
    "99 == 99"
   ]
  },
  {
   "cell_type": "code",
   "execution_count": null,
   "id": "e04c6b6f",
   "metadata": {},
   "outputs": [],
   "source": [
    "99==99"
   ]
  },
  {
   "cell_type": "code",
   "execution_count": null,
   "id": "5a064883",
   "metadata": {},
   "outputs": [],
   "source": [
    "8 > 8"
   ]
  },
  {
   "cell_type": "code",
   "execution_count": null,
   "id": "5b37fe89",
   "metadata": {},
   "outputs": [],
   "source": [
    "8>= 8"
   ]
  },
  {
   "cell_type": "code",
   "execution_count": null,
   "id": "f172ab40",
   "metadata": {},
   "outputs": [],
   "source": [
    "pass_marks = 50\n",
    "aghaoi =9\n",
    "if Score = pass_marks:\n",
    "    print('yes. you cleared the exam')\n",
    "else:\n",
    "    print('sorry. you didnt clear')"
   ]
  },
  {
   "cell_type": "code",
   "execution_count": null,
   "id": "726254ce",
   "metadata": {},
   "outputs": [],
   "source": [
    "Score"
   ]
  },
  {
   "cell_type": "code",
   "execution_count": null,
   "id": "28652252",
   "metadata": {},
   "outputs": [],
   "source": [
    "score"
   ]
  },
  {
   "cell_type": "markdown",
   "id": "033a7740",
   "metadata": {},
   "source": [
    "# Identity operators"
   ]
  },
  {
   "cell_type": "code",
   "execution_count": null,
   "id": "1df16257",
   "metadata": {},
   "outputs": [],
   "source": [
    "#is, is not"
   ]
  },
  {
   "cell_type": "code",
   "execution_count": null,
   "id": "e3b72aa6",
   "metadata": {},
   "outputs": [],
   "source": [
    "a"
   ]
  },
  {
   "cell_type": "code",
   "execution_count": null,
   "id": "a275edf7",
   "metadata": {},
   "outputs": [],
   "source": [
    "b"
   ]
  },
  {
   "cell_type": "code",
   "execution_count": null,
   "id": "e52a0dd0",
   "metadata": {},
   "outputs": [],
   "source": [
    "a is b"
   ]
  },
  {
   "cell_type": "code",
   "execution_count": null,
   "id": "68270d9e",
   "metadata": {},
   "outputs": [],
   "source": [
    "b is a"
   ]
  },
  {
   "cell_type": "code",
   "execution_count": null,
   "id": "8fcbe10b",
   "metadata": {},
   "outputs": [],
   "source": [
    "a = b"
   ]
  },
  {
   "cell_type": "code",
   "execution_count": null,
   "id": "f4421b53",
   "metadata": {},
   "outputs": [],
   "source": [
    "a"
   ]
  },
  {
   "cell_type": "code",
   "execution_count": null,
   "id": "e7c0599c",
   "metadata": {},
   "outputs": [],
   "source": [
    "a is b"
   ]
  },
  {
   "cell_type": "code",
   "execution_count": null,
   "id": "0ae8ff00",
   "metadata": {},
   "outputs": [],
   "source": [
    "a"
   ]
  },
  {
   "cell_type": "code",
   "execution_count": null,
   "id": "77673adb",
   "metadata": {},
   "outputs": [],
   "source": [
    "b"
   ]
  },
  {
   "cell_type": "code",
   "execution_count": null,
   "id": "b47cd85d",
   "metadata": {},
   "outputs": [],
   "source": [
    "a is not b"
   ]
  },
  {
   "cell_type": "code",
   "execution_count": null,
   "id": "a127055b",
   "metadata": {},
   "outputs": [],
   "source": [
    "a, b = 6, 4"
   ]
  },
  {
   "cell_type": "code",
   "execution_count": null,
   "id": "ac572bea",
   "metadata": {},
   "outputs": [],
   "source": [
    "a"
   ]
  },
  {
   "cell_type": "code",
   "execution_count": null,
   "id": "dd5a5894",
   "metadata": {},
   "outputs": [],
   "source": [
    "b"
   ]
  },
  {
   "cell_type": "code",
   "execution_count": null,
   "id": "219f7b96",
   "metadata": {},
   "outputs": [],
   "source": [
    "a, b = b,a"
   ]
  },
  {
   "cell_type": "code",
   "execution_count": null,
   "id": "0c1fbc0e",
   "metadata": {},
   "outputs": [],
   "source": [
    "a"
   ]
  },
  {
   "cell_type": "code",
   "execution_count": null,
   "id": "1326aebb",
   "metadata": {},
   "outputs": [],
   "source": [
    "b"
   ]
  },
  {
   "cell_type": "code",
   "execution_count": null,
   "id": "3e119907",
   "metadata": {},
   "outputs": [],
   "source": [
    "a= [98,28]\n",
    "b = [98, 28]\n",
    "a = b"
   ]
  },
  {
   "cell_type": "code",
   "execution_count": null,
   "id": "c60a690e",
   "metadata": {},
   "outputs": [],
   "source": [
    "b is a"
   ]
  },
  {
   "cell_type": "code",
   "execution_count": null,
   "id": "34d5ce23",
   "metadata": {},
   "outputs": [],
   "source": [
    "a =9\n",
    "b = 9"
   ]
  },
  {
   "cell_type": "code",
   "execution_count": null,
   "id": "8424c897",
   "metadata": {},
   "outputs": [],
   "source": [
    "a is a"
   ]
  },
  {
   "cell_type": "code",
   "execution_count": null,
   "id": "f262394e",
   "metadata": {},
   "outputs": [],
   "source": [
    "a is b"
   ]
  },
  {
   "cell_type": "code",
   "execution_count": null,
   "id": "8ce8a754",
   "metadata": {},
   "outputs": [],
   "source": [
    "9 is 9"
   ]
  },
  {
   "cell_type": "code",
   "execution_count": null,
   "id": "d562f672",
   "metadata": {},
   "outputs": [],
   "source": [
    "x = [8, 4]\n",
    "y = [8,4]"
   ]
  },
  {
   "cell_type": "code",
   "execution_count": null,
   "id": "9e3b223a",
   "metadata": {},
   "outputs": [],
   "source": [
    "x is y"
   ]
  },
  {
   "cell_type": "code",
   "execution_count": null,
   "id": "3f95271b",
   "metadata": {},
   "outputs": [],
   "source": [
    "y is x"
   ]
  },
  {
   "cell_type": "code",
   "execution_count": null,
   "id": "7b81f8b7",
   "metadata": {},
   "outputs": [],
   "source": [
    "x = y"
   ]
  },
  {
   "cell_type": "code",
   "execution_count": null,
   "id": "2ccdedd1",
   "metadata": {},
   "outputs": [],
   "source": [
    "x is y"
   ]
  },
  {
   "cell_type": "code",
   "execution_count": null,
   "id": "a137fc04",
   "metadata": {},
   "outputs": [],
   "source": [
    "y is x"
   ]
  },
  {
   "cell_type": "markdown",
   "id": "470d755f",
   "metadata": {},
   "source": [
    "# Membership operators"
   ]
  },
  {
   "cell_type": "code",
   "execution_count": null,
   "id": "2480dbe3",
   "metadata": {},
   "outputs": [],
   "source": [
    "# in, not in "
   ]
  },
  {
   "cell_type": "code",
   "execution_count": null,
   "id": "16b77b77",
   "metadata": {},
   "outputs": [],
   "source": [
    "a = [2,4,5]\n",
    "2 in a"
   ]
  },
  {
   "cell_type": "code",
   "execution_count": null,
   "id": "7504c9a5",
   "metadata": {},
   "outputs": [],
   "source": [
    "8 in a"
   ]
  },
  {
   "cell_type": "code",
   "execution_count": null,
   "id": "164d4d86",
   "metadata": {},
   "outputs": [],
   "source": [
    "9 in a"
   ]
  },
  {
   "cell_type": "code",
   "execution_count": null,
   "id": "69a21fb2",
   "metadata": {},
   "outputs": [],
   "source": [
    "9 not in a"
   ]
  },
  {
   "cell_type": "code",
   "execution_count": null,
   "id": "8232e022",
   "metadata": {},
   "outputs": [],
   "source": [
    "a = [2, 3,5, 9]\n",
    "for i in a:\n",
    "    print(i)\n",
    "print('')\n",
    "    "
   ]
  },
  {
   "cell_type": "code",
   "execution_count": null,
   "id": "a37db2bd",
   "metadata": {},
   "outputs": [],
   "source": [
    "a='mahendra'"
   ]
  },
  {
   "cell_type": "code",
   "execution_count": null,
   "id": "d08df3c9",
   "metadata": {},
   "outputs": [],
   "source": [
    "i"
   ]
  },
  {
   "cell_type": "code",
   "execution_count": null,
   "id": "02c1b130",
   "metadata": {},
   "outputs": [],
   "source": [
    "'i' in a"
   ]
  },
  {
   "cell_type": "code",
   "execution_count": null,
   "id": "fa19fcb0",
   "metadata": {},
   "outputs": [],
   "source": [
    "'m' in a"
   ]
  },
  {
   "cell_type": "code",
   "execution_count": null,
   "id": "a8bb6071",
   "metadata": {},
   "outputs": [],
   "source": [
    "'ma' in a"
   ]
  },
  {
   "cell_type": "code",
   "execution_count": null,
   "id": "0951369d",
   "metadata": {},
   "outputs": [],
   "source": [
    "'mahendra' not in a"
   ]
  },
  {
   "cell_type": "code",
   "execution_count": null,
   "id": "3f679fc1",
   "metadata": {},
   "outputs": [],
   "source": [
    "b = 'my name is mahendra'\n",
    "c = 'mahendra'\n",
    "c in b"
   ]
  },
  {
   "cell_type": "code",
   "execution_count": null,
   "id": "caa46486",
   "metadata": {},
   "outputs": [],
   "source": [
    "print(c not in b)"
   ]
  },
  {
   "cell_type": "code",
   "execution_count": null,
   "id": "4ec9007f",
   "metadata": {},
   "outputs": [],
   "source": [
    "arith = 98"
   ]
  },
  {
   "cell_type": "code",
   "execution_count": null,
   "id": "51df96c9",
   "metadata": {},
   "outputs": [],
   "source": [
    "# operators in python\n",
    "arith \n",
    "assignment=0\n",
    "logical=0\n",
    "identity\n",
    "comparative\n",
    "membershipt"
   ]
  },
  {
   "cell_type": "code",
   "execution_count": null,
   "id": "ff67695e",
   "metadata": {},
   "outputs": [],
   "source": [
    "a"
   ]
  },
  {
   "cell_type": "code",
   "execution_count": null,
   "id": "658d68e8",
   "metadata": {},
   "outputs": [],
   "source": [
    "a"
   ]
  },
  {
   "cell_type": "code",
   "execution_count": null,
   "id": "b0d18b1c",
   "metadata": {},
   "outputs": [],
   "source": [
    "del a"
   ]
  },
  {
   "cell_type": "code",
   "execution_count": null,
   "id": "fcab5e2b",
   "metadata": {},
   "outputs": [],
   "source": [
    "a"
   ]
  },
  {
   "cell_type": "code",
   "execution_count": null,
   "id": "307e9eb6",
   "metadata": {},
   "outputs": [],
   "source": [
    "name = 'sam' + ' '"
   ]
  },
  {
   "cell_type": "code",
   "execution_count": null,
   "id": "7304865d",
   "metadata": {},
   "outputs": [],
   "source": [
    "name *= 8"
   ]
  },
  {
   "cell_type": "code",
   "execution_count": null,
   "id": "9313d041",
   "metadata": {},
   "outputs": [],
   "source": [
    "name"
   ]
  },
  {
   "cell_type": "code",
   "execution_count": null,
   "id": "65257864",
   "metadata": {},
   "outputs": [],
   "source": [
    "name.split('sam')"
   ]
  },
  {
   "cell_type": "code",
   "execution_count": null,
   "id": "0cbe63dc",
   "metadata": {},
   "outputs": [],
   "source": [
    "type(' ')"
   ]
  },
  {
   "cell_type": "code",
   "execution_count": null,
   "id": "5f3601c5",
   "metadata": {},
   "outputs": [],
   "source": [
    "' ' * 10"
   ]
  },
  {
   "cell_type": "code",
   "execution_count": null,
   "id": "0f9cf654",
   "metadata": {},
   "outputs": [],
   "source": [
    "a='mahendra is working'"
   ]
  },
  {
   "cell_type": "code",
   "execution_count": null,
   "id": "5c1c0edb",
   "metadata": {},
   "outputs": [],
   "source": [
    "a"
   ]
  },
  {
   "cell_type": "code",
   "execution_count": null,
   "id": "b02c7273",
   "metadata": {},
   "outputs": [],
   "source": [
    "a.split(' ')"
   ]
  },
  {
   "cell_type": "markdown",
   "id": "6c31c0e7",
   "metadata": {},
   "source": [
    "# Control Structures"
   ]
  },
  {
   "cell_type": "code",
   "execution_count": null,
   "id": "f16002c8",
   "metadata": {},
   "outputs": [],
   "source": [
    "#i)selection or conditional \n",
    "# ii) looping or iterative statements\n",
    "# iii)jumping statements"
   ]
  },
  {
   "cell_type": "code",
   "execution_count": null,
   "id": "707b0898",
   "metadata": {},
   "outputs": [],
   "source": [
    "##i) if, else\n",
    "###ii) if, elif, elif,....else\n",
    "## iii) if, else, if elif, ..........else"
   ]
  },
  {
   "cell_type": "code",
   "execution_count": null,
   "id": "fa615211",
   "metadata": {},
   "outputs": [],
   "source": [
    "a=100\n",
    "b = 30"
   ]
  },
  {
   "cell_type": "code",
   "execution_count": null,
   "id": "9da19f92",
   "metadata": {},
   "outputs": [],
   "source": [
    "if a>b:\n",
    "    print('a is higher than b')\n",
    "    print(a)\n",
    "    print(b)\n",
    "    print(a*b)\n",
    "else: \n",
    "    print('a is higher than b')"
   ]
  },
  {
   "cell_type": "code",
   "execution_count": null,
   "id": "f2130b4e",
   "metadata": {},
   "outputs": [],
   "source": [
    "a>b"
   ]
  },
  {
   "cell_type": "code",
   "execution_count": null,
   "id": "74144d0e",
   "metadata": {},
   "outputs": [],
   "source": [
    "case when \n",
    "    when\n",
    "    when\n",
    "    when\n",
    "    else"
   ]
  },
  {
   "cell_type": "code",
   "execution_count": null,
   "id": "f3a7ab56",
   "metadata": {},
   "outputs": [],
   "source": [
    "user_name = 'mahendra'\n",
    "password = '9828279'\n",
    "name = input('enter your username:')\n",
    "passd = input('enter your password:')\n",
    "if name == user_name and passd == password:\n",
    "    print('yes, your credentials is correc')\n",
    "    print('login successful')\n",
    "elif name != user_name:\n",
    "    print('login failed')\n",
    "    print('login failed due to user name is incorrect')\n",
    "elif passd !=password:\n",
    "    print('login failed')\n",
    "    print('failed due to password is incorrect')\n",
    "else:\n",
    "    print('fail')"
   ]
  },
  {
   "cell_type": "code",
   "execution_count": null,
   "id": "5b082112",
   "metadata": {},
   "outputs": [],
   "source": [
    "8 and 9"
   ]
  },
  {
   "cell_type": "code",
   "execution_count": null,
   "id": "7c8232f0",
   "metadata": {},
   "outputs": [],
   "source": [
    "a=100\n",
    "b=290\n",
    "c=45\n",
    "if a>b:\n",
    "    if a>c:\n",
    "        print(f'{a} is higher than {b} and {c}')\n",
    "    else:\n",
    "        print(f'{c} is higher than {a} and {b}')\n",
    "elif b==a:\n",
    "    if b>c:\n",
    "        print(f'{b} is higher than {a} and {c}')\n",
    "    else:\n",
    "        print(f'{c} is higher than {a} and {b}')\n",
    "else:\n",
    "    print('i dont know any comparisions')\n",
    "    "
   ]
  },
  {
   "cell_type": "code",
   "execution_count": null,
   "id": "0f97ebec",
   "metadata": {},
   "outputs": [],
   "source": [
    "if 8>9:\n",
    "    print('its wrong')\n",
    "else:\n",
    "    print('its right')"
   ]
  },
  {
   "cell_type": "code",
   "execution_count": null,
   "id": "dbbd4187",
   "metadata": {},
   "outputs": [],
   "source": [
    "if 100>200:\n",
    "    print('alaaaaa')\n",
    "elif 40>200:\n",
    "    print('alkjga')\n",
    "else:\n",
    "    print('aljgf')"
   ]
  },
  {
   "cell_type": "code",
   "execution_count": null,
   "id": "0e5014ff",
   "metadata": {},
   "outputs": [],
   "source": [
    "range(100)"
   ]
  },
  {
   "cell_type": "code",
   "execution_count": null,
   "id": "1e967cde",
   "metadata": {},
   "outputs": [],
   "source": [
    "a=list(range(100))"
   ]
  },
  {
   "cell_type": "code",
   "execution_count": null,
   "id": "db3e8533",
   "metadata": {},
   "outputs": [],
   "source": [
    "a=a[2:20]"
   ]
  },
  {
   "cell_type": "code",
   "execution_count": null,
   "id": "1303c237",
   "metadata": {},
   "outputs": [],
   "source": [
    "a"
   ]
  },
  {
   "cell_type": "code",
   "execution_count": null,
   "id": "5bb2ef07",
   "metadata": {},
   "outputs": [],
   "source": [
    "a[0:20:3]"
   ]
  },
  {
   "cell_type": "code",
   "execution_count": null,
   "id": "f8ed1dc1",
   "metadata": {},
   "outputs": [],
   "source": [
    "a"
   ]
  },
  {
   "cell_type": "code",
   "execution_count": null,
   "id": "190c9155",
   "metadata": {},
   "outputs": [],
   "source": [
    "a=[1,2,3,4,5,6]"
   ]
  },
  {
   "cell_type": "code",
   "execution_count": null,
   "id": "24833d23",
   "metadata": {},
   "outputs": [],
   "source": [
    "a"
   ]
  },
  {
   "cell_type": "code",
   "execution_count": null,
   "id": "da1ff812",
   "metadata": {},
   "outputs": [],
   "source": [
    "a[:]"
   ]
  },
  {
   "cell_type": "code",
   "execution_count": null,
   "id": "f3f3e734",
   "metadata": {},
   "outputs": [],
   "source": [
    "a[::]"
   ]
  },
  {
   "cell_type": "code",
   "execution_count": null,
   "id": "62d5e381",
   "metadata": {},
   "outputs": [],
   "source": []
  },
  {
   "cell_type": "code",
   "execution_count": null,
   "id": "1855f097",
   "metadata": {},
   "outputs": [],
   "source": [
    "a[::-2]"
   ]
  },
  {
   "cell_type": "code",
   "execution_count": null,
   "id": "e9f60190",
   "metadata": {},
   "outputs": [],
   "source": [
    "a"
   ]
  },
  {
   "cell_type": "code",
   "execution_count": null,
   "id": "f2ca8c5f",
   "metadata": {},
   "outputs": [],
   "source": [
    "a[::2]"
   ]
  },
  {
   "cell_type": "code",
   "execution_count": null,
   "id": "7a591ae8",
   "metadata": {},
   "outputs": [],
   "source": [
    "a + [2]"
   ]
  },
  {
   "cell_type": "code",
   "execution_count": null,
   "id": "56b5b374",
   "metadata": {},
   "outputs": [],
   "source": [
    "a[::2]"
   ]
  },
  {
   "cell_type": "code",
   "execution_count": null,
   "id": "9a5774a1",
   "metadata": {},
   "outputs": [],
   "source": [
    "a[3:5:1]"
   ]
  },
  {
   "cell_type": "code",
   "execution_count": null,
   "id": "b9c9f23d",
   "metadata": {},
   "outputs": [],
   "source": [
    "a[-3:-1:1]"
   ]
  },
  {
   "cell_type": "code",
   "execution_count": null,
   "id": "2d3e7203",
   "metadata": {},
   "outputs": [],
   "source": [
    "a"
   ]
  },
  {
   "cell_type": "code",
   "execution_count": null,
   "id": "0b82b70b",
   "metadata": {},
   "outputs": [],
   "source": [
    "a[0:3]"
   ]
  },
  {
   "cell_type": "code",
   "execution_count": null,
   "id": "59877403",
   "metadata": {},
   "outputs": [],
   "source": [
    "a[:]"
   ]
  },
  {
   "cell_type": "code",
   "execution_count": null,
   "id": "9f823c76",
   "metadata": {},
   "outputs": [],
   "source": [
    "a[::]"
   ]
  },
  {
   "cell_type": "code",
   "execution_count": null,
   "id": "e8fe1be9",
   "metadata": {},
   "outputs": [],
   "source": [
    "len(a)"
   ]
  },
  {
   "cell_type": "code",
   "execution_count": null,
   "id": "2b4507db",
   "metadata": {},
   "outputs": [],
   "source": [
    "a[0:len(a):2]"
   ]
  },
  {
   "cell_type": "code",
   "execution_count": null,
   "id": "06212490",
   "metadata": {},
   "outputs": [],
   "source": [
    "a"
   ]
  },
  {
   "cell_type": "code",
   "execution_count": null,
   "id": "28716e81",
   "metadata": {},
   "outputs": [],
   "source": [
    "a[::-1]"
   ]
  },
  {
   "cell_type": "code",
   "execution_count": null,
   "id": "0be23fef",
   "metadata": {},
   "outputs": [],
   "source": [
    "a[-6:-5:1]"
   ]
  },
  {
   "cell_type": "code",
   "execution_count": null,
   "id": "6a49acd7",
   "metadata": {},
   "outputs": [],
   "source": [
    "a[-6]"
   ]
  },
  {
   "cell_type": "code",
   "execution_count": null,
   "id": "db77f9b0",
   "metadata": {},
   "outputs": [],
   "source": [
    "a"
   ]
  },
  {
   "cell_type": "markdown",
   "id": "6d0775bc",
   "metadata": {},
   "source": [
    "---> 0, 1, 2, 3,4,5,6\n",
    "<--- -6, -5, -4, -3, -2, -1"
   ]
  },
  {
   "cell_type": "code",
   "execution_count": null,
   "id": "1a14b7c7",
   "metadata": {},
   "outputs": [],
   "source": [
    "a[::-1]"
   ]
  },
  {
   "cell_type": "code",
   "execution_count": null,
   "id": "2bb4853a",
   "metadata": {},
   "outputs": [],
   "source": [
    "a[:]"
   ]
  },
  {
   "cell_type": "code",
   "execution_count": 6,
   "id": "7ec088ee",
   "metadata": {},
   "outputs": [
    {
     "ename": "NameError",
     "evalue": "name 'a' is not defined",
     "output_type": "error",
     "traceback": [
      "\u001b[1;31m---------------------------------------------------------------------------\u001b[0m",
      "\u001b[1;31mNameError\u001b[0m                                 Traceback (most recent call last)",
      "Cell \u001b[1;32mIn[6], line 1\u001b[0m\n\u001b[1;32m----> 1\u001b[0m \u001b[43ma\u001b[49m[\u001b[38;5;241m-\u001b[39m\u001b[38;5;241m6\u001b[39m]\n",
      "\u001b[1;31mNameError\u001b[0m: name 'a' is not defined"
     ]
    }
   ],
   "source": [
    "a[-6]"
   ]
  },
  {
   "cell_type": "code",
   "execution_count": null,
   "id": "ad1b5a7d",
   "metadata": {},
   "outputs": [],
   "source": [
    "b=a[-6:-1]"
   ]
  },
  {
   "cell_type": "code",
   "execution_count": null,
   "id": "8541c4ff",
   "metadata": {},
   "outputs": [],
   "source": [
    "b"
   ]
  },
  {
   "cell_type": "code",
   "execution_count": null,
   "id": "f22e4d73",
   "metadata": {},
   "outputs": [],
   "source": [
    "b[::-1]"
   ]
  },
  {
   "cell_type": "markdown",
   "id": "c5c8ef66",
   "metadata": {},
   "source": [
    "len(a) ---> len(a) - 1"
   ]
  },
  {
   "cell_type": "code",
   "execution_count": null,
   "id": "3f6c7721",
   "metadata": {},
   "outputs": [],
   "source": [
    "a[-6::-1]"
   ]
  },
  {
   "cell_type": "code",
   "execution_count": null,
   "id": "e78ccd8d",
   "metadata": {},
   "outputs": [],
   "source": [
    "name = 'mahendra'"
   ]
  },
  {
   "cell_type": "code",
   "execution_count": null,
   "id": "d7b154ff",
   "metadata": {},
   "outputs": [],
   "source": [
    "name[0]"
   ]
  },
  {
   "cell_type": "code",
   "execution_count": null,
   "id": "3cb46614",
   "metadata": {},
   "outputs": [],
   "source": [
    "name[:]"
   ]
  },
  {
   "cell_type": "code",
   "execution_count": null,
   "id": "c90a76ae",
   "metadata": {},
   "outputs": [],
   "source": [
    "name[:2]"
   ]
  },
  {
   "cell_type": "code",
   "execution_count": null,
   "id": "f56e55c3",
   "metadata": {},
   "outputs": [],
   "source": [
    "name[::1]"
   ]
  },
  {
   "cell_type": "code",
   "execution_count": null,
   "id": "f0fc63ab",
   "metadata": {},
   "outputs": [],
   "source": [
    "name[::-1]"
   ]
  },
  {
   "cell_type": "markdown",
   "id": "b6af77a9",
   "metadata": {},
   "source": [
    "# Iterative or Looping Statements"
   ]
  },
  {
   "cell_type": "code",
   "execution_count": null,
   "id": "23ef5b90",
   "metadata": {},
   "outputs": [],
   "source": [
    "# i) for\n",
    "# ii) while"
   ]
  },
  {
   "cell_type": "code",
   "execution_count": null,
   "id": "bd93f61f",
   "metadata": {},
   "outputs": [],
   "source": [
    "for x in range(0, 100, 2):\n",
    "    print(x) "
   ]
  },
  {
   "cell_type": "code",
   "execution_count": null,
   "id": "dfe32f87",
   "metadata": {},
   "outputs": [],
   "source": [
    "for i in range(100):\n",
    "    print(i, end=' ')"
   ]
  },
  {
   "cell_type": "code",
   "execution_count": null,
   "id": "84cc7a20",
   "metadata": {},
   "outputs": [],
   "source": [
    "name = 'mahendra'"
   ]
  },
  {
   "cell_type": "code",
   "execution_count": null,
   "id": "15edaec5",
   "metadata": {},
   "outputs": [],
   "source": [
    "name[0]"
   ]
  },
  {
   "cell_type": "code",
   "execution_count": null,
   "id": "800e59d4",
   "metadata": {},
   "outputs": [],
   "source": [
    "name[:]"
   ]
  },
  {
   "cell_type": "code",
   "execution_count": null,
   "id": "c6918cb2",
   "metadata": {},
   "outputs": [],
   "source": [
    "name[:len(name)]"
   ]
  },
  {
   "cell_type": "code",
   "execution_count": null,
   "id": "de67164b",
   "metadata": {},
   "outputs": [],
   "source": [
    "name[len(name):0:-1]"
   ]
  },
  {
   "cell_type": "code",
   "execution_count": null,
   "id": "8fdb6100",
   "metadata": {},
   "outputs": [],
   "source": [
    "name[1]"
   ]
  },
  {
   "cell_type": "code",
   "execution_count": null,
   "id": "0b2730b3",
   "metadata": {},
   "outputs": [],
   "source": [
    "len(name)"
   ]
  },
  {
   "cell_type": "code",
   "execution_count": null,
   "id": "576be6ca",
   "metadata": {},
   "outputs": [],
   "source": [
    "del name"
   ]
  },
  {
   "cell_type": "code",
   "execution_count": null,
   "id": "35743896",
   "metadata": {},
   "outputs": [],
   "source": [
    "name"
   ]
  },
  {
   "cell_type": "code",
   "execution_count": null,
   "id": "12d3dd89",
   "metadata": {},
   "outputs": [],
   "source": [
    "del name\n",
    "del ans"
   ]
  },
  {
   "cell_type": "code",
   "execution_count": null,
   "id": "f3eda157",
   "metadata": {},
   "outputs": [],
   "source": [
    "name = 'something'\n",
    "ans =''"
   ]
  },
  {
   "cell_type": "code",
   "execution_count": null,
   "id": "667c3da0",
   "metadata": {
    "scrolled": true
   },
   "outputs": [],
   "source": [
    "for i in range(0, len(name)):\n",
    "    ans+=name[i] \n",
    "    print(ans)\n",
    "#i) i=0=> name[0]='s' ans='s'\n",
    "#ii) i=1=> name[1]= 'o' ans='s'+'o'=> 'so'"
   ]
  },
  {
   "cell_type": "code",
   "execution_count": null,
   "id": "5c7185b3",
   "metadata": {},
   "outputs": [],
   "source": [
    "for i in range(1, 10):\n",
    "    #i=0\n",
    "    print('*' * i)\n",
    "    "
   ]
  },
  {
   "cell_type": "code",
   "execution_count": null,
   "id": "ab5b717b",
   "metadata": {},
   "outputs": [],
   "source": [
    "'mahi' * 2"
   ]
  },
  {
   "cell_type": "code",
   "execution_count": null,
   "id": "74f27fbd",
   "metadata": {},
   "outputs": [],
   "source": [
    "'*' * 2"
   ]
  },
  {
   "cell_type": "code",
   "execution_count": null,
   "id": "bc4bc93d",
   "metadata": {},
   "outputs": [],
   "source": [
    "ans"
   ]
  },
  {
   "cell_type": "code",
   "execution_count": null,
   "id": "a5f42246",
   "metadata": {},
   "outputs": [],
   "source": [
    "del ans"
   ]
  },
  {
   "cell_type": "code",
   "execution_count": null,
   "id": "69501409",
   "metadata": {},
   "outputs": [],
   "source": [
    "a=[9,2,3,5]\n",
    "suma=0\n",
    "for i in range(len(a)):\n",
    "    suma+=a[i]\n",
    "print(suma)\n",
    "    "
   ]
  },
  {
   "cell_type": "code",
   "execution_count": null,
   "id": "00595ff0",
   "metadata": {},
   "outputs": [],
   "source": [
    "name + 'mhi'"
   ]
  },
  {
   "cell_type": "code",
   "execution_count": null,
   "id": "b9a7a704",
   "metadata": {},
   "outputs": [],
   "source": [
    "name"
   ]
  },
  {
   "cell_type": "code",
   "execution_count": null,
   "id": "5867c998",
   "metadata": {},
   "outputs": [],
   "source": [
    "for i in range(9, 0, -1):\n",
    "    ans1=name[:i]\n",
    "    print(ans1)\n",
    "print(ans1)"
   ]
  },
  {
   "cell_type": "code",
   "execution_count": null,
   "id": "3476314c",
   "metadata": {},
   "outputs": [],
   "source": [
    "del ans1"
   ]
  },
  {
   "cell_type": "code",
   "execution_count": null,
   "id": "1ea4fee5",
   "metadata": {},
   "outputs": [],
   "source": [
    "for i in range(10, 0, -1):\n",
    "    print('*' * i)"
   ]
  },
  {
   "cell_type": "code",
   "execution_count": null,
   "id": "192f7d45",
   "metadata": {},
   "outputs": [],
   "source": [
    "for i in range(10, 1, -1):\n",
    "    print(i)"
   ]
  },
  {
   "cell_type": "code",
   "execution_count": null,
   "id": "6c3b636a",
   "metadata": {},
   "outputs": [],
   "source": [
    "for i in range(10,0,-1):\n",
    "    print(' ' * (10-i) + '*' * i) #i=10, i=9, 8, "
   ]
  },
  {
   "cell_type": "code",
   "execution_count": null,
   "id": "20c43fa6",
   "metadata": {},
   "outputs": [],
   "source": [
    "for i in range(1, 10): #i=1\n",
    "    for j in range(1,10): #j=1\n",
    "        print(j, end=' ')\n",
    "    print()"
   ]
  },
  {
   "cell_type": "code",
   "execution_count": null,
   "id": "3685d003",
   "metadata": {},
   "outputs": [],
   "source": [
    "for i in range(1,10): #i=1\n",
    "    for j in range(1,10): #j=1\n",
    "        if i>j:\n",
    "            print(j, end=' ')\n",
    "    print()"
   ]
  },
  {
   "cell_type": "markdown",
   "id": "97586428",
   "metadata": {},
   "source": [
    "# While"
   ]
  },
  {
   "cell_type": "code",
   "execution_count": null,
   "id": "799298ef",
   "metadata": {},
   "outputs": [],
   "source": [
    "x=10"
   ]
  },
  {
   "cell_type": "code",
   "execution_count": null,
   "id": "23544bca",
   "metadata": {
    "scrolled": true
   },
   "outputs": [],
   "source": [
    "while x>0:\n",
    "    print('something') #x=10\n",
    "    x-=2 #x=x-1"
   ]
  },
  {
   "cell_type": "code",
   "execution_count": null,
   "id": "6073f6d0",
   "metadata": {},
   "outputs": [],
   "source": [
    "if x>100:\n",
    "    print('somj')"
   ]
  },
  {
   "cell_type": "code",
   "execution_count": null,
   "id": "47e0d9c6",
   "metadata": {},
   "outputs": [],
   "source": [
    "x"
   ]
  },
  {
   "cell_type": "code",
   "execution_count": 12,
   "id": "e83d9444",
   "metadata": {},
   "outputs": [
    {
     "name": "stdout",
     "output_type": "stream",
     "text": [
      "20 17 14 11 8 5 2 11\n"
     ]
    }
   ],
   "source": [
    "x=20\n",
    "while x>1:\n",
    "    print(x, end=' ')\n",
    "    x-=3\n",
    "y-=3\n",
    "print(y)"
   ]
  },
  {
   "cell_type": "code",
   "execution_count": null,
   "id": "26961ad4",
   "metadata": {},
   "outputs": [],
   "source": [
    "x"
   ]
  },
  {
   "cell_type": "code",
   "execution_count": 7,
   "id": "96b59dfa",
   "metadata": {},
   "outputs": [],
   "source": [
    "y=20\n",
    "y-=3"
   ]
  },
  {
   "cell_type": "code",
   "execution_count": 11,
   "id": "759e165b",
   "metadata": {},
   "outputs": [
    {
     "data": {
      "text/plain": [
       "14"
      ]
     },
     "execution_count": 11,
     "metadata": {},
     "output_type": "execute_result"
    }
   ],
   "source": [
    "y"
   ]
  },
  {
   "cell_type": "code",
   "execution_count": 13,
   "id": "18fc6455",
   "metadata": {},
   "outputs": [
    {
     "name": "stdout",
     "output_type": "stream",
     "text": [
      "30 300\n",
      "34 340\n",
      "38 380\n",
      "42 420\n",
      "46 460\n",
      "50 500\n",
      "54 540\n",
      "58 580\n",
      "62 620\n",
      "66 660\n",
      "70 700\n",
      "74 740\n",
      "78 780\n",
      "82 820\n",
      "86 860\n",
      "90 900\n",
      "94 940\n",
      "98 980\n"
     ]
    }
   ],
   "source": [
    "x = 30\n",
    "while x<100:\n",
    "    print(x, x*10)\n",
    "    x+=4"
   ]
  },
  {
   "cell_type": "markdown",
   "id": "eb0a5fd8",
   "metadata": {},
   "source": [
    "## Q) given a number, print reverse of the given number."
   ]
  },
  {
   "cell_type": "code",
   "execution_count": 14,
   "id": "4346e0aa",
   "metadata": {},
   "outputs": [],
   "source": [
    "h=2877\n",
    "ans = 77822554562222\n",
    "digit = h%10"
   ]
  },
  {
   "cell_type": "code",
   "execution_count": 15,
   "id": "4c722086",
   "metadata": {},
   "outputs": [
    {
     "data": {
      "text/plain": [
       "7"
      ]
     },
     "execution_count": 15,
     "metadata": {},
     "output_type": "execute_result"
    }
   ],
   "source": [
    "digit"
   ]
  },
  {
   "cell_type": "code",
   "execution_count": 16,
   "id": "92138eee",
   "metadata": {},
   "outputs": [
    {
     "data": {
      "text/plain": [
       "1.1"
      ]
     },
     "execution_count": 16,
     "metadata": {},
     "output_type": "execute_result"
    }
   ],
   "source": [
    "11/10"
   ]
  },
  {
   "cell_type": "code",
   "execution_count": 18,
   "id": "0eb92195",
   "metadata": {},
   "outputs": [
    {
     "data": {
      "text/plain": [
       "1"
      ]
     },
     "execution_count": 18,
     "metadata": {},
     "output_type": "execute_result"
    }
   ],
   "source": [
    "11//10"
   ]
  },
  {
   "cell_type": "code",
   "execution_count": 19,
   "id": "f263ecc3",
   "metadata": {},
   "outputs": [
    {
     "data": {
      "text/plain": [
       "287"
      ]
     },
     "execution_count": 19,
     "metadata": {},
     "output_type": "execute_result"
    }
   ],
   "source": [
    "2877//10"
   ]
  },
  {
   "cell_type": "code",
   "execution_count": 41,
   "id": "0a656fd9",
   "metadata": {},
   "outputs": [
    {
     "name": "stdout",
     "output_type": "stream",
     "text": [
      "enter n value:121212121\n",
      "given number 121212121 is a palindrome\n"
     ]
    }
   ],
   "source": [
    "n = int(input('enter n value:'))\n",
    "g = n\n",
    "rev=0\n",
    "while n >0:\n",
    "    digit = n%10 #digit = 7, 7, 8, 2\n",
    "    rev = rev * 10 +digit #rev = 0+7; # rev = 7 * 10 + 7=77; #rev = 77*10 + 8=778; 778 * 10 + 2==> 7782\n",
    "    n//=10 \n",
    "if rev == g:\n",
    "    print(f'given number {g} is a palindrome')\n",
    "else:\n",
    "    print(f'given number {g} is not a palindrome')"
   ]
  },
  {
   "cell_type": "code",
   "execution_count": null,
   "id": "8058a2a2",
   "metadata": {},
   "outputs": [],
   "source": [
    "if rev=="
   ]
  },
  {
   "cell_type": "code",
   "execution_count": 45,
   "id": "b2c6a9b9",
   "metadata": {},
   "outputs": [
    {
     "name": "stdout",
     "output_type": "stream",
     "text": [
      "enter n value:1254\n"
     ]
    },
    {
     "data": {
      "text/plain": [
       "4521"
      ]
     },
     "execution_count": 45,
     "metadata": {},
     "output_type": "execute_result"
    }
   ],
   "source": [
    "n=input('enter n value:')\n",
    "x=n[::-1]\n",
    "u=int(x)\n",
    "u"
   ]
  },
  {
   "cell_type": "code",
   "execution_count": null,
   "id": "f2a4b83f",
   "metadata": {},
   "outputs": [],
   "source": []
  },
  {
   "cell_type": "code",
   "execution_count": 20,
   "id": "76b6abf1",
   "metadata": {},
   "outputs": [
    {
     "data": {
      "text/plain": [
       "0"
      ]
     },
     "execution_count": 20,
     "metadata": {},
     "output_type": "execute_result"
    }
   ],
   "source": [
    "2//10"
   ]
  },
  {
   "cell_type": "code",
   "execution_count": 26,
   "id": "2acc2f7c",
   "metadata": {},
   "outputs": [
    {
     "data": {
      "text/plain": [
       "100"
      ]
     },
     "execution_count": 26,
     "metadata": {},
     "output_type": "execute_result"
    }
   ],
   "source": [
    "100"
   ]
  },
  {
   "cell_type": "code",
   "execution_count": 27,
   "id": "8ba7f729",
   "metadata": {},
   "outputs": [
    {
     "data": {
      "text/plain": [
       "'001'"
      ]
     },
     "execution_count": 27,
     "metadata": {},
     "output_type": "execute_result"
    }
   ],
   "source": [
    "'001'"
   ]
  },
  {
   "cell_type": "code",
   "execution_count": 32,
   "id": "61197c94",
   "metadata": {},
   "outputs": [],
   "source": [
    "a = 'anbnaa'"
   ]
  },
  {
   "cell_type": "code",
   "execution_count": 33,
   "id": "b0ca5712",
   "metadata": {},
   "outputs": [],
   "source": [
    "b=a[::-1]"
   ]
  },
  {
   "cell_type": "code",
   "execution_count": 34,
   "id": "6cd1b74d",
   "metadata": {},
   "outputs": [
    {
     "data": {
      "text/plain": [
       "'aanbna'"
      ]
     },
     "execution_count": 34,
     "metadata": {},
     "output_type": "execute_result"
    }
   ],
   "source": [
    "b"
   ]
  },
  {
   "cell_type": "code",
   "execution_count": 35,
   "id": "b166fd58",
   "metadata": {},
   "outputs": [
    {
     "name": "stdout",
     "output_type": "stream",
     "text": [
      "not pal\n"
     ]
    }
   ],
   "source": [
    "if a==b:\n",
    "    print('pal')\n",
    "else:\n",
    "    print('not pal')"
   ]
  },
  {
   "cell_type": "markdown",
   "id": "bcb2b48e",
   "metadata": {},
   "source": [
    "# Jumping Statements"
   ]
  },
  {
   "cell_type": "code",
   "execution_count": 1,
   "id": "ebacca82",
   "metadata": {},
   "outputs": [],
   "source": [
    "# break, continue, pass"
   ]
  },
  {
   "cell_type": "code",
   "execution_count": 14,
   "id": "5b385b3b",
   "metadata": {},
   "outputs": [
    {
     "name": "stdout",
     "output_type": "stream",
     "text": [
      "1\n",
      "2\n",
      "3\n",
      "4\n",
      "5\n",
      "6\n",
      "7\n",
      "8\n",
      "9\n",
      "10\n"
     ]
    }
   ],
   "source": [
    "for i in range(1, 100): \n",
    "    if i<=10:\n",
    "        print(i)\n",
    "    else:\n",
    "        break\n",
    "        print(i)\n",
    "        print(i**8)"
   ]
  },
  {
   "cell_type": "code",
   "execution_count": 15,
   "id": "21d6cf81",
   "metadata": {},
   "outputs": [],
   "source": []
  },
  {
   "cell_type": "code",
   "execution_count": 25,
   "id": "b7f5d7dd",
   "metadata": {},
   "outputs": [
    {
     "name": "stdout",
     "output_type": "stream",
     "text": [
      "80\n"
     ]
    }
   ],
   "source": [
    "x=80\n",
    "while x<100:\n",
    "    print(x)\n",
    "    x+=2\n",
    "    if x>=96:\n",
    "        break\n",
    "    else:\n",
    "        break\n",
    "        print()\n",
    "        print('nothing')\n",
    "if x>=96:\n",
    "    print('------------')\n",
    "    print(x)"
   ]
  },
  {
   "cell_type": "code",
   "execution_count": 52,
   "id": "7868dfa4",
   "metadata": {},
   "outputs": [
    {
     "name": "stdout",
     "output_type": "stream",
     "text": [
      "enter n value:18\n",
      "not prime\n"
     ]
    }
   ],
   "source": [
    "n=int(input('enter n value:'))\n",
    "#(1,n)==> 2 to n-1\n",
    "for i in range(2, 7): #2,3,4,5,6\n",
    "    if n%i==0:\n",
    "        print('not prime')\n",
    "        break\n",
    "else:\n",
    "    print('prime')"
   ]
  },
  {
   "cell_type": "code",
   "execution_count": 46,
   "id": "c25ad1c9",
   "metadata": {},
   "outputs": [],
   "source": [
    "def prime(x):\n",
    "    for i in range(2, x): #2,3,4,5,6\n",
    "        if x%i==0:\n",
    "            print('not prime')\n",
    "            break\n",
    "    else:\n",
    "        print('prime')"
   ]
  },
  {
   "cell_type": "code",
   "execution_count": 47,
   "id": "3966df35",
   "metadata": {},
   "outputs": [
    {
     "name": "stdout",
     "output_type": "stream",
     "text": [
      "prime\n"
     ]
    }
   ],
   "source": [
    "prime(11)"
   ]
  },
  {
   "cell_type": "code",
   "execution_count": 71,
   "id": "012184de",
   "metadata": {},
   "outputs": [
    {
     "name": "stdout",
     "output_type": "stream",
     "text": [
      "enter n value:2\n",
      "not prime\n"
     ]
    }
   ],
   "source": [
    "x =int(input('enter n value:'))\n",
    "# 1,182==> prime\n",
    "# 3=> not prime\n",
    "if x<2:\n",
    "    print('not prime')\n",
    "else:\n",
    "    for i in range(2, x): #2,3,4,5,6 sqrt(n)\n",
    "        if x%i==0:\n",
    "            print('not prime')\n",
    "            break\n",
    "    else:\n",
    "        print('prime')"
   ]
  },
  {
   "cell_type": "code",
   "execution_count": 53,
   "id": "108bd290",
   "metadata": {},
   "outputs": [
    {
     "name": "stdout",
     "output_type": "stream",
     "text": [
      "2\n",
      "3\n",
      "4\n",
      "5\n",
      "6\n",
      "7\n",
      "8\n"
     ]
    }
   ],
   "source": [
    "for i in range(2, 9):\n",
    "    print(i)"
   ]
  },
  {
   "cell_type": "code",
   "execution_count": 57,
   "id": "f91e0f08",
   "metadata": {},
   "outputs": [
    {
     "data": {
      "text/plain": [
       "7"
      ]
     },
     "execution_count": 57,
     "metadata": {},
     "output_type": "execute_result"
    }
   ],
   "source": [
    "x"
   ]
  },
  {
   "cell_type": "code",
   "execution_count": 58,
   "id": "3658e527",
   "metadata": {},
   "outputs": [
    {
     "data": {
      "text/plain": [
       "18"
      ]
     },
     "execution_count": 58,
     "metadata": {},
     "output_type": "execute_result"
    }
   ],
   "source": [
    "n"
   ]
  },
  {
   "cell_type": "code",
   "execution_count": 6,
   "id": "b588fe22",
   "metadata": {},
   "outputs": [
    {
     "name": "stdout",
     "output_type": "stream",
     "text": [
      "enter n value50\n",
      "2 3 5 7 11 13 17 19 23 29 31 37 41 43 47 "
     ]
    }
   ],
   "source": [
    "n=int(input('enter n value')) #10\n",
    "for i in range(1, n+1): #1 to 10\n",
    "    if i < 2:\n",
    "        pass\n",
    "    else:\n",
    "        for j in range(2, i):\n",
    "            if i%j==0:\n",
    "                break\n",
    "        else:\n",
    "            print(i, end=' ')"
   ]
  },
  {
   "cell_type": "code",
   "execution_count": 18,
   "id": "cfc40d0a",
   "metadata": {},
   "outputs": [
    {
     "name": "stdout",
     "output_type": "stream",
     "text": [
      "1 2 3 4 5 6 7 8 9 10 11 12 13 14 15 16 17 18 19 20 21 22 23 24 25 26 27 28 29 36 37 38 39 40 41 42 43 44 45 46 47 48 49 50 "
     ]
    }
   ],
   "source": [
    "for i in range(1, 51):\n",
    "    if i<=35 and i>=30:\n",
    "        continue\n",
    "    print(i, end=' ')"
   ]
  },
  {
   "cell_type": "code",
   "execution_count": 31,
   "id": "7de90e51",
   "metadata": {},
   "outputs": [
    {
     "name": "stdout",
     "output_type": "stream",
     "text": [
      "1\n",
      "2\n",
      "3\n",
      "4\n",
      "5\n",
      "6\n",
      "7\n",
      "8\n",
      "9\n"
     ]
    }
   ],
   "source": [
    "for i in range(1,10):\n",
    "    if i==10:\n",
    "        continue\n",
    "    print(i)"
   ]
  },
  {
   "cell_type": "code",
   "execution_count": 27,
   "id": "f4241634",
   "metadata": {},
   "outputs": [
    {
     "name": "stdout",
     "output_type": "stream",
     "text": [
      "eoaogo\n"
     ]
    }
   ],
   "source": [
    "x=19\n",
    "if x>12:\n",
    "    print('eoaogo')"
   ]
  },
  {
   "cell_type": "markdown",
   "id": "595e29c2",
   "metadata": {},
   "source": [
    "# Data Structures"
   ]
  },
  {
   "cell_type": "markdown",
   "id": "c0066995",
   "metadata": {},
   "source": [
    "# List"
   ]
  },
  {
   "cell_type": "code",
   "execution_count": 7,
   "id": "6005076b",
   "metadata": {},
   "outputs": [],
   "source": [
    "a=[1,2,3,4]"
   ]
  },
  {
   "cell_type": "code",
   "execution_count": 8,
   "id": "27069aca",
   "metadata": {},
   "outputs": [
    {
     "data": {
      "text/plain": [
       "[1, 2, 3, 4]"
      ]
     },
     "execution_count": 8,
     "metadata": {},
     "output_type": "execute_result"
    }
   ],
   "source": [
    "a"
   ]
  },
  {
   "cell_type": "code",
   "execution_count": 9,
   "id": "d880e712",
   "metadata": {},
   "outputs": [
    {
     "data": {
      "text/plain": [
       "list"
      ]
     },
     "execution_count": 9,
     "metadata": {},
     "output_type": "execute_result"
    }
   ],
   "source": [
    "type(a)"
   ]
  },
  {
   "cell_type": "code",
   "execution_count": 10,
   "id": "fcf56473",
   "metadata": {},
   "outputs": [
    {
     "data": {
      "text/plain": [
       "3"
      ]
     },
     "execution_count": 10,
     "metadata": {},
     "output_type": "execute_result"
    }
   ],
   "source": [
    "a[2]"
   ]
  },
  {
   "cell_type": "code",
   "execution_count": 11,
   "id": "6ca35500",
   "metadata": {},
   "outputs": [
    {
     "data": {
      "text/plain": [
       "[1, 2, 3, 4]"
      ]
     },
     "execution_count": 11,
     "metadata": {},
     "output_type": "execute_result"
    }
   ],
   "source": [
    "a[:]"
   ]
  },
  {
   "cell_type": "code",
   "execution_count": 12,
   "id": "268f1b76",
   "metadata": {},
   "outputs": [],
   "source": [
    "a[2]=8"
   ]
  },
  {
   "cell_type": "code",
   "execution_count": 13,
   "id": "caeea7c7",
   "metadata": {},
   "outputs": [
    {
     "data": {
      "text/plain": [
       "[1, 2, 8, 4]"
      ]
     },
     "execution_count": 13,
     "metadata": {},
     "output_type": "execute_result"
    }
   ],
   "source": [
    "a"
   ]
  },
  {
   "cell_type": "code",
   "execution_count": 14,
   "id": "5b3c1511",
   "metadata": {},
   "outputs": [],
   "source": [
    "a.remove(4)"
   ]
  },
  {
   "cell_type": "code",
   "execution_count": 15,
   "id": "4ca65925",
   "metadata": {},
   "outputs": [
    {
     "data": {
      "text/plain": [
       "[1, 2, 8]"
      ]
     },
     "execution_count": 15,
     "metadata": {},
     "output_type": "execute_result"
    }
   ],
   "source": [
    "a"
   ]
  },
  {
   "cell_type": "code",
   "execution_count": 24,
   "id": "6ef69630",
   "metadata": {},
   "outputs": [],
   "source": [
    "a.insert(7,25)"
   ]
  },
  {
   "cell_type": "code",
   "execution_count": 25,
   "id": "2e46700e",
   "metadata": {},
   "outputs": [
    {
     "data": {
      "text/plain": [
       "[9, 1, 2, 8, 9, 9, 25]"
      ]
     },
     "execution_count": 25,
     "metadata": {},
     "output_type": "execute_result"
    }
   ],
   "source": [
    "a"
   ]
  },
  {
   "cell_type": "code",
   "execution_count": 23,
   "id": "d78973b3",
   "metadata": {},
   "outputs": [
    {
     "data": {
      "text/plain": [
       "6"
      ]
     },
     "execution_count": 23,
     "metadata": {},
     "output_type": "execute_result"
    }
   ],
   "source": [
    "len(a)"
   ]
  },
  {
   "cell_type": "code",
   "execution_count": 26,
   "id": "77b957f6",
   "metadata": {},
   "outputs": [],
   "source": [
    "a.insert(3, 100)"
   ]
  },
  {
   "cell_type": "code",
   "execution_count": 27,
   "id": "e0a5533c",
   "metadata": {},
   "outputs": [
    {
     "data": {
      "text/plain": [
       "[9, 1, 2, 100, 8, 9, 9, 25]"
      ]
     },
     "execution_count": 27,
     "metadata": {},
     "output_type": "execute_result"
    }
   ],
   "source": [
    "a"
   ]
  },
  {
   "cell_type": "code",
   "execution_count": 28,
   "id": "84ff2fd0",
   "metadata": {},
   "outputs": [],
   "source": [
    "a[3]=5"
   ]
  },
  {
   "cell_type": "code",
   "execution_count": 29,
   "id": "a2cc1169",
   "metadata": {},
   "outputs": [
    {
     "data": {
      "text/plain": [
       "[9, 1, 2, 5, 8, 9, 9, 25]"
      ]
     },
     "execution_count": 29,
     "metadata": {},
     "output_type": "execute_result"
    }
   ],
   "source": [
    "a"
   ]
  },
  {
   "cell_type": "code",
   "execution_count": 30,
   "id": "fdec7d6a",
   "metadata": {},
   "outputs": [],
   "source": [
    "a[-1]=[-1,100]"
   ]
  },
  {
   "cell_type": "code",
   "execution_count": 31,
   "id": "f624e354",
   "metadata": {},
   "outputs": [
    {
     "data": {
      "text/plain": [
       "[9, 1, 2, 5, 8, 9, 9, [-1, 100]]"
      ]
     },
     "execution_count": 31,
     "metadata": {},
     "output_type": "execute_result"
    }
   ],
   "source": [
    "a"
   ]
  },
  {
   "cell_type": "code",
   "execution_count": 32,
   "id": "2b1b0bca",
   "metadata": {},
   "outputs": [],
   "source": [
    "a.insert(-2, 100)"
   ]
  },
  {
   "cell_type": "code",
   "execution_count": 33,
   "id": "d0720fc0",
   "metadata": {},
   "outputs": [
    {
     "data": {
      "text/plain": [
       "[9, 1, 2, 5, 8, 9, 100, 9, [-1, 100]]"
      ]
     },
     "execution_count": 33,
     "metadata": {},
     "output_type": "execute_result"
    }
   ],
   "source": [
    "a"
   ]
  },
  {
   "cell_type": "code",
   "execution_count": 36,
   "id": "a754677b",
   "metadata": {},
   "outputs": [
    {
     "data": {
      "text/plain": [
       "[2, 2, 5, 9, 9, 6, 7]"
      ]
     },
     "execution_count": 36,
     "metadata": {},
     "output_type": "execute_result"
    }
   ],
   "source": [
    "a"
   ]
  },
  {
   "cell_type": "code",
   "execution_count": 37,
   "id": "5813e671",
   "metadata": {},
   "outputs": [],
   "source": [
    "a=[[1,2,4,5,],[5,6,7,7],[2,3,4]]"
   ]
  },
  {
   "cell_type": "code",
   "execution_count": null,
   "id": "31ec1dc6",
   "metadata": {},
   "outputs": [],
   "source": [
    "a.pop()"
   ]
  },
  {
   "cell_type": "code",
   "execution_count": 22,
   "id": "7864b61c",
   "metadata": {},
   "outputs": [
    {
     "data": {
      "text/plain": [
       "[5, 6, 7, 7]"
      ]
     },
     "execution_count": 22,
     "metadata": {},
     "output_type": "execute_result"
    }
   ],
   "source": [
    "a.pop(1)"
   ]
  },
  {
   "cell_type": "code",
   "execution_count": 23,
   "id": "dd31ed14",
   "metadata": {},
   "outputs": [
    {
     "data": {
      "text/plain": [
       "[[1, 2, 4, 5], [2, 3, 4]]"
      ]
     },
     "execution_count": 23,
     "metadata": {},
     "output_type": "execute_result"
    }
   ],
   "source": [
    "a"
   ]
  },
  {
   "cell_type": "code",
   "execution_count": 25,
   "id": "aaae8106",
   "metadata": {},
   "outputs": [],
   "source": [
    "a.remove([2,3,4])"
   ]
  },
  {
   "cell_type": "code",
   "execution_count": 26,
   "id": "9ffd6c62",
   "metadata": {},
   "outputs": [
    {
     "data": {
      "text/plain": [
       "[[1, 2, 4, 5]]"
      ]
     },
     "execution_count": 26,
     "metadata": {},
     "output_type": "execute_result"
    }
   ],
   "source": [
    "a"
   ]
  },
  {
   "cell_type": "code",
   "execution_count": 33,
   "id": "96a73900",
   "metadata": {},
   "outputs": [],
   "source": [
    "a=[2,2,5,9,7,9,6,7]"
   ]
  },
  {
   "cell_type": "code",
   "execution_count": 34,
   "id": "01f5ca40",
   "metadata": {},
   "outputs": [],
   "source": [
    "a.remove(7)"
   ]
  },
  {
   "cell_type": "code",
   "execution_count": 35,
   "id": "e742beb0",
   "metadata": {},
   "outputs": [
    {
     "data": {
      "text/plain": [
       "[2, 2, 5, 9, 9, 6, 7]"
      ]
     },
     "execution_count": 35,
     "metadata": {},
     "output_type": "execute_result"
    }
   ],
   "source": [
    "a"
   ]
  },
  {
   "cell_type": "code",
   "execution_count": 8,
   "id": "a43ac928",
   "metadata": {},
   "outputs": [
    {
     "data": {
      "text/plain": [
       "[[1, 2, 4, 5], [5, 6, 7, 7], [2, 3, 4]]"
      ]
     },
     "execution_count": 8,
     "metadata": {},
     "output_type": "execute_result"
    }
   ],
   "source": [
    "a"
   ]
  },
  {
   "cell_type": "code",
   "execution_count": 9,
   "id": "b1410aac",
   "metadata": {},
   "outputs": [
    {
     "data": {
      "text/plain": [
       "[1, 2, 4, 5]"
      ]
     },
     "execution_count": 9,
     "metadata": {},
     "output_type": "execute_result"
    }
   ],
   "source": [
    "a[0]"
   ]
  },
  {
   "cell_type": "code",
   "execution_count": 10,
   "id": "01c70b7f",
   "metadata": {},
   "outputs": [
    {
     "data": {
      "text/plain": [
       "[5, 6, 7, 7]"
      ]
     },
     "execution_count": 10,
     "metadata": {},
     "output_type": "execute_result"
    }
   ],
   "source": [
    "a[1]"
   ]
  },
  {
   "cell_type": "code",
   "execution_count": 5,
   "id": "39fb4b2a",
   "metadata": {},
   "outputs": [
    {
     "data": {
      "text/plain": [
       "4"
      ]
     },
     "execution_count": 5,
     "metadata": {},
     "output_type": "execute_result"
    }
   ],
   "source": [
    "a[0][2]"
   ]
  },
  {
   "cell_type": "code",
   "execution_count": 13,
   "id": "dd438213",
   "metadata": {},
   "outputs": [
    {
     "data": {
      "text/plain": [
       "7"
      ]
     },
     "execution_count": 13,
     "metadata": {},
     "output_type": "execute_result"
    }
   ],
   "source": [
    "a[1][3]"
   ]
  },
  {
   "cell_type": "code",
   "execution_count": 14,
   "id": "0f7634ea",
   "metadata": {},
   "outputs": [
    {
     "data": {
      "text/plain": [
       "[[1, 2, 4, 5], [5, 6, 7, 7], [2, 3, 4]]"
      ]
     },
     "execution_count": 14,
     "metadata": {},
     "output_type": "execute_result"
    }
   ],
   "source": [
    "a"
   ]
  },
  {
   "cell_type": "code",
   "execution_count": 15,
   "id": "9f567d58",
   "metadata": {},
   "outputs": [
    {
     "data": {
      "text/plain": [
       "[2, 3, 4]"
      ]
     },
     "execution_count": 15,
     "metadata": {},
     "output_type": "execute_result"
    }
   ],
   "source": [
    "a.pop()"
   ]
  },
  {
   "cell_type": "code",
   "execution_count": 16,
   "id": "bc8af750",
   "metadata": {},
   "outputs": [
    {
     "data": {
      "text/plain": [
       "[[1, 2, 4, 5], [5, 6, 7, 7]]"
      ]
     },
     "execution_count": 16,
     "metadata": {},
     "output_type": "execute_result"
    }
   ],
   "source": [
    "a"
   ]
  },
  {
   "cell_type": "code",
   "execution_count": 17,
   "id": "51babd3c",
   "metadata": {},
   "outputs": [
    {
     "data": {
      "text/plain": [
       "[5, 6, 7, 7]"
      ]
     },
     "execution_count": 17,
     "metadata": {},
     "output_type": "execute_result"
    }
   ],
   "source": [
    "a.pop(1)"
   ]
  },
  {
   "cell_type": "code",
   "execution_count": 38,
   "id": "909f6bb8",
   "metadata": {},
   "outputs": [
    {
     "data": {
      "text/plain": [
       "[[1, 2, 4, 5], [5, 6, 7, 7], [2, 3, 4]]"
      ]
     },
     "execution_count": 38,
     "metadata": {},
     "output_type": "execute_result"
    }
   ],
   "source": [
    "a"
   ]
  },
  {
   "cell_type": "code",
   "execution_count": 40,
   "id": "3bde1233",
   "metadata": {},
   "outputs": [],
   "source": [
    "a.extend([2,3])"
   ]
  },
  {
   "cell_type": "code",
   "execution_count": 41,
   "id": "d715464b",
   "metadata": {},
   "outputs": [
    {
     "data": {
      "text/plain": [
       "[[1, 2, 4, 5], [5, 6, 7, 7], [2, 3, 4], 2, 3]"
      ]
     },
     "execution_count": 41,
     "metadata": {},
     "output_type": "execute_result"
    }
   ],
   "source": [
    "a"
   ]
  },
  {
   "cell_type": "code",
   "execution_count": 18,
   "id": "b54fbb9f",
   "metadata": {},
   "outputs": [
    {
     "data": {
      "text/plain": [
       "[[1, 2, 4, 5]]"
      ]
     },
     "execution_count": 18,
     "metadata": {},
     "output_type": "execute_result"
    }
   ],
   "source": [
    "a"
   ]
  },
  {
   "cell_type": "code",
   "execution_count": 19,
   "id": "86fb6d72",
   "metadata": {},
   "outputs": [],
   "source": [
    "a=[2,3,4,8]"
   ]
  },
  {
   "cell_type": "code",
   "execution_count": null,
   "id": "dd308c95",
   "metadata": {},
   "outputs": [],
   "source": [
    "a.remove()"
   ]
  },
  {
   "cell_type": "code",
   "execution_count": 35,
   "id": "6ceb5d27",
   "metadata": {},
   "outputs": [
    {
     "data": {
      "text/plain": [
       "list"
      ]
     },
     "execution_count": 35,
     "metadata": {},
     "output_type": "execute_result"
    }
   ],
   "source": [
    "type(a)"
   ]
  },
  {
   "cell_type": "code",
   "execution_count": 36,
   "id": "f0ae382a",
   "metadata": {},
   "outputs": [
    {
     "data": {
      "text/plain": [
       "[1, 2, 4, 5]"
      ]
     },
     "execution_count": 36,
     "metadata": {},
     "output_type": "execute_result"
    }
   ],
   "source": [
    "a[0]"
   ]
  },
  {
   "cell_type": "code",
   "execution_count": 37,
   "id": "7148b215",
   "metadata": {},
   "outputs": [
    {
     "data": {
      "text/plain": [
       "2"
      ]
     },
     "execution_count": 37,
     "metadata": {},
     "output_type": "execute_result"
    }
   ],
   "source": [
    "a[0][1]"
   ]
  },
  {
   "cell_type": "code",
   "execution_count": 40,
   "id": "2fd46468",
   "metadata": {},
   "outputs": [
    {
     "data": {
      "text/plain": [
       "7"
      ]
     },
     "execution_count": 40,
     "metadata": {},
     "output_type": "execute_result"
    }
   ],
   "source": [
    "a[1][3]"
   ]
  },
  {
   "cell_type": "code",
   "execution_count": 41,
   "id": "476869aa",
   "metadata": {},
   "outputs": [
    {
     "data": {
      "text/plain": [
       "[[1, 2, 4, 5], [5, 6, 7, 7]]"
      ]
     },
     "execution_count": 41,
     "metadata": {},
     "output_type": "execute_result"
    }
   ],
   "source": [
    "a"
   ]
  },
  {
   "cell_type": "code",
   "execution_count": 42,
   "id": "4afffdc0",
   "metadata": {},
   "outputs": [
    {
     "data": {
      "text/plain": [
       "[5, 6, 7, 7]"
      ]
     },
     "execution_count": 42,
     "metadata": {},
     "output_type": "execute_result"
    }
   ],
   "source": [
    "a.pop()"
   ]
  },
  {
   "cell_type": "code",
   "execution_count": 43,
   "id": "3fafe6bf",
   "metadata": {},
   "outputs": [
    {
     "data": {
      "text/plain": [
       "[[1, 2, 4, 5]]"
      ]
     },
     "execution_count": 43,
     "metadata": {},
     "output_type": "execute_result"
    }
   ],
   "source": [
    "a"
   ]
  },
  {
   "cell_type": "code",
   "execution_count": 45,
   "id": "e561ee6f",
   "metadata": {},
   "outputs": [
    {
     "data": {
      "text/plain": [
       "[3, 4, 5, 60]"
      ]
     },
     "execution_count": 45,
     "metadata": {},
     "output_type": "execute_result"
    }
   ],
   "source": [
    "b=[3,4,5,60]\n",
    "b"
   ]
  },
  {
   "cell_type": "code",
   "execution_count": 46,
   "id": "fec6200a",
   "metadata": {},
   "outputs": [
    {
     "data": {
      "text/plain": [
       "60"
      ]
     },
     "execution_count": 46,
     "metadata": {},
     "output_type": "execute_result"
    }
   ],
   "source": [
    "b.pop()"
   ]
  },
  {
   "cell_type": "code",
   "execution_count": 47,
   "id": "56f6c6c9",
   "metadata": {},
   "outputs": [
    {
     "data": {
      "text/plain": [
       "[3, 4, 5]"
      ]
     },
     "execution_count": 47,
     "metadata": {},
     "output_type": "execute_result"
    }
   ],
   "source": [
    "b"
   ]
  },
  {
   "cell_type": "code",
   "execution_count": 48,
   "id": "dc7cf689",
   "metadata": {},
   "outputs": [],
   "source": [
    "del b"
   ]
  },
  {
   "cell_type": "code",
   "execution_count": 49,
   "id": "1186c83d",
   "metadata": {},
   "outputs": [
    {
     "ename": "NameError",
     "evalue": "name 'b' is not defined",
     "output_type": "error",
     "traceback": [
      "\u001b[1;31m---------------------------------------------------------------------------\u001b[0m",
      "\u001b[1;31mNameError\u001b[0m                                 Traceback (most recent call last)",
      "Cell \u001b[1;32mIn[49], line 1\u001b[0m\n\u001b[1;32m----> 1\u001b[0m \u001b[43mb\u001b[49m\n",
      "\u001b[1;31mNameError\u001b[0m: name 'b' is not defined"
     ]
    }
   ],
   "source": [
    "b = ['mahendra', 45, ]"
   ]
  },
  {
   "cell_type": "code",
   "execution_count": 50,
   "id": "222e7a88",
   "metadata": {},
   "outputs": [],
   "source": [
    "a=[[1,2,3,4],[2,3,4,5]]"
   ]
  },
  {
   "cell_type": "code",
   "execution_count": 52,
   "id": "3cc845ed",
   "metadata": {},
   "outputs": [
    {
     "data": {
      "text/plain": [
       "[1, 2, 3, 4]"
      ]
     },
     "execution_count": 52,
     "metadata": {},
     "output_type": "execute_result"
    }
   ],
   "source": [
    "a.pop()"
   ]
  },
  {
   "cell_type": "code",
   "execution_count": 53,
   "id": "c8c513aa",
   "metadata": {},
   "outputs": [
    {
     "data": {
      "text/plain": [
       "[]"
      ]
     },
     "execution_count": 53,
     "metadata": {},
     "output_type": "execute_result"
    }
   ],
   "source": [
    "a"
   ]
  },
  {
   "cell_type": "code",
   "execution_count": null,
   "id": "da74c03e",
   "metadata": {},
   "outputs": [],
   "source": []
  },
  {
   "cell_type": "code",
   "execution_count": 42,
   "id": "1dae35ca",
   "metadata": {},
   "outputs": [],
   "source": [
    "a=[[2,3,4],[2,3,4],[3,4,5]]"
   ]
  },
  {
   "cell_type": "code",
   "execution_count": 43,
   "id": "843357aa",
   "metadata": {},
   "outputs": [],
   "source": [
    "del a[0]"
   ]
  },
  {
   "cell_type": "code",
   "execution_count": 44,
   "id": "5327dc2d",
   "metadata": {},
   "outputs": [
    {
     "data": {
      "text/plain": [
       "[[2, 3, 4], [3, 4, 5]]"
      ]
     },
     "execution_count": 44,
     "metadata": {},
     "output_type": "execute_result"
    }
   ],
   "source": [
    "a"
   ]
  },
  {
   "cell_type": "code",
   "execution_count": 45,
   "id": "c1a40f52",
   "metadata": {},
   "outputs": [],
   "source": [
    "del a[1][2]"
   ]
  },
  {
   "cell_type": "code",
   "execution_count": 46,
   "id": "1fad47d4",
   "metadata": {},
   "outputs": [
    {
     "data": {
      "text/plain": [
       "[[2, 3, 4], [3, 4]]"
      ]
     },
     "execution_count": 46,
     "metadata": {},
     "output_type": "execute_result"
    }
   ],
   "source": [
    "a"
   ]
  },
  {
   "cell_type": "code",
   "execution_count": 56,
   "id": "0c36e91e",
   "metadata": {},
   "outputs": [
    {
     "data": {
      "text/plain": [
       "[3, 4, 5]"
      ]
     },
     "execution_count": 56,
     "metadata": {},
     "output_type": "execute_result"
    }
   ],
   "source": [
    "a.pop()"
   ]
  },
  {
   "cell_type": "code",
   "execution_count": 61,
   "id": "d8d7b337",
   "metadata": {},
   "outputs": [],
   "source": [
    "a=['mahendra', 45, 88787.0, True]"
   ]
  },
  {
   "cell_type": "code",
   "execution_count": 62,
   "id": "d84cc50c",
   "metadata": {},
   "outputs": [
    {
     "data": {
      "text/plain": [
       "['mahendra', 45, 88787.0, True]"
      ]
     },
     "execution_count": 62,
     "metadata": {},
     "output_type": "execute_result"
    }
   ],
   "source": [
    "a"
   ]
  },
  {
   "cell_type": "code",
   "execution_count": 63,
   "id": "412354e7",
   "metadata": {},
   "outputs": [],
   "source": [
    "a.append(4)"
   ]
  },
  {
   "cell_type": "code",
   "execution_count": 64,
   "id": "c0796cec",
   "metadata": {},
   "outputs": [
    {
     "data": {
      "text/plain": [
       "['mahendra', 45, 88787.0, True, 4]"
      ]
     },
     "execution_count": 64,
     "metadata": {},
     "output_type": "execute_result"
    }
   ],
   "source": [
    "a"
   ]
  },
  {
   "cell_type": "code",
   "execution_count": 66,
   "id": "5fdd0d44",
   "metadata": {},
   "outputs": [],
   "source": [
    "a.append([5,6,7])"
   ]
  },
  {
   "cell_type": "code",
   "execution_count": 67,
   "id": "789b5de2",
   "metadata": {},
   "outputs": [
    {
     "data": {
      "text/plain": [
       "['mahendra', 45, 88787.0, True, 4, [5, 6, 7]]"
      ]
     },
     "execution_count": 67,
     "metadata": {},
     "output_type": "execute_result"
    }
   ],
   "source": [
    "a"
   ]
  },
  {
   "cell_type": "code",
   "execution_count": 68,
   "id": "3a215809",
   "metadata": {},
   "outputs": [],
   "source": [
    "a.append(78)"
   ]
  },
  {
   "cell_type": "code",
   "execution_count": 69,
   "id": "83dc177d",
   "metadata": {},
   "outputs": [
    {
     "data": {
      "text/plain": [
       "['mahendra', 45, 88787.0, True, 4, [5, 6, 7], 78]"
      ]
     },
     "execution_count": 69,
     "metadata": {},
     "output_type": "execute_result"
    }
   ],
   "source": [
    "a"
   ]
  },
  {
   "cell_type": "code",
   "execution_count": 70,
   "id": "4a349b98",
   "metadata": {},
   "outputs": [
    {
     "ename": "TypeError",
     "evalue": "'<' not supported between instances of 'int' and 'str'",
     "output_type": "error",
     "traceback": [
      "\u001b[1;31m---------------------------------------------------------------------------\u001b[0m",
      "\u001b[1;31mTypeError\u001b[0m                                 Traceback (most recent call last)",
      "Cell \u001b[1;32mIn[70], line 1\u001b[0m\n\u001b[1;32m----> 1\u001b[0m \u001b[43ma\u001b[49m\u001b[38;5;241;43m.\u001b[39;49m\u001b[43msort\u001b[49m\u001b[43m(\u001b[49m\u001b[43m)\u001b[49m\n",
      "\u001b[1;31mTypeError\u001b[0m: '<' not supported between instances of 'int' and 'str'"
     ]
    }
   ],
   "source": [
    "a.sort()"
   ]
  },
  {
   "cell_type": "code",
   "execution_count": 72,
   "id": "36ed25fc",
   "metadata": {},
   "outputs": [],
   "source": [
    "b=[2,34,5,6,7]\n",
    "b.sort()"
   ]
  },
  {
   "cell_type": "code",
   "execution_count": 73,
   "id": "731c19d2",
   "metadata": {},
   "outputs": [
    {
     "data": {
      "text/plain": [
       "[2, 5, 6, 7, 34]"
      ]
     },
     "execution_count": 73,
     "metadata": {},
     "output_type": "execute_result"
    }
   ],
   "source": [
    "b"
   ]
  },
  {
   "cell_type": "code",
   "execution_count": 80,
   "id": "d0cff9c2",
   "metadata": {},
   "outputs": [],
   "source": [
    "b.sort(reverse=True)"
   ]
  },
  {
   "cell_type": "code",
   "execution_count": 81,
   "id": "d7418d03",
   "metadata": {},
   "outputs": [
    {
     "data": {
      "text/plain": [
       "[34, 7, 6, 5, 2]"
      ]
     },
     "execution_count": 81,
     "metadata": {},
     "output_type": "execute_result"
    }
   ],
   "source": [
    "b"
   ]
  },
  {
   "cell_type": "code",
   "execution_count": 83,
   "id": "ab19fd1c",
   "metadata": {},
   "outputs": [
    {
     "data": {
      "text/plain": [
       "5"
      ]
     },
     "execution_count": 83,
     "metadata": {},
     "output_type": "execute_result"
    }
   ],
   "source": [
    "len(b)"
   ]
  },
  {
   "cell_type": "code",
   "execution_count": 87,
   "id": "ba483860",
   "metadata": {},
   "outputs": [
    {
     "data": {
      "text/plain": [
       "3"
      ]
     },
     "execution_count": 87,
     "metadata": {},
     "output_type": "execute_result"
    }
   ],
   "source": [
    "b=[2,3,4,5,5,8,9,8, 8, 9]\n",
    "b.count(8)\n"
   ]
  },
  {
   "cell_type": "code",
   "execution_count": 88,
   "id": "889ceb60",
   "metadata": {},
   "outputs": [
    {
     "data": {
      "text/plain": [
       "[78, [5, 6, 7], 4, True, 88787.0, 45, 'mahendra']"
      ]
     },
     "execution_count": 88,
     "metadata": {},
     "output_type": "execute_result"
    }
   ],
   "source": [
    "a[::-1]"
   ]
  },
  {
   "cell_type": "code",
   "execution_count": 89,
   "id": "d42d1fa7",
   "metadata": {},
   "outputs": [
    {
     "data": {
      "text/plain": [
       "['mahendra', 45, 88787.0, True, 4, [5, 6, 7], 78]"
      ]
     },
     "execution_count": 89,
     "metadata": {},
     "output_type": "execute_result"
    }
   ],
   "source": [
    "a"
   ]
  },
  {
   "cell_type": "code",
   "execution_count": 90,
   "id": "ba27816b",
   "metadata": {},
   "outputs": [
    {
     "data": {
      "text/plain": [
       "[2, 3, 4, 5, 5, 8, 9, 8, 8, 9]"
      ]
     },
     "execution_count": 90,
     "metadata": {},
     "output_type": "execute_result"
    }
   ],
   "source": [
    "b"
   ]
  },
  {
   "cell_type": "code",
   "execution_count": 94,
   "id": "b64587ee",
   "metadata": {},
   "outputs": [
    {
     "data": {
      "text/plain": [
       "[2, 3, 4, 5, 5, 8, 8, 8, 9, 9]"
      ]
     },
     "execution_count": 94,
     "metadata": {},
     "output_type": "execute_result"
    }
   ],
   "source": [
    "sorted(b)"
   ]
  },
  {
   "cell_type": "code",
   "execution_count": 92,
   "id": "c0ce4138",
   "metadata": {},
   "outputs": [
    {
     "data": {
      "text/plain": [
       "[2, 3, 4, 5, 5, 8, 8, 8, 9, 9]"
      ]
     },
     "execution_count": 92,
     "metadata": {},
     "output_type": "execute_result"
    }
   ],
   "source": [
    "b"
   ]
  },
  {
   "cell_type": "code",
   "execution_count": 95,
   "id": "eaf59c7d",
   "metadata": {},
   "outputs": [],
   "source": [
    "c=b.sort()"
   ]
  },
  {
   "cell_type": "code",
   "execution_count": 96,
   "id": "a0278a3e",
   "metadata": {},
   "outputs": [
    {
     "data": {
      "text/plain": [
       "[2, 3, 4, 5, 5, 8, 8, 8, 9, 9]"
      ]
     },
     "execution_count": 96,
     "metadata": {},
     "output_type": "execute_result"
    }
   ],
   "source": [
    "b"
   ]
  },
  {
   "cell_type": "code",
   "execution_count": 97,
   "id": "8c987e98",
   "metadata": {},
   "outputs": [],
   "source": [
    "c"
   ]
  },
  {
   "cell_type": "code",
   "execution_count": 100,
   "id": "39272023",
   "metadata": {},
   "outputs": [],
   "source": [
    "x=[1,4,7,10, 3, 5, 20, 6]\n",
    "x.sort()"
   ]
  },
  {
   "cell_type": "code",
   "execution_count": 101,
   "id": "3eda49ea",
   "metadata": {},
   "outputs": [
    {
     "data": {
      "text/plain": [
       "[1, 3, 4, 5, 6, 7, 10, 20]"
      ]
     },
     "execution_count": 101,
     "metadata": {},
     "output_type": "execute_result"
    }
   ],
   "source": [
    "x"
   ]
  },
  {
   "cell_type": "code",
   "execution_count": 102,
   "id": "596fb06e",
   "metadata": {},
   "outputs": [
    {
     "data": {
      "text/plain": [
       "[1, 3, 4, 5, 6, 7, 10, 20]"
      ]
     },
     "execution_count": 102,
     "metadata": {},
     "output_type": "execute_result"
    }
   ],
   "source": [
    "x"
   ]
  },
  {
   "cell_type": "code",
   "execution_count": 117,
   "id": "e7b5552a",
   "metadata": {},
   "outputs": [
    {
     "data": {
      "text/plain": [
       "[20, 10, 7, 6, 5, 4, 3, 1]"
      ]
     },
     "execution_count": 117,
     "metadata": {},
     "output_type": "execute_result"
    }
   ],
   "source": [
    "x"
   ]
  },
  {
   "cell_type": "code",
   "execution_count": 118,
   "id": "d8ab7395",
   "metadata": {},
   "outputs": [],
   "source": [
    "h=x.sort(reverse=True)"
   ]
  },
  {
   "cell_type": "code",
   "execution_count": 119,
   "id": "0543588f",
   "metadata": {},
   "outputs": [],
   "source": [
    "h"
   ]
  },
  {
   "cell_type": "code",
   "execution_count": 113,
   "id": "485fe443",
   "metadata": {},
   "outputs": [
    {
     "data": {
      "text/plain": [
       "[20, 10, 7, 6, 5, 4, 3, 1]"
      ]
     },
     "execution_count": 113,
     "metadata": {},
     "output_type": "execute_result"
    }
   ],
   "source": [
    "x"
   ]
  },
  {
   "cell_type": "code",
   "execution_count": 114,
   "id": "30af2fa0",
   "metadata": {},
   "outputs": [],
   "source": [
    "h=x"
   ]
  },
  {
   "cell_type": "code",
   "execution_count": 115,
   "id": "a33c6e85",
   "metadata": {},
   "outputs": [
    {
     "data": {
      "text/plain": [
       "[20, 10, 7, 6, 5, 4, 3, 1]"
      ]
     },
     "execution_count": 115,
     "metadata": {},
     "output_type": "execute_result"
    }
   ],
   "source": [
    "h"
   ]
  },
  {
   "cell_type": "code",
   "execution_count": 120,
   "id": "4c037d6a",
   "metadata": {},
   "outputs": [],
   "source": [
    "h"
   ]
  },
  {
   "cell_type": "code",
   "execution_count": 47,
   "id": "9c9f1e8c",
   "metadata": {},
   "outputs": [],
   "source": [
    "a=[2,3,4]\n",
    "b=[8,28]"
   ]
  },
  {
   "cell_type": "code",
   "execution_count": 48,
   "id": "0207b764",
   "metadata": {},
   "outputs": [
    {
     "data": {
      "text/plain": [
       "[2, 3, 4, 8, 28]"
      ]
     },
     "execution_count": 48,
     "metadata": {},
     "output_type": "execute_result"
    }
   ],
   "source": [
    "a+b"
   ]
  },
  {
   "cell_type": "code",
   "execution_count": 49,
   "id": "0eca302f",
   "metadata": {},
   "outputs": [
    {
     "data": {
      "text/plain": [
       "[4, 9, 16]"
      ]
     },
     "execution_count": 49,
     "metadata": {},
     "output_type": "execute_result"
    }
   ],
   "source": [
    "[i**2 for i in a]"
   ]
  },
  {
   "cell_type": "code",
   "execution_count": 50,
   "id": "9f02d6aa",
   "metadata": {},
   "outputs": [
    {
     "data": {
      "text/plain": [
       "9"
      ]
     },
     "execution_count": 50,
     "metadata": {},
     "output_type": "execute_result"
    }
   ],
   "source": [
    "sum(a)"
   ]
  },
  {
   "cell_type": "code",
   "execution_count": 51,
   "id": "fc56b350",
   "metadata": {},
   "outputs": [
    {
     "data": {
      "text/plain": [
       "2"
      ]
     },
     "execution_count": 51,
     "metadata": {},
     "output_type": "execute_result"
    }
   ],
   "source": [
    "min(a)"
   ]
  },
  {
   "cell_type": "code",
   "execution_count": 52,
   "id": "9573aa04",
   "metadata": {},
   "outputs": [
    {
     "data": {
      "text/plain": [
       "4"
      ]
     },
     "execution_count": 52,
     "metadata": {},
     "output_type": "execute_result"
    }
   ],
   "source": [
    "max(a)"
   ]
  },
  {
   "cell_type": "code",
   "execution_count": null,
   "id": "b4be0484",
   "metadata": {},
   "outputs": [],
   "source": []
  },
  {
   "cell_type": "code",
   "execution_count": 122,
   "id": "bd3b6ef5",
   "metadata": {},
   "outputs": [
    {
     "name": "stdout",
     "output_type": "stream",
     "text": [
      "None\n"
     ]
    }
   ],
   "source": [
    "print(h)"
   ]
  },
  {
   "cell_type": "code",
   "execution_count": 124,
   "id": "067d553f",
   "metadata": {},
   "outputs": [
    {
     "data": {
      "text/plain": [
       "[20, 10, 7, 6, 5, 4, 3, 1, 20, 10, 7, 6, 5, 4, 3, 1, 20, 10, 7, 6, 5, 4, 3, 1]"
      ]
     },
     "execution_count": 124,
     "metadata": {},
     "output_type": "execute_result"
    }
   ],
   "source": [
    "x+x+x"
   ]
  },
  {
   "cell_type": "code",
   "execution_count": 125,
   "id": "c630dd08",
   "metadata": {},
   "outputs": [
    {
     "data": {
      "text/plain": [
       "[20, 10, 7, 6, 5, 4, 3, 1]"
      ]
     },
     "execution_count": 125,
     "metadata": {},
     "output_type": "execute_result"
    }
   ],
   "source": [
    "x"
   ]
  },
  {
   "cell_type": "code",
   "execution_count": 127,
   "id": "d899a4ce",
   "metadata": {},
   "outputs": [
    {
     "data": {
      "text/plain": [
       "[20, 10, 7, 6, 5, 4, 3, 1, 20, 10, 7, 6, 5, 4, 3, 1, 20, 10, 7, 6, 5, 4, 3, 1]"
      ]
     },
     "execution_count": 127,
     "metadata": {},
     "output_type": "execute_result"
    }
   ],
   "source": [
    "x*3"
   ]
  },
  {
   "cell_type": "code",
   "execution_count": 129,
   "id": "b0f5abb3",
   "metadata": {},
   "outputs": [
    {
     "data": {
      "text/plain": [
       "[400, 100, 49, 36, 25, 16, 9, 1]"
      ]
     },
     "execution_count": 129,
     "metadata": {},
     "output_type": "execute_result"
    }
   ],
   "source": [
    "[i**2 for i in x] #list comprehension"
   ]
  },
  {
   "cell_type": "code",
   "execution_count": 134,
   "id": "b829799e",
   "metadata": {},
   "outputs": [
    {
     "data": {
      "text/plain": [
       "[1, 9, 25, 49, 81]"
      ]
     },
     "execution_count": 134,
     "metadata": {},
     "output_type": "execute_result"
    }
   ],
   "source": [
    "[x**2 for x in range(10) if x%2!=0]"
   ]
  },
  {
   "cell_type": "code",
   "execution_count": 136,
   "id": "d9cc6dda",
   "metadata": {},
   "outputs": [
    {
     "data": {
      "text/plain": [
       "[20, 10, 7, 6, 5, 4, 3, 1]"
      ]
     },
     "execution_count": 136,
     "metadata": {},
     "output_type": "execute_result"
    }
   ],
   "source": [
    "[x[y] for y in range(len(x))]"
   ]
  },
  {
   "cell_type": "code",
   "execution_count": 141,
   "id": "15e6b80f",
   "metadata": {},
   "outputs": [
    {
     "data": {
      "text/plain": [
       "[20, 7, 5, 3]"
      ]
     },
     "execution_count": 141,
     "metadata": {},
     "output_type": "execute_result"
    }
   ],
   "source": [
    "[x[i] for i in range(0,len(x)) if i%2==0]"
   ]
  },
  {
   "cell_type": "code",
   "execution_count": 149,
   "id": "4b633b69",
   "metadata": {},
   "outputs": [],
   "source": [
    "a=[]\n",
    "def f(x):\n",
    "    for i in range(0, len(x),2): #0,1, 2,3 4,5, 6,\n",
    "        if i%2==0:\n",
    "            a.append(x[i])\n",
    "    print(a)\n",
    "        "
   ]
  },
  {
   "cell_type": "code",
   "execution_count": 150,
   "id": "27d8d7f7",
   "metadata": {},
   "outputs": [
    {
     "name": "stdout",
     "output_type": "stream",
     "text": [
      "[20, 7, 5, 3]\n"
     ]
    }
   ],
   "source": [
    "f(x)"
   ]
  },
  {
   "cell_type": "code",
   "execution_count": 155,
   "id": "577ab69e",
   "metadata": {},
   "outputs": [],
   "source": [
    "name = 'mahendra'\n",
    "n=[name[x] for x in range(len(name)) if x%2==0]"
   ]
  },
  {
   "cell_type": "code",
   "execution_count": 156,
   "id": "5b80fbe0",
   "metadata": {},
   "outputs": [
    {
     "data": {
      "text/plain": [
       "['m', 'h', 'n', 'r']"
      ]
     },
     "execution_count": 156,
     "metadata": {},
     "output_type": "execute_result"
    }
   ],
   "source": [
    "n"
   ]
  },
  {
   "cell_type": "code",
   "execution_count": 157,
   "id": "19e37227",
   "metadata": {},
   "outputs": [
    {
     "data": {
      "text/plain": [
       "'mahendra'"
      ]
     },
     "execution_count": 157,
     "metadata": {},
     "output_type": "execute_result"
    }
   ],
   "source": [
    "name"
   ]
  },
  {
   "cell_type": "code",
   "execution_count": 158,
   "id": "022866d7",
   "metadata": {},
   "outputs": [
    {
     "data": {
      "text/plain": [
       "'m'"
      ]
     },
     "execution_count": 158,
     "metadata": {},
     "output_type": "execute_result"
    }
   ],
   "source": [
    "name[0]"
   ]
  },
  {
   "cell_type": "code",
   "execution_count": 159,
   "id": "2b55278b",
   "metadata": {},
   "outputs": [
    {
     "data": {
      "text/plain": [
       "'a'"
      ]
     },
     "execution_count": 159,
     "metadata": {},
     "output_type": "execute_result"
    }
   ],
   "source": [
    "name[1]"
   ]
  },
  {
   "cell_type": "code",
   "execution_count": 160,
   "id": "46a62d5b",
   "metadata": {},
   "outputs": [
    {
     "ename": "TypeError",
     "evalue": "'str' object does not support item assignment",
     "output_type": "error",
     "traceback": [
      "\u001b[1;31m---------------------------------------------------------------------------\u001b[0m",
      "\u001b[1;31mTypeError\u001b[0m                                 Traceback (most recent call last)",
      "Cell \u001b[1;32mIn[160], line 1\u001b[0m\n\u001b[1;32m----> 1\u001b[0m name[\u001b[38;5;241m2\u001b[39m]\u001b[38;5;241m=\u001b[39m\u001b[38;5;124m'\u001b[39m\u001b[38;5;124mah\u001b[39m\u001b[38;5;124m'\u001b[39m\n",
      "\u001b[1;31mTypeError\u001b[0m: 'str' object does not support item assignment"
     ]
    }
   ],
   "source": [
    "name[2]='ah'"
   ]
  },
  {
   "cell_type": "code",
   "execution_count": 161,
   "id": "90d20eec",
   "metadata": {},
   "outputs": [
    {
     "data": {
      "text/plain": [
       "'mahendra'"
      ]
     },
     "execution_count": 161,
     "metadata": {},
     "output_type": "execute_result"
    }
   ],
   "source": [
    "name[:]"
   ]
  },
  {
   "cell_type": "code",
   "execution_count": 162,
   "id": "26a7ae02",
   "metadata": {},
   "outputs": [
    {
     "ename": "TypeError",
     "evalue": "'str' object does not support item assignment",
     "output_type": "error",
     "traceback": [
      "\u001b[1;31m---------------------------------------------------------------------------\u001b[0m",
      "\u001b[1;31mTypeError\u001b[0m                                 Traceback (most recent call last)",
      "Cell \u001b[1;32mIn[162], line 1\u001b[0m\n\u001b[1;32m----> 1\u001b[0m name[\u001b[38;5;241m3\u001b[39m]\u001b[38;5;241m=\u001b[39m\u001b[38;5;124m'\u001b[39m\u001b[38;5;124ma\u001b[39m\u001b[38;5;124m'\u001b[39m\n",
      "\u001b[1;31mTypeError\u001b[0m: 'str' object does not support item assignment"
     ]
    }
   ],
   "source": [
    "name[3]='a'"
   ]
  },
  {
   "cell_type": "code",
   "execution_count": 163,
   "id": "57c9e28c",
   "metadata": {},
   "outputs": [
    {
     "data": {
      "text/plain": [
       "'mahendramahe'"
      ]
     },
     "execution_count": 163,
     "metadata": {},
     "output_type": "execute_result"
    }
   ],
   "source": [
    "name + 'mahe'"
   ]
  },
  {
   "cell_type": "markdown",
   "id": "1829c7b0",
   "metadata": {},
   "source": [
    "# List"
   ]
  },
  {
   "cell_type": "code",
   "execution_count": null,
   "id": "b1f0adcc",
   "metadata": {},
   "outputs": [],
   "source": []
  },
  {
   "cell_type": "code",
   "execution_count": null,
   "id": "cc73c452",
   "metadata": {},
   "outputs": [],
   "source": []
  },
  {
   "cell_type": "code",
   "execution_count": 54,
   "id": "b9e86137",
   "metadata": {},
   "outputs": [
    {
     "data": {
      "text/plain": [
       "[2, 3, 4]"
      ]
     },
     "execution_count": 54,
     "metadata": {},
     "output_type": "execute_result"
    }
   ],
   "source": [
    "a"
   ]
  },
  {
   "cell_type": "code",
   "execution_count": 53,
   "id": "060e3c68",
   "metadata": {},
   "outputs": [
    {
     "name": "stdout",
     "output_type": "stream",
     "text": [
      "0\n",
      "1\n",
      "2\n",
      "3\n",
      "4\n",
      "5\n",
      "6\n",
      "7\n",
      "8\n",
      "9\n"
     ]
    }
   ],
   "source": [
    "for i in range(10):\n",
    "    print(i)"
   ]
  },
  {
   "cell_type": "code",
   "execution_count": 58,
   "id": "81bde5a0",
   "metadata": {},
   "outputs": [
    {
     "data": {
      "text/plain": [
       "3"
      ]
     },
     "execution_count": 58,
     "metadata": {},
     "output_type": "execute_result"
    }
   ],
   "source": [
    "len(a)"
   ]
  },
  {
   "cell_type": "code",
   "execution_count": 57,
   "id": "d1562b70",
   "metadata": {},
   "outputs": [],
   "source": [
    "length_of_a = len(a)"
   ]
  },
  {
   "cell_type": "code",
   "execution_count": 56,
   "id": "9dc0d81c",
   "metadata": {},
   "outputs": [
    {
     "name": "stdout",
     "output_type": "stream",
     "text": [
      "2\n",
      "3\n",
      "4\n"
     ]
    }
   ],
   "source": [
    "for i in range(len(a)): #0, 1, 2\n",
    "    print(a[i])"
   ]
  },
  {
   "cell_type": "code",
   "execution_count": 59,
   "id": "0aebff0f",
   "metadata": {},
   "outputs": [],
   "source": [
    "a=[1,2,3,4,5,9,87,766]"
   ]
  },
  {
   "cell_type": "code",
   "execution_count": 65,
   "id": "53c6b173",
   "metadata": {},
   "outputs": [
    {
     "name": "stdout",
     "output_type": "stream",
     "text": [
      "8\n"
     ]
    }
   ],
   "source": [
    "sum_a=0\n",
    "for i in range(len(a)):\n",
    "    sum_a+=1\n",
    "print(sum_a)"
   ]
  },
  {
   "cell_type": "code",
   "execution_count": 64,
   "id": "4162210e",
   "metadata": {},
   "outputs": [
    {
     "data": {
      "text/plain": [
       "8"
      ]
     },
     "execution_count": 64,
     "metadata": {},
     "output_type": "execute_result"
    }
   ],
   "source": [
    "len(a)"
   ]
  },
  {
   "cell_type": "code",
   "execution_count": 67,
   "id": "fb3b67f6",
   "metadata": {},
   "outputs": [
    {
     "data": {
      "text/plain": [
       "[1, 2, 3, 4, 5, 9, 87, 766]"
      ]
     },
     "execution_count": 67,
     "metadata": {},
     "output_type": "execute_result"
    }
   ],
   "source": [
    "a"
   ]
  },
  {
   "cell_type": "code",
   "execution_count": 73,
   "id": "1e609968",
   "metadata": {},
   "outputs": [
    {
     "name": "stdout",
     "output_type": "stream",
     "text": [
      "877\n"
     ]
    }
   ],
   "source": [
    "ans=0\n",
    "for i in a:\n",
    "    ans+=i\n",
    "print(ans)"
   ]
  },
  {
   "cell_type": "markdown",
   "id": "f0fc0525",
   "metadata": {},
   "source": [
    "# Tuple"
   ]
  },
  {
   "cell_type": "code",
   "execution_count": 74,
   "id": "2ac0ab74",
   "metadata": {},
   "outputs": [],
   "source": [
    "a=(1)"
   ]
  },
  {
   "cell_type": "code",
   "execution_count": 75,
   "id": "3c78128f",
   "metadata": {},
   "outputs": [
    {
     "data": {
      "text/plain": [
       "int"
      ]
     },
     "execution_count": 75,
     "metadata": {},
     "output_type": "execute_result"
    }
   ],
   "source": [
    "type(a)"
   ]
  },
  {
   "cell_type": "code",
   "execution_count": 76,
   "id": "7bc1fcce",
   "metadata": {},
   "outputs": [],
   "source": [
    "a=(1,)"
   ]
  },
  {
   "cell_type": "code",
   "execution_count": 77,
   "id": "7215189c",
   "metadata": {},
   "outputs": [
    {
     "data": {
      "text/plain": [
       "tuple"
      ]
     },
     "execution_count": 77,
     "metadata": {},
     "output_type": "execute_result"
    }
   ],
   "source": [
    "type(a)"
   ]
  },
  {
   "cell_type": "code",
   "execution_count": 85,
   "id": "81b74e41",
   "metadata": {},
   "outputs": [],
   "source": [
    "b=tuple()"
   ]
  },
  {
   "cell_type": "code",
   "execution_count": 86,
   "id": "dfec6bde",
   "metadata": {},
   "outputs": [
    {
     "data": {
      "text/plain": [
       "tuple"
      ]
     },
     "execution_count": 86,
     "metadata": {},
     "output_type": "execute_result"
    }
   ],
   "source": [
    "type(b)"
   ]
  },
  {
   "cell_type": "code",
   "execution_count": 87,
   "id": "857586c5",
   "metadata": {},
   "outputs": [],
   "source": [
    "a=list()"
   ]
  },
  {
   "cell_type": "code",
   "execution_count": 88,
   "id": "32631d37",
   "metadata": {},
   "outputs": [
    {
     "data": {
      "text/plain": [
       "list"
      ]
     },
     "execution_count": 88,
     "metadata": {},
     "output_type": "execute_result"
    }
   ],
   "source": [
    "type(a)"
   ]
  },
  {
   "cell_type": "code",
   "execution_count": 89,
   "id": "4d6b0478",
   "metadata": {},
   "outputs": [
    {
     "data": {
      "text/plain": [
       "[]"
      ]
     },
     "execution_count": 89,
     "metadata": {},
     "output_type": "execute_result"
    }
   ],
   "source": [
    "a"
   ]
  },
  {
   "cell_type": "code",
   "execution_count": 90,
   "id": "feb2cc50",
   "metadata": {},
   "outputs": [
    {
     "data": {
      "text/plain": [
       "()"
      ]
     },
     "execution_count": 90,
     "metadata": {},
     "output_type": "execute_result"
    }
   ],
   "source": [
    "b"
   ]
  },
  {
   "cell_type": "code",
   "execution_count": 91,
   "id": "9ff8c37b",
   "metadata": {},
   "outputs": [
    {
     "data": {
      "text/plain": [
       "(1, 2, 3, 4, 5, 8)"
      ]
     },
     "execution_count": 91,
     "metadata": {},
     "output_type": "execute_result"
    }
   ],
   "source": [
    "x=(1,2,3,4,5,8)\n",
    "x[:]"
   ]
  },
  {
   "cell_type": "code",
   "execution_count": 92,
   "id": "9aea0b0f",
   "metadata": {},
   "outputs": [
    {
     "data": {
      "text/plain": [
       "1"
      ]
     },
     "execution_count": 92,
     "metadata": {},
     "output_type": "execute_result"
    }
   ],
   "source": [
    "x[0]"
   ]
  },
  {
   "cell_type": "code",
   "execution_count": 93,
   "id": "3b78d677",
   "metadata": {},
   "outputs": [
    {
     "data": {
      "text/plain": [
       "2"
      ]
     },
     "execution_count": 93,
     "metadata": {},
     "output_type": "execute_result"
    }
   ],
   "source": [
    "x[1]"
   ]
  },
  {
   "cell_type": "code",
   "execution_count": 94,
   "id": "4b5eb092",
   "metadata": {},
   "outputs": [
    {
     "data": {
      "text/plain": [
       "(2, 3, 4)"
      ]
     },
     "execution_count": 94,
     "metadata": {},
     "output_type": "execute_result"
    }
   ],
   "source": [
    "x[1:4]"
   ]
  },
  {
   "cell_type": "code",
   "execution_count": 95,
   "id": "3140aa17",
   "metadata": {},
   "outputs": [
    {
     "ename": "AttributeError",
     "evalue": "'tuple' object has no attribute 'add'",
     "output_type": "error",
     "traceback": [
      "\u001b[1;31m---------------------------------------------------------------------------\u001b[0m",
      "\u001b[1;31mAttributeError\u001b[0m                            Traceback (most recent call last)",
      "Cell \u001b[1;32mIn[95], line 1\u001b[0m\n\u001b[1;32m----> 1\u001b[0m \u001b[43mx\u001b[49m\u001b[38;5;241;43m.\u001b[39;49m\u001b[43madd\u001b[49m(\u001b[38;5;241m8\u001b[39m)\n",
      "\u001b[1;31mAttributeError\u001b[0m: 'tuple' object has no attribute 'add'"
     ]
    }
   ],
   "source": [
    "x.add(8)"
   ]
  },
  {
   "cell_type": "code",
   "execution_count": 96,
   "id": "bf85c33f",
   "metadata": {},
   "outputs": [
    {
     "ename": "AttributeError",
     "evalue": "'tuple' object has no attribute 'append'",
     "output_type": "error",
     "traceback": [
      "\u001b[1;31m---------------------------------------------------------------------------\u001b[0m",
      "\u001b[1;31mAttributeError\u001b[0m                            Traceback (most recent call last)",
      "Cell \u001b[1;32mIn[96], line 1\u001b[0m\n\u001b[1;32m----> 1\u001b[0m \u001b[43mx\u001b[49m\u001b[38;5;241;43m.\u001b[39;49m\u001b[43mappend\u001b[49m(\u001b[38;5;241m8\u001b[39m)\n",
      "\u001b[1;31mAttributeError\u001b[0m: 'tuple' object has no attribute 'append'"
     ]
    }
   ],
   "source": [
    "x.append(8)"
   ]
  },
  {
   "cell_type": "code",
   "execution_count": 97,
   "id": "30b5fb7c",
   "metadata": {},
   "outputs": [
    {
     "ename": "AttributeError",
     "evalue": "'tuple' object has no attribute 'remove'",
     "output_type": "error",
     "traceback": [
      "\u001b[1;31m---------------------------------------------------------------------------\u001b[0m",
      "\u001b[1;31mAttributeError\u001b[0m                            Traceback (most recent call last)",
      "Cell \u001b[1;32mIn[97], line 1\u001b[0m\n\u001b[1;32m----> 1\u001b[0m \u001b[43mx\u001b[49m\u001b[38;5;241;43m.\u001b[39;49m\u001b[43mremove\u001b[49m(\u001b[38;5;241m8\u001b[39m)\n",
      "\u001b[1;31mAttributeError\u001b[0m: 'tuple' object has no attribute 'remove'"
     ]
    }
   ],
   "source": [
    "x.remove(8)"
   ]
  },
  {
   "cell_type": "code",
   "execution_count": 98,
   "id": "55a68acd",
   "metadata": {},
   "outputs": [
    {
     "data": {
      "text/plain": [
       "1"
      ]
     },
     "execution_count": 98,
     "metadata": {},
     "output_type": "execute_result"
    }
   ],
   "source": [
    "x[0]"
   ]
  },
  {
   "cell_type": "code",
   "execution_count": 99,
   "id": "fe0b06e0",
   "metadata": {},
   "outputs": [
    {
     "ename": "TypeError",
     "evalue": "'tuple' object does not support item assignment",
     "output_type": "error",
     "traceback": [
      "\u001b[1;31m---------------------------------------------------------------------------\u001b[0m",
      "\u001b[1;31mTypeError\u001b[0m                                 Traceback (most recent call last)",
      "Cell \u001b[1;32mIn[99], line 1\u001b[0m\n\u001b[1;32m----> 1\u001b[0m x[\u001b[38;5;241m0\u001b[39m]\u001b[38;5;241m=\u001b[39m\u001b[38;5;241m5\u001b[39m\n",
      "\u001b[1;31mTypeError\u001b[0m: 'tuple' object does not support item assignment"
     ]
    }
   ],
   "source": [
    "x[0]=5"
   ]
  },
  {
   "cell_type": "code",
   "execution_count": 100,
   "id": "d939d188",
   "metadata": {},
   "outputs": [
    {
     "data": {
      "text/plain": [
       "[4, 5, 8]"
      ]
     },
     "execution_count": 100,
     "metadata": {},
     "output_type": "execute_result"
    }
   ],
   "source": [
    "p=[4,5,8]\n",
    "p"
   ]
  },
  {
   "cell_type": "code",
   "execution_count": 101,
   "id": "589e6726",
   "metadata": {},
   "outputs": [
    {
     "data": {
      "text/plain": [
       "5"
      ]
     },
     "execution_count": 101,
     "metadata": {},
     "output_type": "execute_result"
    }
   ],
   "source": [
    "p[1]"
   ]
  },
  {
   "cell_type": "code",
   "execution_count": 102,
   "id": "2e37b259",
   "metadata": {},
   "outputs": [],
   "source": [
    "p[1]=9"
   ]
  },
  {
   "cell_type": "code",
   "execution_count": 103,
   "id": "9d276ee4",
   "metadata": {},
   "outputs": [
    {
     "data": {
      "text/plain": [
       "[4, 9, 8]"
      ]
     },
     "execution_count": 103,
     "metadata": {},
     "output_type": "execute_result"
    }
   ],
   "source": [
    "p"
   ]
  },
  {
   "cell_type": "code",
   "execution_count": 106,
   "id": "2425352a",
   "metadata": {},
   "outputs": [],
   "source": [
    "p.remove(8)"
   ]
  },
  {
   "cell_type": "code",
   "execution_count": 107,
   "id": "d9838049",
   "metadata": {},
   "outputs": [
    {
     "data": {
      "text/plain": [
       "[4, 9]"
      ]
     },
     "execution_count": 107,
     "metadata": {},
     "output_type": "execute_result"
    }
   ],
   "source": [
    "p"
   ]
  },
  {
   "cell_type": "code",
   "execution_count": 108,
   "id": "a5190697",
   "metadata": {},
   "outputs": [
    {
     "data": {
      "text/plain": [
       "(1, 2, 3, 4, 5, 8)"
      ]
     },
     "execution_count": 108,
     "metadata": {},
     "output_type": "execute_result"
    }
   ],
   "source": [
    "x"
   ]
  },
  {
   "cell_type": "code",
   "execution_count": 109,
   "id": "696340a5",
   "metadata": {},
   "outputs": [
    {
     "ename": "AttributeError",
     "evalue": "'tuple' object has no attribute 'insert'",
     "output_type": "error",
     "traceback": [
      "\u001b[1;31m---------------------------------------------------------------------------\u001b[0m",
      "\u001b[1;31mAttributeError\u001b[0m                            Traceback (most recent call last)",
      "Cell \u001b[1;32mIn[109], line 1\u001b[0m\n\u001b[1;32m----> 1\u001b[0m \u001b[43mx\u001b[49m\u001b[38;5;241;43m.\u001b[39;49m\u001b[43minsert\u001b[49m(\u001b[38;5;241m2\u001b[39m,\u001b[38;5;241m9\u001b[39m)\n",
      "\u001b[1;31mAttributeError\u001b[0m: 'tuple' object has no attribute 'insert'"
     ]
    }
   ],
   "source": [
    "x.insert(2,9)"
   ]
  },
  {
   "cell_type": "code",
   "execution_count": 110,
   "id": "b50ad4f0",
   "metadata": {},
   "outputs": [
    {
     "data": {
      "text/plain": [
       "[4, 9]"
      ]
     },
     "execution_count": 110,
     "metadata": {},
     "output_type": "execute_result"
    }
   ],
   "source": [
    "p"
   ]
  },
  {
   "cell_type": "code",
   "execution_count": 111,
   "id": "29df16bf",
   "metadata": {},
   "outputs": [],
   "source": [
    "p.insert(2,20)"
   ]
  },
  {
   "cell_type": "code",
   "execution_count": 112,
   "id": "e7f7710e",
   "metadata": {},
   "outputs": [
    {
     "data": {
      "text/plain": [
       "[4, 9, 20]"
      ]
     },
     "execution_count": 112,
     "metadata": {},
     "output_type": "execute_result"
    }
   ],
   "source": [
    "p"
   ]
  },
  {
   "cell_type": "code",
   "execution_count": 113,
   "id": "ce4c8b16",
   "metadata": {},
   "outputs": [
    {
     "data": {
      "text/plain": [
       "(1, 2, 3, 4, 5, 8)"
      ]
     },
     "execution_count": 113,
     "metadata": {},
     "output_type": "execute_result"
    }
   ],
   "source": [
    "x"
   ]
  },
  {
   "cell_type": "code",
   "execution_count": 114,
   "id": "5b238004",
   "metadata": {},
   "outputs": [
    {
     "ename": "AttributeError",
     "evalue": "'tuple' object has no attribute 'pop'",
     "output_type": "error",
     "traceback": [
      "\u001b[1;31m---------------------------------------------------------------------------\u001b[0m",
      "\u001b[1;31mAttributeError\u001b[0m                            Traceback (most recent call last)",
      "Cell \u001b[1;32mIn[114], line 1\u001b[0m\n\u001b[1;32m----> 1\u001b[0m \u001b[43mx\u001b[49m\u001b[38;5;241;43m.\u001b[39;49m\u001b[43mpop\u001b[49m()\n",
      "\u001b[1;31mAttributeError\u001b[0m: 'tuple' object has no attribute 'pop'"
     ]
    }
   ],
   "source": [
    "x.pop()"
   ]
  },
  {
   "cell_type": "code",
   "execution_count": 115,
   "id": "27c884b8",
   "metadata": {},
   "outputs": [
    {
     "data": {
      "text/plain": [
       "tuple"
      ]
     },
     "execution_count": 115,
     "metadata": {},
     "output_type": "execute_result"
    }
   ],
   "source": [
    "type(x)"
   ]
  },
  {
   "cell_type": "code",
   "execution_count": 116,
   "id": "9d4196b2",
   "metadata": {},
   "outputs": [
    {
     "ename": "AttributeError",
     "evalue": "'tuple' object has no attribute 'copy'",
     "output_type": "error",
     "traceback": [
      "\u001b[1;31m---------------------------------------------------------------------------\u001b[0m",
      "\u001b[1;31mAttributeError\u001b[0m                            Traceback (most recent call last)",
      "Cell \u001b[1;32mIn[116], line 1\u001b[0m\n\u001b[1;32m----> 1\u001b[0m a\u001b[38;5;241m=\u001b[39m\u001b[43mx\u001b[49m\u001b[38;5;241;43m.\u001b[39;49m\u001b[43mcopy\u001b[49m()\n",
      "\u001b[1;31mAttributeError\u001b[0m: 'tuple' object has no attribute 'copy'"
     ]
    }
   ],
   "source": [
    "a=x.copy()"
   ]
  },
  {
   "cell_type": "code",
   "execution_count": 117,
   "id": "fc1e9deb",
   "metadata": {},
   "outputs": [],
   "source": [
    "a=x"
   ]
  },
  {
   "cell_type": "code",
   "execution_count": 118,
   "id": "c9548f37",
   "metadata": {},
   "outputs": [
    {
     "data": {
      "text/plain": [
       "(1, 2, 3, 4, 5, 8)"
      ]
     },
     "execution_count": 118,
     "metadata": {},
     "output_type": "execute_result"
    }
   ],
   "source": [
    "a"
   ]
  },
  {
   "cell_type": "code",
   "execution_count": 119,
   "id": "2c66c9a9",
   "metadata": {},
   "outputs": [
    {
     "data": {
      "text/plain": [
       "tuple"
      ]
     },
     "execution_count": 119,
     "metadata": {},
     "output_type": "execute_result"
    }
   ],
   "source": [
    "type(a)"
   ]
  },
  {
   "cell_type": "code",
   "execution_count": 121,
   "id": "09da567f",
   "metadata": {},
   "outputs": [
    {
     "data": {
      "text/plain": [
       "(1, 2, 3, 4, 5, 8)"
      ]
     },
     "execution_count": 121,
     "metadata": {},
     "output_type": "execute_result"
    }
   ],
   "source": [
    "tuple(list(a))"
   ]
  },
  {
   "cell_type": "code",
   "execution_count": 122,
   "id": "c3d7db02",
   "metadata": {},
   "outputs": [],
   "source": [
    "a=98.7"
   ]
  },
  {
   "cell_type": "code",
   "execution_count": 123,
   "id": "20db2426",
   "metadata": {},
   "outputs": [
    {
     "data": {
      "text/plain": [
       "float"
      ]
     },
     "execution_count": 123,
     "metadata": {},
     "output_type": "execute_result"
    }
   ],
   "source": [
    "type(a)"
   ]
  },
  {
   "cell_type": "code",
   "execution_count": 126,
   "id": "45984e3e",
   "metadata": {},
   "outputs": [],
   "source": [
    "b=int(a)"
   ]
  },
  {
   "cell_type": "code",
   "execution_count": 127,
   "id": "7dbd8208",
   "metadata": {},
   "outputs": [
    {
     "data": {
      "text/plain": [
       "98.0"
      ]
     },
     "execution_count": 127,
     "metadata": {},
     "output_type": "execute_result"
    }
   ],
   "source": [
    "float(b)"
   ]
  },
  {
   "cell_type": "code",
   "execution_count": 128,
   "id": "aed9d443",
   "metadata": {},
   "outputs": [
    {
     "data": {
      "text/plain": [
       "'98.7'"
      ]
     },
     "execution_count": 128,
     "metadata": {},
     "output_type": "execute_result"
    }
   ],
   "source": [
    "str(a)"
   ]
  },
  {
   "cell_type": "code",
   "execution_count": 129,
   "id": "cb9fb4dc",
   "metadata": {},
   "outputs": [],
   "source": [
    "a=(2,5,8)\n",
    "b=(4,9,28)"
   ]
  },
  {
   "cell_type": "code",
   "execution_count": 137,
   "id": "ba4fc0b7",
   "metadata": {},
   "outputs": [],
   "source": [
    "v=list(a)"
   ]
  },
  {
   "cell_type": "code",
   "execution_count": 139,
   "id": "48fefb85",
   "metadata": {},
   "outputs": [],
   "source": [
    "v.append(76)"
   ]
  },
  {
   "cell_type": "code",
   "execution_count": 140,
   "id": "d180ff34",
   "metadata": {},
   "outputs": [
    {
     "data": {
      "text/plain": [
       "[2, 5, 8, 76]"
      ]
     },
     "execution_count": 140,
     "metadata": {},
     "output_type": "execute_result"
    }
   ],
   "source": [
    "v"
   ]
  },
  {
   "cell_type": "code",
   "execution_count": 141,
   "id": "dc101e04",
   "metadata": {},
   "outputs": [],
   "source": [
    "a=tuple(v)"
   ]
  },
  {
   "cell_type": "code",
   "execution_count": 142,
   "id": "0c1688bb",
   "metadata": {},
   "outputs": [
    {
     "data": {
      "text/plain": [
       "(2, 5, 8, 76)"
      ]
     },
     "execution_count": 142,
     "metadata": {},
     "output_type": "execute_result"
    }
   ],
   "source": [
    "a"
   ]
  },
  {
   "cell_type": "code",
   "execution_count": 144,
   "id": "c0aadba5",
   "metadata": {},
   "outputs": [],
   "source": [
    "c=a+b"
   ]
  },
  {
   "cell_type": "code",
   "execution_count": 145,
   "id": "3536bc5e",
   "metadata": {},
   "outputs": [
    {
     "data": {
      "text/plain": [
       "(2, 5, 8, 76, 4, 9, 28)"
      ]
     },
     "execution_count": 145,
     "metadata": {},
     "output_type": "execute_result"
    }
   ],
   "source": [
    "c"
   ]
  },
  {
   "cell_type": "code",
   "execution_count": 146,
   "id": "063ca6f2",
   "metadata": {},
   "outputs": [
    {
     "ename": "AttributeError",
     "evalue": "'tuple' object has no attribute 'extend'",
     "output_type": "error",
     "traceback": [
      "\u001b[1;31m---------------------------------------------------------------------------\u001b[0m",
      "\u001b[1;31mAttributeError\u001b[0m                            Traceback (most recent call last)",
      "Cell \u001b[1;32mIn[146], line 1\u001b[0m\n\u001b[1;32m----> 1\u001b[0m \u001b[43ma\u001b[49m\u001b[38;5;241;43m.\u001b[39;49m\u001b[43mextend\u001b[49m((\u001b[38;5;241m2827\u001b[39m))\n",
      "\u001b[1;31mAttributeError\u001b[0m: 'tuple' object has no attribute 'extend'"
     ]
    }
   ],
   "source": [
    "a.extend((2827))"
   ]
  },
  {
   "cell_type": "code",
   "execution_count": 147,
   "id": "425de3a8",
   "metadata": {},
   "outputs": [
    {
     "ename": "AttributeError",
     "evalue": "'tuple' object has no attribute 'update'",
     "output_type": "error",
     "traceback": [
      "\u001b[1;31m---------------------------------------------------------------------------\u001b[0m",
      "\u001b[1;31mAttributeError\u001b[0m                            Traceback (most recent call last)",
      "Cell \u001b[1;32mIn[147], line 1\u001b[0m\n\u001b[1;32m----> 1\u001b[0m \u001b[43ma\u001b[49m\u001b[38;5;241;43m.\u001b[39;49m\u001b[43mupdate\u001b[49m((\u001b[38;5;241m23\u001b[39m,\u001b[38;5;241m34\u001b[39m,\u001b[38;5;241m45\u001b[39m))\n",
      "\u001b[1;31mAttributeError\u001b[0m: 'tuple' object has no attribute 'update'"
     ]
    }
   ],
   "source": [
    "a.update((23,34,45))"
   ]
  },
  {
   "cell_type": "code",
   "execution_count": 148,
   "id": "3b30c55e",
   "metadata": {},
   "outputs": [
    {
     "data": {
      "text/plain": [
       "[2, 5, 8, 76]"
      ]
     },
     "execution_count": 148,
     "metadata": {},
     "output_type": "execute_result"
    }
   ],
   "source": [
    "v"
   ]
  },
  {
   "cell_type": "code",
   "execution_count": 150,
   "id": "b2c56cbc",
   "metadata": {},
   "outputs": [],
   "source": [
    "o=tuple(v)"
   ]
  },
  {
   "cell_type": "code",
   "execution_count": 151,
   "id": "14ef0022",
   "metadata": {},
   "outputs": [
    {
     "ename": "TypeError",
     "evalue": "'tuple' object does not support item assignment",
     "output_type": "error",
     "traceback": [
      "\u001b[1;31m---------------------------------------------------------------------------\u001b[0m",
      "\u001b[1;31mTypeError\u001b[0m                                 Traceback (most recent call last)",
      "Cell \u001b[1;32mIn[151], line 1\u001b[0m\n\u001b[1;32m----> 1\u001b[0m o[\u001b[38;5;241m1\u001b[39m]\u001b[38;5;241m=\u001b[39m\u001b[38;5;241m9\u001b[39m\n",
      "\u001b[1;31mTypeError\u001b[0m: 'tuple' object does not support item assignment"
     ]
    }
   ],
   "source": [
    "o[1]=9"
   ]
  },
  {
   "cell_type": "markdown",
   "id": "56df32cb",
   "metadata": {},
   "source": [
    "#Sets"
   ]
  },
  {
   "cell_type": "code",
   "execution_count": 153,
   "id": "10aa72e8",
   "metadata": {},
   "outputs": [],
   "source": [
    "a={}"
   ]
  },
  {
   "cell_type": "code",
   "execution_count": 154,
   "id": "ac93045e",
   "metadata": {},
   "outputs": [
    {
     "data": {
      "text/plain": [
       "dict"
      ]
     },
     "execution_count": 154,
     "metadata": {},
     "output_type": "execute_result"
    }
   ],
   "source": [
    "type(a)"
   ]
  },
  {
   "cell_type": "code",
   "execution_count": 155,
   "id": "98064c9f",
   "metadata": {},
   "outputs": [],
   "source": [
    "a=set()"
   ]
  },
  {
   "cell_type": "code",
   "execution_count": 156,
   "id": "1abb0f6f",
   "metadata": {},
   "outputs": [
    {
     "data": {
      "text/plain": [
       "set()"
      ]
     },
     "execution_count": 156,
     "metadata": {},
     "output_type": "execute_result"
    }
   ],
   "source": [
    "a"
   ]
  },
  {
   "cell_type": "code",
   "execution_count": 157,
   "id": "610885a2",
   "metadata": {},
   "outputs": [],
   "source": [
    "a=list()"
   ]
  },
  {
   "cell_type": "code",
   "execution_count": 158,
   "id": "86efa43b",
   "metadata": {},
   "outputs": [
    {
     "data": {
      "text/plain": [
       "[]"
      ]
     },
     "execution_count": 158,
     "metadata": {},
     "output_type": "execute_result"
    }
   ],
   "source": [
    "a"
   ]
  },
  {
   "cell_type": "code",
   "execution_count": 161,
   "id": "9b2704c8",
   "metadata": {},
   "outputs": [],
   "source": [
    "b=tuple()"
   ]
  },
  {
   "cell_type": "code",
   "execution_count": 162,
   "id": "497ad51e",
   "metadata": {},
   "outputs": [
    {
     "data": {
      "text/plain": [
       "()"
      ]
     },
     "execution_count": 162,
     "metadata": {},
     "output_type": "execute_result"
    }
   ],
   "source": [
    "b"
   ]
  },
  {
   "cell_type": "code",
   "execution_count": 163,
   "id": "955fefb0",
   "metadata": {},
   "outputs": [],
   "source": [
    "d=dict()"
   ]
  },
  {
   "cell_type": "code",
   "execution_count": 164,
   "id": "baf40c6f",
   "metadata": {},
   "outputs": [
    {
     "data": {
      "text/plain": [
       "{}"
      ]
     },
     "execution_count": 164,
     "metadata": {},
     "output_type": "execute_result"
    }
   ],
   "source": [
    "d"
   ]
  },
  {
   "cell_type": "code",
   "execution_count": 165,
   "id": "ae5c0556",
   "metadata": {},
   "outputs": [],
   "source": [
    "p={1,2,3,4}"
   ]
  },
  {
   "cell_type": "code",
   "execution_count": 166,
   "id": "e2854e98",
   "metadata": {},
   "outputs": [
    {
     "data": {
      "text/plain": [
       "set"
      ]
     },
     "execution_count": 166,
     "metadata": {},
     "output_type": "execute_result"
    }
   ],
   "source": [
    "type(p)"
   ]
  },
  {
   "cell_type": "code",
   "execution_count": 172,
   "id": "bed902bd",
   "metadata": {},
   "outputs": [],
   "source": [
    "n={2,9,9,282,3,5,7,8,9,9,5,7}"
   ]
  },
  {
   "cell_type": "code",
   "execution_count": 173,
   "id": "cfe6b8bb",
   "metadata": {},
   "outputs": [
    {
     "data": {
      "text/plain": [
       "7"
      ]
     },
     "execution_count": 173,
     "metadata": {},
     "output_type": "execute_result"
    }
   ],
   "source": [
    "len(n)"
   ]
  },
  {
   "cell_type": "code",
   "execution_count": 174,
   "id": "954ed638",
   "metadata": {},
   "outputs": [
    {
     "data": {
      "text/plain": [
       "{2, 3, 5, 7, 8, 9, 282}"
      ]
     },
     "execution_count": 174,
     "metadata": {},
     "output_type": "execute_result"
    }
   ],
   "source": [
    "n"
   ]
  },
  {
   "cell_type": "code",
   "execution_count": 175,
   "id": "eb3ad843",
   "metadata": {},
   "outputs": [
    {
     "data": {
      "text/plain": [
       "{2, 3, 5, 7, 8, 9, 282}"
      ]
     },
     "execution_count": 175,
     "metadata": {},
     "output_type": "execute_result"
    }
   ],
   "source": [
    "n"
   ]
  },
  {
   "cell_type": "code",
   "execution_count": 176,
   "id": "feae2484",
   "metadata": {},
   "outputs": [],
   "source": [
    "a=[2,3,3,4,5]"
   ]
  },
  {
   "cell_type": "code",
   "execution_count": 177,
   "id": "1c45870d",
   "metadata": {},
   "outputs": [
    {
     "data": {
      "text/plain": [
       "[2, 3, 3, 4, 5]"
      ]
     },
     "execution_count": 177,
     "metadata": {},
     "output_type": "execute_result"
    }
   ],
   "source": [
    "a"
   ]
  },
  {
   "cell_type": "code",
   "execution_count": 178,
   "id": "6193c986",
   "metadata": {},
   "outputs": [],
   "source": [
    "b=(2,5,7,8)"
   ]
  },
  {
   "cell_type": "code",
   "execution_count": 179,
   "id": "cf22d2bc",
   "metadata": {},
   "outputs": [
    {
     "data": {
      "text/plain": [
       "(2, 5, 7, 8)"
      ]
     },
     "execution_count": 179,
     "metadata": {},
     "output_type": "execute_result"
    }
   ],
   "source": [
    "b"
   ]
  },
  {
   "cell_type": "code",
   "execution_count": 181,
   "id": "f4159275",
   "metadata": {},
   "outputs": [
    {
     "data": {
      "text/plain": [
       "2"
      ]
     },
     "execution_count": 181,
     "metadata": {},
     "output_type": "execute_result"
    }
   ],
   "source": [
    "b[0]"
   ]
  },
  {
   "cell_type": "code",
   "execution_count": 182,
   "id": "258e6d3a",
   "metadata": {},
   "outputs": [
    {
     "data": {
      "text/plain": [
       "2"
      ]
     },
     "execution_count": 182,
     "metadata": {},
     "output_type": "execute_result"
    }
   ],
   "source": [
    "a[0]"
   ]
  },
  {
   "cell_type": "code",
   "execution_count": 185,
   "id": "04167857",
   "metadata": {},
   "outputs": [
    {
     "ename": "TypeError",
     "evalue": "'set' object is not subscriptable",
     "output_type": "error",
     "traceback": [
      "\u001b[1;31m---------------------------------------------------------------------------\u001b[0m",
      "\u001b[1;31mTypeError\u001b[0m                                 Traceback (most recent call last)",
      "Cell \u001b[1;32mIn[185], line 1\u001b[0m\n\u001b[1;32m----> 1\u001b[0m \u001b[43mn\u001b[49m\u001b[43m[\u001b[49m\u001b[38;5;241;43m0\u001b[39;49m\u001b[43m]\u001b[49m\n",
      "\u001b[1;31mTypeError\u001b[0m: 'set' object is not subscriptable"
     ]
    }
   ],
   "source": [
    "n[0]"
   ]
  },
  {
   "cell_type": "code",
   "execution_count": 187,
   "id": "eef3cfdb",
   "metadata": {},
   "outputs": [
    {
     "data": {
      "text/plain": [
       "{2, 3, 5, 7, 8, 9, 282}"
      ]
     },
     "execution_count": 187,
     "metadata": {},
     "output_type": "execute_result"
    }
   ],
   "source": [
    "set(list(n))"
   ]
  },
  {
   "cell_type": "code",
   "execution_count": 188,
   "id": "704b768f",
   "metadata": {},
   "outputs": [
    {
     "data": {
      "text/plain": [
       "{2, 3, 5, 7, 8, 9, 282}"
      ]
     },
     "execution_count": 188,
     "metadata": {},
     "output_type": "execute_result"
    }
   ],
   "source": [
    "n"
   ]
  },
  {
   "cell_type": "code",
   "execution_count": 189,
   "id": "211e7d97",
   "metadata": {},
   "outputs": [
    {
     "data": {
      "text/plain": [
       "set"
      ]
     },
     "execution_count": 189,
     "metadata": {},
     "output_type": "execute_result"
    }
   ],
   "source": [
    "type(n)"
   ]
  },
  {
   "cell_type": "code",
   "execution_count": 190,
   "id": "df142333",
   "metadata": {},
   "outputs": [],
   "source": [
    "n.add(87)"
   ]
  },
  {
   "cell_type": "code",
   "execution_count": 191,
   "id": "17a345d5",
   "metadata": {},
   "outputs": [
    {
     "data": {
      "text/plain": [
       "{2, 3, 5, 7, 8, 9, 87, 282}"
      ]
     },
     "execution_count": 191,
     "metadata": {},
     "output_type": "execute_result"
    }
   ],
   "source": [
    "n"
   ]
  },
  {
   "cell_type": "code",
   "execution_count": 192,
   "id": "8f5a6e55",
   "metadata": {},
   "outputs": [],
   "source": [
    "n.remove(8)"
   ]
  },
  {
   "cell_type": "code",
   "execution_count": 193,
   "id": "8fed9c58",
   "metadata": {},
   "outputs": [
    {
     "data": {
      "text/plain": [
       "{2, 3, 5, 7, 9, 87, 282}"
      ]
     },
     "execution_count": 193,
     "metadata": {},
     "output_type": "execute_result"
    }
   ],
   "source": [
    "n"
   ]
  },
  {
   "cell_type": "code",
   "execution_count": 194,
   "id": "b9ae2884",
   "metadata": {},
   "outputs": [
    {
     "ename": "AttributeError",
     "evalue": "'set' object has no attribute 'insert'",
     "output_type": "error",
     "traceback": [
      "\u001b[1;31m---------------------------------------------------------------------------\u001b[0m",
      "\u001b[1;31mAttributeError\u001b[0m                            Traceback (most recent call last)",
      "Cell \u001b[1;32mIn[194], line 1\u001b[0m\n\u001b[1;32m----> 1\u001b[0m \u001b[43mn\u001b[49m\u001b[38;5;241;43m.\u001b[39;49m\u001b[43minsert\u001b[49m(\u001b[38;5;241m2\u001b[39m,\u001b[38;5;241m444\u001b[39m)\n",
      "\u001b[1;31mAttributeError\u001b[0m: 'set' object has no attribute 'insert'"
     ]
    }
   ],
   "source": [
    "n.insert(2,444)"
   ]
  },
  {
   "cell_type": "code",
   "execution_count": 195,
   "id": "0f8737d5",
   "metadata": {},
   "outputs": [
    {
     "data": {
      "text/plain": [
       "2"
      ]
     },
     "execution_count": 195,
     "metadata": {},
     "output_type": "execute_result"
    }
   ],
   "source": [
    "n.pop()"
   ]
  },
  {
   "cell_type": "code",
   "execution_count": 196,
   "id": "b7a27f1f",
   "metadata": {},
   "outputs": [
    {
     "data": {
      "text/plain": [
       "{3, 5, 7, 9, 87, 282}"
      ]
     },
     "execution_count": 196,
     "metadata": {},
     "output_type": "execute_result"
    }
   ],
   "source": [
    "n"
   ]
  },
  {
   "cell_type": "code",
   "execution_count": 198,
   "id": "46f8465c",
   "metadata": {},
   "outputs": [
    {
     "data": {
      "text/plain": [
       "[2, 3, 3, 4, 5]"
      ]
     },
     "execution_count": 198,
     "metadata": {},
     "output_type": "execute_result"
    }
   ],
   "source": [
    "a"
   ]
  },
  {
   "cell_type": "code",
   "execution_count": 199,
   "id": "dabebc0a",
   "metadata": {},
   "outputs": [
    {
     "data": {
      "text/plain": [
       "(2, 5, 7, 8)"
      ]
     },
     "execution_count": 199,
     "metadata": {},
     "output_type": "execute_result"
    }
   ],
   "source": [
    "b"
   ]
  },
  {
   "cell_type": "code",
   "execution_count": null,
   "id": "e1cdb6f1",
   "metadata": {},
   "outputs": [],
   "source": [
    "a.update(b)"
   ]
  },
  {
   "cell_type": "code",
   "execution_count": 208,
   "id": "744592b7",
   "metadata": {},
   "outputs": [],
   "source": [
    "a={2,5,7,8,8,9}\n",
    "b={3,5,6,89,0}"
   ]
  },
  {
   "cell_type": "code",
   "execution_count": 209,
   "id": "2c6c02ae",
   "metadata": {},
   "outputs": [
    {
     "data": {
      "text/plain": [
       "{2, 5, 7, 8, 9}"
      ]
     },
     "execution_count": 209,
     "metadata": {},
     "output_type": "execute_result"
    }
   ],
   "source": [
    "a"
   ]
  },
  {
   "cell_type": "code",
   "execution_count": 210,
   "id": "2927d7a0",
   "metadata": {},
   "outputs": [
    {
     "data": {
      "text/plain": [
       "{0, 3, 5, 6, 89}"
      ]
     },
     "execution_count": 210,
     "metadata": {},
     "output_type": "execute_result"
    }
   ],
   "source": [
    "b"
   ]
  },
  {
   "cell_type": "code",
   "execution_count": 211,
   "id": "fb09b5f3",
   "metadata": {},
   "outputs": [],
   "source": [
    "c=a.update(b)"
   ]
  },
  {
   "cell_type": "code",
   "execution_count": 216,
   "id": "92d8c3e2",
   "metadata": {},
   "outputs": [],
   "source": [
    "c=a"
   ]
  },
  {
   "cell_type": "code",
   "execution_count": 217,
   "id": "2d42d56b",
   "metadata": {},
   "outputs": [
    {
     "data": {
      "text/plain": [
       "{0, 2, 3, 5, 6, 7, 8, 9, 89}"
      ]
     },
     "execution_count": 217,
     "metadata": {},
     "output_type": "execute_result"
    }
   ],
   "source": [
    "c"
   ]
  },
  {
   "cell_type": "code",
   "execution_count": 214,
   "id": "0cde09d2",
   "metadata": {},
   "outputs": [
    {
     "data": {
      "text/plain": [
       "{0, 2, 3, 5, 6, 7, 8, 9, 89}"
      ]
     },
     "execution_count": 214,
     "metadata": {},
     "output_type": "execute_result"
    }
   ],
   "source": [
    "a"
   ]
  },
  {
   "cell_type": "code",
   "execution_count": 215,
   "id": "6b5eb07c",
   "metadata": {},
   "outputs": [
    {
     "ename": "AttributeError",
     "evalue": "'set' object has no attribute 'append'",
     "output_type": "error",
     "traceback": [
      "\u001b[1;31m---------------------------------------------------------------------------\u001b[0m",
      "\u001b[1;31mAttributeError\u001b[0m                            Traceback (most recent call last)",
      "Cell \u001b[1;32mIn[215], line 1\u001b[0m\n\u001b[1;32m----> 1\u001b[0m \u001b[43ma\u001b[49m\u001b[38;5;241;43m.\u001b[39;49m\u001b[43mappend\u001b[49m(a)\n",
      "\u001b[1;31mAttributeError\u001b[0m: 'set' object has no attribute 'append'"
     ]
    }
   ],
   "source": [
    "a.append(a)"
   ]
  },
  {
   "cell_type": "code",
   "execution_count": 230,
   "id": "af7c5074",
   "metadata": {},
   "outputs": [
    {
     "data": {
      "text/plain": [
       "{4, 5.5, 8, 'mahendra'}"
      ]
     },
     "execution_count": 230,
     "metadata": {},
     "output_type": "execute_result"
    }
   ],
   "source": [
    "a"
   ]
  },
  {
   "cell_type": "code",
   "execution_count": 231,
   "id": "be635595",
   "metadata": {},
   "outputs": [
    {
     "data": {
      "text/plain": [
       "{0, 3, 5, 6, 89}"
      ]
     },
     "execution_count": 231,
     "metadata": {},
     "output_type": "execute_result"
    }
   ],
   "source": [
    "b"
   ]
  },
  {
   "cell_type": "code",
   "execution_count": 226,
   "id": "1f8ebbc8",
   "metadata": {},
   "outputs": [],
   "source": [
    "a={4,5.5,'mahendra',8, 'mahendra'}"
   ]
  },
  {
   "cell_type": "code",
   "execution_count": 227,
   "id": "b03475a9",
   "metadata": {},
   "outputs": [
    {
     "data": {
      "text/plain": [
       "{4, 5.5, 8, 'mahendra'}"
      ]
     },
     "execution_count": 227,
     "metadata": {},
     "output_type": "execute_result"
    }
   ],
   "source": [
    "a"
   ]
  },
  {
   "cell_type": "code",
   "execution_count": 222,
   "id": "091f7e51",
   "metadata": {},
   "outputs": [
    {
     "ename": "TypeError",
     "evalue": "'set' object is not subscriptable",
     "output_type": "error",
     "traceback": [
      "\u001b[1;31m---------------------------------------------------------------------------\u001b[0m",
      "\u001b[1;31mTypeError\u001b[0m                                 Traceback (most recent call last)",
      "Cell \u001b[1;32mIn[222], line 1\u001b[0m\n\u001b[1;32m----> 1\u001b[0m \u001b[43ma\u001b[49m\u001b[43m[\u001b[49m\u001b[38;5;241;43m0\u001b[39;49m\u001b[43m]\u001b[49m\n",
      "\u001b[1;31mTypeError\u001b[0m: 'set' object is not subscriptable"
     ]
    }
   ],
   "source": [
    "a[0]"
   ]
  },
  {
   "cell_type": "code",
   "execution_count": 223,
   "id": "f2e62845",
   "metadata": {},
   "outputs": [
    {
     "ename": "TypeError",
     "evalue": "'set' object is not subscriptable",
     "output_type": "error",
     "traceback": [
      "\u001b[1;31m---------------------------------------------------------------------------\u001b[0m",
      "\u001b[1;31mTypeError\u001b[0m                                 Traceback (most recent call last)",
      "Cell \u001b[1;32mIn[223], line 1\u001b[0m\n\u001b[1;32m----> 1\u001b[0m \u001b[43ma\u001b[49m\u001b[43m[\u001b[49m\u001b[43m:\u001b[49m\u001b[43m]\u001b[49m\n",
      "\u001b[1;31mTypeError\u001b[0m: 'set' object is not subscriptable"
     ]
    }
   ],
   "source": [
    "a[:]"
   ]
  },
  {
   "cell_type": "code",
   "execution_count": 228,
   "id": "d3737b6a",
   "metadata": {},
   "outputs": [
    {
     "data": {
      "text/plain": [
       "('mahendra', 8, 4, 5.5)"
      ]
     },
     "execution_count": 228,
     "metadata": {},
     "output_type": "execute_result"
    }
   ],
   "source": [
    "tuple(a)"
   ]
  },
  {
   "cell_type": "code",
   "execution_count": 229,
   "id": "2f315842",
   "metadata": {},
   "outputs": [
    {
     "data": {
      "text/plain": [
       "{4, 5.5, 8, 'mahendra'}"
      ]
     },
     "execution_count": 229,
     "metadata": {},
     "output_type": "execute_result"
    }
   ],
   "source": [
    "a"
   ]
  },
  {
   "cell_type": "code",
   "execution_count": 233,
   "id": "4896ee93",
   "metadata": {},
   "outputs": [
    {
     "data": {
      "text/plain": [
       "{5, 8}"
      ]
     },
     "execution_count": 233,
     "metadata": {},
     "output_type": "execute_result"
    }
   ],
   "source": [
    "a={2,5,6,8}\n",
    "b={4,5,9,8,8}\n",
    "a.intersection(b)"
   ]
  },
  {
   "cell_type": "code",
   "execution_count": 235,
   "id": "9f00402b",
   "metadata": {},
   "outputs": [
    {
     "data": {
      "text/plain": [
       "{2, 6}"
      ]
     },
     "execution_count": 235,
     "metadata": {},
     "output_type": "execute_result"
    }
   ],
   "source": [
    "a.difference(b) #a-b"
   ]
  },
  {
   "cell_type": "code",
   "execution_count": 236,
   "id": "07068413",
   "metadata": {},
   "outputs": [
    {
     "data": {
      "text/plain": [
       "{4, 9}"
      ]
     },
     "execution_count": 236,
     "metadata": {},
     "output_type": "execute_result"
    }
   ],
   "source": [
    "b.difference(a)"
   ]
  },
  {
   "cell_type": "code",
   "execution_count": 237,
   "id": "17947ca4",
   "metadata": {},
   "outputs": [
    {
     "data": {
      "text/plain": [
       "{2, 4, 5, 6, 8, 9}"
      ]
     },
     "execution_count": 237,
     "metadata": {},
     "output_type": "execute_result"
    }
   ],
   "source": [
    "a.union(b)"
   ]
  },
  {
   "cell_type": "code",
   "execution_count": 238,
   "id": "1ae32c7b",
   "metadata": {},
   "outputs": [
    {
     "ename": "AttributeError",
     "evalue": "'set' object has no attribute 'unionall'",
     "output_type": "error",
     "traceback": [
      "\u001b[1;31m---------------------------------------------------------------------------\u001b[0m",
      "\u001b[1;31mAttributeError\u001b[0m                            Traceback (most recent call last)",
      "Cell \u001b[1;32mIn[238], line 1\u001b[0m\n\u001b[1;32m----> 1\u001b[0m \u001b[43ma\u001b[49m\u001b[38;5;241;43m.\u001b[39;49m\u001b[43munionall\u001b[49m(b)\n",
      "\u001b[1;31mAttributeError\u001b[0m: 'set' object has no attribute 'unionall'"
     ]
    }
   ],
   "source": [
    "a.unionall(b)"
   ]
  },
  {
   "cell_type": "code",
   "execution_count": 239,
   "id": "fe363235",
   "metadata": {},
   "outputs": [],
   "source": [
    "d={}"
   ]
  },
  {
   "cell_type": "code",
   "execution_count": 240,
   "id": "efba36fa",
   "metadata": {},
   "outputs": [
    {
     "data": {
      "text/plain": [
       "dict"
      ]
     },
     "execution_count": 240,
     "metadata": {},
     "output_type": "execute_result"
    }
   ],
   "source": [
    "type(d)"
   ]
  },
  {
   "cell_type": "code",
   "execution_count": 245,
   "id": "2d6725b0",
   "metadata": {},
   "outputs": [],
   "source": [
    "d={'name': 'mahendra', 'age':98, 'location':'usa', 'name': 'something'}"
   ]
  },
  {
   "cell_type": "code",
   "execution_count": 246,
   "id": "96769ef1",
   "metadata": {},
   "outputs": [
    {
     "data": {
      "text/plain": [
       "{'name': 'something', 'age': 98, 'location': 'usa'}"
      ]
     },
     "execution_count": 246,
     "metadata": {},
     "output_type": "execute_result"
    }
   ],
   "source": [
    "d"
   ]
  },
  {
   "cell_type": "code",
   "execution_count": 248,
   "id": "29dffbf8",
   "metadata": {},
   "outputs": [
    {
     "data": {
      "text/plain": [
       "'something'"
      ]
     },
     "execution_count": 248,
     "metadata": {},
     "output_type": "execute_result"
    }
   ],
   "source": [
    "d['name']"
   ]
  },
  {
   "cell_type": "code",
   "execution_count": 249,
   "id": "4a040c6d",
   "metadata": {},
   "outputs": [
    {
     "data": {
      "text/plain": [
       "98"
      ]
     },
     "execution_count": 249,
     "metadata": {},
     "output_type": "execute_result"
    }
   ],
   "source": [
    "d['age']"
   ]
  },
  {
   "cell_type": "code",
   "execution_count": 250,
   "id": "0a93f36a",
   "metadata": {},
   "outputs": [
    {
     "data": {
      "text/plain": [
       "'usa'"
      ]
     },
     "execution_count": 250,
     "metadata": {},
     "output_type": "execute_result"
    }
   ],
   "source": [
    "d['location']"
   ]
  },
  {
   "cell_type": "code",
   "execution_count": 251,
   "id": "aa56a4d7",
   "metadata": {},
   "outputs": [
    {
     "data": {
      "text/plain": [
       "dict_keys(['name', 'age', 'location'])"
      ]
     },
     "execution_count": 251,
     "metadata": {},
     "output_type": "execute_result"
    }
   ],
   "source": [
    "d.keys()"
   ]
  },
  {
   "cell_type": "code",
   "execution_count": 252,
   "id": "30f24e53",
   "metadata": {},
   "outputs": [
    {
     "data": {
      "text/plain": [
       "dict_values(['something', 98, 'usa'])"
      ]
     },
     "execution_count": 252,
     "metadata": {},
     "output_type": "execute_result"
    }
   ],
   "source": [
    "d.values()"
   ]
  },
  {
   "cell_type": "code",
   "execution_count": 253,
   "id": "7e01efc7",
   "metadata": {},
   "outputs": [
    {
     "data": {
      "text/plain": [
       "dict_items([('name', 'something'), ('age', 98), ('location', 'usa')])"
      ]
     },
     "execution_count": 253,
     "metadata": {},
     "output_type": "execute_result"
    }
   ],
   "source": [
    "d.items()"
   ]
  },
  {
   "cell_type": "code",
   "execution_count": 254,
   "id": "797fa843",
   "metadata": {},
   "outputs": [],
   "source": [
    "d['location']='uk'"
   ]
  },
  {
   "cell_type": "code",
   "execution_count": 255,
   "id": "35ad7a14",
   "metadata": {},
   "outputs": [
    {
     "data": {
      "text/plain": [
       "{'name': 'something', 'age': 98, 'location': 'uk'}"
      ]
     },
     "execution_count": 255,
     "metadata": {},
     "output_type": "execute_result"
    }
   ],
   "source": [
    "d"
   ]
  },
  {
   "cell_type": "code",
   "execution_count": 256,
   "id": "a902a4a5",
   "metadata": {},
   "outputs": [],
   "source": [
    "d['mobile_num']='898272772'"
   ]
  },
  {
   "cell_type": "code",
   "execution_count": 257,
   "id": "2402f264",
   "metadata": {},
   "outputs": [
    {
     "data": {
      "text/plain": [
       "{'name': 'something', 'age': 98, 'location': 'uk', 'mobile_num': '898272772'}"
      ]
     },
     "execution_count": 257,
     "metadata": {},
     "output_type": "execute_result"
    }
   ],
   "source": [
    "d"
   ]
  },
  {
   "cell_type": "code",
   "execution_count": 261,
   "id": "36d2d483",
   "metadata": {},
   "outputs": [
    {
     "data": {
      "text/plain": [
       "'something'"
      ]
     },
     "execution_count": 261,
     "metadata": {},
     "output_type": "execute_result"
    }
   ],
   "source": [
    "d.pop('name')"
   ]
  },
  {
   "cell_type": "code",
   "execution_count": 262,
   "id": "abd2e4a1",
   "metadata": {},
   "outputs": [
    {
     "data": {
      "text/plain": [
       "{'age': 98, 'location': 'uk', 'mobile_num': '898272772'}"
      ]
     },
     "execution_count": 262,
     "metadata": {},
     "output_type": "execute_result"
    }
   ],
   "source": [
    "d"
   ]
  },
  {
   "cell_type": "code",
   "execution_count": 263,
   "id": "bd4be4d2",
   "metadata": {},
   "outputs": [
    {
     "ename": "KeyError",
     "evalue": "0",
     "output_type": "error",
     "traceback": [
      "\u001b[1;31m---------------------------------------------------------------------------\u001b[0m",
      "\u001b[1;31mKeyError\u001b[0m                                  Traceback (most recent call last)",
      "Cell \u001b[1;32mIn[263], line 1\u001b[0m\n\u001b[1;32m----> 1\u001b[0m \u001b[43md\u001b[49m\u001b[43m[\u001b[49m\u001b[38;5;241;43m0\u001b[39;49m\u001b[43m]\u001b[49m\n",
      "\u001b[1;31mKeyError\u001b[0m: 0"
     ]
    }
   ],
   "source": [
    "d[0]"
   ]
  },
  {
   "cell_type": "code",
   "execution_count": 266,
   "id": "a3e7e642",
   "metadata": {},
   "outputs": [],
   "source": [
    "i={x:x*x for x in a}"
   ]
  },
  {
   "cell_type": "code",
   "execution_count": 267,
   "id": "b7f53155",
   "metadata": {},
   "outputs": [
    {
     "data": {
      "text/plain": [
       "{2, 5, 6, 8}"
      ]
     },
     "execution_count": 267,
     "metadata": {},
     "output_type": "execute_result"
    }
   ],
   "source": [
    "a"
   ]
  },
  {
   "cell_type": "code",
   "execution_count": 268,
   "id": "5f21ae03",
   "metadata": {},
   "outputs": [
    {
     "data": {
      "text/plain": [
       "dict"
      ]
     },
     "execution_count": 268,
     "metadata": {},
     "output_type": "execute_result"
    }
   ],
   "source": [
    "type(i)"
   ]
  },
  {
   "cell_type": "code",
   "execution_count": 269,
   "id": "aa8f28aa",
   "metadata": {},
   "outputs": [
    {
     "data": {
      "text/plain": [
       "{8: 64, 2: 4, 5: 25, 6: 36}"
      ]
     },
     "execution_count": 269,
     "metadata": {},
     "output_type": "execute_result"
    }
   ],
   "source": [
    "i"
   ]
  },
  {
   "cell_type": "code",
   "execution_count": 272,
   "id": "37e5ecd8",
   "metadata": {},
   "outputs": [],
   "source": [
    "s=tuple(x for x in range(10))"
   ]
  },
  {
   "cell_type": "code",
   "execution_count": 273,
   "id": "a631acc2",
   "metadata": {},
   "outputs": [
    {
     "data": {
      "text/plain": [
       "(0, 1, 2, 3, 4, 5, 6, 7, 8, 9)"
      ]
     },
     "execution_count": 273,
     "metadata": {},
     "output_type": "execute_result"
    }
   ],
   "source": [
    "s"
   ]
  },
  {
   "cell_type": "code",
   "execution_count": 18,
   "id": "ec498398",
   "metadata": {},
   "outputs": [],
   "source": [
    "school={\n",
    "    'Class I': {'st1':\n",
    "                {'age':87,'name':872,'gender':'m'}, \n",
    "                'st2':{'name':'mahendra', 'age':87, 'gender':'m'}, \n",
    "                'st3':{'name':'algoa','age':73,'gender':'f'}\n",
    "               }, \n",
    "    'Class II': {\n",
    "        'st1':\n",
    "                 {\n",
    "        'name' : 'asome','age':72, 'gender':87, 'mob.num':2828272\n",
    "                 }, \n",
    "        'st2':{\n",
    "            'name':'amhge', 'age':27, 'fee':272227\n",
    "        },\n",
    "        'st3':{\n",
    "            'name':'alkg','age':28, 'address': 'aljglj'\n",
    "        },\n",
    "        'st4':{\n",
    "            'name':'alhg','age':22}\n",
    "    },\n",
    "    'ClassIII' : {'st1','st2','st3','st4','st5'}\n",
    "}"
   ]
  },
  {
   "cell_type": "code",
   "execution_count": 19,
   "id": "80c666d8",
   "metadata": {},
   "outputs": [
    {
     "data": {
      "text/plain": [
       "{'Class I': {'st1': {'age': 87, 'name': 872, 'gender': 'm'},\n",
       "  'st2': {'name': 'mahendra', 'age': 87, 'gender': 'm'},\n",
       "  'st3': {'name': 'algoa', 'age': 73, 'gender': 'f'}},\n",
       " 'Class II': {'st1': {'name': 'asome',\n",
       "   'age': 72,\n",
       "   'gender': 87,\n",
       "   'mob.num': 2828272},\n",
       "  'st2': {'name': 'amhge', 'age': 27, 'fee': 272227},\n",
       "  'st3': {'name': 'alkg', 'age': 28, 'address': 'aljglj'},\n",
       "  'st4': {'name': 'alhg', 'age': 22}},\n",
       " 'ClassIII': {'st1', 'st2', 'st3', 'st4', 'st5'}}"
      ]
     },
     "execution_count": 19,
     "metadata": {},
     "output_type": "execute_result"
    }
   ],
   "source": [
    "school"
   ]
  },
  {
   "cell_type": "code",
   "execution_count": 23,
   "id": "2bd2b09a",
   "metadata": {},
   "outputs": [],
   "source": [
    "school['Class II']['st4']['age']=77"
   ]
  },
  {
   "cell_type": "code",
   "execution_count": 24,
   "id": "db46fb5a",
   "metadata": {},
   "outputs": [
    {
     "data": {
      "text/plain": [
       "77"
      ]
     },
     "execution_count": 24,
     "metadata": {},
     "output_type": "execute_result"
    }
   ],
   "source": [
    "school['Class II']['st4']['age']"
   ]
  },
  {
   "cell_type": "code",
   "execution_count": 25,
   "id": "3c51f112",
   "metadata": {},
   "outputs": [
    {
     "data": {
      "text/plain": [
       "{'Class I': {'st1': {'age': 87, 'name': 872, 'gender': 'm'},\n",
       "  'st2': {'name': 'mahendra', 'age': 87, 'gender': 'm'},\n",
       "  'st3': {'name': 'algoa', 'age': 73, 'gender': 'f'}},\n",
       " 'Class II': {'st1': {'name': 'asome',\n",
       "   'age': 72,\n",
       "   'gender': 87,\n",
       "   'mob.num': 2828272},\n",
       "  'st2': {'name': 'amhge', 'age': 27, 'fee': 272227},\n",
       "  'st3': {'name': 'alkg', 'age': 28, 'address': 'aljglj'},\n",
       "  'st4': {'name': 'alhg', 'age': 77}},\n",
       " 'ClassIII': {'st1', 'st2', 'st3', 'st4', 'st5'}}"
      ]
     },
     "execution_count": 25,
     "metadata": {},
     "output_type": "execute_result"
    }
   ],
   "source": [
    "school"
   ]
  },
  {
   "cell_type": "code",
   "execution_count": 26,
   "id": "ca65d36e",
   "metadata": {},
   "outputs": [
    {
     "ename": "SyntaxError",
     "evalue": "invalid syntax (377704557.py, line 1)",
     "output_type": "error",
     "traceback": [
      "\u001b[1;36m  Cell \u001b[1;32mIn[26], line 1\u001b[1;36m\u001b[0m\n\u001b[1;33m    salary, employee_name,..............\u001b[0m\n\u001b[1;37m                             ^\u001b[0m\n\u001b[1;31mSyntaxError\u001b[0m\u001b[1;31m:\u001b[0m invalid syntax\n"
     ]
    }
   ],
   "source": [
    "salary, employee_name,..............\n",
    "csv, orc, parquet,...........\n",
    "e........\n",
    ".........\n",
    "......\n",
    "salary:{.....................}"
   ]
  },
  {
   "cell_type": "code",
   "execution_count": 27,
   "id": "c111c107",
   "metadata": {},
   "outputs": [
    {
     "ename": "ValueError",
     "evalue": "Mixing dicts with non-Series may lead to ambiguous ordering.",
     "output_type": "error",
     "traceback": [
      "\u001b[1;31m---------------------------------------------------------------------------\u001b[0m",
      "\u001b[1;31mValueError\u001b[0m                                Traceback (most recent call last)",
      "Cell \u001b[1;32mIn[27], line 2\u001b[0m\n\u001b[0;32m      1\u001b[0m \u001b[38;5;28;01mimport\u001b[39;00m \u001b[38;5;21;01mpandas\u001b[39;00m \u001b[38;5;28;01mas\u001b[39;00m \u001b[38;5;21;01mpd\u001b[39;00m\n\u001b[1;32m----> 2\u001b[0m \u001b[43mpd\u001b[49m\u001b[38;5;241;43m.\u001b[39;49m\u001b[43mDataFrame\u001b[49m\u001b[43m(\u001b[49m\u001b[43mschool\u001b[49m\u001b[43m)\u001b[49m\n",
      "File \u001b[1;32m~\\anaconda3\\lib\\site-packages\\pandas\\core\\frame.py:664\u001b[0m, in \u001b[0;36mDataFrame.__init__\u001b[1;34m(self, data, index, columns, dtype, copy)\u001b[0m\n\u001b[0;32m    658\u001b[0m     mgr \u001b[38;5;241m=\u001b[39m \u001b[38;5;28mself\u001b[39m\u001b[38;5;241m.\u001b[39m_init_mgr(\n\u001b[0;32m    659\u001b[0m         data, axes\u001b[38;5;241m=\u001b[39m{\u001b[38;5;124m\"\u001b[39m\u001b[38;5;124mindex\u001b[39m\u001b[38;5;124m\"\u001b[39m: index, \u001b[38;5;124m\"\u001b[39m\u001b[38;5;124mcolumns\u001b[39m\u001b[38;5;124m\"\u001b[39m: columns}, dtype\u001b[38;5;241m=\u001b[39mdtype, copy\u001b[38;5;241m=\u001b[39mcopy\n\u001b[0;32m    660\u001b[0m     )\n\u001b[0;32m    662\u001b[0m \u001b[38;5;28;01melif\u001b[39;00m \u001b[38;5;28misinstance\u001b[39m(data, \u001b[38;5;28mdict\u001b[39m):\n\u001b[0;32m    663\u001b[0m     \u001b[38;5;66;03m# GH#38939 de facto copy defaults to False only in non-dict cases\u001b[39;00m\n\u001b[1;32m--> 664\u001b[0m     mgr \u001b[38;5;241m=\u001b[39m \u001b[43mdict_to_mgr\u001b[49m\u001b[43m(\u001b[49m\u001b[43mdata\u001b[49m\u001b[43m,\u001b[49m\u001b[43m \u001b[49m\u001b[43mindex\u001b[49m\u001b[43m,\u001b[49m\u001b[43m \u001b[49m\u001b[43mcolumns\u001b[49m\u001b[43m,\u001b[49m\u001b[43m \u001b[49m\u001b[43mdtype\u001b[49m\u001b[38;5;241;43m=\u001b[39;49m\u001b[43mdtype\u001b[49m\u001b[43m,\u001b[49m\u001b[43m \u001b[49m\u001b[43mcopy\u001b[49m\u001b[38;5;241;43m=\u001b[39;49m\u001b[43mcopy\u001b[49m\u001b[43m,\u001b[49m\u001b[43m \u001b[49m\u001b[43mtyp\u001b[49m\u001b[38;5;241;43m=\u001b[39;49m\u001b[43mmanager\u001b[49m\u001b[43m)\u001b[49m\n\u001b[0;32m    665\u001b[0m \u001b[38;5;28;01melif\u001b[39;00m \u001b[38;5;28misinstance\u001b[39m(data, ma\u001b[38;5;241m.\u001b[39mMaskedArray):\n\u001b[0;32m    666\u001b[0m     \u001b[38;5;28;01mimport\u001b[39;00m \u001b[38;5;21;01mnumpy\u001b[39;00m\u001b[38;5;21;01m.\u001b[39;00m\u001b[38;5;21;01mma\u001b[39;00m\u001b[38;5;21;01m.\u001b[39;00m\u001b[38;5;21;01mmrecords\u001b[39;00m \u001b[38;5;28;01mas\u001b[39;00m \u001b[38;5;21;01mmrecords\u001b[39;00m\n",
      "File \u001b[1;32m~\\anaconda3\\lib\\site-packages\\pandas\\core\\internals\\construction.py:493\u001b[0m, in \u001b[0;36mdict_to_mgr\u001b[1;34m(data, index, columns, dtype, typ, copy)\u001b[0m\n\u001b[0;32m    489\u001b[0m     \u001b[38;5;28;01melse\u001b[39;00m:\n\u001b[0;32m    490\u001b[0m         \u001b[38;5;66;03m# dtype check to exclude e.g. range objects, scalars\u001b[39;00m\n\u001b[0;32m    491\u001b[0m         arrays \u001b[38;5;241m=\u001b[39m [x\u001b[38;5;241m.\u001b[39mcopy() \u001b[38;5;28;01mif\u001b[39;00m \u001b[38;5;28mhasattr\u001b[39m(x, \u001b[38;5;124m\"\u001b[39m\u001b[38;5;124mdtype\u001b[39m\u001b[38;5;124m\"\u001b[39m) \u001b[38;5;28;01melse\u001b[39;00m x \u001b[38;5;28;01mfor\u001b[39;00m x \u001b[38;5;129;01min\u001b[39;00m arrays]\n\u001b[1;32m--> 493\u001b[0m \u001b[38;5;28;01mreturn\u001b[39;00m \u001b[43marrays_to_mgr\u001b[49m\u001b[43m(\u001b[49m\u001b[43marrays\u001b[49m\u001b[43m,\u001b[49m\u001b[43m \u001b[49m\u001b[43mcolumns\u001b[49m\u001b[43m,\u001b[49m\u001b[43m \u001b[49m\u001b[43mindex\u001b[49m\u001b[43m,\u001b[49m\u001b[43m \u001b[49m\u001b[43mdtype\u001b[49m\u001b[38;5;241;43m=\u001b[39;49m\u001b[43mdtype\u001b[49m\u001b[43m,\u001b[49m\u001b[43m \u001b[49m\u001b[43mtyp\u001b[49m\u001b[38;5;241;43m=\u001b[39;49m\u001b[43mtyp\u001b[49m\u001b[43m,\u001b[49m\u001b[43m \u001b[49m\u001b[43mconsolidate\u001b[49m\u001b[38;5;241;43m=\u001b[39;49m\u001b[43mcopy\u001b[49m\u001b[43m)\u001b[49m\n",
      "File \u001b[1;32m~\\anaconda3\\lib\\site-packages\\pandas\\core\\internals\\construction.py:118\u001b[0m, in \u001b[0;36marrays_to_mgr\u001b[1;34m(arrays, columns, index, dtype, verify_integrity, typ, consolidate)\u001b[0m\n\u001b[0;32m    115\u001b[0m \u001b[38;5;28;01mif\u001b[39;00m verify_integrity:\n\u001b[0;32m    116\u001b[0m     \u001b[38;5;66;03m# figure out the index, if necessary\u001b[39;00m\n\u001b[0;32m    117\u001b[0m     \u001b[38;5;28;01mif\u001b[39;00m index \u001b[38;5;129;01mis\u001b[39;00m \u001b[38;5;28;01mNone\u001b[39;00m:\n\u001b[1;32m--> 118\u001b[0m         index \u001b[38;5;241m=\u001b[39m \u001b[43m_extract_index\u001b[49m\u001b[43m(\u001b[49m\u001b[43marrays\u001b[49m\u001b[43m)\u001b[49m\n\u001b[0;32m    119\u001b[0m     \u001b[38;5;28;01melse\u001b[39;00m:\n\u001b[0;32m    120\u001b[0m         index \u001b[38;5;241m=\u001b[39m ensure_index(index)\n",
      "File \u001b[1;32m~\\anaconda3\\lib\\site-packages\\pandas\\core\\internals\\construction.py:669\u001b[0m, in \u001b[0;36m_extract_index\u001b[1;34m(data)\u001b[0m\n\u001b[0;32m    666\u001b[0m     \u001b[38;5;28;01mraise\u001b[39;00m \u001b[38;5;167;01mValueError\u001b[39;00m(\u001b[38;5;124m\"\u001b[39m\u001b[38;5;124mAll arrays must be of the same length\u001b[39m\u001b[38;5;124m\"\u001b[39m)\n\u001b[0;32m    668\u001b[0m \u001b[38;5;28;01mif\u001b[39;00m have_dicts:\n\u001b[1;32m--> 669\u001b[0m     \u001b[38;5;28;01mraise\u001b[39;00m \u001b[38;5;167;01mValueError\u001b[39;00m(\n\u001b[0;32m    670\u001b[0m         \u001b[38;5;124m\"\u001b[39m\u001b[38;5;124mMixing dicts with non-Series may lead to ambiguous ordering.\u001b[39m\u001b[38;5;124m\"\u001b[39m\n\u001b[0;32m    671\u001b[0m     )\n\u001b[0;32m    673\u001b[0m \u001b[38;5;28;01mif\u001b[39;00m have_series:\n\u001b[0;32m    674\u001b[0m     \u001b[38;5;28;01massert\u001b[39;00m index \u001b[38;5;129;01mis\u001b[39;00m \u001b[38;5;129;01mnot\u001b[39;00m \u001b[38;5;28;01mNone\u001b[39;00m  \u001b[38;5;66;03m# for mypy\u001b[39;00m\n",
      "\u001b[1;31mValueError\u001b[0m: Mixing dicts with non-Series may lead to ambiguous ordering."
     ]
    }
   ],
   "source": [
    "import pandas as pd\n",
    "pd.DataFrame(school)"
   ]
  },
  {
   "cell_type": "code",
   "execution_count": 29,
   "id": "c4d9dbee",
   "metadata": {},
   "outputs": [
    {
     "ename": "ValueError",
     "evalue": "All arrays must be of the same length",
     "output_type": "error",
     "traceback": [
      "\u001b[1;31m---------------------------------------------------------------------------\u001b[0m",
      "\u001b[1;31mValueError\u001b[0m                                Traceback (most recent call last)",
      "Cell \u001b[1;32mIn[29], line 1\u001b[0m\n\u001b[1;32m----> 1\u001b[0m \u001b[43mpd\u001b[49m\u001b[38;5;241;43m.\u001b[39;49m\u001b[43mDataFrame\u001b[49m\u001b[43m(\u001b[49m\u001b[43m{\u001b[49m\u001b[38;5;124;43m'\u001b[39;49m\u001b[38;5;124;43mname\u001b[39;49m\u001b[38;5;124;43m'\u001b[39;49m\u001b[43m:\u001b[49m\u001b[43m[\u001b[49m\u001b[38;5;124;43m'\u001b[39;49m\u001b[38;5;124;43mmahendra\u001b[39;49m\u001b[38;5;124;43m'\u001b[39;49m\u001b[43m,\u001b[49m\u001b[38;5;124;43m'\u001b[39;49m\u001b[38;5;124;43mmahi\u001b[39;49m\u001b[38;5;124;43m'\u001b[39;49m\u001b[43m]\u001b[49m\u001b[43m,\u001b[49m\u001b[38;5;124;43m'\u001b[39;49m\u001b[38;5;124;43msalary\u001b[39;49m\u001b[38;5;124;43m'\u001b[39;49m\u001b[43m:\u001b[49m\u001b[43m[\u001b[49m\u001b[38;5;241;43m200\u001b[39;49m\u001b[43m]\u001b[49m\u001b[43m}\u001b[49m\u001b[43m)\u001b[49m\n",
      "File \u001b[1;32m~\\anaconda3\\lib\\site-packages\\pandas\\core\\frame.py:664\u001b[0m, in \u001b[0;36mDataFrame.__init__\u001b[1;34m(self, data, index, columns, dtype, copy)\u001b[0m\n\u001b[0;32m    658\u001b[0m     mgr \u001b[38;5;241m=\u001b[39m \u001b[38;5;28mself\u001b[39m\u001b[38;5;241m.\u001b[39m_init_mgr(\n\u001b[0;32m    659\u001b[0m         data, axes\u001b[38;5;241m=\u001b[39m{\u001b[38;5;124m\"\u001b[39m\u001b[38;5;124mindex\u001b[39m\u001b[38;5;124m\"\u001b[39m: index, \u001b[38;5;124m\"\u001b[39m\u001b[38;5;124mcolumns\u001b[39m\u001b[38;5;124m\"\u001b[39m: columns}, dtype\u001b[38;5;241m=\u001b[39mdtype, copy\u001b[38;5;241m=\u001b[39mcopy\n\u001b[0;32m    660\u001b[0m     )\n\u001b[0;32m    662\u001b[0m \u001b[38;5;28;01melif\u001b[39;00m \u001b[38;5;28misinstance\u001b[39m(data, \u001b[38;5;28mdict\u001b[39m):\n\u001b[0;32m    663\u001b[0m     \u001b[38;5;66;03m# GH#38939 de facto copy defaults to False only in non-dict cases\u001b[39;00m\n\u001b[1;32m--> 664\u001b[0m     mgr \u001b[38;5;241m=\u001b[39m \u001b[43mdict_to_mgr\u001b[49m\u001b[43m(\u001b[49m\u001b[43mdata\u001b[49m\u001b[43m,\u001b[49m\u001b[43m \u001b[49m\u001b[43mindex\u001b[49m\u001b[43m,\u001b[49m\u001b[43m \u001b[49m\u001b[43mcolumns\u001b[49m\u001b[43m,\u001b[49m\u001b[43m \u001b[49m\u001b[43mdtype\u001b[49m\u001b[38;5;241;43m=\u001b[39;49m\u001b[43mdtype\u001b[49m\u001b[43m,\u001b[49m\u001b[43m \u001b[49m\u001b[43mcopy\u001b[49m\u001b[38;5;241;43m=\u001b[39;49m\u001b[43mcopy\u001b[49m\u001b[43m,\u001b[49m\u001b[43m \u001b[49m\u001b[43mtyp\u001b[49m\u001b[38;5;241;43m=\u001b[39;49m\u001b[43mmanager\u001b[49m\u001b[43m)\u001b[49m\n\u001b[0;32m    665\u001b[0m \u001b[38;5;28;01melif\u001b[39;00m \u001b[38;5;28misinstance\u001b[39m(data, ma\u001b[38;5;241m.\u001b[39mMaskedArray):\n\u001b[0;32m    666\u001b[0m     \u001b[38;5;28;01mimport\u001b[39;00m \u001b[38;5;21;01mnumpy\u001b[39;00m\u001b[38;5;21;01m.\u001b[39;00m\u001b[38;5;21;01mma\u001b[39;00m\u001b[38;5;21;01m.\u001b[39;00m\u001b[38;5;21;01mmrecords\u001b[39;00m \u001b[38;5;28;01mas\u001b[39;00m \u001b[38;5;21;01mmrecords\u001b[39;00m\n",
      "File \u001b[1;32m~\\anaconda3\\lib\\site-packages\\pandas\\core\\internals\\construction.py:493\u001b[0m, in \u001b[0;36mdict_to_mgr\u001b[1;34m(data, index, columns, dtype, typ, copy)\u001b[0m\n\u001b[0;32m    489\u001b[0m     \u001b[38;5;28;01melse\u001b[39;00m:\n\u001b[0;32m    490\u001b[0m         \u001b[38;5;66;03m# dtype check to exclude e.g. range objects, scalars\u001b[39;00m\n\u001b[0;32m    491\u001b[0m         arrays \u001b[38;5;241m=\u001b[39m [x\u001b[38;5;241m.\u001b[39mcopy() \u001b[38;5;28;01mif\u001b[39;00m \u001b[38;5;28mhasattr\u001b[39m(x, \u001b[38;5;124m\"\u001b[39m\u001b[38;5;124mdtype\u001b[39m\u001b[38;5;124m\"\u001b[39m) \u001b[38;5;28;01melse\u001b[39;00m x \u001b[38;5;28;01mfor\u001b[39;00m x \u001b[38;5;129;01min\u001b[39;00m arrays]\n\u001b[1;32m--> 493\u001b[0m \u001b[38;5;28;01mreturn\u001b[39;00m \u001b[43marrays_to_mgr\u001b[49m\u001b[43m(\u001b[49m\u001b[43marrays\u001b[49m\u001b[43m,\u001b[49m\u001b[43m \u001b[49m\u001b[43mcolumns\u001b[49m\u001b[43m,\u001b[49m\u001b[43m \u001b[49m\u001b[43mindex\u001b[49m\u001b[43m,\u001b[49m\u001b[43m \u001b[49m\u001b[43mdtype\u001b[49m\u001b[38;5;241;43m=\u001b[39;49m\u001b[43mdtype\u001b[49m\u001b[43m,\u001b[49m\u001b[43m \u001b[49m\u001b[43mtyp\u001b[49m\u001b[38;5;241;43m=\u001b[39;49m\u001b[43mtyp\u001b[49m\u001b[43m,\u001b[49m\u001b[43m \u001b[49m\u001b[43mconsolidate\u001b[49m\u001b[38;5;241;43m=\u001b[39;49m\u001b[43mcopy\u001b[49m\u001b[43m)\u001b[49m\n",
      "File \u001b[1;32m~\\anaconda3\\lib\\site-packages\\pandas\\core\\internals\\construction.py:118\u001b[0m, in \u001b[0;36marrays_to_mgr\u001b[1;34m(arrays, columns, index, dtype, verify_integrity, typ, consolidate)\u001b[0m\n\u001b[0;32m    115\u001b[0m \u001b[38;5;28;01mif\u001b[39;00m verify_integrity:\n\u001b[0;32m    116\u001b[0m     \u001b[38;5;66;03m# figure out the index, if necessary\u001b[39;00m\n\u001b[0;32m    117\u001b[0m     \u001b[38;5;28;01mif\u001b[39;00m index \u001b[38;5;129;01mis\u001b[39;00m \u001b[38;5;28;01mNone\u001b[39;00m:\n\u001b[1;32m--> 118\u001b[0m         index \u001b[38;5;241m=\u001b[39m \u001b[43m_extract_index\u001b[49m\u001b[43m(\u001b[49m\u001b[43marrays\u001b[49m\u001b[43m)\u001b[49m\n\u001b[0;32m    119\u001b[0m     \u001b[38;5;28;01melse\u001b[39;00m:\n\u001b[0;32m    120\u001b[0m         index \u001b[38;5;241m=\u001b[39m ensure_index(index)\n",
      "File \u001b[1;32m~\\anaconda3\\lib\\site-packages\\pandas\\core\\internals\\construction.py:666\u001b[0m, in \u001b[0;36m_extract_index\u001b[1;34m(data)\u001b[0m\n\u001b[0;32m    664\u001b[0m lengths \u001b[38;5;241m=\u001b[39m \u001b[38;5;28mlist\u001b[39m(\u001b[38;5;28mset\u001b[39m(raw_lengths))\n\u001b[0;32m    665\u001b[0m \u001b[38;5;28;01mif\u001b[39;00m \u001b[38;5;28mlen\u001b[39m(lengths) \u001b[38;5;241m>\u001b[39m \u001b[38;5;241m1\u001b[39m:\n\u001b[1;32m--> 666\u001b[0m     \u001b[38;5;28;01mraise\u001b[39;00m \u001b[38;5;167;01mValueError\u001b[39;00m(\u001b[38;5;124m\"\u001b[39m\u001b[38;5;124mAll arrays must be of the same length\u001b[39m\u001b[38;5;124m\"\u001b[39m)\n\u001b[0;32m    668\u001b[0m \u001b[38;5;28;01mif\u001b[39;00m have_dicts:\n\u001b[0;32m    669\u001b[0m     \u001b[38;5;28;01mraise\u001b[39;00m \u001b[38;5;167;01mValueError\u001b[39;00m(\n\u001b[0;32m    670\u001b[0m         \u001b[38;5;124m\"\u001b[39m\u001b[38;5;124mMixing dicts with non-Series may lead to ambiguous ordering.\u001b[39m\u001b[38;5;124m\"\u001b[39m\n\u001b[0;32m    671\u001b[0m     )\n",
      "\u001b[1;31mValueError\u001b[0m: All arrays must be of the same length"
     ]
    }
   ],
   "source": [
    "pd.DataFrame({'name':['mahendra','mahi'],'salary':[200]})"
   ]
  },
  {
   "cell_type": "code",
   "execution_count": 36,
   "id": "37029d86",
   "metadata": {},
   "outputs": [
    {
     "name": "stdout",
     "output_type": "stream",
     "text": [
      "{2: 4, 35: 1, 67: 1, 8: 2, 9: 2, 3: 1}\n"
     ]
    }
   ],
   "source": [
    "a=[2,35,67,8,9,9,3,8,2,2,2]\n",
    "ans={}\n",
    "for i in a:\n",
    "    if i in ans:\n",
    "        ans[i]+=1\n",
    "    else:\n",
    "        ans[i]=1\n",
    "print(ans)"
   ]
  },
  {
   "cell_type": "code",
   "execution_count": null,
   "id": "83048602",
   "metadata": {},
   "outputs": [],
   "source": [
    "{2:.., 35:.., 67:............}"
   ]
  },
  {
   "cell_type": "code",
   "execution_count": 32,
   "id": "a1b94f7c",
   "metadata": {},
   "outputs": [
    {
     "data": {
      "text/plain": [
       "dict_keys(['Class I', 'Class II', 'ClassIII'])"
      ]
     },
     "execution_count": 32,
     "metadata": {},
     "output_type": "execute_result"
    }
   ],
   "source": [
    "school.keys()"
   ]
  },
  {
   "cell_type": "code",
   "execution_count": 34,
   "id": "07fe34ef",
   "metadata": {},
   "outputs": [
    {
     "data": {
      "text/plain": [
       "{'st1': {'age': 87, 'name': 872, 'gender': 'm'},\n",
       " 'st2': {'name': 'mahendra', 'age': 87, 'gender': 'm'},\n",
       " 'st3': {'name': 'algoa', 'age': 73, 'gender': 'f'}}"
      ]
     },
     "execution_count": 34,
     "metadata": {},
     "output_type": "execute_result"
    }
   ],
   "source": [
    "school['Class I']"
   ]
  },
  {
   "cell_type": "code",
   "execution_count": 37,
   "id": "f13f681b",
   "metadata": {},
   "outputs": [
    {
     "data": {
      "text/plain": [
       "{2: 4, 35: 1, 67: 1, 8: 2, 9: 2, 3: 1}"
      ]
     },
     "execution_count": 37,
     "metadata": {},
     "output_type": "execute_result"
    }
   ],
   "source": [
    "ans"
   ]
  },
  {
   "cell_type": "code",
   "execution_count": 38,
   "id": "6baf061c",
   "metadata": {},
   "outputs": [
    {
     "data": {
      "text/plain": [
       "dict_items([(2, 4), (35, 1), (67, 1), (8, 2), (9, 2), (3, 1)])"
      ]
     },
     "execution_count": 38,
     "metadata": {},
     "output_type": "execute_result"
    }
   ],
   "source": [
    "ans.items()"
   ]
  },
  {
   "cell_type": "code",
   "execution_count": 39,
   "id": "7ef93bc4",
   "metadata": {},
   "outputs": [
    {
     "data": {
      "text/plain": [
       "dict_keys([2, 35, 67, 8, 9, 3])"
      ]
     },
     "execution_count": 39,
     "metadata": {},
     "output_type": "execute_result"
    }
   ],
   "source": [
    "ans.keys()"
   ]
  },
  {
   "cell_type": "code",
   "execution_count": 40,
   "id": "681d96b6",
   "metadata": {},
   "outputs": [
    {
     "data": {
      "text/plain": [
       "dict_values([4, 1, 1, 2, 2, 1])"
      ]
     },
     "execution_count": 40,
     "metadata": {},
     "output_type": "execute_result"
    }
   ],
   "source": [
    "ans.values()"
   ]
  },
  {
   "cell_type": "code",
   "execution_count": 51,
   "id": "a7968861",
   "metadata": {},
   "outputs": [
    {
     "name": "stdout",
     "output_type": "stream",
     "text": [
      "4 2\n",
      "1 35\n",
      "1 67\n",
      "2 8\n",
      "2 9\n",
      "1 3\n"
     ]
    }
   ],
   "source": [
    "for key, value in ans.items():\n",
    "    print(value, key)"
   ]
  },
  {
   "cell_type": "code",
   "execution_count": 45,
   "id": "e8e1ef95",
   "metadata": {},
   "outputs": [],
   "source": [
    "for i in a:\n",
    "    pass"
   ]
  },
  {
   "cell_type": "code",
   "execution_count": 46,
   "id": "66ab7e11",
   "metadata": {},
   "outputs": [
    {
     "name": "stdout",
     "output_type": "stream",
     "text": [
      "2\n",
      "2\n",
      "3\n"
     ]
    }
   ],
   "source": [
    "p=[2,2,3]\n",
    "for i in p:\n",
    "    print(i)"
   ]
  },
  {
   "cell_type": "code",
   "execution_count": 52,
   "id": "c0667522",
   "metadata": {},
   "outputs": [
    {
     "data": {
      "text/plain": [
       "[0, 1, 2, 3, 4, 5, 6, 7, 8, 9, 10, 11, 12, 13, 14, 15, 16, 17, 18, 19]"
      ]
     },
     "execution_count": 52,
     "metadata": {},
     "output_type": "execute_result"
    }
   ],
   "source": [
    "[x for x in range(20)]"
   ]
  },
  {
   "cell_type": "code",
   "execution_count": 53,
   "id": "6b4df9e8",
   "metadata": {},
   "outputs": [
    {
     "data": {
      "text/plain": [
       "{0: 0,\n",
       " 1: 1,\n",
       " 2: 2,\n",
       " 3: 3,\n",
       " 4: 4,\n",
       " 5: 5,\n",
       " 6: 6,\n",
       " 7: 7,\n",
       " 8: 8,\n",
       " 9: 9,\n",
       " 10: 10,\n",
       " 11: 11,\n",
       " 12: 12,\n",
       " 13: 13,\n",
       " 14: 14,\n",
       " 15: 15,\n",
       " 16: 16,\n",
       " 17: 17,\n",
       " 18: 18,\n",
       " 19: 19}"
      ]
     },
     "execution_count": 53,
     "metadata": {},
     "output_type": "execute_result"
    }
   ],
   "source": [
    "{x:x for x in range(20)}"
   ]
  },
  {
   "cell_type": "code",
   "execution_count": 54,
   "id": "7b7d6b20",
   "metadata": {},
   "outputs": [
    {
     "data": {
      "text/plain": [
       "{2: 4, 35: 1, 67: 1, 8: 2, 9: 2, 3: 1}"
      ]
     },
     "execution_count": 54,
     "metadata": {},
     "output_type": "execute_result"
    }
   ],
   "source": [
    "ans"
   ]
  },
  {
   "cell_type": "code",
   "execution_count": 58,
   "id": "58951e19",
   "metadata": {},
   "outputs": [],
   "source": [
    "a={x:y for x, y in ans.items()}"
   ]
  },
  {
   "cell_type": "code",
   "execution_count": 59,
   "id": "0537d33c",
   "metadata": {},
   "outputs": [
    {
     "data": {
      "text/plain": [
       "4"
      ]
     },
     "execution_count": 59,
     "metadata": {},
     "output_type": "execute_result"
    }
   ],
   "source": [
    "a[2]"
   ]
  },
  {
   "cell_type": "code",
   "execution_count": 60,
   "id": "28c9ea82",
   "metadata": {},
   "outputs": [],
   "source": [
    "a[2]=99"
   ]
  },
  {
   "cell_type": "code",
   "execution_count": 61,
   "id": "44f47cde",
   "metadata": {},
   "outputs": [
    {
     "data": {
      "text/plain": [
       "99"
      ]
     },
     "execution_count": 61,
     "metadata": {},
     "output_type": "execute_result"
    }
   ],
   "source": [
    "a[2]"
   ]
  },
  {
   "cell_type": "code",
   "execution_count": 63,
   "id": "9cef7871",
   "metadata": {},
   "outputs": [
    {
     "data": {
      "text/plain": [
       "{0: 0, 1: 1, 2: 8, 3: 27, 4: 64}"
      ]
     },
     "execution_count": 63,
     "metadata": {},
     "output_type": "execute_result"
    }
   ],
   "source": [
    "{x:x**3 for x in range(5)}"
   ]
  },
  {
   "cell_type": "code",
   "execution_count": 65,
   "id": "316455ac",
   "metadata": {},
   "outputs": [
    {
     "data": {
      "text/plain": [
       "(0, 1, 2, 3, 4, 5, 6, 7, 8, 9, 10, 11, 12, 13, 14, 15, 16, 17, 18, 19)"
      ]
     },
     "execution_count": 65,
     "metadata": {},
     "output_type": "execute_result"
    }
   ],
   "source": [
    "tuple(x for x in range(20))"
   ]
  },
  {
   "cell_type": "code",
   "execution_count": null,
   "id": "144a47fd",
   "metadata": {},
   "outputs": [],
   "source": []
  }
 ],
 "metadata": {
  "kernelspec": {
   "display_name": "Python 3 (ipykernel)",
   "language": "python",
   "name": "python3"
  },
  "language_info": {
   "codemirror_mode": {
    "name": "ipython",
    "version": 3
   },
   "file_extension": ".py",
   "mimetype": "text/x-python",
   "name": "python",
   "nbconvert_exporter": "python",
   "pygments_lexer": "ipython3",
   "version": "3.10.9"
  }
 },
 "nbformat": 4,
 "nbformat_minor": 5
}
