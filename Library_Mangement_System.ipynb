{
  "nbformat": 4,
  "nbformat_minor": 0,
  "metadata": {
    "colab": {
      "provenance": [],
      "authorship_tag": "ABX9TyPuOiHln9XhBQDmO0f3QAo1",
      "include_colab_link": true
    },
    "kernelspec": {
      "name": "python3",
      "display_name": "Python 3"
    },
    "language_info": {
      "name": "python"
    }
  },
  "cells": [
    {
      "cell_type": "markdown",
      "metadata": {
        "id": "view-in-github",
        "colab_type": "text"
      },
      "source": [
        "<a href=\"https://colab.research.google.com/github/mahendra204/Python-Basics-Projects/blob/main/Library_Mangement_System.ipynb\" target=\"_parent\"><img src=\"https://colab.research.google.com/assets/colab-badge.svg\" alt=\"Open In Colab\"/></a>"
      ]
    },
    {
      "cell_type": "markdown",
      "source": [
        "## create Book Class and intialize the parameters using Constructor"
      ],
      "metadata": {
        "id": "4QFXPcyDFfaG"
      }
    },
    {
      "cell_type": "code",
      "execution_count": 1,
      "metadata": {
        "id": "nUw8nJx4Eslw"
      },
      "outputs": [],
      "source": [
        "class Book:\n",
        "    def __init__(self, Book_title, Book_author, IS_Book_number):\n",
        "        self.Book_title = Book_title\n",
        "        self.Book_author = Book_author\n",
        "        self.IS_Book_number= IS_Book_number\n",
        "        self.is_available = True\n",
        "\n",
        "    def display_info(self):\n",
        "        print(f\"Title: {self.Book_title}\\nAuthor: {self.Book_author}\\nIS_Book_Number: {self.IS_Book_number}\\nAvailable: {self.is_available}\\n\")"
      ]
    },
    {
      "cell_type": "markdown",
      "source": [
        "# Assign books to keep in library list"
      ],
      "metadata": {
        "id": "rc1k00Z4IV6R"
      }
    },
    {
      "cell_type": "code",
      "source": [
        "x=Book('DataScience_with_python','Lander','1010-1918-8489')\n",
        "y=Book('DataScience_textbook','Andrew NG','9883-1958-8424')\n",
        "z=Book('Machine learning_textbook','Abhishek Thakur','1582-1863-5826')"
      ],
      "metadata": {
        "id": "amzwBt8jFdmM"
      },
      "execution_count": 56,
      "outputs": []
    },
    {
      "cell_type": "code",
      "source": [
        "x.display_info()\n",
        "y.display_info()\n",
        "z.display_info()"
      ],
      "metadata": {
        "colab": {
          "base_uri": "https://localhost:8080/"
        },
        "id": "hpUlsiZeFuXU",
        "outputId": "277a1f3d-513e-4f10-f597-8a58e90e4939"
      },
      "execution_count": 57,
      "outputs": [
        {
          "output_type": "stream",
          "name": "stdout",
          "text": [
            "Title: DataScience_with_python\n",
            "Author: Lander\n",
            "IS_Book_Number: 1010-1918-8489\n",
            "Available: True\n",
            "\n",
            "Title: DataScience_textbook\n",
            "Author: Andrew NG\n",
            "IS_Book_Number: 9883-1958-8424\n",
            "Available: True\n",
            "\n",
            "Title: Machine learning_textbook\n",
            "Author: Abhishek Thakur\n",
            "IS_Book_Number: 1582-1863-5826\n",
            "Available: True\n",
            "\n"
          ]
        }
      ]
    },
    {
      "cell_type": "markdown",
      "source": [
        "# Create Library Class with intializing the parameters and add methods"
      ],
      "metadata": {
        "id": "TRYG0vxDG7H5"
      }
    },
    {
      "cell_type": "code",
      "source": [
        "\n",
        "class Library:\n",
        "    def __init__(self):\n",
        "        self.books = []\n",
        "\n",
        "    def add_book(self, book):\n",
        "        self.books.append(book)\n",
        "        print(f\"Book '{book.Book_title}' added to the library.\")\n",
        "\n",
        "    def display_books(self):\n",
        "        print(\"List of Library Books:\")\n",
        "        for i in self.books:\n",
        "            i.display_info()\n",
        "\n",
        "    def lend_book(self, Book_title):\n",
        "        for j in self.books:\n",
        "            if j.Book_title == Book_title and j.is_available:\n",
        "                j.is_available = False\n",
        "                print(f\"Book '{Book_title}' has been lent.\")\n",
        "                return\n",
        "        print(f\"Sorry, '{Book_title}' is either not available or does not exist in the library.\")\n",
        "\n",
        "    def return_book(self, Book_title):\n",
        "        for k in self.books:\n",
        "            if k.Book_title == Book_title and not k.is_available:\n",
        "                k.is_available = True\n",
        "                print(f\"Book '{Book_title}' has been returned.\")\n",
        "                return\n",
        "        print(f\"Sorry, '{Book_title}' cannot be returned. Check the book title or availability.\")\n",
        "    def available_books(self):\n",
        "        return [book for book in self.books if book.is_available]\n",
        "\n",
        "    def display_current_books(self):\n",
        "        current_books = self.available_books()\n",
        "        if not current_books:\n",
        "            print(\"No books currently available in the library.\")\n",
        "        else:\n",
        "            print(\"\\nCurrent Books in the Library:\")\n",
        "            for book in current_books:\n",
        "                book.display_info()\n",
        "\n"
      ],
      "metadata": {
        "id": "7KQdTLekGkr2"
      },
      "execution_count": 100,
      "outputs": []
    },
    {
      "cell_type": "code",
      "source": [
        "library = Library()"
      ],
      "metadata": {
        "id": "SaCORdDaI01h"
      },
      "execution_count": 101,
      "outputs": []
    },
    {
      "cell_type": "code",
      "source": [
        "library.add_book(x)\n",
        "library.add_book(y)\n",
        "library.add_book(z)"
      ],
      "metadata": {
        "colab": {
          "base_uri": "https://localhost:8080/"
        },
        "id": "CnpTJZ5jLN5q",
        "outputId": "ac8510aa-01bb-4797-f97c-b9b8632ecafc"
      },
      "execution_count": 102,
      "outputs": [
        {
          "output_type": "stream",
          "name": "stdout",
          "text": [
            "Book 'DataScience_with_python' added to the library.\n",
            "Book 'DataScience_textbook' added to the library.\n",
            "Book 'Machine learning_textbook' added to the library.\n"
          ]
        }
      ]
    },
    {
      "cell_type": "code",
      "source": [
        "library.display_books()"
      ],
      "metadata": {
        "colab": {
          "base_uri": "https://localhost:8080/"
        },
        "id": "UeD9NkrXJo3k",
        "outputId": "42e6838f-a1e1-4bb2-d2f5-cdaf3a7e3d34"
      },
      "execution_count": 103,
      "outputs": [
        {
          "output_type": "stream",
          "name": "stdout",
          "text": [
            "List of Library Books:\n",
            "Title: DataScience_with_python\n",
            "Author: Lander\n",
            "IS_Book_Number: 1010-1918-8489\n",
            "Available: True\n",
            "\n",
            "Title: DataScience_textbook\n",
            "Author: Andrew NG\n",
            "IS_Book_Number: 9883-1958-8424\n",
            "Available: False\n",
            "\n",
            "Title: Machine learning_textbook\n",
            "Author: Abhishek Thakur\n",
            "IS_Book_Number: 1582-1863-5826\n",
            "Available: False\n",
            "\n"
          ]
        }
      ]
    },
    {
      "cell_type": "code",
      "source": [
        "library.lend_book('DataScience_textbook')"
      ],
      "metadata": {
        "colab": {
          "base_uri": "https://localhost:8080/"
        },
        "id": "Yyp8zi_qKJEC",
        "outputId": "d239b240-dd5e-4ce4-d630-cde759dd2272"
      },
      "execution_count": 104,
      "outputs": [
        {
          "output_type": "stream",
          "name": "stdout",
          "text": [
            "Sorry, 'DataScience_textbook' is either not available or does not exist in the library.\n"
          ]
        }
      ]
    },
    {
      "cell_type": "code",
      "source": [
        "library.lend_book(\"DataScience_textbook\")"
      ],
      "metadata": {
        "colab": {
          "base_uri": "https://localhost:8080/"
        },
        "id": "QhIBJaS0NP2H",
        "outputId": "db285ad1-29bb-466c-f828-c4f0052b0be3"
      },
      "execution_count": 105,
      "outputs": [
        {
          "output_type": "stream",
          "name": "stdout",
          "text": [
            "Sorry, 'DataScience_textbook' is either not available or does not exist in the library.\n"
          ]
        }
      ]
    },
    {
      "cell_type": "code",
      "source": [
        "library.lend_book(\"\")"
      ],
      "metadata": {
        "colab": {
          "base_uri": "https://localhost:8080/"
        },
        "id": "40xkwsYINyA5",
        "outputId": "597fb2bb-d838-418d-ae1f-c456575c3482"
      },
      "execution_count": 106,
      "outputs": [
        {
          "output_type": "stream",
          "name": "stdout",
          "text": [
            "Sorry, '' is either not available or does not exist in the library.\n"
          ]
        }
      ]
    },
    {
      "cell_type": "code",
      "source": [
        "library.lend_book(\"Machine learning_textbook\")"
      ],
      "metadata": {
        "colab": {
          "base_uri": "https://localhost:8080/"
        },
        "id": "2DllUEIZOhKF",
        "outputId": "9ebe4dd6-f7fd-47e2-cce9-92b38e6246ec"
      },
      "execution_count": 107,
      "outputs": [
        {
          "output_type": "stream",
          "name": "stdout",
          "text": [
            "Sorry, 'Machine learning_textbook' is either not available or does not exist in the library.\n"
          ]
        }
      ]
    },
    {
      "cell_type": "code",
      "source": [
        "library.return_book(\"DataScience_with_python\")"
      ],
      "metadata": {
        "colab": {
          "base_uri": "https://localhost:8080/"
        },
        "id": "NEfX8cKJOnoo",
        "outputId": "95cb6c4f-871d-4537-a9bc-d1613136891e"
      },
      "execution_count": 108,
      "outputs": [
        {
          "output_type": "stream",
          "name": "stdout",
          "text": [
            "Sorry, 'DataScience_with_python' cannot be returned. Check the book title or availability.\n"
          ]
        }
      ]
    },
    {
      "cell_type": "code",
      "source": [
        "library.display_current_books()"
      ],
      "metadata": {
        "colab": {
          "base_uri": "https://localhost:8080/"
        },
        "id": "zIqPwxVxO2Cl",
        "outputId": "550e0f47-6d14-4ed7-a2c3-af37079b6600"
      },
      "execution_count": 109,
      "outputs": [
        {
          "output_type": "stream",
          "name": "stdout",
          "text": [
            "\n",
            "Current Books in the Library:\n",
            "Title: DataScience_with_python\n",
            "Author: Lander\n",
            "IS_Book_Number: 1010-1918-8489\n",
            "Available: True\n",
            "\n"
          ]
        }
      ]
    },
    {
      "cell_type": "code",
      "source": [
        "library.lend_book('Machine learning_textbook')"
      ],
      "metadata": {
        "colab": {
          "base_uri": "https://localhost:8080/"
        },
        "id": "oZJt1rKwRBVY",
        "outputId": "639b7cbd-2a33-4317-b21d-f153768fdf68"
      },
      "execution_count": 110,
      "outputs": [
        {
          "output_type": "stream",
          "name": "stdout",
          "text": [
            "Sorry, 'Machine learning_textbook' is either not available or does not exist in the library.\n"
          ]
        }
      ]
    },
    {
      "cell_type": "code",
      "source": [
        "library.return_book('DataScience_textbook')"
      ],
      "metadata": {
        "colab": {
          "base_uri": "https://localhost:8080/"
        },
        "id": "f5I96ImdYa31",
        "outputId": "f218e357-5b72-4eb1-91ea-29bc714746ec"
      },
      "execution_count": 111,
      "outputs": [
        {
          "output_type": "stream",
          "name": "stdout",
          "text": [
            "Book 'DataScience_textbook' has been returned.\n"
          ]
        }
      ]
    },
    {
      "cell_type": "code",
      "source": [
        "library.display_current_books()"
      ],
      "metadata": {
        "colab": {
          "base_uri": "https://localhost:8080/"
        },
        "id": "GS226iNBYhsb",
        "outputId": "e40ae5c9-5117-4036-b22d-56186b8afee3"
      },
      "execution_count": 112,
      "outputs": [
        {
          "output_type": "stream",
          "name": "stdout",
          "text": [
            "\n",
            "Current Books in the Library:\n",
            "Title: DataScience_with_python\n",
            "Author: Lander\n",
            "IS_Book_Number: 1010-1918-8489\n",
            "Available: True\n",
            "\n",
            "Title: DataScience_textbook\n",
            "Author: Andrew NG\n",
            "IS_Book_Number: 9883-1958-8424\n",
            "Available: True\n",
            "\n"
          ]
        }
      ]
    },
    {
      "cell_type": "code",
      "source": [
        "library.lend_book('DataScience_with_python')"
      ],
      "metadata": {
        "colab": {
          "base_uri": "https://localhost:8080/"
        },
        "id": "umdG28QlYmB2",
        "outputId": "893bc603-18e5-46a8-f477-34a7d088cb30"
      },
      "execution_count": 113,
      "outputs": [
        {
          "output_type": "stream",
          "name": "stdout",
          "text": [
            "Book 'DataScience_with_python' has been lent.\n"
          ]
        }
      ]
    },
    {
      "cell_type": "code",
      "source": [
        "library.display_current_books()"
      ],
      "metadata": {
        "colab": {
          "base_uri": "https://localhost:8080/"
        },
        "id": "lXP8CuxiYry7",
        "outputId": "12004377-a1c9-4424-87c6-5e2686cde070"
      },
      "execution_count": 114,
      "outputs": [
        {
          "output_type": "stream",
          "name": "stdout",
          "text": [
            "\n",
            "Current Books in the Library:\n",
            "Title: DataScience_textbook\n",
            "Author: Andrew NG\n",
            "IS_Book_Number: 9883-1958-8424\n",
            "Available: True\n",
            "\n"
          ]
        }
      ]
    },
    {
      "cell_type": "code",
      "source": [],
      "metadata": {
        "id": "iZ_T98hgYuNc"
      },
      "execution_count": null,
      "outputs": []
    }
  ]
}