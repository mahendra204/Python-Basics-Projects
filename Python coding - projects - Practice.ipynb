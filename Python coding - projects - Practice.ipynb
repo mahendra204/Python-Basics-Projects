{
 "cells": [
  {
   "cell_type": "markdown",
   "id": "cb499173",
   "metadata": {},
   "source": [
    "# Defang IP Address"
   ]
  },
  {
   "cell_type": "markdown",
   "id": "e550ae92",
   "metadata": {},
   "source": [
    "# Count Character Occurrences in a string"
   ]
  },
  {
   "cell_type": "code",
   "execution_count": 46,
   "id": "7ffbb60f",
   "metadata": {},
   "outputs": [
    {
     "name": "stdout",
     "output_type": "stream",
     "text": [
      "{'H': 1, 'a': 3, 'i': 1, ' ': 1, 'M': 1, 'h': 1, 'e': 1, 'n': 1, 'd': 1, 'r': 1}\n"
     ]
    }
   ],
   "source": [
    "def count_chars(s):\n",
    "    a={}\n",
    "    for i in s:\n",
    "        if i in a:\n",
    "            a[i]+=1\n",
    "        else:\n",
    "            a[i]=1\n",
    "    print(a)\n",
    "count_chars(\"Hai Mahendra\")"
   ]
  },
  {
   "cell_type": "code",
   "execution_count": 60,
   "id": "33219feb",
   "metadata": {},
   "outputs": [
    {
     "name": "stdout",
     "output_type": "stream",
     "text": [
      "a= 9\n",
      "b= 20\n"
     ]
    }
   ],
   "source": [
    "# Swap variables\n",
    "a=20\n",
    "b=9\n",
    "variable=a\n",
    "a=b\n",
    "b=variable\n",
    "print(\"a=\",a)\n",
    "print(\"b=\",b)"
   ]
  },
  {
   "cell_type": "code",
   "execution_count": 62,
   "id": "c45e2315",
   "metadata": {},
   "outputs": [
    {
     "name": "stdout",
     "output_type": "stream",
     "text": [
      "[ 2  4  5  6 33 44 65 67]\n"
     ]
    }
   ],
   "source": [
    "#sorting numpy arrays\n",
    "import numpy as np\n",
    "a=np.array([2,4,5,6,65,44,33,67])\n",
    "print(np.sort(a))"
   ]
  },
  {
   "cell_type": "markdown",
   "id": "6b438125",
   "metadata": {},
   "source": [
    "# Validate Anagrams"
   ]
  },
  {
   "cell_type": "code",
   "execution_count": 65,
   "id": "8186bf36",
   "metadata": {},
   "outputs": [],
   "source": [
    "def anagrams(word1,word2):\n",
    "    word1=word1.lower()\n",
    "    word2=word2.lower()\n",
    "    return sorted(word1)==sorted(word2)"
   ]
  },
  {
   "cell_type": "code",
   "execution_count": 68,
   "id": "d432e0a9",
   "metadata": {},
   "outputs": [
    {
     "data": {
      "text/plain": [
       "False"
      ]
     },
     "execution_count": 68,
     "metadata": {},
     "output_type": "execute_result"
    }
   ],
   "source": [
    "anagrams(\"mahi\",\"hima\")\n",
    "anagrams(\"mahima\",\"himah\")"
   ]
  },
  {
   "cell_type": "markdown",
   "id": "e3a9b9be",
   "metadata": {},
   "source": [
    "# create tables"
   ]
  },
  {
   "cell_type": "code",
   "execution_count": 72,
   "id": "f0235e09",
   "metadata": {},
   "outputs": [
    {
     "name": "stdout",
     "output_type": "stream",
     "text": [
      "--------  -------  ------\n",
      "name      place    gender\n",
      "mahi      Nellore  M\n",
      "mahendra  AP       M\n",
      "--------  -------  ------\n"
     ]
    }
   ],
   "source": [
    "from tabulate import tabulate\n",
    "data=[[\"name\",\"place\",\"gender\"],[\"mahi\",\"Nellore\",\"M\"],[\"mahendra\",\"AP\",\"M\"]]\n",
    "print(tabulate(data))"
   ]
  },
  {
   "cell_type": "markdown",
   "id": "29acc9c8",
   "metadata": {},
   "source": [
    "# Recursive Binary Search"
   ]
  },
  {
   "cell_type": "code",
   "execution_count": 73,
   "id": "99519967",
   "metadata": {},
   "outputs": [],
   "source": [
    "def rec_binarysearch(target,sequence,first,last):\n",
    "    if first>last:\n",
    "        return False\n",
    "    else:\n",
    "        mid=(last+first)//2\n",
    "        if sequence[mid]==target:\n",
    "            return True\n",
    "        elif target<sequence[mid]:\n",
    "            return rec_binarysearch(target,sequence,first,mid-1)\n",
    "        else:\n",
    "            return rec_binarysearch(target,sequence,mid+1,last)"
   ]
  },
  {
   "cell_type": "code",
   "execution_count": 80,
   "id": "470dafab",
   "metadata": {},
   "outputs": [
    {
     "data": {
      "text/plain": [
       "False"
      ]
     },
     "execution_count": 80,
     "metadata": {},
     "output_type": "execute_result"
    }
   ],
   "source": [
    "target=9\n",
    "sequence=[2,4,55,66,53,6,77,99]\n",
    "first=0\n",
    "last=len(sequence)\n",
    "rec_binarysearch(target,sequence,first,last)"
   ]
  },
  {
   "cell_type": "markdown",
   "id": "c2af9f18",
   "metadata": {},
   "source": [
    "# Queue creation"
   ]
  },
  {
   "cell_type": "code",
   "execution_count": 111,
   "id": "917f6c85",
   "metadata": {},
   "outputs": [],
   "source": [
    "class queue:\n",
    "    def __init__(self):\n",
    "        self.items=[]\n",
    "    def is_empty(self):\n",
    "        return len(self.items)==0\n",
    "    def enqueue(self,item):\n",
    "        self.items.append(item)\n",
    "    def dequeue(self):\n",
    "        if not self.is_empty():\n",
    "            return self.items.pop(0)\n",
    "        else:\n",
    "            return None\n",
    "    def size(self):\n",
    "        return len(self.items)"
   ]
  },
  {
   "cell_type": "code",
   "execution_count": 140,
   "id": "18a61a95",
   "metadata": {},
   "outputs": [],
   "source": [
    "a=queue()\n",
    "a.enqueue(8)\n",
    "a.enqueue(7)\n",
    "a.enqueue(2)"
   ]
  },
  {
   "cell_type": "code",
   "execution_count": 141,
   "id": "73ac3857",
   "metadata": {},
   "outputs": [
    {
     "data": {
      "text/plain": [
       "False"
      ]
     },
     "execution_count": 141,
     "metadata": {},
     "output_type": "execute_result"
    }
   ],
   "source": [
    "a.is_empty()"
   ]
  },
  {
   "cell_type": "code",
   "execution_count": 142,
   "id": "0b19f098",
   "metadata": {},
   "outputs": [
    {
     "data": {
      "text/plain": [
       "__main__.queue"
      ]
     },
     "execution_count": 142,
     "metadata": {},
     "output_type": "execute_result"
    }
   ],
   "source": [
    "type(a)"
   ]
  },
  {
   "cell_type": "code",
   "execution_count": 143,
   "id": "90258511",
   "metadata": {},
   "outputs": [
    {
     "data": {
      "text/plain": [
       "3"
      ]
     },
     "execution_count": 143,
     "metadata": {},
     "output_type": "execute_result"
    }
   ],
   "source": [
    "a.size()"
   ]
  },
  {
   "cell_type": "code",
   "execution_count": 144,
   "id": "09e05603",
   "metadata": {},
   "outputs": [
    {
     "data": {
      "text/plain": [
       "8"
      ]
     },
     "execution_count": 144,
     "metadata": {},
     "output_type": "execute_result"
    }
   ],
   "source": [
    "a.dequeue()"
   ]
  },
  {
   "cell_type": "code",
   "execution_count": 145,
   "id": "564a72f3",
   "metadata": {},
   "outputs": [
    {
     "data": {
      "text/plain": [
       "2"
      ]
     },
     "execution_count": 145,
     "metadata": {},
     "output_type": "execute_result"
    }
   ],
   "source": [
    "a.size()"
   ]
  },
  {
   "cell_type": "code",
   "execution_count": 146,
   "id": "5f239460",
   "metadata": {},
   "outputs": [
    {
     "data": {
      "text/plain": [
       "7"
      ]
     },
     "execution_count": 146,
     "metadata": {},
     "output_type": "execute_result"
    }
   ],
   "source": [
    "a.dequeue()"
   ]
  },
  {
   "cell_type": "code",
   "execution_count": 147,
   "id": "7c91cefd",
   "metadata": {},
   "outputs": [],
   "source": [
    "a.enqueue(5)"
   ]
  },
  {
   "cell_type": "code",
   "execution_count": 148,
   "id": "67e1de71",
   "metadata": {},
   "outputs": [
    {
     "data": {
      "text/plain": [
       "2"
      ]
     },
     "execution_count": 148,
     "metadata": {},
     "output_type": "execute_result"
    }
   ],
   "source": [
    "a.dequeue()"
   ]
  },
  {
   "cell_type": "markdown",
   "id": "12de4ea1",
   "metadata": {},
   "source": [
    "# Create Stack"
   ]
  },
  {
   "cell_type": "code",
   "execution_count": 149,
   "id": "7d65b8b5",
   "metadata": {},
   "outputs": [],
   "source": [
    "class Stack:\n",
    "    def __init__(self):\n",
    "        self.items = []\n",
    "    def is_empty(self):\n",
    "        return self.items == []\n",
    "    def push(self, item):\n",
    "        self.items.append(item)\n",
    "    def pop(self):\n",
    "        return self.items.pop()\n",
    "    def peek(self):\n",
    "        l = len(self.items)-1\n",
    "        return self.items[l]\n",
    "    def size(self):\n",
    "        return len(self.items)"
   ]
  },
  {
   "cell_type": "code",
   "execution_count": 151,
   "id": "3355b51a",
   "metadata": {},
   "outputs": [
    {
     "data": {
      "text/plain": [
       "True"
      ]
     },
     "execution_count": 151,
     "metadata": {},
     "output_type": "execute_result"
    }
   ],
   "source": [
    "a=Stack()\n",
    "a.is_empty()"
   ]
  },
  {
   "cell_type": "code",
   "execution_count": 152,
   "id": "95011e6d",
   "metadata": {},
   "outputs": [],
   "source": [
    "a.push(8)\n",
    "a.push(90)\n",
    "a.push(3)\n",
    "a.push(20)"
   ]
  },
  {
   "cell_type": "code",
   "execution_count": 153,
   "id": "19310dbf",
   "metadata": {},
   "outputs": [
    {
     "data": {
      "text/plain": [
       "20"
      ]
     },
     "execution_count": 153,
     "metadata": {},
     "output_type": "execute_result"
    }
   ],
   "source": [
    "a.pop()"
   ]
  },
  {
   "cell_type": "code",
   "execution_count": 154,
   "id": "cf464ba6",
   "metadata": {},
   "outputs": [
    {
     "data": {
      "text/plain": [
       "3"
      ]
     },
     "execution_count": 154,
     "metadata": {},
     "output_type": "execute_result"
    }
   ],
   "source": [
    "a.size()"
   ]
  },
  {
   "cell_type": "code",
   "execution_count": 155,
   "id": "b99f000a",
   "metadata": {},
   "outputs": [
    {
     "data": {
      "text/plain": [
       "3"
      ]
     },
     "execution_count": 155,
     "metadata": {},
     "output_type": "execute_result"
    }
   ],
   "source": [
    "a.pop()"
   ]
  },
  {
   "cell_type": "markdown",
   "id": "ee2cdc6a",
   "metadata": {},
   "source": [
    "# Palindromes findings"
   ]
  },
  {
   "cell_type": "code",
   "execution_count": 159,
   "id": "094185b4",
   "metadata": {},
   "outputs": [],
   "source": [
    "def palindrome(word):\n",
    "    if word==word[::-1]:\n",
    "        print(\"Palindrome\")\n",
    "    else:\n",
    "        print(\"Not Palindrome\")"
   ]
  },
  {
   "cell_type": "code",
   "execution_count": 160,
   "id": "46c24654",
   "metadata": {},
   "outputs": [
    {
     "name": "stdout",
     "output_type": "stream",
     "text": [
      "Palindrome\n"
     ]
    }
   ],
   "source": [
    "palindrome(\"maham\")"
   ]
  },
  {
   "cell_type": "code",
   "execution_count": null,
   "id": "3627e282",
   "metadata": {},
   "outputs": [],
   "source": []
  },
  {
   "cell_type": "code",
   "execution_count": null,
   "id": "58e99dd4",
   "metadata": {},
   "outputs": [],
   "source": []
  },
  {
   "cell_type": "code",
   "execution_count": null,
   "id": "da073d9c",
   "metadata": {},
   "outputs": [],
   "source": []
  },
  {
   "cell_type": "code",
   "execution_count": 1,
   "id": "86b6bc11",
   "metadata": {},
   "outputs": [],
   "source": [
    "def ip_add(IP_address):\n",
    "  ans=\"\"\n",
    "  split_add=IP_address.split(\".\")\n",
    "  #print(split_add)\n",
    "  sep=\"[.]\"\n",
    "  ans=sep.join(split_add)\n",
    "  return ans"
   ]
  },
  {
   "cell_type": "code",
   "execution_count": 2,
   "id": "9421a0de",
   "metadata": {},
   "outputs": [
    {
     "data": {
      "text/plain": [
       "'158[.]36[.]358[.]84'"
      ]
     },
     "execution_count": 2,
     "metadata": {},
     "output_type": "execute_result"
    }
   ],
   "source": [
    "IP_address=\"158.36.358.84\"\n",
    "ip_add(IP_address)"
   ]
  },
  {
   "cell_type": "markdown",
   "id": "484f9720",
   "metadata": {},
   "source": [
    "# Authenticate Password"
   ]
  },
  {
   "cell_type": "code",
   "execution_count": 3,
   "id": "61922da7",
   "metadata": {},
   "outputs": [
    {
     "name": "stdout",
     "output_type": "stream",
     "text": [
      "Enter Your Username : mahendra\n",
      "Enter Your Password : ········\n",
      "Authentication Verified\n"
     ]
    }
   ],
   "source": [
    "import getpass\n",
    "\n",
    "database = {\"mahendra\": \"9090\", \"mahi.ma\": \"8989\"}\n",
    "username = input(\"Enter Your Username : \")\n",
    "password = getpass.getpass(\"Enter Your Password : \")\n",
    "\n",
    "for i in database.keys():\n",
    "    if username == i:\n",
    "        while password != database.get(i):\n",
    "            password = getpass.getpass(\"Enter correct password : \")\n",
    "        print(\"Authentication Verified\")\n",
    "        break\n",
    "else:\n",
    "    print(\"Access Denied\")\n"
   ]
  },
  {
   "cell_type": "markdown",
   "id": "902ea28b",
   "metadata": {},
   "source": [
    "# Authenticate Password untill it gets verified"
   ]
  },
  {
   "cell_type": "code",
   "execution_count": 4,
   "id": "cc39d2c8",
   "metadata": {},
   "outputs": [
    {
     "name": "stdout",
     "output_type": "stream",
     "text": [
      "Enter Your Username : mahendra\n",
      "Enter Your Password : ········\n",
      "Access Denied\n",
      "Enter Your Username : mahendra\n",
      "Enter Your Password : ········\n",
      "Authentication Verified\n"
     ]
    }
   ],
   "source": [
    "import getpass\n",
    "database = {\"mahendra\": \"9090\", \"mahi.ma\": \"8989\"}\n",
    "while True:\n",
    "    username = input(\"Enter Your Username : \")\n",
    "    password = getpass.getpass(\"Enter Your Password : \")\n",
    "\n",
    "    if username in database and password == database[username]:\n",
    "        print(\"Authentication Verified\")\n",
    "        break\n",
    "    else:\n",
    "        print(\"Access Denied\")\n"
   ]
  },
  {
   "cell_type": "markdown",
   "id": "12e427e5",
   "metadata": {},
   "source": [
    "# Merge sort Implementaion"
   ]
  },
  {
   "cell_type": "code",
   "execution_count": 32,
   "id": "424709f4",
   "metadata": {},
   "outputs": [],
   "source": [
    "def merge(L1,L2):\n",
    "    ans=[]\n",
    "    i,j=0,0\n",
    "    while i<len(L1) and j<len(L2):\n",
    "        if L1[i]<L2[j]:\n",
    "            ans.append(L1[i])\n",
    "            i+=1\n",
    "        else:\n",
    "            ans.append(L2[j])\n",
    "            j+=1\n",
    "    while i<len(L1):\n",
    "        ans.append(L1[i])\n",
    "        i+=1\n",
    "    while j<len(L2):\n",
    "        ans.append(L2[j])\n",
    "        j+=1\n",
    "    return ans\n",
    "\n",
    "def merge_sort(L):\n",
    "    if len(L)<=1:\n",
    "        return L\n",
    "    else:\n",
    "        mid=len(L)//2\n",
    "        left=merge_sort(L[:mid])\n",
    "        right=merge_sort(L[mid:])\n",
    "        ans=merge(left,right)\n",
    "        return ans"
   ]
  },
  {
   "cell_type": "code",
   "execution_count": 33,
   "id": "736e1a2f",
   "metadata": {},
   "outputs": [
    {
     "data": {
      "text/plain": [
       "[1, 2, 3, 4, 5, 9, 11, 13, 17]"
      ]
     },
     "execution_count": 33,
     "metadata": {},
     "output_type": "execute_result"
    }
   ],
   "source": [
    "L=[1,4,9,17,2,5,3,11,13]\n",
    "merge_sort(L)"
   ]
  },
  {
   "cell_type": "markdown",
   "id": "dbf5572c",
   "metadata": {},
   "source": [
    "# Picking up random card"
   ]
  },
  {
   "cell_type": "code",
   "execution_count": 34,
   "id": "70f7ede0",
   "metadata": {},
   "outputs": [],
   "source": [
    "import random\n",
    "cards=[\"Diamonds\",\"Spades\",\"Hearts\",\"Clubs\"]\n",
    "ranks=[2,3,4,5,6,7,8,9,10,\"Jack\",\"Queen\",\"King\",\"Ace\"]\n",
    "\n",
    "def Pick_card():\n",
    "    card=random.choices(cards)\n",
    "    rank=random.choices(ranks)\n",
    "    return (f\"the {rank} of {card}\")"
   ]
  },
  {
   "cell_type": "code",
   "execution_count": 39,
   "id": "ee9447ce",
   "metadata": {},
   "outputs": [
    {
     "data": {
      "text/plain": [
       "\"the ['King'] of ['Hearts']\""
      ]
     },
     "execution_count": 39,
     "metadata": {},
     "output_type": "execute_result"
    }
   ],
   "source": [
    "Pick_card()"
   ]
  },
  {
   "cell_type": "markdown",
   "id": "4054116b",
   "metadata": {},
   "source": [
    "# Quartile Deviation"
   ]
  },
  {
   "cell_type": "code",
   "execution_count": 43,
   "id": "b2425872",
   "metadata": {},
   "outputs": [
    {
     "name": "stdout",
     "output_type": "stream",
     "text": [
      "[10, 30, 50, 70, 90, 110, 130, 150, 170, 190]\n",
      "quartile 1: 55.0\n",
      "quartile 2: 100.0\n",
      "quartile 3: 145.0\n",
      "45.0\n"
     ]
    }
   ],
   "source": [
    "import numpy as np\n",
    "data=list(range(10,200,20))\n",
    "print(data)\n",
    "Q1=np.quantile(data,0.25)\n",
    "Q2=np.quantile(data,0.50)\n",
    "Q3=np.quantile(data,0.75)\n",
    "print(\"quartile 1:\",Q1)\n",
    "print(\"quartile 2:\",Q2)\n",
    "print(\"quartile 3:\",Q3)\n",
    "def Quartiledeviation(x,y):\n",
    "    return (x-y)/2\n",
    "print(Quartiledeviation(Q3,Q1))\n"
   ]
  },
  {
   "cell_type": "code",
   "execution_count": null,
   "id": "0302d8cb",
   "metadata": {},
   "outputs": [],
   "source": []
  }
 ],
 "metadata": {
  "kernelspec": {
   "display_name": "Python 3 (ipykernel)",
   "language": "python",
   "name": "python3"
  },
  "language_info": {
   "codemirror_mode": {
    "name": "ipython",
    "version": 3
   },
   "file_extension": ".py",
   "mimetype": "text/x-python",
   "name": "python",
   "nbconvert_exporter": "python",
   "pygments_lexer": "ipython3",
   "version": "3.10.9"
  }
 },
 "nbformat": 4,
 "nbformat_minor": 5
}
