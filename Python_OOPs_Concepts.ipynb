{
  "nbformat": 4,
  "nbformat_minor": 0,
  "metadata": {
    "colab": {
      "provenance": [],
      "authorship_tag": "ABX9TyPXkoM+BAg691aeZDp8FrJY",
      "include_colab_link": true
    },
    "kernelspec": {
      "name": "python3",
      "display_name": "Python 3"
    },
    "language_info": {
      "name": "python"
    }
  },
  "cells": [
    {
      "cell_type": "markdown",
      "metadata": {
        "id": "view-in-github",
        "colab_type": "text"
      },
      "source": [
        "<a href=\"https://colab.research.google.com/github/mahendra204/Python-Basics-Projects/blob/main/Python_OOPs_Concepts.ipynb\" target=\"_parent\"><img src=\"https://colab.research.google.com/assets/colab-badge.svg\" alt=\"Open In Colab\"/></a>"
      ]
    },
    {
      "cell_type": "markdown",
      "source": [
        "#Define class and methods"
      ],
      "metadata": {
        "id": "bCJ6M02woZTo"
      }
    },
    {
      "cell_type": "code",
      "source": [
        "class man:\n",
        "    def __init__(self, name, age):\n",
        "        self.name = name\n",
        "        self.age = age\n",
        "\n",
        "    def speak(self):\n",
        "        print(\"He is speaking\")\n",
        "    def play(self):\n",
        "      print(\"mahendra want to play cricket\")"
      ],
      "metadata": {
        "id": "7Ys-9IVRoMtD"
      },
      "execution_count": 30,
      "outputs": []
    },
    {
      "cell_type": "markdown",
      "source": [
        "# Object creation or instance creation"
      ],
      "metadata": {
        "id": "aXwKTDARuJAF"
      }
    },
    {
      "cell_type": "code",
      "source": [
        "man_obj=man(\"mahendra\",26)"
      ],
      "metadata": {
        "id": "y4bSaIVPomLq"
      },
      "execution_count": 31,
      "outputs": []
    },
    {
      "cell_type": "code",
      "source": [
        "print(\"name:\", man_obj.name)\n",
        "print(\"age:\", man_obj.age)\n",
        "man_obj.speak()\n",
        "man_obj.play()"
      ],
      "metadata": {
        "colab": {
          "base_uri": "https://localhost:8080/"
        },
        "id": "eNmVi69VuOYs",
        "outputId": "963c0aa0-493c-483b-ae56-e9dd558a8e92"
      },
      "execution_count": 42,
      "outputs": [
        {
          "output_type": "stream",
          "name": "stdout",
          "text": [
            "name: mahendra\n",
            "age: 26\n",
            "He is speaking\n",
            "mahendra want to play cricket\n"
          ]
        }
      ]
    },
    {
      "cell_type": "code",
      "source": [],
      "metadata": {
        "colab": {
          "base_uri": "https://localhost:8080/"
        },
        "id": "JYZx2fSauYNr",
        "outputId": "f88f806b-431f-4b3d-da8f-f74dd86823d1"
      },
      "execution_count": 41,
      "outputs": [
        {
          "output_type": "stream",
          "name": "stdout",
          "text": [
            "He is speaking\n",
            "mahendra want to play cricket\n"
          ]
        }
      ]
    },
    {
      "cell_type": "code",
      "source": [],
      "metadata": {
        "colab": {
          "base_uri": "https://localhost:8080/"
        },
        "id": "HwKsqdW2ucPs",
        "outputId": "6b19f9e7-225a-4d4b-9c12-6cde250adf74"
      },
      "execution_count": 29,
      "outputs": [
        {
          "output_type": "stream",
          "name": "stdout",
          "text": [
            "He is speaking\n"
          ]
        }
      ]
    },
    {
      "cell_type": "markdown",
      "source": [
        "# Encapsulation"
      ],
      "metadata": {
        "id": "ohUrIRgYoxrR"
      }
    },
    {
      "cell_type": "code",
      "source": [
        "class bank_account:\n",
        "  def __init__(self, balance):\n",
        "    self._balance=balance      #create encapsulation using underscore\n",
        "  def deposit(self, amount):\n",
        "    self._balance+=amount\n",
        "    print('amount deposit successfully')\n",
        "  def withdraw(self, amount):\n",
        "    if amount<=self._balance:\n",
        "      self._balance-=amount\n",
        "      print('withdrawal of',amount,'successful')\n",
        "    else:\n",
        "      print('insufficient amount of ', amount)\n",
        "  def check_balance(self):\n",
        "    print('accountbalance is:',self._balance)"
      ],
      "metadata": {
        "id": "pVwLgkhjo0OQ"
      },
      "execution_count": 108,
      "outputs": []
    },
    {
      "cell_type": "code",
      "source": [
        "account=bank_account(20000)\n",
        "account.check_balance()"
      ],
      "metadata": {
        "colab": {
          "base_uri": "https://localhost:8080/"
        },
        "id": "sbzAeQCB0THQ",
        "outputId": "5e3e28c4-4d6b-4740-d632-dffe7423c19c"
      },
      "execution_count": 109,
      "outputs": [
        {
          "output_type": "stream",
          "name": "stdout",
          "text": [
            "accountbalance is: 20000\n"
          ]
        }
      ]
    },
    {
      "cell_type": "code",
      "source": [
        "account.deposit(3000)\n",
        "account.check_balance()"
      ],
      "metadata": {
        "colab": {
          "base_uri": "https://localhost:8080/"
        },
        "id": "PLcL_01b0aox",
        "outputId": "f46e4e3f-edf1-4ad7-eba2-2480b021a0af"
      },
      "execution_count": 110,
      "outputs": [
        {
          "output_type": "stream",
          "name": "stdout",
          "text": [
            "amount deposit successfully\n",
            "accountbalance is: 23000\n"
          ]
        }
      ]
    },
    {
      "cell_type": "code",
      "source": [
        "account.withdraw(4000)"
      ],
      "metadata": {
        "colab": {
          "base_uri": "https://localhost:8080/"
        },
        "id": "Nuvog9140j-K",
        "outputId": "4a504f80-cfe3-45e7-ca55-5b0ae8871bda"
      },
      "execution_count": 111,
      "outputs": [
        {
          "output_type": "stream",
          "name": "stdout",
          "text": [
            "withdrawal of 4000 successful\n"
          ]
        }
      ]
    },
    {
      "cell_type": "code",
      "source": [
        "account.check_balance()"
      ],
      "metadata": {
        "colab": {
          "base_uri": "https://localhost:8080/"
        },
        "id": "n_WlDWnM0ykj",
        "outputId": "ece5c85a-79ec-474c-b7bb-c6fa146dd673"
      },
      "execution_count": 112,
      "outputs": [
        {
          "output_type": "stream",
          "name": "stdout",
          "text": [
            "accountbalance is: 19000\n"
          ]
        }
      ]
    },
    {
      "cell_type": "code",
      "source": [
        "account.deposit(38900)\n",
        "account.withdraw(99999)\n",
        "account.check_balance()"
      ],
      "metadata": {
        "colab": {
          "base_uri": "https://localhost:8080/"
        },
        "id": "GC4bIt_c01Bq",
        "outputId": "ea25962b-3146-495a-8d5b-bc2dee72d044"
      },
      "execution_count": 113,
      "outputs": [
        {
          "output_type": "stream",
          "name": "stdout",
          "text": [
            "amount deposit successfully\n",
            "insufficient amount of  99999\n",
            "accountbalance is: 57900\n"
          ]
        }
      ]
    },
    {
      "cell_type": "markdown",
      "source": [
        "## Inheritance"
      ],
      "metadata": {
        "id": "hVbTPUzOpZO_"
      }
    },
    {
      "cell_type": "code",
      "source": [
        "class Man:\n",
        "  def __init__(self, charecter):\n",
        "    self.charecter=charecter\n",
        "  def charect_des(self):\n",
        "    return 'so energitic and enthusiast in learning skills'\n",
        "class mahendra(Man):\n",
        "  def __init__(self, name, age):\n",
        "    super().__init__(\"mahendra\")\n",
        "    self.name=name\n",
        "    self.age=age\n",
        "  def char(self):\n",
        "    return 'Introvert'\n"
      ],
      "metadata": {
        "id": "7oqYn1pzpbQ4"
      },
      "execution_count": 136,
      "outputs": []
    },
    {
      "cell_type": "markdown",
      "source": [
        "# Instance or object creation"
      ],
      "metadata": {
        "id": "QUPHi_Op5oX8"
      }
    },
    {
      "cell_type": "code",
      "source": [
        "mah_obj=mahendra('mahendra',26)"
      ],
      "metadata": {
        "id": "edYYkhMQ18KH"
      },
      "execution_count": 137,
      "outputs": []
    },
    {
      "cell_type": "markdown",
      "source": [
        "# we can all the methods of both parent and child classes with same object"
      ],
      "metadata": {
        "id": "muJCUJU_51ab"
      }
    },
    {
      "cell_type": "code",
      "source": [
        "mah_obj.charect_des()"
      ],
      "metadata": {
        "colab": {
          "base_uri": "https://localhost:8080/",
          "height": 35
        },
        "id": "p42KYXcF44kt",
        "outputId": "89e2b70e-ed95-488b-ce72-ed63aeada172"
      },
      "execution_count": 139,
      "outputs": [
        {
          "output_type": "execute_result",
          "data": {
            "text/plain": [
              "'so energitic and enthusiast in learning skills'"
            ],
            "application/vnd.google.colaboratory.intrinsic+json": {
              "type": "string"
            }
          },
          "metadata": {},
          "execution_count": 139
        }
      ]
    },
    {
      "cell_type": "code",
      "source": [
        "mah_obj.char()"
      ],
      "metadata": {
        "colab": {
          "base_uri": "https://localhost:8080/",
          "height": 35
        },
        "id": "_EaeEEyZ3KpF",
        "outputId": "debd2521-2148-4e02-e788-0f168bb85ce5"
      },
      "execution_count": 140,
      "outputs": [
        {
          "output_type": "execute_result",
          "data": {
            "text/plain": [
              "'Introvert'"
            ],
            "application/vnd.google.colaboratory.intrinsic+json": {
              "type": "string"
            }
          },
          "metadata": {},
          "execution_count": 140
        }
      ]
    },
    {
      "cell_type": "markdown",
      "source": [
        "# polymorphism"
      ],
      "metadata": {
        "id": "bbafc1jcpzDa"
      }
    },
    {
      "cell_type": "code",
      "source": [
        "class Shape:\n",
        "  def area(self):\n",
        "    pass\n",
        "  def perimeter(self):\n",
        "    pass\n",
        "  def volume(self):\n",
        "    pass\n",
        "class Square(Shape):\n",
        "  def __init__(self, side_len):\n",
        "    self.side_len=side_len\n",
        "  def area(self):\n",
        "    return self.side_len**2\n",
        "  def perimeter(self):\n",
        "    return self.side_len*4\n",
        "  def volume(self):\n",
        "    return self.side_len**3\n"
      ],
      "metadata": {
        "id": "5UVkGSZop1f8"
      },
      "execution_count": 144,
      "outputs": []
    },
    {
      "cell_type": "code",
      "source": [
        "shapes=Square(8)\n",
        "shapes.area()"
      ],
      "metadata": {
        "colab": {
          "base_uri": "https://localhost:8080/"
        },
        "id": "lPRqKGozBZA0",
        "outputId": "93a2ca01-fc73-4b4d-9078-287a39a4ae96"
      },
      "execution_count": 154,
      "outputs": [
        {
          "output_type": "execute_result",
          "data": {
            "text/plain": [
              "64"
            ]
          },
          "metadata": {},
          "execution_count": 154
        }
      ]
    },
    {
      "cell_type": "code",
      "source": [
        "shapes.perimeter()"
      ],
      "metadata": {
        "colab": {
          "base_uri": "https://localhost:8080/"
        },
        "id": "V2meeP6SCIgV",
        "outputId": "370026fb-9d78-492e-fc2f-82dc2e90fbb1"
      },
      "execution_count": 155,
      "outputs": [
        {
          "output_type": "execute_result",
          "data": {
            "text/plain": [
              "32"
            ]
          },
          "metadata": {},
          "execution_count": 155
        }
      ]
    },
    {
      "cell_type": "code",
      "source": [
        "shapes.volume()"
      ],
      "metadata": {
        "colab": {
          "base_uri": "https://localhost:8080/"
        },
        "id": "_T9UF5LHCMgk",
        "outputId": "ac66ebee-a5eb-4e4b-9924-44193be12342"
      },
      "execution_count": 156,
      "outputs": [
        {
          "output_type": "execute_result",
          "data": {
            "text/plain": [
              "512"
            ]
          },
          "metadata": {},
          "execution_count": 156
        }
      ]
    },
    {
      "cell_type": "markdown",
      "source": [
        "## Abstraction"
      ],
      "metadata": {
        "id": "7sdR1V-dq0Fe"
      }
    },
    {
      "cell_type": "code",
      "source": [
        "from abc import ABC\n",
        "from abc import abstractmethod\n",
        "class Shape(ABC):\n",
        "    @abstractmethod\n",
        "    def calculate_area(self):\n",
        "        pass\n",
        "class Circle(Shape):\n",
        "    def __init__(self, radius):\n",
        "        self.radius = radius\n",
        "    def calculate_area(self):\n",
        "        return 3.14 * self.radius * self.radius\n",
        "\n",
        "class Rectangle(Shape):\n",
        "    def __init__(self, length, width):\n",
        "        self.length = length\n",
        "        self.width = width\n",
        "    def calculate_area(self):\n",
        "        return self.length * self.width\n",
        "\n",
        "circle = Circle(5)\n",
        "rectangle = Rectangle(4, 6)\n",
        "\n",
        "print(\"Area of Circle:\", circle.calculate_area())\n",
        "print(\"Area of Rectangle:\", rectangle.calculate_area())\n"
      ],
      "metadata": {
        "colab": {
          "base_uri": "https://localhost:8080/"
        },
        "id": "jZQdWjD5oLhA",
        "outputId": "54397ffc-428d-479e-a1cf-a9b3f41f3e9b"
      },
      "execution_count": 158,
      "outputs": [
        {
          "output_type": "stream",
          "name": "stdout",
          "text": [
            "Area of Circle: 78.5\n",
            "Area of Rectangle: 24\n"
          ]
        }
      ]
    },
    {
      "cell_type": "code",
      "source": [],
      "metadata": {
        "id": "F-aGe9SXsCJ4"
      },
      "execution_count": null,
      "outputs": []
    }
  ]
}