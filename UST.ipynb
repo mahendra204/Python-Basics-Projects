{
 "cells": [
  {
   "cell_type": "code",
   "execution_count": null,
   "metadata": {
    "application/vnd.databricks.v1+cell": {
     "cellMetadata": {
      "byteLimit": 2048000,
      "rowLimit": 10000
     },
     "inputWidgets": {},
     "nuid": "62c18088-a084-43f9-a7e7-d3c7142d0c7b",
     "showTitle": false,
     "tableResultSettingsMap": {},
     "title": ""
    }
   },
   "outputs": [],
   "source": [
    "from pyspark.sql import SparkSession"
   ]
  },
  {
   "cell_type": "code",
   "execution_count": null,
   "metadata": {
    "application/vnd.databricks.v1+cell": {
     "cellMetadata": {
      "byteLimit": 2048000,
      "rowLimit": 10000
     },
     "inputWidgets": {},
     "nuid": "623d86db-57cc-4d71-aef0-8a65d7570a92",
     "showTitle": false,
     "tableResultSettingsMap": {},
     "title": ""
    }
   },
   "outputs": [],
   "source": [
    "spark = SparkSession.builder.appName('sample').getOrCreate()"
   ]
  },
  {
   "cell_type": "code",
   "execution_count": null,
   "metadata": {
    "application/vnd.databricks.v1+cell": {
     "cellMetadata": {
      "byteLimit": 2048000,
      "rowLimit": 10000
     },
     "inputWidgets": {},
     "nuid": "530273f8-6254-459e-9c3b-9a78122e658e",
     "showTitle": false,
     "tableResultSettingsMap": {},
     "title": ""
    }
   },
   "outputs": [],
   "source": [
    "data=[(1,'mahendra','IT',40000),\n",
    "      (2,'mahi','Data',30000),\n",
    "      (3,'sam','Data',20000),\n",
    "      (4,'teja','software',50000)]"
   ]
  },
  {
   "cell_type": "code",
   "execution_count": null,
   "metadata": {
    "application/vnd.databricks.v1+cell": {
     "cellMetadata": {
      "byteLimit": 2048000,
      "rowLimit": 10000
     },
     "inputWidgets": {},
     "nuid": "089671d2-011d-460c-bc88-49b7f63b0d18",
     "showTitle": false,
     "tableResultSettingsMap": {},
     "title": ""
    }
   },
   "outputs": [],
   "source": [
    "cols = ['Id','Name','Department','salary']"
   ]
  },
  {
   "cell_type": "code",
   "execution_count": null,
   "metadata": {
    "application/vnd.databricks.v1+cell": {
     "cellMetadata": {
      "byteLimit": 2048000,
      "rowLimit": 10000
     },
     "inputWidgets": {},
     "nuid": "48a7344e-33d5-46f8-bc2c-465f70f8180f",
     "showTitle": false,
     "tableResultSettingsMap": {},
     "title": ""
    }
   },
   "outputs": [],
   "source": [
    "df=spark.createDataFrame(data,cols)"
   ]
  },
  {
   "cell_type": "code",
   "execution_count": null,
   "metadata": {
    "application/vnd.databricks.v1+cell": {
     "cellMetadata": {
      "byteLimit": 2048000,
      "rowLimit": 10000
     },
     "inputWidgets": {},
     "nuid": "0d838963-b186-483b-bef5-987090d20700",
     "showTitle": false,
     "tableResultSettingsMap": {},
     "title": ""
    }
   },
   "outputs": [
    {
     "name": "stdout",
     "output_type": "stream",
     "text": [
      "+---+--------+----------+------+\n",
      "| Id|    Name|Department|salary|\n",
      "+---+--------+----------+------+\n",
      "|  1|mahendra|        IT| 40000|\n",
      "|  2|    mahi|      Data| 30000|\n",
      "|  3|     sam|      Data| 20000|\n",
      "|  4|    teja|  software| 50000|\n",
      "+---+--------+----------+------+\n",
      "\n"
     ]
    }
   ],
   "source": [
    "df.show()"
   ]
  },
  {
   "cell_type": "code",
   "execution_count": null,
   "metadata": {
    "application/vnd.databricks.v1+cell": {
     "cellMetadata": {
      "byteLimit": 2048000,
      "rowLimit": 10000
     },
     "inputWidgets": {},
     "nuid": "f74b3c45-5dc6-40ee-8f9c-8832a9733a3b",
     "showTitle": false,
     "tableResultSettingsMap": {},
     "title": ""
    }
   },
   "outputs": [],
   "source": [
    "from pyspark.sql import types\n",
    "from pyspark.sql.types import *\n",
    "from pyspark.sql.functions import *\n",
    "from pyspark.sql import window"
   ]
  },
  {
   "cell_type": "code",
   "execution_count": null,
   "metadata": {
    "application/vnd.databricks.v1+cell": {
     "cellMetadata": {
      "byteLimit": 2048000,
      "rowLimit": 10000
     },
     "inputWidgets": {},
     "nuid": "4d47c596-a1cc-482c-abc9-b4be035c2fcd",
     "showTitle": false,
     "tableResultSettingsMap": {},
     "title": ""
    }
   },
   "outputs": [],
   "source": [
    "orders = spark.read.csv('dbfs:/FileStore/Orders.csv',header = True, inferSchema=True)"
   ]
  },
  {
   "cell_type": "code",
   "execution_count": null,
   "metadata": {
    "application/vnd.databricks.v1+cell": {
     "cellMetadata": {
      "byteLimit": 2048000,
      "rowLimit": 10000
     },
     "inputWidgets": {},
     "nuid": "92345030-6b13-4158-bcac-6bcdc15d4a23",
     "showTitle": false,
     "tableResultSettingsMap": {},
     "title": ""
    }
   },
   "outputs": [
    {
     "name": "stdout",
     "output_type": "stream",
     "text": [
      "+------------+------------+------------+------------------------+-------------------+-------------------------+-----------------------------+\n",
      "|    order_id| customer_id|order_status|order_purchase_timestamp|  order_approved_at|order_delivered_timestamp|order_estimated_delivery_date|\n",
      "+------------+------------+------------+------------------------+-------------------+-------------------------+-----------------------------+\n",
      "|Axfy13Hk4PIk|hCT0x9JiGXBQ|   delivered|     2017-10-22 18:57:54|2017-10-22 19:14:13|      2017-10-26 22:19:52|                   2017-11-09|\n",
      "|v6px92oS8cLG|PxA7fv9spyhx|   delivered|     2018-06-20 21:40:31|2018-06-20 22:20:20|      2018-07-03 22:51:22|                   2018-07-24|\n",
      "|Ulpf9skrhjfm|g3nXeJkGI0Qw|   delivered|     2018-02-16 16:19:31|2018-02-17 16:15:35|      2018-02-27 01:29:50|                   2018-03-08|\n",
      "|bwJVWupf2keN|EOEsCQ6QlpIg|   delivered|     2018-08-18 18:04:29|2018-08-18 18:15:16|      2018-08-27 20:03:51|                   2018-09-19|\n",
      "|Dd0QnrMk9Cj5|mVz5LO2Vd6cL|   delivered|     2017-12-22 16:44:04|2017-12-22 17:31:31|      2018-01-05 19:22:49|                   2018-01-18|\n",
      "|VjTVGzqe8U6R|UkqnhxmX7YMP|   delivered|     2017-09-01 14:38:16|2017-09-01 14:50:24|      2017-09-15 18:57:50|                   2017-09-26|\n",
      "|xNba906m4TM1|85jiDiGSfhTu|   delivered|     2018-04-23 21:03:00|2018-04-24 18:18:18|      2018-04-25 20:14:38|                   2018-05-04|\n",
      "|VEDSMTavbQwk|gDdkaN8b9s1g|   delivered|     2018-02-23 14:49:39|2018-02-23 15:16:13|      2018-04-02 14:12:50|                   2018-03-15|\n",
      "|DzNM8wrcMGFH|9Csx6oXlpLl1|   delivered|     2017-11-24 19:12:37|2017-11-25 04:54:03|      2017-12-11 13:09:32|                   2017-12-14|\n",
      "|NpJz7zF9U1ae|gZTPKLPRnreg|   delivered|     2017-11-30 11:48:21|2017-11-30 13:31:19|      2017-12-14 16:38:47|                   2018-01-03|\n",
      "|mHyhzcUeLGj2|TDEBQrhIwApB|   delivered|     2018-04-02 22:39:59|2018-04-03 22:35:18|      2018-04-13 18:12:30|                   2018-04-23|\n",
      "|StM5K4TLyrt5|1k71TCYNFCzj|   delivered|     2018-05-30 09:25:25|2018-05-30 09:35:16|      2018-06-21 18:22:15|                   2018-07-05|\n",
      "|Q97dFuo1kaq9|IfWKDQHkjLDd|   delivered|     2018-04-10 00:17:56|2018-04-10 00:35:11|      2018-04-20 18:03:58|                   2018-05-04|\n",
      "|07j6mlMhSVtx|kZ0rkJCJ6N5y|   delivered|     2018-05-02 22:52:10|2018-05-03 00:13:21|      2018-05-09 23:48:32|                   2018-05-18|\n",
      "|kxa1InBj9gwP|zsCKIdqYLV01|   delivered|     2017-04-24 20:06:41|2017-04-24 20:22:24|      2017-05-05 10:22:27|                   2017-05-25|\n",
      "|P5R6jr1qZdh4|FrEvnEiMKGpr|    canceled|     2017-07-24 11:38:43|2017-07-24 11:50:18|                     null|                   2017-08-07|\n",
      "|HqV5f8K2UYoA|3zvaY9gUH9bO|   delivered|     2018-06-15 15:44:21|2018-06-15 16:00:22|      2018-06-25 22:27:56|                   2018-07-11|\n",
      "|j5rwgECNf14O|bUornDCZmRD4|   delivered|     2018-03-15 11:13:23|2018-03-15 11:29:14|      2018-04-09 18:54:36|                   2018-04-03|\n",
      "|43It0OEHVyJe|qEVfsXFU3er9|   delivered|     2017-03-05 16:10:01|2017-03-05 16:25:11|      2017-04-18 15:28:21|                   2017-04-06|\n",
      "|ddXx4T93MeaI|mPg90mQwmDOP|   delivered|     2017-10-03 12:58:11|2017-10-03 13:07:28|      2017-10-09 14:06:32|                   2017-10-30|\n",
      "+------------+------------+------------+------------------------+-------------------+-------------------------+-----------------------------+\n",
      "only showing top 20 rows\n",
      "\n"
     ]
    }
   ],
   "source": [
    "orders.show()"
   ]
  },
  {
   "cell_type": "code",
   "execution_count": null,
   "metadata": {
    "application/vnd.databricks.v1+cell": {
     "cellMetadata": {
      "byteLimit": 2048000,
      "rowLimit": 10000
     },
     "inputWidgets": {},
     "nuid": "6b3b33d0-4dcd-4663-9175-83c13a05ba4b",
     "showTitle": false,
     "tableResultSettingsMap": {},
     "title": ""
    }
   },
   "outputs": [
    {
     "name": "stdout",
     "output_type": "stream",
     "text": [
      "Out[14]: Row(order_id='Axfy13Hk4PIk', customer_id='hCT0x9JiGXBQ', order_status='delivered', order_purchase_timestamp=datetime.datetime(2017, 10, 22, 18, 57, 54), order_approved_at=datetime.datetime(2017, 10, 22, 19, 14, 13), order_delivered_timestamp=datetime.datetime(2017, 10, 26, 22, 19, 52), order_estimated_delivery_date=datetime.date(2017, 11, 9))"
     ]
    }
   ],
   "source": [
    "orders.head()"
   ]
  },
  {
   "cell_type": "code",
   "execution_count": null,
   "metadata": {
    "application/vnd.databricks.v1+cell": {
     "cellMetadata": {
      "byteLimit": 2048000,
      "rowLimit": 10000
     },
     "inputWidgets": {},
     "nuid": "a0493ad3-2fbc-42a5-9d15-763dba398631",
     "showTitle": false,
     "tableResultSettingsMap": {},
     "title": ""
    }
   },
   "outputs": [
    {
     "name": "stdout",
     "output_type": "stream",
     "text": [
      "Out[16]: [Row(order_id='zlcLnXGgAabl', customer_id='bfJtzkBGksdY', order_status='delivered', order_purchase_timestamp=datetime.datetime(2018, 8, 19, 17, 25, 36), order_approved_at=datetime.datetime(2018, 8, 21, 4, 35, 30), order_delivered_timestamp=datetime.datetime(2018, 8, 30, 14, 47, 46), order_estimated_delivery_date=datetime.date(2018, 9, 4)),\n",
      " Row(order_id='IlTAoIkILwrq', customer_id='4hjsCpj6FC7g', order_status='delivered', order_purchase_timestamp=datetime.datetime(2017, 12, 15, 11, 20, 27), order_approved_at=datetime.datetime(2017, 12, 16, 2, 37, 32), order_delivered_timestamp=datetime.datetime(2017, 12, 20, 19, 23, 40), order_estimated_delivery_date=datetime.date(2018, 1, 4)),\n",
      " Row(order_id='uA6oXfftGVmT', customer_id='DLn56oKHl9bv', order_status='delivered', order_purchase_timestamp=datetime.datetime(2018, 7, 24, 6, 39, 14), order_approved_at=datetime.datetime(2018, 7, 24, 11, 20, 39), order_delivered_timestamp=datetime.datetime(2018, 7, 27, 1, 41, 40), order_estimated_delivery_date=datetime.date(2018, 8, 1)),\n",
      " Row(order_id='v3QtU6xlGDJp', customer_id='auSfRYUQUOIq', order_status='delivered', order_purchase_timestamp=datetime.datetime(2018, 8, 11, 8, 4, 22), order_approved_at=datetime.datetime(2018, 8, 11, 8, 24, 40), order_delivered_timestamp=datetime.datetime(2018, 8, 14, 21, 43, 51), order_estimated_delivery_date=datetime.date(2018, 8, 17)),\n",
      " Row(order_id='Xo1fqyXOC6CR', customer_id='rhevVNXYJnEs', order_status='delivered', order_purchase_timestamp=datetime.datetime(2018, 6, 9, 21, 46, 58), order_approved_at=datetime.datetime(2018, 6, 9, 22, 19), order_delivered_timestamp=datetime.datetime(2018, 6, 14, 15, 3, 46), order_estimated_delivery_date=datetime.date(2018, 7, 5))]"
     ]
    }
   ],
   "source": [
    "orders.tail(5)"
   ]
  },
  {
   "cell_type": "code",
   "execution_count": null,
   "metadata": {
    "application/vnd.databricks.v1+cell": {
     "cellMetadata": {
      "byteLimit": 2048000,
      "rowLimit": 10000
     },
     "inputWidgets": {},
     "nuid": "e77fbb32-fba4-400c-8880-ed1bd533ec3d",
     "showTitle": false,
     "tableResultSettingsMap": {},
     "title": ""
    }
   },
   "outputs": [
    {
     "name": "stdout",
     "output_type": "stream",
     "text": [
      "+------------+------------+------------+------------------------+-------------------+-------------------------+-----------------------------+\n",
      "|    order_id| customer_id|order_status|order_purchase_timestamp|  order_approved_at|order_delivered_timestamp|order_estimated_delivery_date|\n",
      "+------------+------------+------------+------------------------+-------------------+-------------------------+-----------------------------+\n",
      "|Axfy13Hk4PIk|hCT0x9JiGXBQ|   delivered|     2017-10-22 18:57:54|2017-10-22 19:14:13|      2017-10-26 22:19:52|                   2017-11-09|\n",
      "|v6px92oS8cLG|PxA7fv9spyhx|   delivered|     2018-06-20 21:40:31|2018-06-20 22:20:20|      2018-07-03 22:51:22|                   2018-07-24|\n",
      "|Ulpf9skrhjfm|g3nXeJkGI0Qw|   delivered|     2018-02-16 16:19:31|2018-02-17 16:15:35|      2018-02-27 01:29:50|                   2018-03-08|\n",
      "|bwJVWupf2keN|EOEsCQ6QlpIg|   delivered|     2018-08-18 18:04:29|2018-08-18 18:15:16|      2018-08-27 20:03:51|                   2018-09-19|\n",
      "|Dd0QnrMk9Cj5|mVz5LO2Vd6cL|   delivered|     2017-12-22 16:44:04|2017-12-22 17:31:31|      2018-01-05 19:22:49|                   2018-01-18|\n",
      "|VjTVGzqe8U6R|UkqnhxmX7YMP|   delivered|     2017-09-01 14:38:16|2017-09-01 14:50:24|      2017-09-15 18:57:50|                   2017-09-26|\n",
      "|xNba906m4TM1|85jiDiGSfhTu|   delivered|     2018-04-23 21:03:00|2018-04-24 18:18:18|      2018-04-25 20:14:38|                   2018-05-04|\n",
      "|VEDSMTavbQwk|gDdkaN8b9s1g|   delivered|     2018-02-23 14:49:39|2018-02-23 15:16:13|      2018-04-02 14:12:50|                   2018-03-15|\n",
      "|DzNM8wrcMGFH|9Csx6oXlpLl1|   delivered|     2017-11-24 19:12:37|2017-11-25 04:54:03|      2017-12-11 13:09:32|                   2017-12-14|\n",
      "|NpJz7zF9U1ae|gZTPKLPRnreg|   delivered|     2017-11-30 11:48:21|2017-11-30 13:31:19|      2017-12-14 16:38:47|                   2018-01-03|\n",
      "|mHyhzcUeLGj2|TDEBQrhIwApB|   delivered|     2018-04-02 22:39:59|2018-04-03 22:35:18|      2018-04-13 18:12:30|                   2018-04-23|\n",
      "|StM5K4TLyrt5|1k71TCYNFCzj|   delivered|     2018-05-30 09:25:25|2018-05-30 09:35:16|      2018-06-21 18:22:15|                   2018-07-05|\n",
      "|Q97dFuo1kaq9|IfWKDQHkjLDd|   delivered|     2018-04-10 00:17:56|2018-04-10 00:35:11|      2018-04-20 18:03:58|                   2018-05-04|\n",
      "|07j6mlMhSVtx|kZ0rkJCJ6N5y|   delivered|     2018-05-02 22:52:10|2018-05-03 00:13:21|      2018-05-09 23:48:32|                   2018-05-18|\n",
      "|kxa1InBj9gwP|zsCKIdqYLV01|   delivered|     2017-04-24 20:06:41|2017-04-24 20:22:24|      2017-05-05 10:22:27|                   2017-05-25|\n",
      "|P5R6jr1qZdh4|FrEvnEiMKGpr|    canceled|     2017-07-24 11:38:43|2017-07-24 11:50:18|                     null|                   2017-08-07|\n",
      "|HqV5f8K2UYoA|3zvaY9gUH9bO|   delivered|     2018-06-15 15:44:21|2018-06-15 16:00:22|      2018-06-25 22:27:56|                   2018-07-11|\n",
      "|j5rwgECNf14O|bUornDCZmRD4|   delivered|     2018-03-15 11:13:23|2018-03-15 11:29:14|      2018-04-09 18:54:36|                   2018-04-03|\n",
      "|43It0OEHVyJe|qEVfsXFU3er9|   delivered|     2017-03-05 16:10:01|2017-03-05 16:25:11|      2017-04-18 15:28:21|                   2017-04-06|\n",
      "|ddXx4T93MeaI|mPg90mQwmDOP|   delivered|     2017-10-03 12:58:11|2017-10-03 13:07:28|      2017-10-09 14:06:32|                   2017-10-30|\n",
      "+------------+------------+------------+------------------------+-------------------+-------------------------+-----------------------------+\n",
      "only showing top 20 rows\n",
      "\n"
     ]
    }
   ],
   "source": [
    "orders.show()"
   ]
  },
  {
   "cell_type": "code",
   "execution_count": null,
   "metadata": {
    "application/vnd.databricks.v1+cell": {
     "cellMetadata": {
      "byteLimit": 2048000,
      "rowLimit": 10000
     },
     "inputWidgets": {},
     "nuid": "28080931-1f4b-4bee-ae82-cd984192e8a7",
     "showTitle": false,
     "tableResultSettingsMap": {},
     "title": ""
    }
   },
   "outputs": [],
   "source": [
    "customers = spark.read.csv(\"dbfs:/FileStore/Customers.csv\",header=True, inferSchema=True)"
   ]
  },
  {
   "cell_type": "code",
   "execution_count": null,
   "metadata": {
    "application/vnd.databricks.v1+cell": {
     "cellMetadata": {
      "byteLimit": 2048000,
      "rowLimit": 10000
     },
     "inputWidgets": {},
     "nuid": "6bfefee2-2ad3-42ae-ae2d-6a0928137c06",
     "showTitle": false,
     "tableResultSettingsMap": {},
     "title": ""
    }
   },
   "outputs": [
    {
     "name": "stdout",
     "output_type": "stream",
     "text": [
      "+------------+------------------------+------------------+--------------+\n",
      "| customer_id|customer_zip_code_prefix|     customer_city|customer_state|\n",
      "+------------+------------------------+------------------+--------------+\n",
      "|hCT0x9JiGXBQ|                   58125|   varzea paulista|            SP|\n",
      "|PxA7fv9spyhx|                    3112|armacao dos buzios|            RJ|\n",
      "|g3nXeJkGI0Qw|                    4119|           jandira|            SP|\n",
      "|EOEsCQ6QlpIg|                   18212|        uberlandia|            MG|\n",
      "|mVz5LO2Vd6cL|                   88868|          ilhabela|            SP|\n",
      "|UkqnhxmX7YMP|                   25902|       porto uniao|            SC|\n",
      "|85jiDiGSfhTu|                    4762|         guarulhos|            SP|\n",
      "|gDdkaN8b9s1g|                   75870|        mogi-guacu|            SP|\n",
      "|9Csx6oXlpLl1|                   69068|         bebedouro|            SP|\n",
      "|gZTPKLPRnreg|                   20921|         sao paulo|            SP|\n",
      "|TDEBQrhIwApB|                    1223|         itaperuna|            RJ|\n",
      "|1k71TCYNFCzj|                   11703|             serra|            ES|\n",
      "|IfWKDQHkjLDd|                   32407|       sao goncalo|            RJ|\n",
      "|kZ0rkJCJ6N5y|                   13843|   mogi das cruzes|            SP|\n",
      "|zsCKIdqYLV01|                    2961|             caico|            RN|\n",
      "|FrEvnEiMKGpr|                   28630|         sao paulo|            SP|\n",
      "|3zvaY9gUH9bO|                   59020|       barra mansa|            RJ|\n",
      "|bUornDCZmRD4|                    3440|         sao paulo|            SP|\n",
      "|qEVfsXFU3er9|                    3936|             apora|            BA|\n",
      "|mPg90mQwmDOP|                   85140|          brasilia|            DF|\n",
      "+------------+------------------------+------------------+--------------+\n",
      "only showing top 20 rows\n",
      "\n"
     ]
    }
   ],
   "source": [
    "customers.show()"
   ]
  },
  {
   "cell_type": "code",
   "execution_count": null,
   "metadata": {
    "application/vnd.databricks.v1+cell": {
     "cellMetadata": {
      "byteLimit": 2048000,
      "rowLimit": 10000
     },
     "inputWidgets": {},
     "nuid": "ea7ec249-9f46-4987-bd72-624104c9ef70",
     "showTitle": false,
     "tableResultSettingsMap": {},
     "title": ""
    }
   },
   "outputs": [
    {
     "name": "stdout",
     "output_type": "stream",
     "text": [
      "root\n",
      " |-- order_id: string (nullable = true)\n",
      " |-- customer_id: string (nullable = true)\n",
      " |-- order_status: string (nullable = true)\n",
      " |-- order_purchase_timestamp: timestamp (nullable = true)\n",
      " |-- order_approved_at: timestamp (nullable = true)\n",
      " |-- order_delivered_timestamp: timestamp (nullable = true)\n",
      " |-- order_estimated_delivery_date: date (nullable = true)\n",
      "\n"
     ]
    }
   ],
   "source": [
    "orders.printSchema()"
   ]
  },
  {
   "cell_type": "code",
   "execution_count": null,
   "metadata": {
    "application/vnd.databricks.v1+cell": {
     "cellMetadata": {
      "byteLimit": 2048000,
      "rowLimit": 10000
     },
     "inputWidgets": {},
     "nuid": "ae3aacc3-98a9-4e20-b783-e5d9d4ca5d09",
     "showTitle": false,
     "tableResultSettingsMap": {},
     "title": ""
    }
   },
   "outputs": [
    {
     "name": "stdout",
     "output_type": "stream",
     "text": [
      "root\n",
      " |-- customer_id: string (nullable = true)\n",
      " |-- customer_zip_code_prefix: integer (nullable = true)\n",
      " |-- customer_city: string (nullable = true)\n",
      " |-- customer_state: string (nullable = true)\n",
      "\n"
     ]
    }
   ],
   "source": [
    "customers.printSchema()"
   ]
  },
  {
   "cell_type": "code",
   "execution_count": null,
   "metadata": {
    "application/vnd.databricks.v1+cell": {
     "cellMetadata": {
      "byteLimit": 2048000,
      "rowLimit": 10000
     },
     "inputWidgets": {},
     "nuid": "bc1eab1f-1f5f-4125-aaf9-8792a61f5298",
     "showTitle": false,
     "tableResultSettingsMap": {},
     "title": ""
    }
   },
   "outputs": [
    {
     "name": "stdout",
     "output_type": "stream",
     "text": [
      "root\n",
      " |-- Id: long (nullable = true)\n",
      " |-- Name: string (nullable = true)\n",
      " |-- Department: string (nullable = true)\n",
      " |-- salary: long (nullable = true)\n",
      "\n"
     ]
    }
   ],
   "source": [
    "df.printSchema()"
   ]
  },
  {
   "cell_type": "code",
   "execution_count": null,
   "metadata": {
    "application/vnd.databricks.v1+cell": {
     "cellMetadata": {
      "byteLimit": 2048000,
      "rowLimit": 10000
     },
     "inputWidgets": {},
     "nuid": "3588586d-d1da-408b-847d-d8b5c2595b9b",
     "showTitle": false,
     "tableResultSettingsMap": {},
     "title": ""
    }
   },
   "outputs": [
    {
     "name": "stdout",
     "output_type": "stream",
     "text": [
      "+---+--------+----------+------+\n",
      "| Id|    Name|Department|salary|\n",
      "+---+--------+----------+------+\n",
      "|  1|mahendra|        IT| 40000|\n",
      "|  2|    mahi|      Data| 30000|\n",
      "|  3|     sam|      Data| 20000|\n",
      "|  4|    teja|  software| 50000|\n",
      "+---+--------+----------+------+\n",
      "\n"
     ]
    }
   ],
   "source": [
    "df.show()"
   ]
  },
  {
   "cell_type": "code",
   "execution_count": null,
   "metadata": {
    "application/vnd.databricks.v1+cell": {
     "cellMetadata": {
      "byteLimit": 2048000,
      "rowLimit": 10000
     },
     "inputWidgets": {},
     "nuid": "d772301f-48cc-4dae-b1a7-7a99cc01453a",
     "showTitle": false,
     "tableResultSettingsMap": {},
     "title": ""
    }
   },
   "outputs": [],
   "source": [
    "df=df.withColumn(\"mgr_id\", col('Id') +1)"
   ]
  },
  {
   "cell_type": "code",
   "execution_count": null,
   "metadata": {
    "application/vnd.databricks.v1+cell": {
     "cellMetadata": {
      "byteLimit": 2048000,
      "rowLimit": 10000
     },
     "inputWidgets": {},
     "nuid": "390b687d-d11b-424c-b0de-f93453e0d241",
     "showTitle": false,
     "tableResultSettingsMap": {},
     "title": ""
    }
   },
   "outputs": [
    {
     "name": "stdout",
     "output_type": "stream",
     "text": [
      "+---+--------+----------+------+------+\n",
      "| Id|    Name|Department|salary|mgr_id|\n",
      "+---+--------+----------+------+------+\n",
      "|  1|mahendra|        IT| 40000|     2|\n",
      "|  2|    mahi|      Data| 30000|     3|\n",
      "|  3|     sam|      Data| 20000|     4|\n",
      "|  4|    teja|  software| 50000|     5|\n",
      "+---+--------+----------+------+------+\n",
      "\n"
     ]
    }
   ],
   "source": [
    "df.show()"
   ]
  },
  {
   "cell_type": "code",
   "execution_count": null,
   "metadata": {
    "application/vnd.databricks.v1+cell": {
     "cellMetadata": {
      "byteLimit": 2048000,
      "rowLimit": 10000
     },
     "inputWidgets": {},
     "nuid": "200ad621-8f74-4fb5-960e-27e6bf383f34",
     "showTitle": false,
     "tableResultSettingsMap": {},
     "title": ""
    }
   },
   "outputs": [],
   "source": [
    "df = df.withColumn(\"mgr_id\", when(col(\"Id\") == 4, 2).otherwise(col(\"mgr_id\")))\n"
   ]
  },
  {
   "cell_type": "code",
   "execution_count": null,
   "metadata": {
    "application/vnd.databricks.v1+cell": {
     "cellMetadata": {
      "byteLimit": 2048000,
      "rowLimit": 10000
     },
     "inputWidgets": {},
     "nuid": "baffa758-1213-48a6-9e3d-d3c706690953",
     "showTitle": false,
     "tableResultSettingsMap": {},
     "title": ""
    }
   },
   "outputs": [
    {
     "name": "stdout",
     "output_type": "stream",
     "text": [
      "+---+--------+----------+------+------+\n",
      "| Id|    Name|Department|salary|mgr_id|\n",
      "+---+--------+----------+------+------+\n",
      "|  1|mahendra|        IT| 40000|     2|\n",
      "|  2|    mahi|      Data| 30000|     3|\n",
      "|  3|     sam|      Data| 20000|     4|\n",
      "|  4|    teja|  software| 50000|     2|\n",
      "+---+--------+----------+------+------+\n",
      "\n"
     ]
    }
   ],
   "source": [
    "df.show()"
   ]
  },
  {
   "cell_type": "code",
   "execution_count": null,
   "metadata": {
    "application/vnd.databricks.v1+cell": {
     "cellMetadata": {
      "byteLimit": 2048000,
      "rowLimit": 10000
     },
     "inputWidgets": {},
     "nuid": "2f20adef-edde-421c-8163-1e52e3e4981a",
     "showTitle": false,
     "tableResultSettingsMap": {},
     "title": ""
    }
   },
   "outputs": [],
   "source": [
    "joined_data=df.join(df, 'mgr_id')"
   ]
  },
  {
   "cell_type": "code",
   "execution_count": null,
   "metadata": {
    "application/vnd.databricks.v1+cell": {
     "cellMetadata": {
      "byteLimit": 2048000,
      "rowLimit": 10000
     },
     "inputWidgets": {},
     "nuid": "f2a19b33-c409-4ea1-b2cb-0feb21f32435",
     "showTitle": false,
     "tableResultSettingsMap": {},
     "title": ""
    }
   },
   "outputs": [
    {
     "name": "stdout",
     "output_type": "stream",
     "text": [
      "+------+---+--------+----------+------+---+--------+----------+------+\n",
      "|mgr_id| Id|    Name|Department|salary| Id|    Name|Department|salary|\n",
      "+------+---+--------+----------+------+---+--------+----------+------+\n",
      "|     2|  1|mahendra|        IT| 40000|  1|mahendra|        IT| 40000|\n",
      "|     2|  1|mahendra|        IT| 40000|  4|    teja|  software| 50000|\n",
      "|     2|  4|    teja|  software| 50000|  1|mahendra|        IT| 40000|\n",
      "|     2|  4|    teja|  software| 50000|  4|    teja|  software| 50000|\n",
      "|     3|  2|    mahi|      Data| 30000|  2|    mahi|      Data| 30000|\n",
      "|     4|  3|     sam|      Data| 20000|  3|     sam|      Data| 20000|\n",
      "+------+---+--------+----------+------+---+--------+----------+------+\n",
      "\n"
     ]
    }
   ],
   "source": [
    "joined_data.show()"
   ]
  },
  {
   "cell_type": "code",
   "execution_count": null,
   "metadata": {
    "application/vnd.databricks.v1+cell": {
     "cellMetadata": {
      "byteLimit": 2048000,
      "rowLimit": 10000
     },
     "inputWidgets": {},
     "nuid": "37cbb453-4287-4e7e-99fe-8cba6e449ac7",
     "showTitle": false,
     "tableResultSettingsMap": {},
     "title": ""
    }
   },
   "outputs": [],
   "source": [
    " joined_data = df.alias(\"employee\").join(\n",
    "    df.alias(\"manager\"),\n",
    "    col(\"employee.mgr_id\") == col(\"manager.Id\"),\n",
    "    \"inner\").select(\n",
    "        col('employee.Id').alias('employee_id'),\n",
    "        col('employee.Name').alias('employee_name'),\n",
    "        col('employee.salary').alias('salary'),\n",
    "        col('manager.Name').alias('manger_name'),\n",
    "        col('manager.salary').alias('mgr_salary')\n",
    "    )"
   ]
  },
  {
   "cell_type": "code",
   "execution_count": null,
   "metadata": {
    "application/vnd.databricks.v1+cell": {
     "cellMetadata": {
      "byteLimit": 2048000,
      "rowLimit": 10000
     },
     "inputWidgets": {},
     "nuid": "2a6e2805-ec7d-4669-821c-719e4a4c4b78",
     "showTitle": false,
     "tableResultSettingsMap": {},
     "title": ""
    }
   },
   "outputs": [
    {
     "name": "stdout",
     "output_type": "stream",
     "text": [
      "+-----------+-------------+------+-----------+----------+\n",
      "|employee_id|employee_name|salary|manger_name|mgr_salary|\n",
      "+-----------+-------------+------+-----------+----------+\n",
      "|          1|     mahendra| 40000|       mahi|     30000|\n",
      "|          4|         teja| 50000|       mahi|     30000|\n",
      "|          2|         mahi| 30000|        sam|     20000|\n",
      "|          3|          sam| 20000|       teja|     50000|\n",
      "+-----------+-------------+------+-----------+----------+\n",
      "\n"
     ]
    }
   ],
   "source": [
    "joined_data.show()"
   ]
  },
  {
   "cell_type": "code",
   "execution_count": null,
   "metadata": {
    "application/vnd.databricks.v1+cell": {
     "cellMetadata": {
      "byteLimit": 2048000,
      "rowLimit": 10000
     },
     "inputWidgets": {},
     "nuid": "79ec03ff-5b88-472f-bdd5-e89a9a0cb665",
     "showTitle": false,
     "tableResultSettingsMap": {},
     "title": ""
    }
   },
   "outputs": [],
   "source": [
    "cust_orders=orders.join(customers, 'customer_id', 'inner')"
   ]
  },
  {
   "cell_type": "code",
   "execution_count": null,
   "metadata": {
    "application/vnd.databricks.v1+cell": {
     "cellMetadata": {
      "byteLimit": 2048000,
      "rowLimit": 10000
     },
     "inputWidgets": {},
     "nuid": "b46699fc-a25e-4f90-9418-a16ca1f4217c",
     "showTitle": false,
     "tableResultSettingsMap": {},
     "title": ""
    }
   },
   "outputs": [
    {
     "name": "stdout",
     "output_type": "stream",
     "text": [
      "+------------+------------+------------+------------------------+-------------------+-------------------------+-----------------------------+------------------------+------------------+--------------+\n",
      "| customer_id|    order_id|order_status|order_purchase_timestamp|  order_approved_at|order_delivered_timestamp|order_estimated_delivery_date|customer_zip_code_prefix|     customer_city|customer_state|\n",
      "+------------+------------+------------+------------------------+-------------------+-------------------------+-----------------------------+------------------------+------------------+--------------+\n",
      "|hCT0x9JiGXBQ|Axfy13Hk4PIk|   delivered|     2017-10-22 18:57:54|2017-10-22 19:14:13|      2017-10-26 22:19:52|                   2017-11-09|                   58125|   varzea paulista|            SP|\n",
      "|PxA7fv9spyhx|v6px92oS8cLG|   delivered|     2018-06-20 21:40:31|2018-06-20 22:20:20|      2018-07-03 22:51:22|                   2018-07-24|                    3112|armacao dos buzios|            RJ|\n",
      "|g3nXeJkGI0Qw|Ulpf9skrhjfm|   delivered|     2018-02-16 16:19:31|2018-02-17 16:15:35|      2018-02-27 01:29:50|                   2018-03-08|                    4119|           jandira|            SP|\n",
      "|EOEsCQ6QlpIg|bwJVWupf2keN|   delivered|     2018-08-18 18:04:29|2018-08-18 18:15:16|      2018-08-27 20:03:51|                   2018-09-19|                   18212|        uberlandia|            MG|\n",
      "|mVz5LO2Vd6cL|Dd0QnrMk9Cj5|   delivered|     2017-12-22 16:44:04|2017-12-22 17:31:31|      2018-01-05 19:22:49|                   2018-01-18|                   88868|          ilhabela|            SP|\n",
      "|UkqnhxmX7YMP|VjTVGzqe8U6R|   delivered|     2017-09-01 14:38:16|2017-09-01 14:50:24|      2017-09-15 18:57:50|                   2017-09-26|                   25902|       porto uniao|            SC|\n",
      "|85jiDiGSfhTu|xNba906m4TM1|   delivered|     2018-04-23 21:03:00|2018-04-24 18:18:18|      2018-04-25 20:14:38|                   2018-05-04|                    4762|         guarulhos|            SP|\n",
      "|gDdkaN8b9s1g|VEDSMTavbQwk|   delivered|     2018-02-23 14:49:39|2018-02-23 15:16:13|      2018-04-02 14:12:50|                   2018-03-15|                   75870|        mogi-guacu|            SP|\n",
      "|9Csx6oXlpLl1|DzNM8wrcMGFH|   delivered|     2017-11-24 19:12:37|2017-11-25 04:54:03|      2017-12-11 13:09:32|                   2017-12-14|                   69068|         bebedouro|            SP|\n",
      "|gZTPKLPRnreg|NpJz7zF9U1ae|   delivered|     2017-11-30 11:48:21|2017-11-30 13:31:19|      2017-12-14 16:38:47|                   2018-01-03|                   20921|         sao paulo|            SP|\n",
      "|TDEBQrhIwApB|mHyhzcUeLGj2|   delivered|     2018-04-02 22:39:59|2018-04-03 22:35:18|      2018-04-13 18:12:30|                   2018-04-23|                    1223|         itaperuna|            RJ|\n",
      "|1k71TCYNFCzj|StM5K4TLyrt5|   delivered|     2018-05-30 09:25:25|2018-05-30 09:35:16|      2018-06-21 18:22:15|                   2018-07-05|                   11703|             serra|            ES|\n",
      "|IfWKDQHkjLDd|Q97dFuo1kaq9|   delivered|     2018-04-10 00:17:56|2018-04-10 00:35:11|      2018-04-20 18:03:58|                   2018-05-04|                   32407|       sao goncalo|            RJ|\n",
      "|kZ0rkJCJ6N5y|07j6mlMhSVtx|   delivered|     2018-05-02 22:52:10|2018-05-03 00:13:21|      2018-05-09 23:48:32|                   2018-05-18|                   13843|   mogi das cruzes|            SP|\n",
      "|zsCKIdqYLV01|kxa1InBj9gwP|   delivered|     2017-04-24 20:06:41|2017-04-24 20:22:24|      2017-05-05 10:22:27|                   2017-05-25|                    2961|             caico|            RN|\n",
      "|FrEvnEiMKGpr|P5R6jr1qZdh4|    canceled|     2017-07-24 11:38:43|2017-07-24 11:50:18|                     null|                   2017-08-07|                   28630|         sao paulo|            SP|\n",
      "|3zvaY9gUH9bO|HqV5f8K2UYoA|   delivered|     2018-06-15 15:44:21|2018-06-15 16:00:22|      2018-06-25 22:27:56|                   2018-07-11|                   59020|       barra mansa|            RJ|\n",
      "|bUornDCZmRD4|j5rwgECNf14O|   delivered|     2018-03-15 11:13:23|2018-03-15 11:29:14|      2018-04-09 18:54:36|                   2018-04-03|                    3440|         sao paulo|            SP|\n",
      "|qEVfsXFU3er9|43It0OEHVyJe|   delivered|     2017-03-05 16:10:01|2017-03-05 16:25:11|      2017-04-18 15:28:21|                   2017-04-06|                    3936|             apora|            BA|\n",
      "|mPg90mQwmDOP|ddXx4T93MeaI|   delivered|     2017-10-03 12:58:11|2017-10-03 13:07:28|      2017-10-09 14:06:32|                   2017-10-30|                   85140|          brasilia|            DF|\n",
      "+------------+------------+------------+------------------------+-------------------+-------------------------+-----------------------------+------------------------+------------------+--------------+\n",
      "only showing top 20 rows\n",
      "\n"
     ]
    }
   ],
   "source": [
    "cust_orders.show()"
   ]
  },
  {
   "cell_type": "code",
   "execution_count": null,
   "metadata": {
    "application/vnd.databricks.v1+cell": {
     "cellMetadata": {
      "byteLimit": 2048000,
      "rowLimit": 10000
     },
     "inputWidgets": {},
     "nuid": "0e708fb9-a180-41d9-924a-100d3e4f8cf5",
     "showTitle": false,
     "tableResultSettingsMap": {},
     "title": ""
    }
   },
   "outputs": [
    {
     "name": "stdout",
     "output_type": "stream",
     "text": [
      "root\n",
      " |-- customer_id: string (nullable = true)\n",
      " |-- order_id: string (nullable = true)\n",
      " |-- order_status: string (nullable = true)\n",
      " |-- order_purchase_timestamp: timestamp (nullable = true)\n",
      " |-- order_approved_at: timestamp (nullable = true)\n",
      " |-- order_delivered_timestamp: timestamp (nullable = true)\n",
      " |-- order_estimated_delivery_date: date (nullable = true)\n",
      " |-- customer_zip_code_prefix: integer (nullable = true)\n",
      " |-- customer_city: string (nullable = true)\n",
      " |-- customer_state: string (nullable = true)\n",
      "\n"
     ]
    }
   ],
   "source": [
    "cust_orders.printSchema()"
   ]
  },
  {
   "cell_type": "code",
   "execution_count": null,
   "metadata": {
    "application/vnd.databricks.v1+cell": {
     "cellMetadata": {
      "byteLimit": 2048000,
      "rowLimit": 10000
     },
     "inputWidgets": {},
     "nuid": "f68e720f-ec55-44dd-8d5a-9e024cfb9e5f",
     "showTitle": false,
     "tableResultSettingsMap": {},
     "title": ""
    }
   },
   "outputs": [
    {
     "name": "stdout",
     "output_type": "stream",
     "text": [
      "Out[67]: 89316"
     ]
    }
   ],
   "source": [
    "cust_orders.count()"
   ]
  },
  {
   "cell_type": "code",
   "execution_count": null,
   "metadata": {
    "application/vnd.databricks.v1+cell": {
     "cellMetadata": {
      "byteLimit": 2048000,
      "rowLimit": 10000
     },
     "inputWidgets": {},
     "nuid": "20148436-4a51-4ea6-adca-d001d6616c9e",
     "showTitle": false,
     "tableResultSettingsMap": {},
     "title": ""
    }
   },
   "outputs": [
    {
     "name": "stdout",
     "output_type": "stream",
     "text": [
      "Out[71]: 10"
     ]
    }
   ],
   "source": [
    "len(cust_orders.columns)"
   ]
  },
  {
   "cell_type": "code",
   "execution_count": null,
   "metadata": {
    "application/vnd.databricks.v1+cell": {
     "cellMetadata": {
      "byteLimit": 2048000,
      "rowLimit": 10000
     },
     "inputWidgets": {},
     "nuid": "af4db9e1-c09b-4cc7-a142-ae519efab4ac",
     "showTitle": false,
     "tableResultSettingsMap": {},
     "title": ""
    }
   },
   "outputs": [
    {
     "name": "stdout",
     "output_type": "stream",
     "text": [
      "+-----------+-------------+------+-----------+----------+\n",
      "|employee_id|employee_name|salary|manger_name|mgr_salary|\n",
      "+-----------+-------------+------+-----------+----------+\n",
      "|          1|     mahendra| 40000|       mahi|     30000|\n",
      "|          4|         teja| 50000|       mahi|     30000|\n",
      "|          2|         mahi| 30000|        sam|     20000|\n",
      "+-----------+-------------+------+-----------+----------+\n",
      "\n"
     ]
    }
   ],
   "source": [
    "joined_data.where(joined_data['salary']>joined_data['mgr_salary']).show()"
   ]
  },
  {
   "cell_type": "code",
   "execution_count": null,
   "metadata": {
    "application/vnd.databricks.v1+cell": {
     "cellMetadata": {
      "byteLimit": 2048000,
      "rowLimit": 10000
     },
     "inputWidgets": {},
     "nuid": "8c9885fe-a7ab-47bd-8179-b777763ddc50",
     "showTitle": false,
     "tableResultSettingsMap": {},
     "title": ""
    }
   },
   "outputs": [
    {
     "name": "stdout",
     "output_type": "stream",
     "text": [
      "+----------+------------+----------------+--------------+\n",
      "|department|total_salary|number_of_people|average_salary|\n",
      "+----------+------------+----------------+--------------+\n",
      "|        IT|       40000|               1|       40000.0|\n",
      "|      Data|       50000|               2|       25000.0|\n",
      "|  software|       50000|               1|       50000.0|\n",
      "+----------+------------+----------------+--------------+\n",
      "\n"
     ]
    }
   ],
   "source": [
    "df.groupby('department').agg(sum('salary').alias('total_salary'),count('Id').alias('number_of_people'), avg('salary').alias('average_salary')).show()"
   ]
  },
  {
   "cell_type": "code",
   "execution_count": null,
   "metadata": {
    "application/vnd.databricks.v1+cell": {
     "cellMetadata": {
      "byteLimit": 2048000,
      "rowLimit": 10000
     },
     "inputWidgets": {},
     "nuid": "a3c2ca77-9aa6-4e6e-b49f-9835b24832ae",
     "showTitle": false,
     "tableResultSettingsMap": {},
     "title": ""
    }
   },
   "outputs": [
    {
     "name": "stdout",
     "output_type": "stream",
     "text": [
      "+---+--------+----------+------+------+----------------+\n",
      "| Id|    Name|Department|salary|mgr_id|salary_increment|\n",
      "+---+--------+----------+------+------+----------------+\n",
      "|  1|mahendra|        IT| 40000|     2|         48000.0|\n",
      "|  2|    mahi|      Data| 30000|     3|         36000.0|\n",
      "|  3|     sam|      Data| 20000|     4|         24000.0|\n",
      "|  4|    teja|  software| 50000|     2|         60000.0|\n",
      "+---+--------+----------+------+------+----------------+\n",
      "\n"
     ]
    }
   ],
   "source": [
    "df.withColumn('salary_increment', col('salary')*1.2).show()"
   ]
  },
  {
   "cell_type": "code",
   "execution_count": null,
   "metadata": {
    "application/vnd.databricks.v1+cell": {
     "cellMetadata": {
      "byteLimit": 2048000,
      "rowLimit": 10000
     },
     "inputWidgets": {},
     "nuid": "847f96b9-866d-4332-959b-d05fce605b05",
     "showTitle": false,
     "tableResultSettingsMap": {},
     "title": ""
    }
   },
   "outputs": [
    {
     "name": "stdout",
     "output_type": "stream",
     "text": [
      "+---+--------+----------+------+------+---+\n",
      "| Id|    Name|Department|salary|mgr_id|age|\n",
      "+---+--------+----------+------+------+---+\n",
      "|  1|mahendra|        IT| 40000|     2| 24|\n",
      "|  2|    mahi|      Data| 30000|     3| 24|\n",
      "|  3|     sam|      Data| 20000|     4| 24|\n",
      "|  4|    teja|  software| 50000|     2| 24|\n",
      "+---+--------+----------+------+------+---+\n",
      "\n"
     ]
    }
   ],
   "source": [
    "\n",
    "df.withColumn('age', lit(2024-2000)).show()"
   ]
  },
  {
   "cell_type": "code",
   "execution_count": null,
   "metadata": {
    "application/vnd.databricks.v1+cell": {
     "cellMetadata": {
      "byteLimit": 2048000,
      "rowLimit": 10000
     },
     "inputWidgets": {},
     "nuid": "8686ccc4-a608-42de-88cf-4c2cf69939ac",
     "showTitle": false,
     "tableResultSettingsMap": {},
     "title": ""
    }
   },
   "outputs": [
    {
     "name": "stdout",
     "output_type": "stream",
     "text": [
      "+---+--------+----------+\n",
      "| Id|    Name|Department|\n",
      "+---+--------+----------+\n",
      "|  1|mahendra|        IT|\n",
      "|  2|    mahi|      Data|\n",
      "|  3|     sam|      Data|\n",
      "|  4|    teja|  software|\n",
      "+---+--------+----------+\n",
      "\n"
     ]
    }
   ],
   "source": [
    "df.select('Id','Name','Department').show()"
   ]
  },
  {
   "cell_type": "code",
   "execution_count": null,
   "metadata": {
    "application/vnd.databricks.v1+cell": {
     "cellMetadata": {
      "byteLimit": 2048000,
      "rowLimit": 10000
     },
     "inputWidgets": {},
     "nuid": "857b737f-934d-4218-9f89-0277bb4fe859",
     "showTitle": false,
     "tableResultSettingsMap": {},
     "title": ""
    }
   },
   "outputs": [
    {
     "name": "stdout",
     "output_type": "stream",
     "text": [
      "+---+--------+----------+------+------+\n",
      "| Id|    Name|Department|salary|mgr_id|\n",
      "+---+--------+----------+------+------+\n",
      "|  1|mahendra|        IT| 40000|     2|\n",
      "+---+--------+----------+------+------+\n",
      "\n"
     ]
    }
   ],
   "source": [
    "df.filter(df.Department == 'IT').show()"
   ]
  },
  {
   "cell_type": "code",
   "execution_count": null,
   "metadata": {
    "application/vnd.databricks.v1+cell": {
     "cellMetadata": {
      "byteLimit": 2048000,
      "rowLimit": 10000
     },
     "inputWidgets": {},
     "nuid": "ec882f92-3057-443c-b46a-f93e8c5274f5",
     "showTitle": false,
     "tableResultSettingsMap": {},
     "title": ""
    }
   },
   "outputs": [
    {
     "name": "stdout",
     "output_type": "stream",
     "text": [
      "+-----------+--------+----------+------+------+\n",
      "|employee_id|    Name|Department|salary|mgr_id|\n",
      "+-----------+--------+----------+------+------+\n",
      "|          1|mahendra|        IT| 40000|     2|\n",
      "|          2|    mahi|      Data| 30000|     3|\n",
      "|          3|     sam|      Data| 20000|     4|\n",
      "|          4|    teja|  software| 50000|     2|\n",
      "+-----------+--------+----------+------+------+\n",
      "\n"
     ]
    }
   ],
   "source": [
    "df.withColumnRenamed(\"Id\",'employee_id').show()"
   ]
  },
  {
   "cell_type": "code",
   "execution_count": null,
   "metadata": {
    "application/vnd.databricks.v1+cell": {
     "cellMetadata": {
      "byteLimit": 2048000,
      "rowLimit": 10000
     },
     "inputWidgets": {},
     "nuid": "e684100f-5dfa-4875-b6b5-94d7b5e495f6",
     "showTitle": false,
     "tableResultSettingsMap": {},
     "title": ""
    }
   },
   "outputs": [
    {
     "name": "stdout",
     "output_type": "stream",
     "text": [
      "+---+--------+----------+------+------+\n",
      "| Id|    Name|Department|salary|mgr_id|\n",
      "+---+--------+----------+------+------+\n",
      "|  1|mahendra|        IT| 40000|     2|\n",
      "|  2|    mahi|      Data| 30000|     3|\n",
      "|  3|     sam|      Data| 20000|     4|\n",
      "|  4|    teja|  software| 50000|     2|\n",
      "+---+--------+----------+------+------+\n",
      "\n"
     ]
    }
   ],
   "source": [
    "df.show()"
   ]
  },
  {
   "cell_type": "code",
   "execution_count": null,
   "metadata": {
    "application/vnd.databricks.v1+cell": {
     "cellMetadata": {
      "byteLimit": 2048000,
      "rowLimit": 10000
     },
     "inputWidgets": {},
     "nuid": "7b2310fe-9762-46fe-bd5f-486e694247bd",
     "showTitle": false,
     "tableResultSettingsMap": {},
     "title": ""
    }
   },
   "outputs": [],
   "source": [
    "df.createOrReplaceTempView('employees')"
   ]
  },
  {
   "cell_type": "code",
   "execution_count": null,
   "metadata": {
    "application/vnd.databricks.v1+cell": {
     "cellMetadata": {
      "byteLimit": 2048000,
      "implicitDf": true,
      "rowLimit": 10000
     },
     "inputWidgets": {},
     "nuid": "b6da3a9b-c7cd-472e-b2fc-665cb9f464dc",
     "showTitle": false,
     "tableResultSettingsMap": {},
     "title": ""
    }
   },
   "outputs": [
    {
     "data": {
      "text/html": [
       "<style scoped>\n",
       "  .table-result-container {\n",
       "    max-height: 300px;\n",
       "    overflow: auto;\n",
       "  }\n",
       "  table, th, td {\n",
       "    border: 1px solid black;\n",
       "    border-collapse: collapse;\n",
       "  }\n",
       "  th, td {\n",
       "    padding: 5px;\n",
       "  }\n",
       "  th {\n",
       "    text-align: left;\n",
       "  }\n",
       "</style><div class='table-result-container'><table class='table-result'><thead style='background-color: white'><tr><th>Id</th><th>Name</th><th>Department</th><th>salary</th><th>mgr_id</th></tr></thead><tbody><tr><td>1</td><td>mahendra</td><td>IT</td><td>40000</td><td>2</td></tr><tr><td>2</td><td>mahi</td><td>Data</td><td>30000</td><td>3</td></tr><tr><td>3</td><td>sam</td><td>Data</td><td>20000</td><td>4</td></tr><tr><td>4</td><td>teja</td><td>software</td><td>50000</td><td>2</td></tr></tbody></table></div>"
      ]
     },
     "metadata": {
      "application/vnd.databricks.v1+output": {
       "addedWidgets": {},
       "aggData": [],
       "aggError": "",
       "aggOverflow": false,
       "aggSchema": [],
       "aggSeriesLimitReached": false,
       "aggType": "",
       "arguments": {},
       "columnCustomDisplayInfos": {},
       "data": [
        [
         1,
         "mahendra",
         "IT",
         40000,
         2
        ],
        [
         2,
         "mahi",
         "Data",
         30000,
         3
        ],
        [
         3,
         "sam",
         "Data",
         20000,
         4
        ],
        [
         4,
         "teja",
         "software",
         50000,
         2
        ]
       ],
       "datasetInfos": [],
       "dbfsResultPath": null,
       "isJsonSchema": true,
       "metadata": {},
       "overflow": false,
       "plotOptions": {
        "customPlotOptions": {},
        "displayType": "table",
        "pivotAggregation": null,
        "pivotColumns": null,
        "xColumns": null,
        "yColumns": null
       },
       "removedWidgets": [],
       "schema": [
        {
         "metadata": "{}",
         "name": "Id",
         "type": "\"long\""
        },
        {
         "metadata": "{}",
         "name": "Name",
         "type": "\"string\""
        },
        {
         "metadata": "{}",
         "name": "Department",
         "type": "\"string\""
        },
        {
         "metadata": "{}",
         "name": "salary",
         "type": "\"long\""
        },
        {
         "metadata": "{}",
         "name": "mgr_id",
         "type": "\"long\""
        }
       ],
       "type": "table"
      }
     },
     "output_type": "display_data"
    }
   ],
   "source": [
    "%sql\n",
    "select * from employees"
   ]
  },
  {
   "cell_type": "code",
   "execution_count": null,
   "metadata": {
    "application/vnd.databricks.v1+cell": {
     "cellMetadata": {},
     "inputWidgets": {},
     "nuid": "3048118e-e125-42fc-8ee1-827697598db0",
     "showTitle": false,
     "tableResultSettingsMap": {},
     "title": ""
    }
   },
   "outputs": [],
   "source": []
  }
 ],
 "metadata": {
  "application/vnd.databricks.v1+notebook": {
   "dashboards": [],
   "environmentMetadata": null,
   "language": "python",
   "notebookMetadata": {
    "mostRecentlyExecutedCommandWithImplicitDF": {
     "commandId": 4375028224573574,
     "dataframes": [
      "_sqldf"
     ]
    },
    "pythonIndentUnit": 4
   },
   "notebookName": "UST",
   "widgets": {}
  },
  "kernelspec": {
   "display_name": "Python 3",
   "language": "python",
   "name": "python3"
  },
  "language_info": {
   "name": "python",
   "version": "3.12.0"
  }
 },
 "nbformat": 4,
 "nbformat_minor": 0
}
