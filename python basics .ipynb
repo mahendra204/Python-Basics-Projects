{
 "cells": [
  {
   "cell_type": "markdown",
   "id": "37913ad9",
   "metadata": {},
   "source": [
    "# Python Basics"
   ]
  },
  {
   "cell_type": "markdown",
   "id": "1c28d2a5",
   "metadata": {},
   "source": [
    "# Variables"
   ]
  },
  {
   "cell_type": "code",
   "execution_count": 1,
   "id": "47db379d",
   "metadata": {},
   "outputs": [],
   "source": [
    "a='mahi'"
   ]
  },
  {
   "cell_type": "code",
   "execution_count": 2,
   "id": "11ab2609",
   "metadata": {},
   "outputs": [],
   "source": [
    "a=2"
   ]
  },
  {
   "cell_type": "code",
   "execution_count": 3,
   "id": "790b29b0",
   "metadata": {},
   "outputs": [
    {
     "data": {
      "text/plain": [
       "2"
      ]
     },
     "execution_count": 3,
     "metadata": {},
     "output_type": "execute_result"
    }
   ],
   "source": [
    "a"
   ]
  },
  {
   "cell_type": "code",
   "execution_count": 4,
   "id": "d408b611",
   "metadata": {},
   "outputs": [],
   "source": [
    "a='mahendra'"
   ]
  },
  {
   "cell_type": "code",
   "execution_count": 5,
   "id": "77a52eac",
   "metadata": {},
   "outputs": [
    {
     "data": {
      "text/plain": [
       "'mahendra'"
      ]
     },
     "execution_count": 5,
     "metadata": {},
     "output_type": "execute_result"
    }
   ],
   "source": [
    "a"
   ]
  },
  {
   "cell_type": "code",
   "execution_count": 6,
   "id": "6546024e",
   "metadata": {},
   "outputs": [],
   "source": [
    "x='enduku'"
   ]
  },
  {
   "cell_type": "code",
   "execution_count": 7,
   "id": "c2590de4",
   "metadata": {},
   "outputs": [
    {
     "data": {
      "text/plain": [
       "'enduku'"
      ]
     },
     "execution_count": 7,
     "metadata": {},
     "output_type": "execute_result"
    }
   ],
   "source": [
    "x"
   ]
  },
  {
   "cell_type": "code",
   "execution_count": 8,
   "id": "fc670376",
   "metadata": {},
   "outputs": [
    {
     "name": "stdout",
     "output_type": "stream",
     "text": [
      "enduku\n"
     ]
    }
   ],
   "source": [
    "print(x)"
   ]
  },
  {
   "cell_type": "code",
   "execution_count": 9,
   "id": "381607a4",
   "metadata": {},
   "outputs": [
    {
     "name": "stdout",
     "output_type": "stream",
     "text": [
      "mahendra\n"
     ]
    }
   ],
   "source": [
    "print(a)"
   ]
  },
  {
   "cell_type": "code",
   "execution_count": 10,
   "id": "c4cbfdf3",
   "metadata": {},
   "outputs": [
    {
     "data": {
      "text/plain": [
       "str"
      ]
     },
     "execution_count": 10,
     "metadata": {},
     "output_type": "execute_result"
    }
   ],
   "source": [
    "type(a)"
   ]
  },
  {
   "cell_type": "code",
   "execution_count": 11,
   "id": "06ad5044",
   "metadata": {},
   "outputs": [
    {
     "data": {
      "text/plain": [
       "str"
      ]
     },
     "execution_count": 11,
     "metadata": {},
     "output_type": "execute_result"
    }
   ],
   "source": [
    "type(x)"
   ]
  },
  {
   "cell_type": "code",
   "execution_count": 12,
   "id": "d3f49483",
   "metadata": {},
   "outputs": [],
   "source": [
    "y=9"
   ]
  },
  {
   "cell_type": "code",
   "execution_count": 13,
   "id": "42c34677",
   "metadata": {},
   "outputs": [
    {
     "name": "stdout",
     "output_type": "stream",
     "text": [
      "9\n"
     ]
    }
   ],
   "source": [
    "print(y)"
   ]
  },
  {
   "cell_type": "code",
   "execution_count": 14,
   "id": "da768f1b",
   "metadata": {},
   "outputs": [
    {
     "data": {
      "text/plain": [
       "int"
      ]
     },
     "execution_count": 14,
     "metadata": {},
     "output_type": "execute_result"
    }
   ],
   "source": [
    "type(y)"
   ]
  },
  {
   "cell_type": "code",
   "execution_count": 15,
   "id": "eddcd364",
   "metadata": {},
   "outputs": [],
   "source": [
    "e=0.9898"
   ]
  },
  {
   "cell_type": "code",
   "execution_count": 16,
   "id": "0ee074e3",
   "metadata": {},
   "outputs": [
    {
     "name": "stdout",
     "output_type": "stream",
     "text": [
      "0.9898\n"
     ]
    }
   ],
   "source": [
    "print(e)"
   ]
  },
  {
   "cell_type": "code",
   "execution_count": 17,
   "id": "11604ba3",
   "metadata": {},
   "outputs": [
    {
     "data": {
      "text/plain": [
       "float"
      ]
     },
     "execution_count": 17,
     "metadata": {},
     "output_type": "execute_result"
    }
   ],
   "source": [
    "type(e)"
   ]
  },
  {
   "cell_type": "markdown",
   "id": "95164814",
   "metadata": {},
   "source": [
    "# Data Types"
   ]
  },
  {
   "cell_type": "code",
   "execution_count": 18,
   "id": "4dada0a1",
   "metadata": {},
   "outputs": [
    {
     "data": {
      "text/plain": [
       "int"
      ]
     },
     "execution_count": 18,
     "metadata": {},
     "output_type": "execute_result"
    }
   ],
   "source": [
    "a=2898\n",
    "type(a)"
   ]
  },
  {
   "cell_type": "code",
   "execution_count": 19,
   "id": "b253d6b5",
   "metadata": {},
   "outputs": [],
   "source": [
    "e='mahendra is wodingk ieojfkjoaijokdoijam'"
   ]
  },
  {
   "cell_type": "code",
   "execution_count": 20,
   "id": "58b7c038",
   "metadata": {},
   "outputs": [
    {
     "data": {
      "text/plain": [
       "str"
      ]
     },
     "execution_count": 20,
     "metadata": {},
     "output_type": "execute_result"
    }
   ],
   "source": [
    "type(e)"
   ]
  },
  {
   "cell_type": "code",
   "execution_count": 21,
   "id": "cc1e18fb",
   "metadata": {},
   "outputs": [
    {
     "name": "stdout",
     "output_type": "stream",
     "text": [
      "mahendra is wodingk ieojfkjoaijokdoijam\n"
     ]
    }
   ],
   "source": [
    "print(e)"
   ]
  },
  {
   "cell_type": "code",
   "execution_count": 22,
   "id": "68d9aa3a",
   "metadata": {},
   "outputs": [],
   "source": [
    "y= False"
   ]
  },
  {
   "cell_type": "code",
   "execution_count": 23,
   "id": "1c3200be",
   "metadata": {},
   "outputs": [
    {
     "data": {
      "text/plain": [
       "bool"
      ]
     },
     "execution_count": 23,
     "metadata": {},
     "output_type": "execute_result"
    }
   ],
   "source": [
    "type(y)"
   ]
  },
  {
   "cell_type": "code",
   "execution_count": 24,
   "id": "c6d7d6ae",
   "metadata": {},
   "outputs": [],
   "source": [
    "n=True"
   ]
  },
  {
   "cell_type": "code",
   "execution_count": 25,
   "id": "40910f92",
   "metadata": {},
   "outputs": [
    {
     "data": {
      "text/plain": [
       "bool"
      ]
     },
     "execution_count": 25,
     "metadata": {},
     "output_type": "execute_result"
    }
   ],
   "source": [
    "type(n)"
   ]
  },
  {
   "cell_type": "code",
   "execution_count": 26,
   "id": "18981e46",
   "metadata": {},
   "outputs": [],
   "source": [
    "y=bool(8)"
   ]
  },
  {
   "cell_type": "code",
   "execution_count": 27,
   "id": "45971611",
   "metadata": {},
   "outputs": [
    {
     "data": {
      "text/plain": [
       "True"
      ]
     },
     "execution_count": 27,
     "metadata": {},
     "output_type": "execute_result"
    }
   ],
   "source": [
    "y"
   ]
  },
  {
   "cell_type": "code",
   "execution_count": 28,
   "id": "1900f2e5",
   "metadata": {},
   "outputs": [
    {
     "data": {
      "text/plain": [
       "bool"
      ]
     },
     "execution_count": 28,
     "metadata": {},
     "output_type": "execute_result"
    }
   ],
   "source": [
    "type(y)"
   ]
  },
  {
   "cell_type": "code",
   "execution_count": 29,
   "id": "ef1cf221",
   "metadata": {},
   "outputs": [
    {
     "data": {
      "text/plain": [
       "True"
      ]
     },
     "execution_count": 29,
     "metadata": {},
     "output_type": "execute_result"
    }
   ],
   "source": [
    "y"
   ]
  },
  {
   "cell_type": "code",
   "execution_count": 30,
   "id": "c7ecc437",
   "metadata": {},
   "outputs": [],
   "source": [
    "a={2,45,6,7}"
   ]
  },
  {
   "cell_type": "code",
   "execution_count": 31,
   "id": "670ead0b",
   "metadata": {},
   "outputs": [
    {
     "data": {
      "text/plain": [
       "set"
      ]
     },
     "execution_count": 31,
     "metadata": {},
     "output_type": "execute_result"
    }
   ],
   "source": [
    "type(a)"
   ]
  },
  {
   "cell_type": "code",
   "execution_count": 32,
   "id": "3dd1c32e",
   "metadata": {},
   "outputs": [
    {
     "ename": "TypeError",
     "evalue": "'set' object does not support item assignment",
     "output_type": "error",
     "traceback": [
      "\u001b[1;31m---------------------------------------------------------------------------\u001b[0m",
      "\u001b[1;31mTypeError\u001b[0m                                 Traceback (most recent call last)",
      "Cell \u001b[1;32mIn[32], line 1\u001b[0m\n\u001b[1;32m----> 1\u001b[0m a[\u001b[38;5;241m2\u001b[39m]\u001b[38;5;241m=\u001b[39m\u001b[38;5;241m3\u001b[39m\n",
      "\u001b[1;31mTypeError\u001b[0m: 'set' object does not support item assignment"
     ]
    }
   ],
   "source": [
    "a[2]=3"
   ]
  },
  {
   "cell_type": "markdown",
   "id": "3486d9c8",
   "metadata": {},
   "source": [
    "### sets are immutable , tuple and string also immutable"
   ]
  },
  {
   "cell_type": "markdown",
   "id": "b594ce59",
   "metadata": {},
   "source": [
    "## type casting list to set back to list to get rid of duplicates"
   ]
  },
  {
   "cell_type": "code",
   "execution_count": 33,
   "id": "44b06f2d",
   "metadata": {},
   "outputs": [
    {
     "data": {
      "text/plain": [
       "{2, 6, 7, 45}"
      ]
     },
     "execution_count": 33,
     "metadata": {},
     "output_type": "execute_result"
    }
   ],
   "source": [
    "set(a)"
   ]
  },
  {
   "cell_type": "code",
   "execution_count": 34,
   "id": "d2aa7204",
   "metadata": {},
   "outputs": [
    {
     "data": {
      "text/plain": [
       "list"
      ]
     },
     "execution_count": 34,
     "metadata": {},
     "output_type": "execute_result"
    }
   ],
   "source": [
    "type(list(a))"
   ]
  },
  {
   "cell_type": "code",
   "execution_count": 35,
   "id": "1a477fe3",
   "metadata": {},
   "outputs": [
    {
     "data": {
      "text/plain": [
       "set"
      ]
     },
     "execution_count": 35,
     "metadata": {},
     "output_type": "execute_result"
    }
   ],
   "source": [
    "type(a)"
   ]
  },
  {
   "cell_type": "code",
   "execution_count": 36,
   "id": "c2aae7ef",
   "metadata": {},
   "outputs": [
    {
     "data": {
      "text/plain": [
       "list"
      ]
     },
     "execution_count": 36,
     "metadata": {},
     "output_type": "execute_result"
    }
   ],
   "source": [
    "type(list(a))"
   ]
  },
  {
   "cell_type": "code",
   "execution_count": 37,
   "id": "ce50fa46",
   "metadata": {},
   "outputs": [
    {
     "data": {
      "text/plain": [
       "int"
      ]
     },
     "execution_count": 37,
     "metadata": {},
     "output_type": "execute_result"
    }
   ],
   "source": [
    "v=9\n",
    "type(v)"
   ]
  },
  {
   "cell_type": "code",
   "execution_count": 38,
   "id": "f3d56a3a",
   "metadata": {},
   "outputs": [],
   "source": [
    "x=float(v)"
   ]
  },
  {
   "cell_type": "code",
   "execution_count": 39,
   "id": "20e2bce4",
   "metadata": {},
   "outputs": [
    {
     "data": {
      "text/plain": [
       "float"
      ]
     },
     "execution_count": 39,
     "metadata": {},
     "output_type": "execute_result"
    }
   ],
   "source": [
    "type(x)"
   ]
  },
  {
   "cell_type": "code",
   "execution_count": 40,
   "id": "903f75bf",
   "metadata": {},
   "outputs": [
    {
     "data": {
      "text/plain": [
       "9.0"
      ]
     },
     "execution_count": 40,
     "metadata": {},
     "output_type": "execute_result"
    }
   ],
   "source": [
    "x"
   ]
  },
  {
   "cell_type": "code",
   "execution_count": 41,
   "id": "138a0194",
   "metadata": {},
   "outputs": [],
   "source": [
    "# defingin a dictionary variables\n",
    "dict_variable = {'name': 'mahendra', 'favourite_color': 'red', 'favourate_number': 20}"
   ]
  },
  {
   "cell_type": "code",
   "execution_count": 42,
   "id": "759f9aaf",
   "metadata": {},
   "outputs": [
    {
     "data": {
      "text/plain": [
       "dict"
      ]
     },
     "execution_count": 42,
     "metadata": {},
     "output_type": "execute_result"
    }
   ],
   "source": [
    "type(dict_variable)"
   ]
  },
  {
   "cell_type": "code",
   "execution_count": 43,
   "id": "0e829f7d",
   "metadata": {},
   "outputs": [
    {
     "name": "stdout",
     "output_type": "stream",
     "text": [
      "{'name': 'mahendra', 'favourite_color': 'red', 'favourate_number': 20}\n"
     ]
    }
   ],
   "source": [
    "print(dict_variable)"
   ]
  },
  {
   "cell_type": "code",
   "execution_count": 44,
   "id": "ca698462",
   "metadata": {},
   "outputs": [
    {
     "data": {
      "text/plain": [
       "'mahendra'"
      ]
     },
     "execution_count": 44,
     "metadata": {},
     "output_type": "execute_result"
    }
   ],
   "source": [
    "dict_variable['name']"
   ]
  },
  {
   "cell_type": "code",
   "execution_count": 45,
   "id": "7957007c",
   "metadata": {},
   "outputs": [],
   "source": [
    "del dict_variable['favourate_number']"
   ]
  },
  {
   "cell_type": "code",
   "execution_count": 46,
   "id": "435f929b",
   "metadata": {},
   "outputs": [
    {
     "data": {
      "text/plain": [
       "'red'"
      ]
     },
     "execution_count": 46,
     "metadata": {},
     "output_type": "execute_result"
    }
   ],
   "source": [
    "dict_variable['favourite_color']"
   ]
  },
  {
   "cell_type": "code",
   "execution_count": 47,
   "id": "6b5d19ef",
   "metadata": {},
   "outputs": [
    {
     "ename": "KeyError",
     "evalue": "'favourate_number'",
     "output_type": "error",
     "traceback": [
      "\u001b[1;31m---------------------------------------------------------------------------\u001b[0m",
      "\u001b[1;31mKeyError\u001b[0m                                  Traceback (most recent call last)",
      "Cell \u001b[1;32mIn[47], line 1\u001b[0m\n\u001b[1;32m----> 1\u001b[0m \u001b[43mdict_variable\u001b[49m\u001b[43m[\u001b[49m\u001b[38;5;124;43m'\u001b[39;49m\u001b[38;5;124;43mfavourate_number\u001b[39;49m\u001b[38;5;124;43m'\u001b[39;49m\u001b[43m]\u001b[49m\n",
      "\u001b[1;31mKeyError\u001b[0m: 'favourate_number'"
     ]
    }
   ],
   "source": [
    "dict_variable['favourate_number']"
   ]
  },
  {
   "cell_type": "code",
   "execution_count": 48,
   "id": "a64a9384",
   "metadata": {},
   "outputs": [
    {
     "data": {
      "text/plain": [
       "{'name': 'mahendra', 'favourite_color': 'red'}"
      ]
     },
     "execution_count": 48,
     "metadata": {},
     "output_type": "execute_result"
    }
   ],
   "source": [
    "dict_variable"
   ]
  },
  {
   "cell_type": "code",
   "execution_count": 49,
   "id": "b18845cc",
   "metadata": {},
   "outputs": [],
   "source": [
    "d={'1':30, '2':40,'3':50}"
   ]
  },
  {
   "cell_type": "code",
   "execution_count": 50,
   "id": "50d66eda",
   "metadata": {},
   "outputs": [
    {
     "data": {
      "text/plain": [
       "dict"
      ]
     },
     "execution_count": 50,
     "metadata": {},
     "output_type": "execute_result"
    }
   ],
   "source": [
    "type(d)"
   ]
  },
  {
   "cell_type": "code",
   "execution_count": 51,
   "id": "5159a298",
   "metadata": {},
   "outputs": [
    {
     "data": {
      "text/plain": [
       "30"
      ]
     },
     "execution_count": 51,
     "metadata": {},
     "output_type": "execute_result"
    }
   ],
   "source": [
    "d['1']"
   ]
  },
  {
   "cell_type": "code",
   "execution_count": 52,
   "id": "475f28b8",
   "metadata": {},
   "outputs": [
    {
     "data": {
      "text/plain": [
       "40"
      ]
     },
     "execution_count": 52,
     "metadata": {},
     "output_type": "execute_result"
    }
   ],
   "source": [
    "d['2']"
   ]
  },
  {
   "cell_type": "code",
   "execution_count": 53,
   "id": "bca010f7",
   "metadata": {},
   "outputs": [],
   "source": [
    "d['2']=90"
   ]
  },
  {
   "cell_type": "code",
   "execution_count": 54,
   "id": "9b5582bc",
   "metadata": {},
   "outputs": [
    {
     "data": {
      "text/plain": [
       "{'1': 30, '2': 90, '3': 50}"
      ]
     },
     "execution_count": 54,
     "metadata": {},
     "output_type": "execute_result"
    }
   ],
   "source": [
    "d"
   ]
  },
  {
   "cell_type": "markdown",
   "id": "10141f37",
   "metadata": {},
   "source": [
    "## dictionaries and lists are mutable"
   ]
  },
  {
   "cell_type": "code",
   "execution_count": 55,
   "id": "25c9fdd8",
   "metadata": {},
   "outputs": [
    {
     "data": {
      "text/plain": [
       "(2, 45, 6, 7)"
      ]
     },
     "execution_count": 55,
     "metadata": {},
     "output_type": "execute_result"
    }
   ],
   "source": [
    "tuple(a)"
   ]
  },
  {
   "cell_type": "code",
   "execution_count": 56,
   "id": "8ee415f4",
   "metadata": {},
   "outputs": [],
   "source": [
    "b={}"
   ]
  },
  {
   "cell_type": "code",
   "execution_count": 57,
   "id": "d70fe3b5",
   "metadata": {},
   "outputs": [
    {
     "data": {
      "text/plain": [
       "{2, 6, 7, 45}"
      ]
     },
     "execution_count": 57,
     "metadata": {},
     "output_type": "execute_result"
    }
   ],
   "source": [
    "a"
   ]
  },
  {
   "cell_type": "code",
   "execution_count": 58,
   "id": "b39490ce",
   "metadata": {},
   "outputs": [
    {
     "data": {
      "text/plain": [
       "[2, 45, 6, 7]"
      ]
     },
     "execution_count": 58,
     "metadata": {},
     "output_type": "execute_result"
    }
   ],
   "source": [
    "list(a)"
   ]
  },
  {
   "cell_type": "code",
   "execution_count": 59,
   "id": "ac6eec1d",
   "metadata": {},
   "outputs": [],
   "source": [
    "a=list(a)"
   ]
  },
  {
   "cell_type": "code",
   "execution_count": 60,
   "id": "89294dba",
   "metadata": {},
   "outputs": [
    {
     "data": {
      "text/plain": [
       "[2, 45, 6, 7]"
      ]
     },
     "execution_count": 60,
     "metadata": {},
     "output_type": "execute_result"
    }
   ],
   "source": [
    "a"
   ]
  },
  {
   "cell_type": "code",
   "execution_count": 61,
   "id": "2b84da2a",
   "metadata": {},
   "outputs": [
    {
     "data": {
      "text/plain": [
       "45"
      ]
     },
     "execution_count": 61,
     "metadata": {},
     "output_type": "execute_result"
    }
   ],
   "source": [
    "a[1]"
   ]
  },
  {
   "cell_type": "code",
   "execution_count": 62,
   "id": "0be8314d",
   "metadata": {},
   "outputs": [
    {
     "data": {
      "text/plain": [
       "7"
      ]
     },
     "execution_count": 62,
     "metadata": {},
     "output_type": "execute_result"
    }
   ],
   "source": [
    "a[-1]"
   ]
  },
  {
   "cell_type": "code",
   "execution_count": 63,
   "id": "05645ad4",
   "metadata": {},
   "outputs": [
    {
     "data": {
      "text/plain": [
       "6"
      ]
     },
     "execution_count": 63,
     "metadata": {},
     "output_type": "execute_result"
    }
   ],
   "source": [
    "a[-2]"
   ]
  },
  {
   "cell_type": "code",
   "execution_count": 64,
   "id": "1c1643f3",
   "metadata": {},
   "outputs": [],
   "source": [
    "a[2]=40"
   ]
  },
  {
   "cell_type": "code",
   "execution_count": 65,
   "id": "b9345db5",
   "metadata": {},
   "outputs": [
    {
     "data": {
      "text/plain": [
       "[2, 45, 40, 7]"
      ]
     },
     "execution_count": 65,
     "metadata": {},
     "output_type": "execute_result"
    }
   ],
   "source": [
    "a"
   ]
  },
  {
   "cell_type": "code",
   "execution_count": 66,
   "id": "64b011f4",
   "metadata": {},
   "outputs": [
    {
     "data": {
      "text/plain": [
       "4"
      ]
     },
     "execution_count": 66,
     "metadata": {},
     "output_type": "execute_result"
    }
   ],
   "source": [
    "len(a)"
   ]
  },
  {
   "cell_type": "code",
   "execution_count": 67,
   "id": "9df076d4",
   "metadata": {},
   "outputs": [],
   "source": [
    "a.append(4)"
   ]
  },
  {
   "cell_type": "code",
   "execution_count": 68,
   "id": "14fdf756",
   "metadata": {},
   "outputs": [
    {
     "data": {
      "text/plain": [
       "[2, 45, 40, 7, 4]"
      ]
     },
     "execution_count": 68,
     "metadata": {},
     "output_type": "execute_result"
    }
   ],
   "source": [
    "a"
   ]
  },
  {
   "cell_type": "code",
   "execution_count": 69,
   "id": "d6d963eb",
   "metadata": {},
   "outputs": [],
   "source": [
    "a.insert(0,1)"
   ]
  },
  {
   "cell_type": "code",
   "execution_count": 70,
   "id": "ffc79f84",
   "metadata": {},
   "outputs": [
    {
     "data": {
      "text/plain": [
       "[1, 2, 45, 40, 7, 4]"
      ]
     },
     "execution_count": 70,
     "metadata": {},
     "output_type": "execute_result"
    }
   ],
   "source": [
    "a"
   ]
  },
  {
   "cell_type": "code",
   "execution_count": 71,
   "id": "d9220890",
   "metadata": {},
   "outputs": [],
   "source": [
    "a.insert(2,'mahendra')"
   ]
  },
  {
   "cell_type": "code",
   "execution_count": 72,
   "id": "c0b0ee0c",
   "metadata": {},
   "outputs": [
    {
     "data": {
      "text/plain": [
       "[1, 2, 'mahendra', 45, 40, 7, 4]"
      ]
     },
     "execution_count": 72,
     "metadata": {},
     "output_type": "execute_result"
    }
   ],
   "source": [
    "a"
   ]
  },
  {
   "cell_type": "code",
   "execution_count": 73,
   "id": "cde36fc2",
   "metadata": {},
   "outputs": [
    {
     "data": {
      "text/plain": [
       "'mahendra'"
      ]
     },
     "execution_count": 73,
     "metadata": {},
     "output_type": "execute_result"
    }
   ],
   "source": [
    "a.pop(2) #pop --- index"
   ]
  },
  {
   "cell_type": "code",
   "execution_count": 74,
   "id": "5a2d8de7",
   "metadata": {},
   "outputs": [
    {
     "data": {
      "text/plain": [
       "[1, 2, 45, 40, 7, 4]"
      ]
     },
     "execution_count": 74,
     "metadata": {},
     "output_type": "execute_result"
    }
   ],
   "source": [
    "a"
   ]
  },
  {
   "cell_type": "code",
   "execution_count": 75,
   "id": "2067df10",
   "metadata": {},
   "outputs": [],
   "source": [
    "del a[2]     # index"
   ]
  },
  {
   "cell_type": "code",
   "execution_count": 76,
   "id": "3d40ca5a",
   "metadata": {},
   "outputs": [
    {
     "data": {
      "text/plain": [
       "[1, 2, 40, 7, 4]"
      ]
     },
     "execution_count": 76,
     "metadata": {},
     "output_type": "execute_result"
    }
   ],
   "source": [
    "a"
   ]
  },
  {
   "cell_type": "code",
   "execution_count": 77,
   "id": "94da71ec",
   "metadata": {},
   "outputs": [],
   "source": [
    "d={'name': 'mahendra', 'no':10, 'games': 'cricket'}"
   ]
  },
  {
   "cell_type": "code",
   "execution_count": 78,
   "id": "b182e50c",
   "metadata": {},
   "outputs": [
    {
     "data": {
      "text/plain": [
       "dict"
      ]
     },
     "execution_count": 78,
     "metadata": {},
     "output_type": "execute_result"
    }
   ],
   "source": [
    "type(d)"
   ]
  },
  {
   "cell_type": "code",
   "execution_count": 79,
   "id": "ad0f65eb",
   "metadata": {},
   "outputs": [
    {
     "data": {
      "text/plain": [
       "10"
      ]
     },
     "execution_count": 79,
     "metadata": {},
     "output_type": "execute_result"
    }
   ],
   "source": [
    "d['no']"
   ]
  },
  {
   "cell_type": "code",
   "execution_count": 80,
   "id": "d46d81ff",
   "metadata": {},
   "outputs": [
    {
     "data": {
      "text/plain": [
       "'cricket'"
      ]
     },
     "execution_count": 80,
     "metadata": {},
     "output_type": "execute_result"
    }
   ],
   "source": [
    "d['games']"
   ]
  },
  {
   "cell_type": "code",
   "execution_count": 81,
   "id": "cde7ff32",
   "metadata": {},
   "outputs": [
    {
     "data": {
      "text/plain": [
       "'mahendra'"
      ]
     },
     "execution_count": 81,
     "metadata": {},
     "output_type": "execute_result"
    }
   ],
   "source": [
    "d['name']"
   ]
  },
  {
   "cell_type": "code",
   "execution_count": 82,
   "id": "8074b428",
   "metadata": {},
   "outputs": [],
   "source": [
    "d['name']='tennies'"
   ]
  },
  {
   "cell_type": "code",
   "execution_count": 83,
   "id": "a824998d",
   "metadata": {},
   "outputs": [
    {
     "data": {
      "text/plain": [
       "{'name': 'tennies', 'no': 10, 'games': 'cricket'}"
      ]
     },
     "execution_count": 83,
     "metadata": {},
     "output_type": "execute_result"
    }
   ],
   "source": [
    "d"
   ]
  },
  {
   "cell_type": "code",
   "execution_count": 84,
   "id": "63ae0256",
   "metadata": {},
   "outputs": [
    {
     "data": {
      "text/plain": [
       "dict_keys(['name', 'no', 'games'])"
      ]
     },
     "execution_count": 84,
     "metadata": {},
     "output_type": "execute_result"
    }
   ],
   "source": [
    "d.keys()"
   ]
  },
  {
   "cell_type": "code",
   "execution_count": 85,
   "id": "19668608",
   "metadata": {},
   "outputs": [
    {
     "data": {
      "text/plain": [
       "'name'"
      ]
     },
     "execution_count": 85,
     "metadata": {},
     "output_type": "execute_result"
    }
   ],
   "source": [
    "list(d.keys())[0]"
   ]
  },
  {
   "cell_type": "code",
   "execution_count": 86,
   "id": "ee562e27",
   "metadata": {},
   "outputs": [
    {
     "data": {
      "text/plain": [
       "dict_values(['tennies', 10, 'cricket'])"
      ]
     },
     "execution_count": 86,
     "metadata": {},
     "output_type": "execute_result"
    }
   ],
   "source": [
    "d.values()"
   ]
  },
  {
   "cell_type": "code",
   "execution_count": 87,
   "id": "acf3c876",
   "metadata": {},
   "outputs": [
    {
     "data": {
      "text/plain": [
       "'cricket'"
      ]
     },
     "execution_count": 87,
     "metadata": {},
     "output_type": "execute_result"
    }
   ],
   "source": [
    "list(d.values())[2]"
   ]
  },
  {
   "cell_type": "code",
   "execution_count": 88,
   "id": "e628bdab",
   "metadata": {},
   "outputs": [],
   "source": [
    "del d['name']"
   ]
  },
  {
   "cell_type": "code",
   "execution_count": 89,
   "id": "f0cf4484",
   "metadata": {},
   "outputs": [
    {
     "data": {
      "text/plain": [
       "{'no': 10, 'games': 'cricket'}"
      ]
     },
     "execution_count": 89,
     "metadata": {},
     "output_type": "execute_result"
    }
   ],
   "source": [
    "d"
   ]
  },
  {
   "cell_type": "code",
   "execution_count": 90,
   "id": "03d286a3",
   "metadata": {},
   "outputs": [
    {
     "data": {
      "text/plain": [
       "10"
      ]
     },
     "execution_count": 90,
     "metadata": {},
     "output_type": "execute_result"
    }
   ],
   "source": [
    "d.pop('no')"
   ]
  },
  {
   "cell_type": "code",
   "execution_count": 91,
   "id": "12582792",
   "metadata": {},
   "outputs": [
    {
     "data": {
      "text/plain": [
       "{'games': 'cricket'}"
      ]
     },
     "execution_count": 91,
     "metadata": {},
     "output_type": "execute_result"
    }
   ],
   "source": [
    "d"
   ]
  },
  {
   "cell_type": "code",
   "execution_count": 92,
   "id": "32e2e897",
   "metadata": {},
   "outputs": [],
   "source": [
    "i=980"
   ]
  },
  {
   "cell_type": "code",
   "execution_count": 93,
   "id": "61665c76",
   "metadata": {},
   "outputs": [
    {
     "data": {
      "text/plain": [
       "1068"
      ]
     },
     "execution_count": 93,
     "metadata": {},
     "output_type": "execute_result"
    }
   ],
   "source": [
    "i+88"
   ]
  },
  {
   "cell_type": "code",
   "execution_count": 94,
   "id": "94fa26b0",
   "metadata": {},
   "outputs": [
    {
     "data": {
      "text/plain": [
       "882"
      ]
     },
     "execution_count": 94,
     "metadata": {},
     "output_type": "execute_result"
    }
   ],
   "source": [
    "i-98"
   ]
  },
  {
   "cell_type": "code",
   "execution_count": 95,
   "id": "fe0b4962",
   "metadata": {},
   "outputs": [],
   "source": [
    "from sklearn.metrics import mean_absolute_error"
   ]
  },
  {
   "cell_type": "code",
   "execution_count": 96,
   "id": "9bffa75c",
   "metadata": {},
   "outputs": [
    {
     "data": {
      "text/plain": [
       "0.5"
      ]
     },
     "execution_count": 96,
     "metadata": {},
     "output_type": "execute_result"
    }
   ],
   "source": [
    "y_true = [3, -0.5, 2, 7]\n",
    "y_pred = [2.5, 0.0, 2, 8]\n",
    "mean_absolute_error(y_true, y_pred)"
   ]
  },
  {
   "cell_type": "code",
   "execution_count": 97,
   "id": "1cd4d64c",
   "metadata": {},
   "outputs": [
    {
     "name": "stdout",
     "output_type": "stream",
     "text": [
      "['2315', 'ahmg', 'aahhhmggggg']\n"
     ]
    }
   ],
   "source": [
    "import re\n",
    "\n",
    "def rearrange_text(text):\n",
    "    # Extract numbers and letters separately\n",
    "    numbers = re.findall(r'\\d', text)\n",
    "    letters = re.findall(r'[a-zA-Z]', text)\n",
    "\n",
    "    # Concatenate the numbers and letters as specified\n",
    "    result = ''.join(numbers)\n",
    "\n",
    "    # Create a list with the rearranged elements\n",
    "    output = [result, ''.join(result.replace('2', 'a').replace('3', 'h').replace('1','m').replace('5', 'g')), ''.join(letters)]\n",
    "\n",
    "    return output\n",
    "\n",
    "# Test the function with the given input\n",
    "text = \"aa2hhh3m1ggggg5\"\n",
    "output = rearrange_text(text)\n",
    "print(output)\n",
    "\n"
   ]
  },
  {
   "cell_type": "code",
   "execution_count": 98,
   "id": "8d8292a3",
   "metadata": {},
   "outputs": [
    {
     "name": "stdout",
     "output_type": "stream",
     "text": [
      "Enter a sentence: Hi welcome to the programming language\n",
      "0\n"
     ]
    }
   ],
   "source": [
    "def count_is(sentence):\n",
    "    # Split the sentence into words\n",
    "    words = sentence.split()\n",
    "\n",
    "    # Initialize a counter for the word \"is\"\n",
    "    is_count = 0\n",
    "\n",
    "    # Iterate through the words and count occurrences of \"is\"\n",
    "    for word in words:\n",
    "        if word == \"is\":\n",
    "            is_count += 1\n",
    "\n",
    "    return is_count\n",
    "\n",
    "# Get user input for a sentence\n",
    "user_sentence = input(\"Enter a sentence: \")\n",
    "\n",
    "result = count_is(user_sentence)\n",
    "print(result)\n"
   ]
  },
  {
   "cell_type": "markdown",
   "id": "39da7729",
   "metadata": {},
   "source": [
    "# conditions and logics"
   ]
  },
  {
   "cell_type": "markdown",
   "id": "9adb2f43",
   "metadata": {},
   "source": [
    "## If condition"
   ]
  },
  {
   "cell_type": "code",
   "execution_count": 99,
   "id": "85d8fd60",
   "metadata": {},
   "outputs": [
    {
     "name": "stdout",
     "output_type": "stream",
     "text": [
      "name not in the list\n"
     ]
    }
   ],
   "source": [
    "name='mahendra'\n",
    "if name!=\"mahendra\":\n",
    "    print('welcome aboard')\n",
    "else:\n",
    "    print('name not in the list')"
   ]
  },
  {
   "cell_type": "code",
   "execution_count": 100,
   "id": "763e0c74",
   "metadata": {},
   "outputs": [
    {
     "name": "stdout",
     "output_type": "stream",
     "text": [
      "100\n"
     ]
    }
   ],
   "source": [
    "num=100\n",
    "if num<=30:\n",
    "    x=num\n",
    "    print(x)\n",
    "else:\n",
    "    print(num)"
   ]
  },
  {
   "cell_type": "code",
   "execution_count": 101,
   "id": "0716bf27",
   "metadata": {},
   "outputs": [
    {
     "name": "stdout",
     "output_type": "stream",
     "text": [
      "enter a num:8\n",
      "x is greater than given number\n"
     ]
    }
   ],
   "source": [
    "x=20\n",
    "num=int(input('enter a num:'))\n",
    "if x<=num:\n",
    "    print('given number is greater than x values')\n",
    "else:\n",
    "    print('x is greater than given number')"
   ]
  },
  {
   "cell_type": "code",
   "execution_count": 102,
   "id": "e20b6055",
   "metadata": {},
   "outputs": [
    {
     "name": "stdout",
     "output_type": "stream",
     "text": [
      "False\n"
     ]
    }
   ],
   "source": [
    "probability=0.1\n",
    "if probability>=0.5:\n",
    "    print(True)\n",
    "elif probability<0:\n",
    "    print('check your probability values')\n",
    "else:\n",
    "    print(False)"
   ]
  },
  {
   "cell_type": "code",
   "execution_count": 103,
   "id": "9311ec4f",
   "metadata": {},
   "outputs": [
    {
     "name": "stdout",
     "output_type": "stream",
     "text": [
      "mahi\n",
      " is here\n",
      "mahi's is here\n"
     ]
    }
   ],
   "source": [
    "names=['mahi','mahendra','monkey', 'haza', 'yasod']\n",
    "if 'mahi' in names:\n",
    "    print('mahi\\n is here')\n",
    "    print(\"mahi's is here\")"
   ]
  },
  {
   "cell_type": "markdown",
   "id": "f1d1f110",
   "metadata": {},
   "source": [
    "## Loops"
   ]
  },
  {
   "cell_type": "code",
   "execution_count": 104,
   "id": "a3f1b559",
   "metadata": {},
   "outputs": [
    {
     "name": "stdout",
     "output_type": "stream",
     "text": [
      "mahi\n",
      "mahendra\n",
      "monkey\n",
      "haza\n",
      "yasod\n"
     ]
    }
   ],
   "source": [
    "for name in names:\n",
    "    print(name)"
   ]
  },
  {
   "cell_type": "code",
   "execution_count": 105,
   "id": "60e77705",
   "metadata": {},
   "outputs": [
    {
     "name": "stdout",
     "output_type": "stream",
     "text": [
      "mahi,mahendra,monkey,haza,yasod,"
     ]
    }
   ],
   "source": [
    "for name in names:\n",
    "    print(name, end=\",\")"
   ]
  },
  {
   "cell_type": "code",
   "execution_count": 106,
   "id": "ed8270c4",
   "metadata": {},
   "outputs": [
    {
     "name": "stdout",
     "output_type": "stream",
     "text": [
      "mahi;mahendra;monkey;haza;yasod;"
     ]
    }
   ],
   "source": [
    "for name in names:\n",
    "    print(name, end=\";\")"
   ]
  },
  {
   "cell_type": "code",
   "execution_count": 107,
   "id": "d189b00e",
   "metadata": {},
   "outputs": [
    {
     "name": "stdout",
     "output_type": "stream",
     "text": [
      "mahi mahendra monkey haza yasod "
     ]
    }
   ],
   "source": [
    "for name in names:\n",
    "    print(name, end=\" \")"
   ]
  },
  {
   "cell_type": "code",
   "execution_count": 108,
   "id": "24f63f7b",
   "metadata": {},
   "outputs": [
    {
     "name": "stdout",
     "output_type": "stream",
     "text": [
      "name not in the list of names\n",
      "yes he is honest\n",
      "name not in the list of names\n",
      "name not in the list of names\n",
      "very helping handed\n"
     ]
    }
   ],
   "source": [
    "for name in names:\n",
    "    if name=='mahendra':\n",
    "        print('yes he is honest')\n",
    "    elif name=='yasod':\n",
    "        print('very helping handed')\n",
    "        break\n",
    "    else:\n",
    "        print('name not in the list of names')"
   ]
  },
  {
   "cell_type": "code",
   "execution_count": 109,
   "id": "110c04d9",
   "metadata": {},
   "outputs": [
    {
     "name": "stdout",
     "output_type": "stream",
     "text": [
      "0 1 2 3 4 5 6 7 8 9 10 11 12 13 14 15 16 17 18 19 20 21 22 23 24 25 26 27 28 29 30 31 32 33 34 35 36 37 38 39 40 41 42 43 44 45 46 47 48 49 50 51 52 53 54 55 56 57 58 59 60 61 62 63 64 65 66 67 68 69 70 71 72 73 74 75 76 77 78 79 80 81 82 83 84 85 86 87 88 89 90 91 92 93 94 95 96 97 98 99 "
     ]
    }
   ],
   "source": [
    "for i in range(100):\n",
    "    print(i, end=\" \")"
   ]
  },
  {
   "cell_type": "code",
   "execution_count": 110,
   "id": "ce438bdd",
   "metadata": {},
   "outputs": [
    {
     "name": "stdout",
     "output_type": "stream",
     "text": [
      "0 1 8 27 64 125 216 343 512 729 "
     ]
    }
   ],
   "source": [
    "for i in range(10):\n",
    "    print(i*i*i, end=\" \")"
   ]
  },
  {
   "cell_type": "code",
   "execution_count": 111,
   "id": "5e56431f",
   "metadata": {},
   "outputs": [
    {
     "name": "stdout",
     "output_type": "stream",
     "text": [
      "[0, 1, 2, 3, 4, 5, 6, 7, 8, 9, 10, 11, 12, 13, 14, 15, 16, 17, 18, 19]\n"
     ]
    }
   ],
   "source": [
    "a=[]\n",
    "for i in range(20):\n",
    "    a.append(i)\n",
    "print(a)"
   ]
  },
  {
   "cell_type": "code",
   "execution_count": 112,
   "id": "14bc2795",
   "metadata": {},
   "outputs": [
    {
     "name": "stdout",
     "output_type": "stream",
     "text": [
      "[0, 1, 8, 27, 64, 125, 216, 343, 512, 729]\n"
     ]
    }
   ],
   "source": [
    "ans=[]\n",
    "for i in range(10):\n",
    "    ans.append(i**3)\n",
    "print(ans)"
   ]
  },
  {
   "cell_type": "code",
   "execution_count": 113,
   "id": "6205ef72",
   "metadata": {},
   "outputs": [
    {
     "name": "stdout",
     "output_type": "stream",
     "text": [
      "welcome to programming world\n",
      "welcome to programming world\n",
      "welcome to programming world\n",
      "welcome to programming world\n",
      "welcome to programming world\n",
      "welcome to programming world\n",
      "welcome to programming world\n",
      "welcome to programming world\n",
      "welcome to programming world\n",
      "welcome to programming world\n"
     ]
    }
   ],
   "source": [
    "y=0\n",
    "z=10\n",
    "while y<z:\n",
    "    print('welcome to programming world')\n",
    "    y+=1"
   ]
  },
  {
   "cell_type": "code",
   "execution_count": 114,
   "id": "900da861",
   "metadata": {},
   "outputs": [],
   "source": [
    "dictt={\n",
    "    'a':'mahendra',\n",
    "    'b':'mahi',\n",
    "    'c':'monkey',\n",
    "    'd':'ma'}"
   ]
  },
  {
   "cell_type": "code",
   "execution_count": 115,
   "id": "2649c1f9",
   "metadata": {},
   "outputs": [
    {
     "data": {
      "text/plain": [
       "dict_keys(['a', 'b', 'c', 'd'])"
      ]
     },
     "execution_count": 115,
     "metadata": {},
     "output_type": "execute_result"
    }
   ],
   "source": [
    "dictt.keys()"
   ]
  },
  {
   "cell_type": "code",
   "execution_count": 116,
   "id": "641a0948",
   "metadata": {},
   "outputs": [
    {
     "name": "stdout",
     "output_type": "stream",
     "text": [
      "a\n",
      "b\n",
      "c\n",
      "d\n"
     ]
    }
   ],
   "source": [
    "for key in dictt:\n",
    "    print(key)"
   ]
  },
  {
   "cell_type": "code",
   "execution_count": 117,
   "id": "9934a979",
   "metadata": {},
   "outputs": [
    {
     "data": {
      "text/plain": [
       "dict_values(['mahendra', 'mahi', 'monkey', 'ma'])"
      ]
     },
     "execution_count": 117,
     "metadata": {},
     "output_type": "execute_result"
    }
   ],
   "source": [
    "dictt.values()"
   ]
  },
  {
   "cell_type": "code",
   "execution_count": 118,
   "id": "f5aa57d0",
   "metadata": {},
   "outputs": [
    {
     "name": "stdout",
     "output_type": "stream",
     "text": [
      "mahendra\n",
      "mahi\n",
      "monkey\n",
      "ma\n"
     ]
    }
   ],
   "source": [
    "for i in dictt.values():\n",
    "    print(i,end='\\n')"
   ]
  },
  {
   "cell_type": "code",
   "execution_count": 126,
   "id": "67cd1ca8",
   "metadata": {},
   "outputs": [
    {
     "name": "stdout",
     "output_type": "stream",
     "text": [
      "a : mahendra\n",
      "b : mahi\n",
      "c : monkey\n",
      "d : ma\n"
     ]
    }
   ],
   "source": [
    "for key, value in dictt.items():\n",
    "    print(key, \":\", value)"
   ]
  },
  {
   "cell_type": "markdown",
   "id": "5720c2de",
   "metadata": {},
   "source": [
    "### List comprehension"
   ]
  },
  {
   "cell_type": "code",
   "execution_count": 120,
   "id": "1d88990d",
   "metadata": {},
   "outputs": [],
   "source": [
    "new_list=[i for i in names]"
   ]
  },
  {
   "cell_type": "code",
   "execution_count": 121,
   "id": "ad573cc6",
   "metadata": {},
   "outputs": [
    {
     "data": {
      "text/plain": [
       "['mahi', 'mahendra', 'monkey', 'haza', 'yasod']"
      ]
     },
     "execution_count": 121,
     "metadata": {},
     "output_type": "execute_result"
    }
   ],
   "source": [
    "new_list"
   ]
  },
  {
   "cell_type": "code",
   "execution_count": 122,
   "id": "4c2a6513",
   "metadata": {},
   "outputs": [
    {
     "data": {
      "text/plain": [
       "['mahi', 'mahendra', 'monkey', 'haza', 'yasod']"
      ]
     },
     "execution_count": 122,
     "metadata": {},
     "output_type": "execute_result"
    }
   ],
   "source": [
    "names"
   ]
  },
  {
   "cell_type": "code",
   "execution_count": 129,
   "id": "f1a56d74",
   "metadata": {},
   "outputs": [],
   "source": [
    "x=[3,5,8,39,55,4,33]\n",
    "y = [i**2 for i in x if i % 2 == 0]"
   ]
  },
  {
   "cell_type": "code",
   "execution_count": 130,
   "id": "33fc14fc",
   "metadata": {},
   "outputs": [
    {
     "data": {
      "text/plain": [
       "[64, 16]"
      ]
     },
     "execution_count": 130,
     "metadata": {},
     "output_type": "execute_result"
    }
   ],
   "source": [
    "y"
   ]
  },
  {
   "cell_type": "markdown",
   "id": "4e5d80ab",
   "metadata": {},
   "source": [
    "# Functions"
   ]
  },
  {
   "cell_type": "code",
   "execution_count": 137,
   "id": "f9e098d2",
   "metadata": {},
   "outputs": [],
   "source": [
    "def f():\n",
    "    print('hello')\n",
    "    print(4*9)\n",
    "    print(48+99)"
   ]
  },
  {
   "cell_type": "code",
   "execution_count": 138,
   "id": "daa01edb",
   "metadata": {},
   "outputs": [
    {
     "name": "stdout",
     "output_type": "stream",
     "text": [
      "hello\n",
      "36\n",
      "147\n"
     ]
    }
   ],
   "source": [
    "f()"
   ]
  },
  {
   "cell_type": "code",
   "execution_count": 134,
   "id": "96c43b33",
   "metadata": {},
   "outputs": [
    {
     "data": {
      "text/plain": [
       "<function __main__.f()>"
      ]
     },
     "execution_count": 134,
     "metadata": {},
     "output_type": "execute_result"
    }
   ],
   "source": [
    "f"
   ]
  },
  {
   "cell_type": "code",
   "execution_count": 140,
   "id": "685f843b",
   "metadata": {},
   "outputs": [
    {
     "name": "stdout",
     "output_type": "stream",
     "text": [
      "hello\n",
      "36\n",
      "147\n",
      "hello\n",
      "36\n",
      "147\n",
      "hello\n",
      "36\n",
      "147\n"
     ]
    }
   ],
   "source": [
    "for i in range(3):\n",
    "    f()"
   ]
  },
  {
   "cell_type": "code",
   "execution_count": 141,
   "id": "58951a04",
   "metadata": {},
   "outputs": [
    {
     "data": {
      "text/plain": [
       "['mahi', 'mahendra', 'monkey', 'haza', 'yasod']"
      ]
     },
     "execution_count": 141,
     "metadata": {},
     "output_type": "execute_result"
    }
   ],
   "source": [
    "names"
   ]
  },
  {
   "cell_type": "code",
   "execution_count": 151,
   "id": "3fcbf8cc",
   "metadata": {},
   "outputs": [],
   "source": [
    "#positional arguments\n",
    "def custom_welcome(name):\n",
    "    print('welcome {}'.format(name))"
   ]
  },
  {
   "cell_type": "code",
   "execution_count": 145,
   "id": "9e5a50e5",
   "metadata": {},
   "outputs": [
    {
     "name": "stdout",
     "output_type": "stream",
     "text": [
      "welcome mahi mahendra\n"
     ]
    }
   ],
   "source": [
    "custom_welcome('mahi mahendra')"
   ]
  },
  {
   "cell_type": "code",
   "execution_count": 149,
   "id": "6022d170",
   "metadata": {},
   "outputs": [
    {
     "name": "stdout",
     "output_type": "stream",
     "text": [
      "welcome mahi mahendra\n"
     ]
    }
   ],
   "source": [
    "#string formatting\n",
    "print('welcome {} {}'.format('mahi', 'mahendra'))"
   ]
  },
  {
   "cell_type": "code",
   "execution_count": 150,
   "id": "51680eeb",
   "metadata": {},
   "outputs": [
    {
     "name": "stdout",
     "output_type": "stream",
     "text": [
      "welcome mahi\n",
      "welcome mahendra\n",
      "welcome monkey\n",
      "welcome haza\n",
      "welcome yasod\n"
     ]
    }
   ],
   "source": [
    "for i in names:\n",
    "    custom_welcome(i)"
   ]
  },
  {
   "cell_type": "code",
   "execution_count": 161,
   "id": "5f0931ab",
   "metadata": {},
   "outputs": [],
   "source": [
    "#multiple position arguments\n",
    "def cust_wel(name, destination):\n",
    "    print('welcome {} to the {}'.format(name, destination))"
   ]
  },
  {
   "cell_type": "code",
   "execution_count": 162,
   "id": "cc941a9f",
   "metadata": {},
   "outputs": [
    {
     "name": "stdout",
     "output_type": "stream",
     "text": [
      "welcome mahi to the IT_department\n"
     ]
    }
   ],
   "source": [
    "cust_wel('mahi', 'IT_department')"
   ]
  },
  {
   "cell_type": "code",
   "execution_count": 164,
   "id": "a71912de",
   "metadata": {},
   "outputs": [],
   "source": [
    "destination=['IT_department','Software','sales','HR','Director']"
   ]
  },
  {
   "cell_type": "code",
   "execution_count": 168,
   "id": "7ee3177f",
   "metadata": {},
   "outputs": [
    {
     "name": "stdout",
     "output_type": "stream",
     "text": [
      "0 mahi\n",
      "1 mahendra\n",
      "2 monkey\n",
      "3 haza\n",
      "4 yasod\n"
     ]
    }
   ],
   "source": [
    "for i,j in enumerate(names):\n",
    "    print(i, j)"
   ]
  },
  {
   "cell_type": "code",
   "execution_count": 170,
   "id": "2dfaa17e",
   "metadata": {},
   "outputs": [
    {
     "name": "stdout",
     "output_type": "stream",
     "text": [
      "welcome mahi to the IT_department\n",
      "welcome mahendra to the Software\n",
      "welcome monkey to the sales\n",
      "welcome haza to the HR\n",
      "welcome yasod to the Director\n"
     ]
    }
   ],
   "source": [
    "# used the enumerate functionto get the positional index and names\n",
    "for i, j in enumerate(names):\n",
    "    dest=destination[i]\n",
    "    cust_wel(j, dest)"
   ]
  },
  {
   "cell_type": "code",
   "execution_count": 180,
   "id": "ca421b1b",
   "metadata": {},
   "outputs": [],
   "source": [
    "#keyword argument\n",
    "def cust_col(color='red'):\n",
    "    print('your custom color is {} '.format(color))"
   ]
  },
  {
   "cell_type": "code",
   "execution_count": 181,
   "id": "c27afc73",
   "metadata": {},
   "outputs": [
    {
     "name": "stdout",
     "output_type": "stream",
     "text": [
      "your custom color is Blue \n"
     ]
    }
   ],
   "source": [
    "cust_col(color='Blue')"
   ]
  },
  {
   "cell_type": "code",
   "execution_count": 182,
   "id": "12c04710",
   "metadata": {},
   "outputs": [],
   "source": [
    "def cust_wel(name, destination, color='Blue'):\n",
    "    print('welcome {} to the {}, your destination is {}'. format(name, destination, color))"
   ]
  },
  {
   "cell_type": "code",
   "execution_count": 183,
   "id": "2a6c32b9",
   "metadata": {},
   "outputs": [
    {
     "name": "stdout",
     "output_type": "stream",
     "text": [
      "welcome mahi to the IT, your destination is Blue\n"
     ]
    }
   ],
   "source": [
    "cust_wel('mahi','IT')"
   ]
  },
  {
   "cell_type": "code",
   "execution_count": 184,
   "id": "4e42e7af",
   "metadata": {},
   "outputs": [],
   "source": [
    "def cust_wel(name, destination, color='Blue'):\n",
    "    return 'welcome {} to the {}, your destination is {}'. format(name, destination, color)"
   ]
  },
  {
   "cell_type": "code",
   "execution_count": 185,
   "id": "17187922",
   "metadata": {},
   "outputs": [
    {
     "data": {
      "text/plain": [
       "'welcome mahi to the IT, your destination is red'"
      ]
     },
     "execution_count": 185,
     "metadata": {},
     "output_type": "execute_result"
    }
   ],
   "source": [
    "cust_wel('mahi','IT','red')"
   ]
  },
  {
   "cell_type": "markdown",
   "id": "f1f307d5",
   "metadata": {},
   "source": [
    "# Lambda function"
   ]
  },
  {
   "cell_type": "code",
   "execution_count": 186,
   "id": "8021fd0b",
   "metadata": {},
   "outputs": [],
   "source": [
    "pi=lambda x:x*3.14"
   ]
  },
  {
   "cell_type": "code",
   "execution_count": 187,
   "id": "224c04ea",
   "metadata": {},
   "outputs": [
    {
     "data": {
      "text/plain": [
       "<function __main__.<lambda>(x)>"
      ]
     },
     "execution_count": 187,
     "metadata": {},
     "output_type": "execute_result"
    }
   ],
   "source": [
    "pi"
   ]
  },
  {
   "cell_type": "code",
   "execution_count": 189,
   "id": "0bf51bf5",
   "metadata": {},
   "outputs": [
    {
     "data": {
      "text/plain": [
       "6.28"
      ]
     },
     "execution_count": 189,
     "metadata": {},
     "output_type": "execute_result"
    }
   ],
   "source": [
    "pi(2)"
   ]
  },
  {
   "cell_type": "markdown",
   "id": "9a29d58e",
   "metadata": {},
   "source": [
    "# OOPS concept"
   ]
  },
  {
   "cell_type": "markdown",
   "id": "b09cdf04",
   "metadata": {},
   "source": [
    "## classes, attributes, methods, class inheritance "
   ]
  },
  {
   "cell_type": "code",
   "execution_count": 209,
   "id": "05a58e7c",
   "metadata": {},
   "outputs": [],
   "source": [
    "# classes as boiler plates for objects\n",
    "class mahi():\n",
    "    # the method that runs as soon as you create a class : initialize parameters or attributes\n",
    "    def __init__(self, name, age, color):\n",
    "        # create same attributes for our mahi class\n",
    "        self.name=name\n",
    "        self.age=age\n",
    "        self.color=color\n",
    "    #date of birth method\n",
    "    def year_of_birth(self):\n",
    "        return 2019-self.age\n",
    "    # projected age\n",
    "    def project_age(self, years=4):\n",
    "        return self.age+years"
   ]
  },
  {
   "cell_type": "code",
   "execution_count": 210,
   "id": "fc7c29cd",
   "metadata": {},
   "outputs": [],
   "source": [
    "#creating object\n",
    "some_person=mahi('mahendra',23,'red')"
   ]
  },
  {
   "cell_type": "code",
   "execution_count": 211,
   "id": "a0657cab",
   "metadata": {},
   "outputs": [
    {
     "data": {
      "text/plain": [
       "'red'"
      ]
     },
     "execution_count": 211,
     "metadata": {},
     "output_type": "execute_result"
    }
   ],
   "source": [
    "# accessing a class attributes\n",
    "some_person.color"
   ]
  },
  {
   "cell_type": "code",
   "execution_count": 212,
   "id": "f544c666",
   "metadata": {},
   "outputs": [
    {
     "data": {
      "text/plain": [
       "23"
      ]
     },
     "execution_count": 212,
     "metadata": {},
     "output_type": "execute_result"
    }
   ],
   "source": [
    "some_person.age"
   ]
  },
  {
   "cell_type": "code",
   "execution_count": 213,
   "id": "25d11acd",
   "metadata": {},
   "outputs": [
    {
     "data": {
      "text/plain": [
       "'mahendra'"
      ]
     },
     "execution_count": 213,
     "metadata": {},
     "output_type": "execute_result"
    }
   ],
   "source": [
    "some_person.name"
   ]
  },
  {
   "cell_type": "code",
   "execution_count": 214,
   "id": "be333ee3",
   "metadata": {},
   "outputs": [
    {
     "data": {
      "text/plain": [
       "1996"
      ]
     },
     "execution_count": 214,
     "metadata": {},
     "output_type": "execute_result"
    }
   ],
   "source": [
    "some_person.year_of_birth()"
   ]
  },
  {
   "cell_type": "code",
   "execution_count": 216,
   "id": "251575a7",
   "metadata": {},
   "outputs": [
    {
     "data": {
      "text/plain": [
       "27"
      ]
     },
     "execution_count": 216,
     "metadata": {},
     "output_type": "execute_result"
    }
   ],
   "source": [
    "some_person.project_age()"
   ]
  },
  {
   "cell_type": "markdown",
   "id": "c2007014",
   "metadata": {},
   "source": [
    "# Inheritance \n",
    "- parent is the class passing down attributes and methods = mahi\n",
    "- child is the class inheriting the methods and attributes = frastration"
   ]
  },
  {
   "cell_type": "code",
   "execution_count": 256,
   "id": "09dfb363",
   "metadata": {},
   "outputs": [],
   "source": [
    "# create a child class\n",
    "class frastration(mahi):\n",
    "    #  define initialization function\n",
    "    def __init__(self, name, age, color, months):\n",
    "        #this is what gives us inheritance-super method\n",
    "        super().__init__(name,age,color)\n",
    "        self.length_months=months\n",
    "    # method for calculating age on return \n",
    "    def age_on_return(self):\n",
    "        return self.project_age(years=self.length_months/12)"
   ]
  },
  {
   "cell_type": "code",
   "execution_count": 257,
   "id": "4bfb3361",
   "metadata": {},
   "outputs": [],
   "source": [
    "destt=frastration('mahendra',40,'red',24)"
   ]
  },
  {
   "cell_type": "code",
   "execution_count": 264,
   "id": "853cce36",
   "metadata": {},
   "outputs": [
    {
     "data": {
      "text/plain": [
       "'red'"
      ]
     },
     "execution_count": 264,
     "metadata": {},
     "output_type": "execute_result"
    }
   ],
   "source": [
    "# access parent like attribute\n",
    "destt.color"
   ]
  },
  {
   "cell_type": "code",
   "execution_count": 262,
   "id": "a52b3be4",
   "metadata": {},
   "outputs": [
    {
     "data": {
      "text/plain": [
       "40"
      ]
     },
     "execution_count": 262,
     "metadata": {},
     "output_type": "execute_result"
    }
   ],
   "source": [
    "destt.age"
   ]
  },
  {
   "cell_type": "code",
   "execution_count": 263,
   "id": "b1b18583",
   "metadata": {},
   "outputs": [
    {
     "data": {
      "text/plain": [
       "'mahendra'"
      ]
     },
     "execution_count": 263,
     "metadata": {},
     "output_type": "execute_result"
    }
   ],
   "source": [
    "destt.name"
   ]
  },
  {
   "cell_type": "code",
   "execution_count": 265,
   "id": "c37820bc",
   "metadata": {},
   "outputs": [
    {
     "data": {
      "text/plain": [
       "1979"
      ]
     },
     "execution_count": 265,
     "metadata": {},
     "output_type": "execute_result"
    }
   ],
   "source": [
    "# access the methods\n",
    "destt.year_of_birth()"
   ]
  },
  {
   "cell_type": "code",
   "execution_count": 267,
   "id": "0276358b",
   "metadata": {},
   "outputs": [
    {
     "data": {
      "text/plain": [
       "42.0"
      ]
     },
     "execution_count": 267,
     "metadata": {},
     "output_type": "execute_result"
    }
   ],
   "source": [
    "# access the methods\n",
    "destt.age_on_return()"
   ]
  },
  {
   "cell_type": "markdown",
   "id": "d0035730",
   "metadata": {},
   "source": [
    "# Modules "
   ]
  },
  {
   "cell_type": "code",
   "execution_count": 272,
   "id": "b7332dfc",
   "metadata": {},
   "outputs": [],
   "source": [
    "# import launch codes practice\n",
    "from practice import f"
   ]
  },
  {
   "cell_type": "code",
   "execution_count": 273,
   "id": "3a996ac8",
   "metadata": {},
   "outputs": [
    {
     "data": {
      "text/plain": [
       "2000"
      ]
     },
     "execution_count": 273,
     "metadata": {},
     "output_type": "execute_result"
    }
   ],
   "source": [
    "f()"
   ]
  },
  {
   "cell_type": "markdown",
   "id": "6f2ed033",
   "metadata": {},
   "source": [
    "# packages "
   ]
  },
  {
   "cell_type": "code",
   "execution_count": 275,
   "id": "ff238dd1",
   "metadata": {},
   "outputs": [
    {
     "name": "stdout",
     "output_type": "stream",
     "text": [
      "Requirement already satisfied: requests in c:\\users\\mahen\\anaconda3\\lib\\site-packages (2.28.1)\n",
      "Requirement already satisfied: idna<4,>=2.5 in c:\\users\\mahen\\anaconda3\\lib\\site-packages (from requests) (3.4)\n",
      "Requirement already satisfied: certifi>=2017.4.17 in c:\\users\\mahen\\anaconda3\\lib\\site-packages (from requests) (2022.12.7)\n",
      "Requirement already satisfied: urllib3<1.27,>=1.21.1 in c:\\users\\mahen\\anaconda3\\lib\\site-packages (from requests) (1.26.14)\n",
      "Requirement already satisfied: charset-normalizer<3,>=2 in c:\\users\\mahen\\anaconda3\\lib\\site-packages (from requests) (2.0.4)\n"
     ]
    }
   ],
   "source": [
    "!pip install requests"
   ]
  },
  {
   "cell_type": "code",
   "execution_count": 276,
   "id": "b3e74542",
   "metadata": {},
   "outputs": [
    {
     "name": "stdout",
     "output_type": "stream",
     "text": [
      "Package                             Version\n",
      "----------------------------------- ---------------\n",
      "absl-py                             1.4.0\n",
      "aiofiles                            23.1.0\n",
      "aiohttp                             3.8.4\n",
      "aiosignal                           1.3.1\n",
      "alabaster                           0.7.12\n",
      "alembic                             1.11.1\n",
      "anaconda-client                     1.11.2\n",
      "anaconda-navigator                  2.4.0\n",
      "anaconda-project                    0.11.1\n",
      "anyio                               3.5.0\n",
      "apache-airflow                      2.6.2\n",
      "apache-airflow-providers-common-sql 1.5.2\n",
      "apache-airflow-providers-ftp        3.4.2\n",
      "apache-airflow-providers-google     10.1.0\n",
      "apache-airflow-providers-http       4.4.2\n",
      "apache-airflow-providers-imap       3.2.2\n",
      "apache-airflow-providers-sqlite     3.4.2\n",
      "apispec                             5.2.2\n",
      "appdirs                             1.4.4\n",
      "argcomplete                         3.1.1\n",
      "argon2-cffi                         21.3.0\n",
      "argon2-cffi-bindings                21.2.0\n",
      "arrow                               1.2.3\n",
      "asgiref                             3.7.2\n",
      "astroid                             2.14.2\n",
      "astropy                             5.1\n",
      "asttokens                           2.0.5\n",
      "astunparse                          1.6.3\n",
      "async-timeout                       4.0.2\n",
      "atomicwrites                        1.4.0\n",
      "attrs                               22.1.0\n",
      "Automat                             20.2.0\n",
      "autopep8                            1.6.0\n",
      "autoscraper                         1.1.14\n",
      "Babel                               2.11.0\n",
      "backcall                            0.2.0\n",
      "backoff                             2.2.1\n",
      "backports.functools-lru-cache       1.6.4\n",
      "backports.tempfile                  1.0\n",
      "backports.weakref                   1.0.post1\n",
      "bcrypt                              3.2.0\n",
      "beautifulsoup4                      4.11.1\n",
      "binaryornot                         0.4.4\n",
      "black                               22.6.0\n",
      "bleach                              4.1.0\n",
      "blinker                             1.6.2\n",
      "bokeh                               2.4.3\n",
      "boltons                             23.0.0\n",
      "Bottleneck                          1.3.5\n",
      "brotlipy                            0.7.0\n",
      "bs4                                 0.0.1\n",
      "cachelib                            0.9.0\n",
      "cachetools                          5.3.1\n",
      "cattrs                              23.1.2\n",
      "certifi                             2022.12.7\n",
      "cffi                                1.15.1\n",
      "chardet                             4.0.0\n",
      "charset-normalizer                  2.0.4\n",
      "click                               8.0.4\n",
      "clickclick                          20.10.2\n",
      "cloudpickle                         2.0.0\n",
      "clyent                              1.2.2\n",
      "colorama                            0.4.6\n",
      "colorcet                            3.0.1\n",
      "colorlog                            4.8.0\n",
      "comm                                0.1.2\n",
      "conda                               23.3.1\n",
      "conda-build                         3.24.0\n",
      "conda-content-trust                 0.1.3\n",
      "conda-pack                          0.6.0\n",
      "conda-package-handling              2.0.2\n",
      "conda_package_streaming             0.7.0\n",
      "conda-repo-cli                      1.0.41\n",
      "conda-token                         0.4.0\n",
      "conda-verify                        3.4.2\n",
      "ConfigUpdater                       3.1.1\n",
      "connexion                           2.14.2\n",
      "constantly                          15.1.0\n",
      "contourpy                           1.0.5\n",
      "cookiecutter                        1.7.3\n",
      "cron-descriptor                     1.4.0\n",
      "croniter                            1.4.1\n",
      "cryptography                        39.0.1\n",
      "cssselect                           1.1.0\n",
      "cycler                              0.11.0\n",
      "cytoolz                             0.12.0\n",
      "daal4py                             2023.0.2\n",
      "dask                                2022.7.0\n",
      "databricks-cli                      0.17.7\n",
      "datashader                          0.14.4\n",
      "datashape                           0.5.4\n",
      "db-dtypes                           1.1.1\n",
      "debugpy                             1.5.1\n",
      "decorator                           5.1.1\n",
      "defusedxml                          0.7.1\n",
      "Deprecated                          1.2.14\n",
      "diff-match-patch                    20200713\n",
      "dill                                0.3.6\n",
      "distlib                             0.3.6\n",
      "distributed                         2022.7.0\n",
      "dnspython                           2.3.0\n",
      "docstring-to-markdown               0.11\n",
      "docutils                            0.18.1\n",
      "email-validator                     1.3.1\n",
      "entrypoints                         0.4\n",
      "et-xmlfile                          1.1.0\n",
      "exceptiongroup                      1.1.1\n",
      "executing                           0.8.3\n",
      "fastjsonschema                      2.16.2\n",
      "filelock                            3.12.2\n",
      "flake8                              6.0.0\n",
      "Flask                               2.2.2\n",
      "Flask-AppBuilder                    4.3.1\n",
      "Flask-Babel                         2.0.0\n",
      "Flask-Caching                       2.0.2\n",
      "Flask-JWT-Extended                  4.5.2\n",
      "Flask-Limiter                       3.3.1\n",
      "Flask-Login                         0.6.2\n",
      "Flask-Session                       0.5.0\n",
      "Flask-SQLAlchemy                    2.5.1\n",
      "Flask-WTF                           1.1.1\n",
      "flatbuffers                         23.5.26\n",
      "flit_core                           3.6.0\n",
      "fonttools                           4.25.0\n",
      "frozenlist                          1.3.3\n",
      "fsspec                              2022.11.0\n",
      "future                              0.18.3\n",
      "gast                                0.4.0\n",
      "gcloud-aio-auth                     4.2.1\n",
      "gcloud-aio-bigquery                 6.3.0\n",
      "gcloud-aio-storage                  8.2.0\n",
      "gensim                              4.3.0\n",
      "glob2                               0.7\n",
      "google-ads                          21.2.0\n",
      "google-api-core                     2.11.0\n",
      "google-api-python-client            2.90.0\n",
      "google-auth                         2.20.0\n",
      "google-auth-httplib2                0.1.0\n",
      "google-auth-oauthlib                1.0.0\n",
      "google-cloud-aiplatform             1.26.1\n",
      "google-cloud-appengine-logging      1.3.0\n",
      "google-cloud-audit-log              0.2.5\n",
      "google-cloud-automl                 2.11.1\n",
      "google-cloud-bigquery               3.11.2\n",
      "google-cloud-bigquery-datatransfer  3.11.1\n",
      "google-cloud-bigquery-storage       2.20.0\n",
      "google-cloud-bigtable               2.19.0\n",
      "google-cloud-build                  3.16.0\n",
      "google-cloud-compute                1.11.0\n",
      "google-cloud-container              2.24.0\n",
      "google-cloud-core                   2.3.2\n",
      "google-cloud-datacatalog            3.13.0\n",
      "google-cloud-dataflow-client        0.8.3\n",
      "google-cloud-dataform               0.5.1\n",
      "google-cloud-dataplex               1.5.0\n",
      "google-cloud-dataproc               5.4.1\n",
      "google-cloud-dataproc-metastore     1.11.0\n",
      "google-cloud-dlp                    3.12.1\n",
      "google-cloud-kms                    2.17.0\n",
      "google-cloud-language               2.10.0\n",
      "google-cloud-logging                3.5.0\n",
      "google-cloud-memcache               1.7.1\n",
      "google-cloud-monitoring             2.15.0\n",
      "google-cloud-orchestration-airflow  1.9.0\n",
      "google-cloud-os-login               2.9.1\n",
      "google-cloud-pubsub                 2.17.1\n",
      "google-cloud-redis                  2.13.0\n",
      "google-cloud-resource-manager       1.10.1\n",
      "google-cloud-secret-manager         2.16.1\n",
      "google-cloud-spanner                3.36.0\n",
      "google-cloud-speech                 2.20.0\n",
      "google-cloud-storage                2.9.0\n",
      "google-cloud-tasks                  2.13.1\n",
      "google-cloud-texttospeech           2.14.1\n",
      "google-cloud-translate              3.11.1\n",
      "google-cloud-videointelligence      2.11.2\n",
      "google-cloud-vision                 3.4.3\n",
      "google-cloud-workflows              1.10.1\n",
      "google-crc32c                       1.5.0\n",
      "google-pasta                        0.2.0\n",
      "google-resumable-media              2.5.0\n",
      "googleapis-common-protos            1.59.1\n",
      "graphviz                            0.20.1\n",
      "greenlet                            2.0.1\n",
      "grpc-google-iam-v1                  0.12.6\n",
      "grpcio                              1.56.0\n",
      "grpcio-gcp                          0.2.2\n",
      "grpcio-status                       1.56.0\n",
      "gunicorn                            20.1.0\n",
      "h11                                 0.14.0\n",
      "h5py                                3.7.0\n",
      "HeapDict                            1.0.1\n",
      "holoviews                           1.15.4\n",
      "httpcore                            0.17.2\n",
      "httplib2                            0.22.0\n",
      "httpx                               0.24.1\n",
      "huggingface-hub                     0.10.1\n",
      "hvplot                              0.8.2\n",
      "hyperlink                           21.0.0\n",
      "idna                                3.4\n",
      "imagecodecs                         2021.8.26\n",
      "imageio                             2.26.0\n",
      "imagesize                           1.4.1\n",
      "imbalanced-learn                    0.10.1\n",
      "importlib-metadata                  4.11.3\n",
      "importlib-resources                 5.12.0\n",
      "incremental                         21.3.0\n",
      "inflection                          0.5.1\n",
      "iniconfig                           1.1.1\n",
      "intake                              0.6.7\n",
      "intervaltree                        3.1.0\n",
      "ipykernel                           6.19.2\n",
      "ipython                             8.10.0\n",
      "ipython-genutils                    0.2.0\n",
      "ipywidgets                          7.6.5\n",
      "isort                               5.9.3\n",
      "itemadapter                         0.3.0\n",
      "itemloaders                         1.0.4\n",
      "itsdangerous                        2.0.1\n",
      "jedi                                0.18.1\n",
      "jellyfish                           0.9.0\n",
      "Jinja2                              3.1.2\n",
      "jinja2-time                         0.2.0\n",
      "jmespath                            0.10.0\n",
      "joblib                              1.1.1\n",
      "json-merge-patch                    0.2\n",
      "json5                               0.9.6\n",
      "jsonpatch                           1.32\n",
      "jsonpointer                         2.1\n",
      "jsonschema                          4.17.3\n",
      "jupyter                             1.0.0\n",
      "jupyter_client                      7.3.4\n",
      "jupyter-console                     6.6.2\n",
      "jupyter_core                        5.2.0\n",
      "jupyter-server                      1.23.4\n",
      "jupyterlab                          3.5.3\n",
      "jupyterlab-pygments                 0.1.2\n",
      "jupyterlab_server                   2.19.0\n",
      "jupyterlab-widgets                  1.0.0\n",
      "keras                               2.13.1\n",
      "keyring                             23.4.0\n",
      "kiwisolver                          1.4.4\n",
      "lazy-object-proxy                   1.6.0\n",
      "libarchive-c                        2.9\n",
      "libclang                            16.0.0\n",
      "limits                              3.5.0\n",
      "linkify-it-py                       2.0.2\n",
      "llvmlite                            0.39.1\n",
      "locket                              1.0.0\n",
      "lockfile                            0.12.2\n",
      "looker-sdk                          23.10.0\n",
      "lxml                                4.9.1\n",
      "lz4                                 3.1.3\n",
      "Mako                                1.2.4\n",
      "Markdown                            3.4.1\n",
      "markdown-it-py                      3.0.0\n",
      "MarkupSafe                          2.1.1\n",
      "marshmallow                         3.19.0\n",
      "marshmallow-enum                    1.5.1\n",
      "marshmallow-oneofschema             3.0.1\n",
      "marshmallow-sqlalchemy              0.26.1\n",
      "matplotlib                          3.7.0\n",
      "matplotlib-inline                   0.1.6\n",
      "mccabe                              0.7.0\n",
      "mdit-py-plugins                     0.4.0\n",
      "mdurl                               0.1.2\n",
      "menuinst                            1.4.19\n",
      "mistune                             0.8.4\n",
      "mkl-fft                             1.3.1\n",
      "mkl-random                          1.2.2\n",
      "mkl-service                         2.4.0\n",
      "mock                                4.0.3\n",
      "mpmath                              1.2.1\n",
      "msgpack                             1.0.3\n",
      "multidict                           6.0.4\n",
      "multipledispatch                    0.6.0\n",
      "munkres                             1.1.4\n",
      "mypy-extensions                     0.4.3\n",
      "navigator-updater                   0.3.0\n",
      "nbclassic                           0.5.2\n",
      "nbclient                            0.5.13\n",
      "nbconvert                           6.5.4\n",
      "nbformat                            5.7.0\n",
      "nest-asyncio                        1.5.6\n",
      "networkx                            2.8.4\n",
      "nltk                                3.7\n",
      "notebook                            6.5.2\n",
      "notebook_shim                       0.2.2\n",
      "numba                               0.56.4\n",
      "numexpr                             2.8.4\n",
      "numpy                               1.23.5\n",
      "numpydoc                            1.5.0\n",
      "oauthlib                            3.2.2\n",
      "openpyxl                            3.0.10\n",
      "opt-einsum                          3.3.0\n",
      "ordered-set                         4.1.0\n",
      "packaging                           22.0\n",
      "pandas                              1.5.3\n",
      "pandas-gbq                          0.19.2\n",
      "pandocfilters                       1.5.0\n",
      "panel                               0.14.3\n",
      "param                               1.12.3\n",
      "paramiko                            2.8.1\n",
      "parsel                              1.6.0\n",
      "parso                               0.8.3\n",
      "partd                               1.2.0\n",
      "pathlib                             1.0.1\n",
      "pathspec                            0.9.0\n",
      "patsy                               0.5.3\n",
      "pendulum                            2.1.2\n",
      "pep8                                1.7.1\n",
      "pexpect                             4.8.0\n",
      "pickleshare                         0.7.5\n",
      "Pillow                              9.4.0\n",
      "pip                                 22.3.1\n",
      "pkginfo                             1.9.6\n",
      "platformdirs                        3.8.0\n",
      "plotly                              5.9.0\n",
      "pluggy                              1.0.0\n",
      "ply                                 3.11\n",
      "pooch                               1.4.0\n",
      "poyo                                0.5.0\n",
      "prison                              0.2.1\n",
      "prometheus-client                   0.14.1\n",
      "prompt-toolkit                      3.0.36\n",
      "Protego                             0.1.16\n",
      "proto-plus                          1.22.3\n",
      "protobuf                            4.23.3\n",
      "psutil                              5.9.0\n",
      "psycopg2                            2.9.9\n",
      "ptyprocess                          0.7.0\n",
      "pure-eval                           0.2.2\n",
      "py                                  1.11.0\n",
      "py4j                                0.10.9.7\n",
      "pyarrow                             12.0.1\n",
      "pyasn1                              0.4.8\n",
      "pyasn1-modules                      0.2.8\n",
      "pycodestyle                         2.10.0\n",
      "pycosat                             0.6.4\n",
      "pycparser                           2.21\n",
      "pyct                                0.5.0\n",
      "pycurl                              7.45.1\n",
      "pydantic                            1.10.9\n",
      "pydata-google-auth                  1.8.0\n",
      "PyDispatcher                        2.0.5\n",
      "pydocstyle                          6.3.0\n",
      "pyerfa                              2.0.0\n",
      "pyflakes                            3.0.1\n",
      "Pygments                            2.15.1\n",
      "PyHamcrest                          2.0.2\n",
      "PyJWT                               2.4.0\n",
      "pylint                              2.16.2\n",
      "pylint-venv                         2.3.0\n",
      "pyls-spyder                         0.4.0\n",
      "PyNaCl                              1.5.0\n",
      "pyodbc                              4.0.34\n",
      "pyOpenSSL                           23.0.0\n",
      "pyparsing                           3.0.9\n",
      "PyQt5                               5.15.7\n",
      "PyQt5-sip                           12.11.0\n",
      "PyQtWebEngine                       5.15.4\n",
      "pyrsistent                          0.18.0\n",
      "PySocks                             1.7.1\n",
      "pyspark                             3.4.1\n",
      "pytest                              7.1.2\n",
      "python-daemon                       3.0.1\n",
      "python-dateutil                     2.8.2\n",
      "python-lsp-black                    1.2.1\n",
      "python-lsp-jsonrpc                  1.0.0\n",
      "python-lsp-server                   1.7.1\n",
      "python-nvd3                         0.15.0\n",
      "python-slugify                      5.0.2\n",
      "python-snappy                       0.6.1\n",
      "pytoolconfig                        1.2.5\n",
      "pytz                                2022.7\n",
      "pytzdata                            2020.1\n",
      "pyviz-comms                         2.0.2\n",
      "PyWavelets                          1.4.1\n",
      "pywin32                             305.1\n",
      "pywin32-ctypes                      0.2.0\n",
      "pywinpty                            2.0.10\n",
      "PyYAML                              6.0\n",
      "pyzmq                               23.2.0\n",
      "QDarkStyle                          3.0.2\n",
      "qstylizer                           0.2.2\n",
      "QtAwesome                           1.2.2\n",
      "qtconsole                           5.4.0\n",
      "QtPy                                2.2.0\n",
      "queuelib                            1.5.0\n",
      "regex                               2022.7.9\n",
      "requests                            2.28.1\n",
      "requests-file                       1.5.1\n",
      "requests-oauthlib                   1.3.1\n",
      "requests-toolbelt                   0.9.1\n",
      "rfc3339-validator                   0.1.4\n",
      "rich                                13.4.2\n",
      "rich_argparse                       1.1.1\n",
      "rope                                1.7.0\n",
      "rsa                                 4.9\n",
      "Rtree                               1.0.1\n",
      "ruamel.yaml                         0.17.21\n",
      "ruamel.yaml.clib                    0.2.6\n",
      "ruamel-yaml-conda                   0.17.21\n",
      "scikit-image                        0.19.3\n",
      "scikit-learn                        1.2.1\n",
      "scikit-learn-intelex                20230228.214818\n",
      "scipy                               1.10.0\n",
      "Scrapy                              2.8.0\n",
      "seaborn                             0.12.2\n",
      "Send2Trash                          1.8.0\n",
      "service-identity                    18.1.0\n",
      "setproctitle                        1.3.2\n",
      "setuptools                          66.1.1\n",
      "Shapely                             1.8.5.post1\n",
      "sip                                 6.6.2\n",
      "six                                 1.16.0\n",
      "smart-open                          5.2.1\n",
      "sniffio                             1.2.0\n",
      "snowballstemmer                     2.2.0\n",
      "sortedcontainers                    2.4.0\n",
      "soupsieve                           2.3.2.post1\n",
      "Sphinx                              5.0.2\n",
      "sphinxcontrib-applehelp             1.0.2\n",
      "sphinxcontrib-devhelp               1.0.2\n",
      "sphinxcontrib-htmlhelp              2.0.0\n",
      "sphinxcontrib-jsmath                1.0.1\n",
      "sphinxcontrib-qthelp                1.0.3\n",
      "sphinxcontrib-serializinghtml       1.1.5\n",
      "spyder                              5.4.1\n",
      "spyder-kernels                      2.4.1\n",
      "SQLAlchemy                          1.4.39\n",
      "sqlalchemy-bigquery                 1.6.1\n",
      "SQLAlchemy-JSONField                1.0.1.post0\n",
      "SQLAlchemy-Utils                    0.41.1\n",
      "sqlparse                            0.4.4\n",
      "stack-data                          0.2.0\n",
      "statsmodels                         0.13.5\n",
      "sympy                               1.11.1\n",
      "tables                              3.7.0\n",
      "tabulate                            0.8.10\n",
      "TBB                                 0.2\n",
      "tblib                               1.7.0\n",
      "tenacity                            8.0.1\n",
      "tensorboard                         2.13.0\n",
      "tensorboard-data-server             0.7.1\n",
      "tensorflow                          2.13.0\n",
      "tensorflow-estimator                2.13.0\n",
      "tensorflow-intel                    2.13.0\n",
      "tensorflow-io-gcs-filesystem        0.31.0\n",
      "termcolor                           2.3.0\n",
      "terminado                           0.17.1\n",
      "text-unidecode                      1.3\n",
      "textdistance                        4.2.1\n",
      "threadpoolctl                       2.2.0\n",
      "three-merge                         0.1.1\n",
      "tifffile                            2021.7.2\n",
      "tinycss2                            1.2.1\n",
      "tldextract                          3.2.0\n",
      "tokenizers                          0.11.4\n",
      "toml                                0.10.2\n",
      "tomli                               2.0.1\n",
      "tomlkit                             0.11.1\n",
      "toolz                               0.12.0\n",
      "torch                               1.12.1\n",
      "tornado                             6.1\n",
      "tqdm                                4.64.1\n",
      "traitlets                           5.7.1\n",
      "transformers                        4.24.0\n",
      "Twisted                             22.2.0\n",
      "twisted-iocpsupport                 1.0.2\n",
      "typing_extensions                   4.4.0\n",
      "uc-micro-py                         1.0.2\n",
      "ujson                               5.4.0\n",
      "unicodecsv                          0.14.1\n",
      "Unidecode                           1.2.0\n",
      "uritemplate                         4.1.1\n",
      "urllib3                             1.26.14\n",
      "virtualenv                          20.23.1\n",
      "w3lib                               1.21.0\n",
      "watchdog                            2.1.6\n",
      "wcwidth                             0.2.5\n",
      "webencodings                        0.5.1\n",
      "websocket-client                    0.58.0\n",
      "Werkzeug                            2.2.2\n",
      "whatthepatch                        1.0.2\n",
      "wheel                               0.38.4\n",
      "widgetsnbextension                  3.5.2\n",
      "win-inet-pton                       1.1.0\n",
      "wincertstore                        0.2\n",
      "wrapt                               1.14.1\n",
      "WTForms                             3.0.1\n",
      "xarray                              2022.11.0\n",
      "xlwings                             0.29.1\n",
      "yapf                                0.31.0\n",
      "yarl                                1.9.2\n",
      "zict                                2.1.0\n",
      "zipp                                3.11.0\n",
      "zope.interface                      5.4.0\n",
      "zstandard                           0.19.0\n"
     ]
    }
   ],
   "source": [
    "!pip list"
   ]
  },
  {
   "cell_type": "code",
   "execution_count": 279,
   "id": "a84f0744",
   "metadata": {},
   "outputs": [],
   "source": [
    "import requests"
   ]
  },
  {
   "cell_type": "code",
   "execution_count": 280,
   "id": "d790c35a",
   "metadata": {},
   "outputs": [],
   "source": [
    "requests.get??"
   ]
  },
  {
   "cell_type": "code",
   "execution_count": 281,
   "id": "5ae1d587",
   "metadata": {},
   "outputs": [],
   "source": [
    "url=\"https://www.linkedin.com/feed/\"\n",
    "url2=\"https://leetcode.com/mahendraeee301/\""
   ]
  },
  {
   "cell_type": "code",
   "execution_count": 282,
   "id": "c8aa6c68",
   "metadata": {},
   "outputs": [],
   "source": [
    "# setting up a header\n",
    "header={'accept': 'application/json'}\n",
    "# API call\n",
    "results=requests.get(url, headers=header)"
   ]
  },
  {
   "cell_type": "code",
   "execution_count": 283,
   "id": "21899d45",
   "metadata": {},
   "outputs": [
    {
     "data": {
      "text/plain": [
       "<Response [200]>"
      ]
     },
     "execution_count": 283,
     "metadata": {},
     "output_type": "execute_result"
    }
   ],
   "source": [
    "results"
   ]
  },
  {
   "cell_type": "markdown",
   "id": "14c7e219",
   "metadata": {},
   "source": [
    "# File handling "
   ]
  },
  {
   "cell_type": "markdown",
   "id": "6ec86c16",
   "metadata": {},
   "source": [
    "## File writing, reading and error handling"
   ]
  },
  {
   "cell_type": "markdown",
   "id": "7cbb3046",
   "metadata": {},
   "source": [
    "### working with files"
   ]
  },
  {
   "cell_type": "code",
   "execution_count": 291,
   "id": "ffdf1d70",
   "metadata": {},
   "outputs": [],
   "source": [
    "with open('file.txt', 'w') as f:\n",
    "    f.write(\"It's my first on the space mission. it is very nice\")\n",
    "         "
   ]
  },
  {
   "cell_type": "code",
   "execution_count": 293,
   "id": "ecdc05b5",
   "metadata": {},
   "outputs": [],
   "source": [
    "with open('file.txt', 'r') as f:\n",
    "    file=f.read()"
   ]
  },
  {
   "cell_type": "code",
   "execution_count": 295,
   "id": "6092bc8e",
   "metadata": {},
   "outputs": [],
   "source": [
    "#open??"
   ]
  },
  {
   "cell_type": "code",
   "execution_count": 296,
   "id": "55a74347",
   "metadata": {},
   "outputs": [
    {
     "name": "stdout",
     "output_type": "stream",
     "text": [
      "It's my first on the space mission. it is very nice\n"
     ]
    }
   ],
   "source": [
    "print(file)"
   ]
  },
  {
   "cell_type": "markdown",
   "id": "238a38cb",
   "metadata": {},
   "source": [
    "# Error Handling "
   ]
  },
  {
   "cell_type": "code",
   "execution_count": 297,
   "id": "380fb460",
   "metadata": {},
   "outputs": [],
   "source": [
    "a={2,4,9,5,0}"
   ]
  },
  {
   "cell_type": "code",
   "execution_count": 298,
   "id": "de858f06",
   "metadata": {},
   "outputs": [
    {
     "data": {
      "text/plain": [
       "{0, 2, 4, 5, 9}"
      ]
     },
     "execution_count": 298,
     "metadata": {},
     "output_type": "execute_result"
    }
   ],
   "source": [
    "a"
   ]
  },
  {
   "cell_type": "code",
   "execution_count": 304,
   "id": "b85f9d99",
   "metadata": {},
   "outputs": [
    {
     "name": "stdout",
     "output_type": "stream",
     "text": [
      "'set' object does not support item assignment\n",
      "something wnet wrong with your request\n"
     ]
    }
   ],
   "source": [
    "try:\n",
    "    # run a code\n",
    "    a[0]=5\n",
    "# if we have an erro, this code below will run\n",
    "except Exception as e:\n",
    "    print(e)\n",
    "    print('something wnet wrong with your request')"
   ]
  }
 ],
 "metadata": {
  "kernelspec": {
   "display_name": "Python 3 (ipykernel)",
   "language": "python",
   "name": "python3"
  },
  "language_info": {
   "codemirror_mode": {
    "name": "ipython",
    "version": 3
   },
   "file_extension": ".py",
   "mimetype": "text/x-python",
   "name": "python",
   "nbconvert_exporter": "python",
   "pygments_lexer": "ipython3",
   "version": "3.10.9"
  }
 },
 "nbformat": 4,
 "nbformat_minor": 5
}
