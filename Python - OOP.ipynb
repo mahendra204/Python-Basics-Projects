{
 "cells": [
  {
   "cell_type": "markdown",
   "id": "a1d0f67a",
   "metadata": {},
   "source": [
    "# OOP (object oriented programming)\n",
    "\n",
    "### Class, Object, Constructor\n",
    "\n",
    "## Four Pillars of OOP\n",
    "\n",
    "### i. Inheritance -> single, multi level, multiple, hierarchical, and hibrid\n",
    "\n",
    "### ii. Encapsulation\n",
    "\n",
    "### iii. Polymorphism --> Method Override, Method Overload\n",
    "\n",
    "### iv. Abstraction"
   ]
  },
  {
   "cell_type": "markdown",
   "id": "00891a43",
   "metadata": {},
   "source": [
    "# Inheritance\n",
    "## i. Single Inheritance --> Parent Class ==> Child Class"
   ]
  },
  {
   "cell_type": "code",
   "execution_count": 1,
   "id": "8a0d074f",
   "metadata": {},
   "outputs": [],
   "source": [
    "class Mother:\n",
    "    def __init__(self):\n",
    "        self.name = 'amma'\n",
    "        self.age = 78\n",
    "    def method(self):\n",
    "        print('method')\n",
    "class Son(Mother):\n",
    "    def __init__(self):\n",
    "        super().__init__()\n",
    "        self.name1 = 'son'\n",
    "        self.age1 = 30\n",
    "    def method1(self):\n",
    "        super().method()\n",
    "        print('method1')"
   ]
  },
  {
   "cell_type": "code",
   "execution_count": 2,
   "id": "3fa110da",
   "metadata": {},
   "outputs": [],
   "source": [
    "a= Mother()"
   ]
  },
  {
   "cell_type": "code",
   "execution_count": 3,
   "id": "0cbe0909",
   "metadata": {},
   "outputs": [
    {
     "data": {
      "text/plain": [
       "'amma'"
      ]
     },
     "execution_count": 3,
     "metadata": {},
     "output_type": "execute_result"
    }
   ],
   "source": [
    "a.name"
   ]
  },
  {
   "cell_type": "code",
   "execution_count": 4,
   "id": "afb458a9",
   "metadata": {},
   "outputs": [
    {
     "data": {
      "text/plain": [
       "78"
      ]
     },
     "execution_count": 4,
     "metadata": {},
     "output_type": "execute_result"
    }
   ],
   "source": [
    "a.age"
   ]
  },
  {
   "cell_type": "code",
   "execution_count": 5,
   "id": "54700ab4",
   "metadata": {},
   "outputs": [],
   "source": [
    "b = Son()"
   ]
  },
  {
   "cell_type": "code",
   "execution_count": 6,
   "id": "0afad0f3",
   "metadata": {},
   "outputs": [
    {
     "data": {
      "text/plain": [
       "30"
      ]
     },
     "execution_count": 6,
     "metadata": {},
     "output_type": "execute_result"
    }
   ],
   "source": [
    "b.age1 "
   ]
  },
  {
   "cell_type": "code",
   "execution_count": 7,
   "id": "6b92020e",
   "metadata": {},
   "outputs": [
    {
     "data": {
      "text/plain": [
       "'son'"
      ]
     },
     "execution_count": 7,
     "metadata": {},
     "output_type": "execute_result"
    }
   ],
   "source": [
    "b.name1"
   ]
  },
  {
   "cell_type": "code",
   "execution_count": 8,
   "id": "8676704c",
   "metadata": {},
   "outputs": [
    {
     "data": {
      "text/plain": [
       "'amma'"
      ]
     },
     "execution_count": 8,
     "metadata": {},
     "output_type": "execute_result"
    }
   ],
   "source": [
    "b.name"
   ]
  },
  {
   "cell_type": "code",
   "execution_count": 9,
   "id": "19dd72c3",
   "metadata": {},
   "outputs": [
    {
     "data": {
      "text/plain": [
       "78"
      ]
     },
     "execution_count": 9,
     "metadata": {},
     "output_type": "execute_result"
    }
   ],
   "source": [
    "b.age"
   ]
  },
  {
   "cell_type": "code",
   "execution_count": null,
   "id": "1bcde54f",
   "metadata": {},
   "outputs": [],
   "source": []
  },
  {
   "cell_type": "code",
   "execution_count": 10,
   "id": "0ab0e3d8",
   "metadata": {},
   "outputs": [
    {
     "name": "stdout",
     "output_type": "stream",
     "text": [
      "method\n",
      "method1\n"
     ]
    }
   ],
   "source": [
    "b.method1()"
   ]
  },
  {
   "cell_type": "markdown",
   "id": "17a81b50",
   "metadata": {},
   "source": [
    "## ii. Multi level Inheritance --> Parent ==> Child ==> Grand Child==> etc."
   ]
  },
  {
   "cell_type": "code",
   "execution_count": 11,
   "id": "14fe57ec",
   "metadata": {},
   "outputs": [],
   "source": [
    "class Mother:\n",
    "    bank = 'SBI'\n",
    "    def __init__(self, name, age):\n",
    "        self.name = name\n",
    "        self.age = age\n",
    "        self.bank = 'Some'\n",
    "    def method(self):\n",
    "        print(f'method {Mother.bank}')\n",
    "class Son(Mother):\n",
    "    def __init__(self, name, age):\n",
    "        super().__init__(name='amma', age=98)\n",
    "        self.name1 = 'son'\n",
    "        self.age1 = 55\n",
    "    def method1(self):\n",
    "        bank = 'Something'\n",
    "        super().method()\n",
    "        print(f'method1 {bank}')\n",
    "class child(Son):\n",
    "    def __init__(self, name, age):\n",
    "#         super().__init__(name='Soon',age=45)\n",
    "        Mother.__init__(self, name, age)\n",
    "        Son.__init__(self, name, age)\n",
    "        self.name2 = name\n",
    "        self.age2 = age\n",
    "    def method2(self):\n",
    "        super().method1()\n",
    "        print(f'method2 {self.bank}')"
   ]
  },
  {
   "cell_type": "code",
   "execution_count": 12,
   "id": "957104ec",
   "metadata": {},
   "outputs": [],
   "source": [
    "a = Mother('Amma', 78)"
   ]
  },
  {
   "cell_type": "code",
   "execution_count": 13,
   "id": "f7ec6572",
   "metadata": {},
   "outputs": [
    {
     "data": {
      "text/plain": [
       "'Amma'"
      ]
     },
     "execution_count": 13,
     "metadata": {},
     "output_type": "execute_result"
    }
   ],
   "source": [
    "a.name"
   ]
  },
  {
   "cell_type": "code",
   "execution_count": 14,
   "id": "211706ba",
   "metadata": {},
   "outputs": [
    {
     "data": {
      "text/plain": [
       "78"
      ]
     },
     "execution_count": 14,
     "metadata": {},
     "output_type": "execute_result"
    }
   ],
   "source": [
    "a.age"
   ]
  },
  {
   "cell_type": "code",
   "execution_count": 15,
   "id": "c6bd51a7",
   "metadata": {},
   "outputs": [],
   "source": [
    "b= Son('son', 22)"
   ]
  },
  {
   "cell_type": "code",
   "execution_count": 16,
   "id": "1a527912",
   "metadata": {},
   "outputs": [
    {
     "data": {
      "text/plain": [
       "55"
      ]
     },
     "execution_count": 16,
     "metadata": {},
     "output_type": "execute_result"
    }
   ],
   "source": [
    "b.age1"
   ]
  },
  {
   "cell_type": "code",
   "execution_count": 17,
   "id": "f2259301",
   "metadata": {},
   "outputs": [
    {
     "data": {
      "text/plain": [
       "'son'"
      ]
     },
     "execution_count": 17,
     "metadata": {},
     "output_type": "execute_result"
    }
   ],
   "source": [
    "b.name1"
   ]
  },
  {
   "cell_type": "code",
   "execution_count": 18,
   "id": "0dd22ff1",
   "metadata": {},
   "outputs": [
    {
     "name": "stdout",
     "output_type": "stream",
     "text": [
      "method SBI\n"
     ]
    }
   ],
   "source": [
    "b.method()"
   ]
  },
  {
   "cell_type": "code",
   "execution_count": 19,
   "id": "4514e3ab",
   "metadata": {},
   "outputs": [
    {
     "data": {
      "text/plain": [
       "'amma'"
      ]
     },
     "execution_count": 19,
     "metadata": {},
     "output_type": "execute_result"
    }
   ],
   "source": [
    "b.name"
   ]
  },
  {
   "cell_type": "code",
   "execution_count": null,
   "id": "ec2ce874",
   "metadata": {},
   "outputs": [],
   "source": []
  },
  {
   "cell_type": "code",
   "execution_count": 20,
   "id": "96f1ff7f",
   "metadata": {},
   "outputs": [
    {
     "data": {
      "text/plain": [
       "98"
      ]
     },
     "execution_count": 20,
     "metadata": {},
     "output_type": "execute_result"
    }
   ],
   "source": [
    "b.age"
   ]
  },
  {
   "cell_type": "code",
   "execution_count": 21,
   "id": "8d5cdb55",
   "metadata": {},
   "outputs": [
    {
     "name": "stdout",
     "output_type": "stream",
     "text": [
      "method SBI\n",
      "method1 Something\n"
     ]
    }
   ],
   "source": [
    "b.method1()"
   ]
  },
  {
   "cell_type": "code",
   "execution_count": 22,
   "id": "37617f57",
   "metadata": {},
   "outputs": [],
   "source": [
    "c=child('mahi', 4)"
   ]
  },
  {
   "cell_type": "code",
   "execution_count": 23,
   "id": "205c4d64",
   "metadata": {},
   "outputs": [
    {
     "name": "stdout",
     "output_type": "stream",
     "text": [
      "method SBI\n"
     ]
    }
   ],
   "source": [
    "c.method()"
   ]
  },
  {
   "cell_type": "code",
   "execution_count": 24,
   "id": "44d4f75f",
   "metadata": {},
   "outputs": [
    {
     "name": "stdout",
     "output_type": "stream",
     "text": [
      "method SBI\n",
      "method1 Something\n"
     ]
    }
   ],
   "source": [
    "c.method1()"
   ]
  },
  {
   "cell_type": "code",
   "execution_count": 25,
   "id": "e4a49526",
   "metadata": {},
   "outputs": [
    {
     "name": "stdout",
     "output_type": "stream",
     "text": [
      "method SBI\n",
      "method1 Something\n",
      "method2 Some\n"
     ]
    }
   ],
   "source": [
    "c.method2()"
   ]
  },
  {
   "cell_type": "code",
   "execution_count": 26,
   "id": "075e9797",
   "metadata": {},
   "outputs": [
    {
     "data": {
      "text/plain": [
       "'amma'"
      ]
     },
     "execution_count": 26,
     "metadata": {},
     "output_type": "execute_result"
    }
   ],
   "source": [
    "c.name"
   ]
  },
  {
   "cell_type": "code",
   "execution_count": 27,
   "id": "05ff3c3e",
   "metadata": {},
   "outputs": [
    {
     "data": {
      "text/plain": [
       "'son'"
      ]
     },
     "execution_count": 27,
     "metadata": {},
     "output_type": "execute_result"
    }
   ],
   "source": [
    "c.name1"
   ]
  },
  {
   "cell_type": "code",
   "execution_count": 28,
   "id": "16dba3a1",
   "metadata": {},
   "outputs": [
    {
     "data": {
      "text/plain": [
       "'mahi'"
      ]
     },
     "execution_count": 28,
     "metadata": {},
     "output_type": "execute_result"
    }
   ],
   "source": [
    "c.name2"
   ]
  },
  {
   "cell_type": "code",
   "execution_count": 29,
   "id": "f5868e7f",
   "metadata": {},
   "outputs": [
    {
     "data": {
      "text/plain": [
       "98"
      ]
     },
     "execution_count": 29,
     "metadata": {},
     "output_type": "execute_result"
    }
   ],
   "source": [
    "c.age"
   ]
  },
  {
   "cell_type": "code",
   "execution_count": 30,
   "id": "fe3dba03",
   "metadata": {},
   "outputs": [
    {
     "data": {
      "text/plain": [
       "55"
      ]
     },
     "execution_count": 30,
     "metadata": {},
     "output_type": "execute_result"
    }
   ],
   "source": [
    "c.age1"
   ]
  },
  {
   "cell_type": "code",
   "execution_count": 31,
   "id": "48ee3bcd",
   "metadata": {},
   "outputs": [
    {
     "data": {
      "text/plain": [
       "4"
      ]
     },
     "execution_count": 31,
     "metadata": {},
     "output_type": "execute_result"
    }
   ],
   "source": [
    "c.age2"
   ]
  },
  {
   "cell_type": "code",
   "execution_count": 32,
   "id": "49226e3e",
   "metadata": {},
   "outputs": [
    {
     "name": "stdout",
     "output_type": "stream",
     "text": [
      "method SBI\n"
     ]
    }
   ],
   "source": [
    "c.method()"
   ]
  },
  {
   "cell_type": "code",
   "execution_count": 33,
   "id": "3eda8104",
   "metadata": {},
   "outputs": [
    {
     "name": "stdout",
     "output_type": "stream",
     "text": [
      "method SBI\n",
      "method1 Something\n"
     ]
    }
   ],
   "source": [
    "c.method1()"
   ]
  },
  {
   "cell_type": "code",
   "execution_count": 34,
   "id": "c8b9568b",
   "metadata": {},
   "outputs": [
    {
     "name": "stdout",
     "output_type": "stream",
     "text": [
      "method SBI\n",
      "method1 Something\n",
      "method2 Some\n"
     ]
    }
   ],
   "source": [
    "c.method2()"
   ]
  },
  {
   "cell_type": "markdown",
   "id": "02aaddab",
   "metadata": {},
   "source": [
    "## iii. Multiple Inheritance --> Parent, Parent, etc. ==> Child"
   ]
  },
  {
   "cell_type": "code",
   "execution_count": 35,
   "id": "ef82d3e5",
   "metadata": {},
   "outputs": [],
   "source": [
    "class Mother:\n",
    "    def __init__(self, name, age):\n",
    "        self.name = name\n",
    "        self.age = age\n",
    "    def method(self):\n",
    "        print('method')\n",
    "class Father:\n",
    "    def __init__(self, name, age):\n",
    "        self.name1 = name\n",
    "        self.age1 = age\n",
    "    def method1(self):\n",
    "        print('method1')\n",
    "class Son(Mother, Father):\n",
    "    def __init__(self, name, age):\n",
    "        Father.__init__(self, name='father', age = 50)\n",
    "        Mother.__init__(self, name = 'mother', age = 60)\n",
    "        self.name2 = name\n",
    "        self.age2 = age\n",
    "    def method2(self):\n",
    "        super().method()\n",
    "        super().method1()\n",
    "        print('method2')"
   ]
  },
  {
   "cell_type": "code",
   "execution_count": 36,
   "id": "54b4c092",
   "metadata": {},
   "outputs": [],
   "source": [
    "a = Son('Mahi', 39)"
   ]
  },
  {
   "cell_type": "code",
   "execution_count": 37,
   "id": "9e4837a2",
   "metadata": {},
   "outputs": [
    {
     "data": {
      "text/plain": [
       "'Mahi'"
      ]
     },
     "execution_count": 37,
     "metadata": {},
     "output_type": "execute_result"
    }
   ],
   "source": [
    "a.name2"
   ]
  },
  {
   "cell_type": "code",
   "execution_count": 38,
   "id": "2460409b",
   "metadata": {},
   "outputs": [
    {
     "data": {
      "text/plain": [
       "39"
      ]
     },
     "execution_count": 38,
     "metadata": {},
     "output_type": "execute_result"
    }
   ],
   "source": [
    "a.age2"
   ]
  },
  {
   "cell_type": "code",
   "execution_count": 39,
   "id": "85829149",
   "metadata": {},
   "outputs": [
    {
     "name": "stdout",
     "output_type": "stream",
     "text": [
      "method\n"
     ]
    }
   ],
   "source": [
    "a.method()"
   ]
  },
  {
   "cell_type": "code",
   "execution_count": 40,
   "id": "757c408d",
   "metadata": {},
   "outputs": [
    {
     "name": "stdout",
     "output_type": "stream",
     "text": [
      "method1\n"
     ]
    }
   ],
   "source": [
    "a.method1()"
   ]
  },
  {
   "cell_type": "code",
   "execution_count": 41,
   "id": "5932d8e5",
   "metadata": {},
   "outputs": [
    {
     "name": "stdout",
     "output_type": "stream",
     "text": [
      "method\n",
      "method1\n",
      "method2\n"
     ]
    }
   ],
   "source": [
    "a.method2()"
   ]
  },
  {
   "cell_type": "code",
   "execution_count": 42,
   "id": "92b4d3e7",
   "metadata": {},
   "outputs": [
    {
     "data": {
      "text/plain": [
       "50"
      ]
     },
     "execution_count": 42,
     "metadata": {},
     "output_type": "execute_result"
    }
   ],
   "source": [
    "a.age1"
   ]
  },
  {
   "cell_type": "code",
   "execution_count": 43,
   "id": "27626b26",
   "metadata": {},
   "outputs": [
    {
     "data": {
      "text/plain": [
       "'father'"
      ]
     },
     "execution_count": 43,
     "metadata": {},
     "output_type": "execute_result"
    }
   ],
   "source": [
    "a.name1"
   ]
  },
  {
   "cell_type": "code",
   "execution_count": 44,
   "id": "e8f7af06",
   "metadata": {},
   "outputs": [
    {
     "data": {
      "text/plain": [
       "'mother'"
      ]
     },
     "execution_count": 44,
     "metadata": {},
     "output_type": "execute_result"
    }
   ],
   "source": [
    "a.name"
   ]
  },
  {
   "cell_type": "code",
   "execution_count": 45,
   "id": "ada570f6",
   "metadata": {},
   "outputs": [
    {
     "data": {
      "text/plain": [
       "60"
      ]
     },
     "execution_count": 45,
     "metadata": {},
     "output_type": "execute_result"
    }
   ],
   "source": [
    "a.age"
   ]
  },
  {
   "cell_type": "markdown",
   "id": "6525e77a",
   "metadata": {},
   "source": [
    "## iv. Hierarchical Inheritance --> Parent ==> Child1, Child2, etc."
   ]
  },
  {
   "cell_type": "code",
   "execution_count": 46,
   "id": "da57593a",
   "metadata": {},
   "outputs": [],
   "source": [
    "class Parent:\n",
    "    def __init__(self, name, age):\n",
    "        self.name = name\n",
    "        self.age = age\n",
    "    def method(self):\n",
    "        print('method')\n",
    "class Child1(Parent):\n",
    "    def __init__(self, name, age):\n",
    "#         Parent.__init__(self, name= 'amma', age = 89)\n",
    "        super().__init__(name='amma', age=99)\n",
    "        self.name1 = name\n",
    "        self.age1 = age\n",
    "    def method1(self):\n",
    "        super().method()\n",
    "        print('method1')\n",
    "class Child2(Parent):\n",
    "    def __init__(self, name, age):\n",
    "#         Parent.__init__(self, name = 'ammamma', age = 100)\n",
    "        super().__init__(name='amma', age=88)\n",
    "        self.name2 = name\n",
    "        self.age2 = age\n",
    "    def method2(self):\n",
    "        super().method()\n",
    "        print('method2')"
   ]
  },
  {
   "cell_type": "code",
   "execution_count": 47,
   "id": "f7b2e356",
   "metadata": {},
   "outputs": [],
   "source": [
    "a = Child1('mahi', 30)"
   ]
  },
  {
   "cell_type": "code",
   "execution_count": 48,
   "id": "4fc85b5b",
   "metadata": {},
   "outputs": [],
   "source": [
    "b = Child2('mahendra', 34)"
   ]
  },
  {
   "cell_type": "code",
   "execution_count": 49,
   "id": "7b605d29",
   "metadata": {},
   "outputs": [
    {
     "name": "stdout",
     "output_type": "stream",
     "text": [
      "method\n"
     ]
    }
   ],
   "source": [
    "a.method()"
   ]
  },
  {
   "cell_type": "code",
   "execution_count": 50,
   "id": "d66afc3c",
   "metadata": {},
   "outputs": [
    {
     "name": "stdout",
     "output_type": "stream",
     "text": [
      "method\n",
      "method1\n"
     ]
    }
   ],
   "source": [
    "a.method1()"
   ]
  },
  {
   "cell_type": "code",
   "execution_count": 51,
   "id": "b7c548cf",
   "metadata": {},
   "outputs": [
    {
     "name": "stdout",
     "output_type": "stream",
     "text": [
      "method\n"
     ]
    }
   ],
   "source": [
    "b.method()"
   ]
  },
  {
   "cell_type": "code",
   "execution_count": 52,
   "id": "b6e60774",
   "metadata": {},
   "outputs": [
    {
     "name": "stdout",
     "output_type": "stream",
     "text": [
      "method\n",
      "method2\n"
     ]
    }
   ],
   "source": [
    "b.method2()"
   ]
  },
  {
   "cell_type": "code",
   "execution_count": 53,
   "id": "77fbb68b",
   "metadata": {},
   "outputs": [
    {
     "data": {
      "text/plain": [
       "'amma'"
      ]
     },
     "execution_count": 53,
     "metadata": {},
     "output_type": "execute_result"
    }
   ],
   "source": [
    "a.name"
   ]
  },
  {
   "cell_type": "code",
   "execution_count": 54,
   "id": "9c11bbcf",
   "metadata": {},
   "outputs": [
    {
     "data": {
      "text/plain": [
       "'amma'"
      ]
     },
     "execution_count": 54,
     "metadata": {},
     "output_type": "execute_result"
    }
   ],
   "source": [
    "b.name"
   ]
  },
  {
   "cell_type": "code",
   "execution_count": 55,
   "id": "e908d0e7",
   "metadata": {},
   "outputs": [
    {
     "data": {
      "text/plain": [
       "99"
      ]
     },
     "execution_count": 55,
     "metadata": {},
     "output_type": "execute_result"
    }
   ],
   "source": [
    "a.age"
   ]
  },
  {
   "cell_type": "code",
   "execution_count": 56,
   "id": "f7bd6efd",
   "metadata": {},
   "outputs": [
    {
     "data": {
      "text/plain": [
       "88"
      ]
     },
     "execution_count": 56,
     "metadata": {},
     "output_type": "execute_result"
    }
   ],
   "source": [
    "b.age"
   ]
  },
  {
   "cell_type": "markdown",
   "id": "5ec81555",
   "metadata": {},
   "source": [
    "## v.Hybrid Inheritance"
   ]
  },
  {
   "cell_type": "code",
   "execution_count": 57,
   "id": "2ccf895e",
   "metadata": {},
   "outputs": [],
   "source": [
    "class Mother:\n",
    "    def __init__(self, name, age):\n",
    "        self.name = name\n",
    "        self.age = age\n",
    "    def method(self):\n",
    "        print('method')\n",
    "class Son(Mother):\n",
    "    def __init__(self, name, age):\n",
    "#         super().__init__(name = 'amma', age = 70)\n",
    "        self.name1 = name\n",
    "        self.age1 = age\n",
    "    def method1(self):\n",
    "        print('method1')\n",
    "class Child:\n",
    "    def __init__(self, name, age):\n",
    "        self.name2 = name\n",
    "        self.age2 = age\n",
    "    def method2(self):\n",
    "        print('method2')\n",
    "class GrandChild(Child, Son):\n",
    "    def __init__(self, name, age):\n",
    "        super().__init__(name='child', age=12)\n",
    "        Son.__init__(self,name = 'son', age = 30)\n",
    "        Mother.__init__(self, name = 'amma', age = 70)\n",
    "        self.name3 = name\n",
    "        self.age3 = age\n",
    "    def method3(self):\n",
    "        print('method3')"
   ]
  },
  {
   "cell_type": "code",
   "execution_count": 58,
   "id": "f63a3a9e",
   "metadata": {},
   "outputs": [],
   "source": [
    "g = GrandChild('grandchild', 5)"
   ]
  },
  {
   "cell_type": "code",
   "execution_count": 59,
   "id": "4e4c3924",
   "metadata": {},
   "outputs": [
    {
     "name": "stdout",
     "output_type": "stream",
     "text": [
      "method\n"
     ]
    }
   ],
   "source": [
    "g.method()"
   ]
  },
  {
   "cell_type": "code",
   "execution_count": 60,
   "id": "74c2de32",
   "metadata": {},
   "outputs": [
    {
     "name": "stdout",
     "output_type": "stream",
     "text": [
      "method1\n"
     ]
    }
   ],
   "source": [
    "g.method1()"
   ]
  },
  {
   "cell_type": "code",
   "execution_count": 61,
   "id": "df2f701d",
   "metadata": {},
   "outputs": [
    {
     "name": "stdout",
     "output_type": "stream",
     "text": [
      "method2\n"
     ]
    }
   ],
   "source": [
    "g.method2()"
   ]
  },
  {
   "cell_type": "code",
   "execution_count": 62,
   "id": "60381230",
   "metadata": {},
   "outputs": [
    {
     "name": "stdout",
     "output_type": "stream",
     "text": [
      "method3\n"
     ]
    }
   ],
   "source": [
    "g.method3()"
   ]
  },
  {
   "cell_type": "code",
   "execution_count": 63,
   "id": "0a9c2207",
   "metadata": {},
   "outputs": [
    {
     "data": {
      "text/plain": [
       "'grandchild'"
      ]
     },
     "execution_count": 63,
     "metadata": {},
     "output_type": "execute_result"
    }
   ],
   "source": [
    "g.name3"
   ]
  },
  {
   "cell_type": "code",
   "execution_count": 64,
   "id": "457e0703",
   "metadata": {},
   "outputs": [
    {
     "data": {
      "text/plain": [
       "5"
      ]
     },
     "execution_count": 64,
     "metadata": {},
     "output_type": "execute_result"
    }
   ],
   "source": [
    "g.age3"
   ]
  },
  {
   "cell_type": "code",
   "execution_count": 65,
   "id": "ea6dfca4",
   "metadata": {},
   "outputs": [
    {
     "data": {
      "text/plain": [
       "12"
      ]
     },
     "execution_count": 65,
     "metadata": {},
     "output_type": "execute_result"
    }
   ],
   "source": [
    "g.age2"
   ]
  },
  {
   "cell_type": "code",
   "execution_count": 66,
   "id": "861cff48",
   "metadata": {},
   "outputs": [
    {
     "data": {
      "text/plain": [
       "30"
      ]
     },
     "execution_count": 66,
     "metadata": {},
     "output_type": "execute_result"
    }
   ],
   "source": [
    "a.age1"
   ]
  },
  {
   "cell_type": "code",
   "execution_count": 67,
   "id": "5db5bdc7",
   "metadata": {},
   "outputs": [
    {
     "data": {
      "text/plain": [
       "'son'"
      ]
     },
     "execution_count": 67,
     "metadata": {},
     "output_type": "execute_result"
    }
   ],
   "source": [
    "g.name1"
   ]
  },
  {
   "cell_type": "code",
   "execution_count": 68,
   "id": "2f8721c3",
   "metadata": {},
   "outputs": [
    {
     "data": {
      "text/plain": [
       "30"
      ]
     },
     "execution_count": 68,
     "metadata": {},
     "output_type": "execute_result"
    }
   ],
   "source": [
    "g.age1"
   ]
  },
  {
   "cell_type": "code",
   "execution_count": 69,
   "id": "2a5d61c8",
   "metadata": {},
   "outputs": [
    {
     "data": {
      "text/plain": [
       "12"
      ]
     },
     "execution_count": 69,
     "metadata": {},
     "output_type": "execute_result"
    }
   ],
   "source": [
    "g.age2"
   ]
  },
  {
   "cell_type": "code",
   "execution_count": 70,
   "id": "49c658b1",
   "metadata": {},
   "outputs": [
    {
     "data": {
      "text/plain": [
       "'child'"
      ]
     },
     "execution_count": 70,
     "metadata": {},
     "output_type": "execute_result"
    }
   ],
   "source": [
    "g.name2"
   ]
  },
  {
   "cell_type": "code",
   "execution_count": 71,
   "id": "c2ed71a5",
   "metadata": {},
   "outputs": [
    {
     "data": {
      "text/plain": [
       "'grandchild'"
      ]
     },
     "execution_count": 71,
     "metadata": {},
     "output_type": "execute_result"
    }
   ],
   "source": [
    "g.name3"
   ]
  },
  {
   "cell_type": "code",
   "execution_count": 72,
   "id": "4cda2d6d",
   "metadata": {},
   "outputs": [
    {
     "data": {
      "text/plain": [
       "5"
      ]
     },
     "execution_count": 72,
     "metadata": {},
     "output_type": "execute_result"
    }
   ],
   "source": [
    "g.age3"
   ]
  },
  {
   "cell_type": "code",
   "execution_count": 73,
   "id": "24149413",
   "metadata": {},
   "outputs": [
    {
     "data": {
      "text/plain": [
       "'amma'"
      ]
     },
     "execution_count": 73,
     "metadata": {},
     "output_type": "execute_result"
    }
   ],
   "source": [
    "g.name"
   ]
  },
  {
   "cell_type": "code",
   "execution_count": 74,
   "id": "9ef17c3c",
   "metadata": {},
   "outputs": [
    {
     "data": {
      "text/plain": [
       "70"
      ]
     },
     "execution_count": 74,
     "metadata": {},
     "output_type": "execute_result"
    }
   ],
   "source": [
    "g.age"
   ]
  },
  {
   "cell_type": "markdown",
   "id": "80c06896",
   "metadata": {},
   "source": [
    "# ii.Encapsulation --> Hiding data"
   ]
  },
  {
   "cell_type": "code",
   "execution_count": 75,
   "id": "15895981",
   "metadata": {},
   "outputs": [],
   "source": [
    "class Mother:\n",
    "    def __init__(self):\n",
    "        self.name = 'amma'\n",
    "        self.__name = 'mom'\n",
    "        self._name = 'ammamma'\n",
    "        self.__age = 98\n",
    "        self._age = 40\n",
    "        self.age = 39\n",
    "    def method(self):\n",
    "        print(f'{self.__name}s age is: {self.__age}')\n",
    "        print(f'{self._name}s age is : {self._age}')\n",
    "        print(f'{self.name}s age is : {self.age}')\n",
    "    def get_details(self):\n",
    "        print(self.__name)\n",
    "        print(self.__age)\n",
    "    def set_details(self, name, age):\n",
    "        self.__name = name\n",
    "        self.__age = age\n",
    "        print(self.__name)\n",
    "        print(self.__age)\n",
    "class Son(Mother):\n",
    "    def __init__(self):\n",
    "        super().__init__()\n",
    "        self.name = 'son'\n",
    "        self.age = 22\n",
    "    def method(self):\n",
    "        super().set_details('ammaaaa', 93)\n",
    "        print('method')"
   ]
  },
  {
   "cell_type": "code",
   "execution_count": 76,
   "id": "2fa310db",
   "metadata": {},
   "outputs": [],
   "source": [
    "s = Son()"
   ]
  },
  {
   "cell_type": "code",
   "execution_count": 77,
   "id": "95a5adf8",
   "metadata": {},
   "outputs": [
    {
     "name": "stdout",
     "output_type": "stream",
     "text": [
      "ammaaaa\n",
      "93\n",
      "method\n"
     ]
    }
   ],
   "source": [
    "s.method()"
   ]
  },
  {
   "cell_type": "code",
   "execution_count": 78,
   "id": "3f94900e",
   "metadata": {},
   "outputs": [
    {
     "data": {
      "text/plain": [
       "'son'"
      ]
     },
     "execution_count": 78,
     "metadata": {},
     "output_type": "execute_result"
    }
   ],
   "source": [
    "s.name"
   ]
  },
  {
   "cell_type": "code",
   "execution_count": 79,
   "id": "6b8a945a",
   "metadata": {},
   "outputs": [
    {
     "data": {
      "text/plain": [
       "'ammamma'"
      ]
     },
     "execution_count": 79,
     "metadata": {},
     "output_type": "execute_result"
    }
   ],
   "source": [
    "s._name"
   ]
  },
  {
   "cell_type": "code",
   "execution_count": 80,
   "id": "307c44b0",
   "metadata": {},
   "outputs": [
    {
     "ename": "AttributeError",
     "evalue": "'Child1' object has no attribute '_name'",
     "output_type": "error",
     "traceback": [
      "\u001b[1;31m---------------------------------------------------------------------------\u001b[0m",
      "\u001b[1;31mAttributeError\u001b[0m                            Traceback (most recent call last)",
      "Cell \u001b[1;32mIn[80], line 1\u001b[0m\n\u001b[1;32m----> 1\u001b[0m \u001b[43ma\u001b[49m\u001b[38;5;241;43m.\u001b[39;49m\u001b[43m_name\u001b[49m\n",
      "\u001b[1;31mAttributeError\u001b[0m: 'Child1' object has no attribute '_name'"
     ]
    }
   ],
   "source": [
    "a._name"
   ]
  },
  {
   "cell_type": "code",
   "execution_count": 81,
   "id": "a4528662",
   "metadata": {},
   "outputs": [],
   "source": [
    "a= Mother()"
   ]
  },
  {
   "cell_type": "code",
   "execution_count": 82,
   "id": "305f3571",
   "metadata": {},
   "outputs": [
    {
     "name": "stdout",
     "output_type": "stream",
     "text": [
      "moms age is: 98\n",
      "ammammas age is : 40\n",
      "ammas age is : 39\n"
     ]
    }
   ],
   "source": [
    "a.method()"
   ]
  },
  {
   "cell_type": "code",
   "execution_count": 83,
   "id": "f2cef45e",
   "metadata": {},
   "outputs": [
    {
     "name": "stdout",
     "output_type": "stream",
     "text": [
      "mom\n",
      "98\n"
     ]
    }
   ],
   "source": [
    "a.get_details()"
   ]
  },
  {
   "cell_type": "code",
   "execution_count": 84,
   "id": "e4649e1a",
   "metadata": {},
   "outputs": [
    {
     "data": {
      "text/plain": [
       "'ammamma'"
      ]
     },
     "execution_count": 84,
     "metadata": {},
     "output_type": "execute_result"
    }
   ],
   "source": [
    "a._name"
   ]
  },
  {
   "cell_type": "code",
   "execution_count": 85,
   "id": "154e5cdb",
   "metadata": {},
   "outputs": [
    {
     "ename": "AttributeError",
     "evalue": "'Mother' object has no attribute '__name'",
     "output_type": "error",
     "traceback": [
      "\u001b[1;31m---------------------------------------------------------------------------\u001b[0m",
      "\u001b[1;31mAttributeError\u001b[0m                            Traceback (most recent call last)",
      "Cell \u001b[1;32mIn[85], line 1\u001b[0m\n\u001b[1;32m----> 1\u001b[0m \u001b[43ma\u001b[49m\u001b[38;5;241;43m.\u001b[39;49m\u001b[43m__name\u001b[49m\n",
      "\u001b[1;31mAttributeError\u001b[0m: 'Mother' object has no attribute '__name'"
     ]
    }
   ],
   "source": [
    "a.__name"
   ]
  },
  {
   "cell_type": "code",
   "execution_count": 86,
   "id": "745a9a88",
   "metadata": {},
   "outputs": [
    {
     "data": {
      "text/plain": [
       "'amma'"
      ]
     },
     "execution_count": 86,
     "metadata": {},
     "output_type": "execute_result"
    }
   ],
   "source": [
    "a.name"
   ]
  },
  {
   "cell_type": "code",
   "execution_count": 87,
   "id": "5c7328c8",
   "metadata": {},
   "outputs": [
    {
     "name": "stdout",
     "output_type": "stream",
     "text": [
      "ma\n",
      "78\n"
     ]
    }
   ],
   "source": [
    "a.set_details('ma', 78)"
   ]
  },
  {
   "cell_type": "code",
   "execution_count": 88,
   "id": "0585cb8a",
   "metadata": {},
   "outputs": [
    {
     "ename": "AttributeError",
     "evalue": "'Mother' object has no attribute '__name'",
     "output_type": "error",
     "traceback": [
      "\u001b[1;31m---------------------------------------------------------------------------\u001b[0m",
      "\u001b[1;31mAttributeError\u001b[0m                            Traceback (most recent call last)",
      "Cell \u001b[1;32mIn[88], line 1\u001b[0m\n\u001b[1;32m----> 1\u001b[0m \u001b[43ma\u001b[49m\u001b[38;5;241;43m.\u001b[39;49m\u001b[43m__name\u001b[49m\n",
      "\u001b[1;31mAttributeError\u001b[0m: 'Mother' object has no attribute '__name'"
     ]
    }
   ],
   "source": [
    "a.__name"
   ]
  },
  {
   "cell_type": "code",
   "execution_count": 89,
   "id": "0184585f",
   "metadata": {},
   "outputs": [
    {
     "data": {
      "text/plain": [
       "'amma'"
      ]
     },
     "execution_count": 89,
     "metadata": {},
     "output_type": "execute_result"
    }
   ],
   "source": [
    "a.name"
   ]
  },
  {
   "cell_type": "code",
   "execution_count": 143,
   "id": "d7cd6cd2",
   "metadata": {},
   "outputs": [],
   "source": [
    "class Employee:\n",
    "    def __init__(self, name, salary, salary2):\n",
    "        self.name = name       #this is public attribute\n",
    "        self._salary = salary  # this is protected attribute\n",
    "        self.__salary = salary2\n",
    "\n",
    "    def _display_salary(self):  #this is protected method\n",
    "        print(f'Salary: {self._salary}')\n",
    "        print(f'salary: {self.__salary}') #printing \n",
    "\n",
    "class Manager(Employee):\n",
    "    def __init__(self, name, salary, department):\n",
    "        super().__init__(name='mahendra', salary=45000, salary2=30888) #ivoking or calling the parent class constructor \n",
    "        self.department = department \n",
    "\n",
    "    def show_details(self):\n",
    "        print(f'Manager: {self.name}, Department: {self.department}')\n",
    "        self._display_salary() #calling parent class method\n",
    "        super()._display_salary() # invoking or calling parent class method\n",
    "\n"
   ]
  },
  {
   "cell_type": "code",
   "execution_count": 144,
   "id": "d8ff67b7",
   "metadata": {},
   "outputs": [],
   "source": [
    "a = Manager('mahendra', 20282, 'Data')"
   ]
  },
  {
   "cell_type": "code",
   "execution_count": 145,
   "id": "9046282d",
   "metadata": {},
   "outputs": [
    {
     "name": "stdout",
     "output_type": "stream",
     "text": [
      "Manager: mahendra, Department: Data\n",
      "Salary: 45000\n",
      "salary: 30888\n",
      "Salary: 45000\n",
      "salary: 30888\n"
     ]
    }
   ],
   "source": [
    "a.show_details()"
   ]
  },
  {
   "cell_type": "markdown",
   "id": "d87f151e",
   "metadata": {},
   "source": [
    "# iii. Polymorphism --> Many Forms"
   ]
  },
  {
   "cell_type": "code",
   "execution_count": 146,
   "id": "9765a441",
   "metadata": {},
   "outputs": [],
   "source": [
    "class Mother:\n",
    "    def __init__(self):\n",
    "        pass\n",
    "    def method(self):\n",
    "        print('method')\n",
    "class Son(Mother):\n",
    "    def method(self):  #method overriding\n",
    "        print('methodwise')"
   ]
  },
  {
   "cell_type": "code",
   "execution_count": 147,
   "id": "82f6ad23",
   "metadata": {},
   "outputs": [],
   "source": [
    "a = Son()"
   ]
  },
  {
   "cell_type": "code",
   "execution_count": 148,
   "id": "bd273f4b",
   "metadata": {},
   "outputs": [
    {
     "name": "stdout",
     "output_type": "stream",
     "text": [
      "methodwise\n"
     ]
    }
   ],
   "source": [
    "a.method()"
   ]
  },
  {
   "cell_type": "code",
   "execution_count": 149,
   "id": "820b6acc",
   "metadata": {},
   "outputs": [],
   "source": [
    "b= Mother()"
   ]
  },
  {
   "cell_type": "code",
   "execution_count": 150,
   "id": "72211344",
   "metadata": {},
   "outputs": [
    {
     "name": "stdout",
     "output_type": "stream",
     "text": [
      "method\n"
     ]
    }
   ],
   "source": [
    "b.method()"
   ]
  },
  {
   "cell_type": "code",
   "execution_count": 202,
   "id": "122e1483",
   "metadata": {},
   "outputs": [],
   "source": [
    "class Mother:\n",
    "    def __init__(self, name, age, salary):\n",
    "        self.name = name\n",
    "        self.age = age\n",
    "        self.salary = salary\n",
    "    def f(self, age=33, salary = 200): #method overloading\n",
    "        return age + salary"
   ]
  },
  {
   "cell_type": "code",
   "execution_count": 203,
   "id": "4be08e4c",
   "metadata": {},
   "outputs": [],
   "source": [
    "a = Mother('mom', 45, 283838)"
   ]
  },
  {
   "cell_type": "code",
   "execution_count": 204,
   "id": "a4129890",
   "metadata": {},
   "outputs": [
    {
     "data": {
      "text/plain": [
       "640"
      ]
     },
     "execution_count": 204,
     "metadata": {},
     "output_type": "execute_result"
    }
   ],
   "source": [
    "a.f(440)"
   ]
  },
  {
   "cell_type": "code",
   "execution_count": 205,
   "id": "15f7b3df",
   "metadata": {},
   "outputs": [
    {
     "data": {
      "text/plain": [
       "233"
      ]
     },
     "execution_count": 205,
     "metadata": {},
     "output_type": "execute_result"
    }
   ],
   "source": [
    "a.f()"
   ]
  },
  {
   "cell_type": "code",
   "execution_count": 207,
   "id": "226dde65",
   "metadata": {},
   "outputs": [
    {
     "data": {
      "text/plain": [
       "5"
      ]
     },
     "execution_count": 207,
     "metadata": {},
     "output_type": "execute_result"
    }
   ],
   "source": [
    "a.f(2,3)"
   ]
  },
  {
   "cell_type": "markdown",
   "id": "739d71d7",
   "metadata": {},
   "source": [
    "# iv. Abstraction --> Hiding the logic or implementation"
   ]
  },
  {
   "cell_type": "code",
   "execution_count": 209,
   "id": "6c20a3d9",
   "metadata": {},
   "outputs": [],
   "source": [
    "from abc import ABC, abstractmethod  #abc is module (abstract class) \n",
    "\n",
    "# Abstract Class\n",
    "class Vehicle(ABC):\n",
    "    @abstractmethod\n",
    "    def start(self):  # Abstract Method (must be implemented in subclasses) we can't create object for abstract class\n",
    "        pass\n",
    "\n",
    "# Subclass 1\n",
    "class Car(Vehicle):\n",
    "    def start(self):\n",
    "        print(\"Car starts with a key.\")\n",
    "\n",
    "# Subclass 2\n",
    "class Bike(Vehicle):\n",
    "    def start(self):\n",
    "        print(\"Bike starts with a self-start button.\")\n"
   ]
  },
  {
   "cell_type": "code",
   "execution_count": 212,
   "id": "50c08098",
   "metadata": {},
   "outputs": [
    {
     "name": "stdout",
     "output_type": "stream",
     "text": [
      "Car starts with a key.\n",
      "Bike starts with a self-start button.\n"
     ]
    }
   ],
   "source": [
    "car = Car()\n",
    "bike = Bike()\n",
    "\n",
    "car.start() \n",
    "bike.start() "
   ]
  },
  {
   "cell_type": "code",
   "execution_count": null,
   "id": "97d5f7fb",
   "metadata": {},
   "outputs": [],
   "source": []
  }
 ],
 "metadata": {
  "kernelspec": {
   "display_name": "Python 3 (ipykernel)",
   "language": "python",
   "name": "python3"
  },
  "language_info": {
   "codemirror_mode": {
    "name": "ipython",
    "version": 3
   },
   "file_extension": ".py",
   "mimetype": "text/x-python",
   "name": "python",
   "nbconvert_exporter": "python",
   "pygments_lexer": "ipython3",
   "version": "3.10.9"
  }
 },
 "nbformat": 4,
 "nbformat_minor": 5
}
