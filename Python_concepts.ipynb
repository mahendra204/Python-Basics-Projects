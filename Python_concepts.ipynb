{
 "cells": [
  {
   "cell_type": "markdown",
   "id": "5c473d8f",
   "metadata": {},
   "source": [
    "# Class 1"
   ]
  },
  {
   "cell_type": "code",
   "execution_count": null,
   "id": "9c3422ca-866c-4b0f-82c6-16defaee218d",
   "metadata": {},
   "outputs": [],
   "source": [
    "print('welcome to python programming')"
   ]
  },
  {
   "cell_type": "markdown",
   "id": "bf33520c",
   "metadata": {},
   "source": [
    "# welcome to python programming"
   ]
  },
  {
   "cell_type": "code",
   "execution_count": null,
   "id": "2f1f830a",
   "metadata": {},
   "outputs": [],
   "source": [
    "print(9)"
   ]
  },
  {
   "cell_type": "code",
   "execution_count": null,
   "id": "2659c690",
   "metadata": {},
   "outputs": [],
   "source": [
    "print('hello')"
   ]
  },
  {
   "cell_type": "raw",
   "id": "ca0a8a0e",
   "metadata": {},
   "source": [
    "print('nothing')"
   ]
  },
  {
   "cell_type": "markdown",
   "id": "eb0e3f5c",
   "metadata": {},
   "source": [
    "9+9"
   ]
  },
  {
   "cell_type": "markdown",
   "id": "758ab9bd-cb7a-45b0-b830-4f09b4a2e614",
   "metadata": {},
   "source": [
    "9*766"
   ]
  },
  {
   "cell_type": "code",
   "execution_count": null,
   "id": "6f100a30-58cb-4587-a404-49d900f8840a",
   "metadata": {},
   "outputs": [],
   "source": [
    "#mahendra"
   ]
  },
  {
   "cell_type": "code",
   "execution_count": null,
   "id": "7cb48995-1801-4161-b666-49ba47aa38af",
   "metadata": {},
   "outputs": [],
   "source": [
    "#mahendra"
   ]
  },
  {
   "cell_type": "markdown",
   "id": "887161c4-f95e-4884-9832-db44df30896f",
   "metadata": {},
   "source": [
    "# mahendra"
   ]
  },
  {
   "cell_type": "code",
   "execution_count": null,
   "id": "260dba52-8ee3-458b-9f7f-57eb57ac1313",
   "metadata": {},
   "outputs": [],
   "source": [
    "## mahendra"
   ]
  },
  {
   "cell_type": "markdown",
   "id": "81dbb019-c3ee-4b41-8deb-c4299c27d90b",
   "metadata": {},
   "source": [
    "## mahendra"
   ]
  },
  {
   "cell_type": "code",
   "execution_count": null,
   "id": "cf50bea8-7b5d-4382-8c16-a12da5424ccd",
   "metadata": {},
   "outputs": [],
   "source": [
    "''' amhendraglajg\"\"\""
   ]
  },
  {
   "cell_type": "code",
   "execution_count": null,
   "id": "193d5fc2-bba7-43a7-ae3a-07f44e0d604a",
   "metadata": {},
   "outputs": [],
   "source": [
    "akghagha"
   ]
  },
  {
   "cell_type": "code",
   "execution_count": null,
   "id": "978f9b2c-a050-451b-a9cb-18c058f2defc",
   "metadata": {},
   "outputs": [],
   "source": [
    "alghaoihga"
   ]
  },
  {
   "cell_type": "code",
   "execution_count": null,
   "id": "d0eef783-7204-4263-9a9b-0ef0cae50440",
   "metadata": {},
   "outputs": [],
   "source": [
    "lakjgoiahg'''"
   ]
  },
  {
   "cell_type": "markdown",
   "id": "2412dbe8",
   "metadata": {},
   "source": [
    "# Class 2"
   ]
  },
  {
   "cell_type": "markdown",
   "id": "20970b62",
   "metadata": {},
   "source": [
    "## Data Types"
   ]
  },
  {
   "cell_type": "code",
   "execution_count": null,
   "id": "8fcce52e",
   "metadata": {},
   "outputs": [],
   "source": [
    "# data types in sql\n",
    "# int, varchar, decimal, float, data, date time, money, ............."
   ]
  },
  {
   "cell_type": "code",
   "execution_count": null,
   "id": "b7b3dc88",
   "metadata": {},
   "outputs": [],
   "source": [
    "int, str, float, list, tuple, set, dict, bool"
   ]
  },
  {
   "cell_type": "code",
   "execution_count": null,
   "id": "93c6d09d",
   "metadata": {},
   "outputs": [],
   "source": [
    "a=9"
   ]
  },
  {
   "cell_type": "code",
   "execution_count": null,
   "id": "9606ffd3",
   "metadata": {},
   "outputs": [],
   "source": [
    "A"
   ]
  },
  {
   "cell_type": "code",
   "execution_count": null,
   "id": "d5aad157",
   "metadata": {},
   "outputs": [],
   "source": [
    "type(9)"
   ]
  },
  {
   "cell_type": "code",
   "execution_count": null,
   "id": "8e8468fb",
   "metadata": {},
   "outputs": [],
   "source": [
    "type(9.09)"
   ]
  },
  {
   "cell_type": "code",
   "execution_count": null,
   "id": "0965879e",
   "metadata": {},
   "outputs": [],
   "source": [
    "type('mahendra')"
   ]
  },
  {
   "cell_type": "code",
   "execution_count": null,
   "id": "32bb18f8",
   "metadata": {},
   "outputs": [],
   "source": [
    "type(\"mahendra\")"
   ]
  },
  {
   "cell_type": "code",
   "execution_count": null,
   "id": "d68291be",
   "metadata": {},
   "outputs": [],
   "source": [
    "type(True)"
   ]
  },
  {
   "cell_type": "code",
   "execution_count": null,
   "id": "13182aa9",
   "metadata": {},
   "outputs": [],
   "source": [
    "type('true')"
   ]
  },
  {
   "cell_type": "code",
   "execution_count": null,
   "id": "f9616dff",
   "metadata": {},
   "outputs": [],
   "source": [
    "type(False)"
   ]
  },
  {
   "cell_type": "code",
   "execution_count": null,
   "id": "285b7fb3",
   "metadata": {},
   "outputs": [],
   "source": [
    "type([1,2,3, 'maheandra', True, 1, 8.8])"
   ]
  },
  {
   "cell_type": "code",
   "execution_count": null,
   "id": "19971955",
   "metadata": {},
   "outputs": [],
   "source": [
    "type((1,2,3))"
   ]
  },
  {
   "cell_type": "code",
   "execution_count": null,
   "id": "9aab3d6f",
   "metadata": {},
   "outputs": [],
   "source": [
    "type({1,2,34,9})"
   ]
  },
  {
   "cell_type": "code",
   "execution_count": null,
   "id": "89f338cb",
   "metadata": {},
   "outputs": [],
   "source": [
    "type({1:'mahendra', 2:766888})"
   ]
  },
  {
   "cell_type": "code",
   "execution_count": null,
   "id": "ad47527e",
   "metadata": {},
   "outputs": [],
   "source": [
    "type(int(9.0))"
   ]
  },
  {
   "cell_type": "code",
   "execution_count": null,
   "id": "757700fc",
   "metadata": {},
   "outputs": [],
   "source": [
    "type(int(9.8777))"
   ]
  },
  {
   "cell_type": "code",
   "execution_count": null,
   "id": "efa386d1",
   "metadata": {},
   "outputs": [],
   "source": [
    "type('mahendra')"
   ]
  },
  {
   "cell_type": "code",
   "execution_count": null,
   "id": "36b2a99f",
   "metadata": {},
   "outputs": [],
   "source": [
    "type('9877789')"
   ]
  },
  {
   "cell_type": "code",
   "execution_count": null,
   "id": "f432e410",
   "metadata": {},
   "outputs": [],
   "source": [
    "type(int('9822772'))"
   ]
  },
  {
   "cell_type": "code",
   "execution_count": null,
   "id": "1232489a",
   "metadata": {},
   "outputs": [],
   "source": [
    "type(float('28277272'))"
   ]
  },
  {
   "cell_type": "code",
   "execution_count": null,
   "id": "8990e717",
   "metadata": {},
   "outputs": [],
   "source": [
    "a = [9, 2]"
   ]
  },
  {
   "cell_type": "code",
   "execution_count": null,
   "id": "f1a39ff2",
   "metadata": {},
   "outputs": [],
   "source": [
    "type(a)"
   ]
  },
  {
   "cell_type": "code",
   "execution_count": null,
   "id": "839ba0e9",
   "metadata": {},
   "outputs": [],
   "source": [
    "int(a)"
   ]
  },
  {
   "cell_type": "code",
   "execution_count": null,
   "id": "505b9854",
   "metadata": {},
   "outputs": [],
   "source": [
    "8277272"
   ]
  },
  {
   "cell_type": "code",
   "execution_count": null,
   "id": "7caa6245",
   "metadata": {},
   "outputs": [],
   "source": [
    "type(str(287272782))"
   ]
  },
  {
   "cell_type": "code",
   "execution_count": null,
   "id": "2babab83",
   "metadata": {},
   "outputs": [],
   "source": [
    "bool(0)"
   ]
  },
  {
   "cell_type": "code",
   "execution_count": null,
   "id": "7701be1f",
   "metadata": {},
   "outputs": [],
   "source": [
    "bool(1)"
   ]
  },
  {
   "cell_type": "code",
   "execution_count": null,
   "id": "56052983",
   "metadata": {},
   "outputs": [],
   "source": [
    "type(bool(1))"
   ]
  },
  {
   "cell_type": "code",
   "execution_count": null,
   "id": "5e0c084e",
   "metadata": {},
   "outputs": [],
   "source": [
    "type(False)"
   ]
  },
  {
   "cell_type": "code",
   "execution_count": null,
   "id": "39a0e39b",
   "metadata": {},
   "outputs": [],
   "source": [
    "# keywords"
   ]
  },
  {
   "cell_type": "code",
   "execution_count": null,
   "id": "4e649ee3",
   "metadata": {
    "scrolled": true
   },
   "outputs": [],
   "source": [
    "help('keywords')"
   ]
  },
  {
   "cell_type": "code",
   "execution_count": null,
   "id": "cc7d95c4",
   "metadata": {},
   "outputs": [],
   "source": [
    "help('for')"
   ]
  },
  {
   "cell_type": "code",
   "execution_count": null,
   "id": "476cad06",
   "metadata": {},
   "outputs": [],
   "source": [
    "help('False')"
   ]
  },
  {
   "cell_type": "code",
   "execution_count": null,
   "id": "652d2fb0",
   "metadata": {
    "scrolled": true
   },
   "outputs": [],
   "source": [
    "help('if'a)"
   ]
  },
  {
   "cell_type": "code",
   "execution_count": null,
   "id": "d828bdae",
   "metadata": {},
   "outputs": [],
   "source": []
  },
  {
   "cell_type": "markdown",
   "id": "0ee50b49",
   "metadata": {},
   "source": [
    "# variables"
   ]
  },
  {
   "cell_type": "code",
   "execution_count": null,
   "id": "1c40357d",
   "metadata": {},
   "outputs": [],
   "source": [
    "a = 9988"
   ]
  },
  {
   "cell_type": "code",
   "execution_count": null,
   "id": "09c1e31a",
   "metadata": {},
   "outputs": [],
   "source": [
    "name = 'mahendra aghoaihg'"
   ]
  },
  {
   "cell_type": "code",
   "execution_count": null,
   "id": "d62e29ab",
   "metadata": {},
   "outputs": [],
   "source": [
    "age = 877"
   ]
  },
  {
   "cell_type": "markdown",
   "id": "b70dc17b",
   "metadata": {},
   "source": [
    "# Identifiers"
   ]
  },
  {
   "cell_type": "code",
   "execution_count": null,
   "id": "b73c6266",
   "metadata": {},
   "outputs": [],
   "source": [
    "# aaghiah='mahendra'"
   ]
  },
  {
   "cell_type": "code",
   "execution_count": null,
   "id": "ee090753",
   "metadata": {},
   "outputs": [],
   "source": [
    "for5 = 8"
   ]
  },
  {
   "cell_type": "code",
   "execution_count": null,
   "id": "7507cec0",
   "metadata": {},
   "outputs": [],
   "source": [
    "a=9"
   ]
  },
  {
   "cell_type": "code",
   "execution_count": null,
   "id": "fd106bca",
   "metadata": {},
   "outputs": [],
   "source": [
    "a=10"
   ]
  },
  {
   "cell_type": "code",
   "execution_count": null,
   "id": "8483e479",
   "metadata": {},
   "outputs": [],
   "source": [
    "a"
   ]
  },
  {
   "cell_type": "code",
   "execution_count": null,
   "id": "c3b26a93",
   "metadata": {},
   "outputs": [],
   "source": [
    "name = 'mahendra'"
   ]
  },
  {
   "cell_type": "code",
   "execution_count": null,
   "id": "1b52e21c",
   "metadata": {},
   "outputs": [],
   "source": [
    "name = 'unknown'"
   ]
  },
  {
   "cell_type": "code",
   "execution_count": null,
   "id": "d438fd51",
   "metadata": {},
   "outputs": [],
   "source": [
    "print(name)"
   ]
  },
  {
   "cell_type": "code",
   "execution_count": null,
   "id": "35687d27",
   "metadata": {},
   "outputs": [],
   "source": [
    "name = input()"
   ]
  },
  {
   "cell_type": "code",
   "execution_count": null,
   "id": "b35e133a",
   "metadata": {},
   "outputs": [],
   "source": [
    "type(name)"
   ]
  },
  {
   "cell_type": "code",
   "execution_count": null,
   "id": "ae515ff2",
   "metadata": {},
   "outputs": [],
   "source": [
    "age = int(input())"
   ]
  },
  {
   "cell_type": "code",
   "execution_count": null,
   "id": "93c6e6b4",
   "metadata": {},
   "outputs": [],
   "source": [
    "age"
   ]
  },
  {
   "cell_type": "code",
   "execution_count": null,
   "id": "b52308a9",
   "metadata": {},
   "outputs": [],
   "source": [
    "name = input('enter your name:')"
   ]
  },
  {
   "cell_type": "code",
   "execution_count": null,
   "id": "e791392c",
   "metadata": {},
   "outputs": [],
   "source": [
    "mail = input('Enter your mail id:')"
   ]
  },
  {
   "cell_type": "code",
   "execution_count": null,
   "id": "0cb960a9",
   "metadata": {},
   "outputs": [],
   "source": [
    "weight = float(input('enter your weight:'))"
   ]
  },
  {
   "cell_type": "code",
   "execution_count": null,
   "id": "e9a60281",
   "metadata": {},
   "outputs": [],
   "source": [
    "type(weight)"
   ]
  },
  {
   "cell_type": "code",
   "execution_count": null,
   "id": "3049475e",
   "metadata": {},
   "outputs": [],
   "source": [
    "print(weight)"
   ]
  },
  {
   "cell_type": "code",
   "execution_count": null,
   "id": "24852ac7",
   "metadata": {},
   "outputs": [],
   "source": [
    "name = 'mahendra'\n",
    "age = 89\n",
    "location = 'usa'\n",
    "mail_id = 'alihga@gmail.com'\n",
    "phone_number= 9282727727"
   ]
  },
  {
   "cell_type": "code",
   "execution_count": null,
   "id": "dd7ebcbf",
   "metadata": {},
   "outputs": [],
   "source": [
    "print(name)"
   ]
  },
  {
   "cell_type": "code",
   "execution_count": null,
   "id": "c0169976",
   "metadata": {},
   "outputs": [],
   "source": [
    "print(age)"
   ]
  },
  {
   "cell_type": "code",
   "execution_count": null,
   "id": "e013e1ca",
   "metadata": {},
   "outputs": [],
   "source": [
    "print(location)"
   ]
  },
  {
   "cell_type": "code",
   "execution_count": null,
   "id": "3dd9b8ad",
   "metadata": {},
   "outputs": [],
   "source": [
    "print(phone_number)"
   ]
  },
  {
   "cell_type": "code",
   "execution_count": null,
   "id": "2f431b6d",
   "metadata": {},
   "outputs": [],
   "source": [
    "print(f' hello hi my name is {name}, and my age is {age}, my mail id is {mail_id}, my address is {location}, \\n \\n \\n my phone number is {phone_number}')"
   ]
  },
  {
   "cell_type": "code",
   "execution_count": null,
   "id": "ab7c5c64",
   "metadata": {},
   "outputs": [],
   "source": [
    "age = 66\n",
    "    "
   ]
  },
  {
   "cell_type": "code",
   "execution_count": null,
   "id": "46e43f31",
   "metadata": {},
   "outputs": [],
   "source": [
    "if age > 77:\n",
    "    print(age)\n",
    "    print(age * age)\n",
    "else:\n",
    "    print(age-8)\n",
    "print(age *0)"
   ]
  },
  {
   "cell_type": "code",
   "execution_count": null,
   "id": "f67dcb34",
   "metadata": {},
   "outputs": [],
   "source": [
    "for i in range(100):\n",
    "    print(i*i, end=' ')"
   ]
  },
  {
   "cell_type": "code",
   "execution_count": null,
   "id": "ec370aee",
   "metadata": {},
   "outputs": [],
   "source": [
    "if age > 70:\n",
    "    print('something')\n",
    "    print('nothing')\n",
    "elif (age > 76):\n",
    "    print('someting1111')\n",
    "    print(age)\n",
    "else:\n",
    "    print(age *0)"
   ]
  },
  {
   "cell_type": "markdown",
   "id": "981e9c15",
   "metadata": {},
   "source": [
    "# Operators in python"
   ]
  },
  {
   "cell_type": "markdown",
   "id": "42486eda",
   "metadata": {},
   "source": [
    "## i. Arithmetic operators"
   ]
  },
  {
   "cell_type": "markdown",
   "id": "e07bd786",
   "metadata": {},
   "source": [
    "### +, -, *, /, //, %, **"
   ]
  },
  {
   "cell_type": "code",
   "execution_count": null,
   "id": "5dc51948",
   "metadata": {},
   "outputs": [],
   "source": [
    "a = 78"
   ]
  },
  {
   "cell_type": "code",
   "execution_count": null,
   "id": "86e94d18",
   "metadata": {},
   "outputs": [],
   "source": [
    "a"
   ]
  },
  {
   "cell_type": "code",
   "execution_count": null,
   "id": "bf6d0211",
   "metadata": {},
   "outputs": [],
   "source": [
    "b= 65"
   ]
  },
  {
   "cell_type": "code",
   "execution_count": null,
   "id": "ac1ae973",
   "metadata": {},
   "outputs": [],
   "source": [
    "b"
   ]
  },
  {
   "cell_type": "code",
   "execution_count": null,
   "id": "af9706a7",
   "metadata": {},
   "outputs": [],
   "source": [
    "a\n",
    "b"
   ]
  },
  {
   "cell_type": "code",
   "execution_count": null,
   "id": "dc505873",
   "metadata": {},
   "outputs": [],
   "source": [
    "print(a)\n",
    "print(b)"
   ]
  },
  {
   "cell_type": "code",
   "execution_count": null,
   "id": "36e81ff2",
   "metadata": {},
   "outputs": [],
   "source": [
    "print(a)"
   ]
  },
  {
   "cell_type": "code",
   "execution_count": null,
   "id": "364b722b",
   "metadata": {},
   "outputs": [],
   "source": [
    "a"
   ]
  },
  {
   "cell_type": "code",
   "execution_count": null,
   "id": "53c1acea",
   "metadata": {},
   "outputs": [],
   "source": [
    "b\n",
    "a"
   ]
  },
  {
   "cell_type": "code",
   "execution_count": null,
   "id": "d53860f7",
   "metadata": {},
   "outputs": [],
   "source": [
    "a + b"
   ]
  },
  {
   "cell_type": "code",
   "execution_count": null,
   "id": "a24c5d93",
   "metadata": {},
   "outputs": [],
   "source": [
    "print(a+b)"
   ]
  },
  {
   "cell_type": "code",
   "execution_count": null,
   "id": "03716feb",
   "metadata": {},
   "outputs": [],
   "source": [
    "a=int(input('enter a value:'))\n",
    "b = int(float(input('enter b value:')))\n",
    "ans = a+b\n",
    "print(f'sum of a and b values are {ans}')"
   ]
  },
  {
   "cell_type": "code",
   "execution_count": null,
   "id": "b7a8c885",
   "metadata": {},
   "outputs": [],
   "source": [
    "a-b"
   ]
  },
  {
   "cell_type": "code",
   "execution_count": null,
   "id": "1cb8a6ce",
   "metadata": {},
   "outputs": [],
   "source": [
    "9+j9"
   ]
  },
  {
   "cell_type": "code",
   "execution_count": null,
   "id": "80931213",
   "metadata": {},
   "outputs": [],
   "source": [
    "9+9j"
   ]
  },
  {
   "cell_type": "code",
   "execution_count": null,
   "id": "6d75bfba",
   "metadata": {},
   "outputs": [],
   "source": [
    "type(9+9j)"
   ]
  },
  {
   "cell_type": "code",
   "execution_count": null,
   "id": "0101635d",
   "metadata": {},
   "outputs": [],
   "source": [
    "x = 877+877j"
   ]
  },
  {
   "cell_type": "code",
   "execution_count": null,
   "id": "fcc5ab21",
   "metadata": {},
   "outputs": [],
   "source": [
    "type(x)"
   ]
  },
  {
   "cell_type": "code",
   "execution_count": null,
   "id": "79d033fa",
   "metadata": {},
   "outputs": [],
   "source": [
    "y=x.conjugate()"
   ]
  },
  {
   "cell_type": "code",
   "execution_count": null,
   "id": "060119d9",
   "metadata": {},
   "outputs": [],
   "source": [
    "x+y"
   ]
  },
  {
   "cell_type": "code",
   "execution_count": null,
   "id": "bebea808",
   "metadata": {},
   "outputs": [],
   "source": [
    "x - y"
   ]
  },
  {
   "cell_type": "code",
   "execution_count": null,
   "id": "fc74fc46",
   "metadata": {},
   "outputs": [],
   "source": [
    " 877j + 877j"
   ]
  },
  {
   "cell_type": "code",
   "execution_count": null,
   "id": "7ef1d32a",
   "metadata": {},
   "outputs": [],
   "source": [
    "x * y"
   ]
  },
  {
   "cell_type": "code",
   "execution_count": null,
   "id": "f9381a74",
   "metadata": {},
   "outputs": [],
   "source": [
    "a=8\n",
    "b = 23"
   ]
  },
  {
   "cell_type": "code",
   "execution_count": null,
   "id": "dbe2fb68",
   "metadata": {},
   "outputs": [],
   "source": [
    "a+b"
   ]
  },
  {
   "cell_type": "code",
   "execution_count": null,
   "id": "751400a0",
   "metadata": {},
   "outputs": [],
   "source": [
    "a-b"
   ]
  },
  {
   "cell_type": "code",
   "execution_count": null,
   "id": "b05106fe",
   "metadata": {},
   "outputs": [],
   "source": [
    "a*b"
   ]
  },
  {
   "cell_type": "code",
   "execution_count": null,
   "id": "165705a8",
   "metadata": {},
   "outputs": [],
   "source": [
    "a/b"
   ]
  },
  {
   "cell_type": "code",
   "execution_count": null,
   "id": "e88c996e",
   "metadata": {},
   "outputs": [],
   "source": [
    "a//b"
   ]
  },
  {
   "cell_type": "code",
   "execution_count": null,
   "id": "701f1158",
   "metadata": {},
   "outputs": [],
   "source": [
    "a"
   ]
  },
  {
   "cell_type": "code",
   "execution_count": null,
   "id": "412a3fae",
   "metadata": {},
   "outputs": [],
   "source": [
    "a=6"
   ]
  },
  {
   "cell_type": "code",
   "execution_count": null,
   "id": "dc61dd9f",
   "metadata": {},
   "outputs": [],
   "source": [
    "b"
   ]
  },
  {
   "cell_type": "code",
   "execution_count": null,
   "id": "f4d3f197",
   "metadata": {},
   "outputs": [],
   "source": [
    "b=4"
   ]
  },
  {
   "cell_type": "code",
   "execution_count": null,
   "id": "dc4b448a",
   "metadata": {},
   "outputs": [],
   "source": [
    "a/b"
   ]
  },
  {
   "cell_type": "code",
   "execution_count": null,
   "id": "48bb4419",
   "metadata": {},
   "outputs": [],
   "source": [
    "a//b"
   ]
  },
  {
   "cell_type": "code",
   "execution_count": null,
   "id": "b044b5ac",
   "metadata": {},
   "outputs": [],
   "source": [
    "x"
   ]
  },
  {
   "cell_type": "code",
   "execution_count": null,
   "id": "be19bb81",
   "metadata": {},
   "outputs": [],
   "source": [
    "x.conjugate()"
   ]
  },
  {
   "cell_type": "code",
   "execution_count": null,
   "id": "2dbaa9a1",
   "metadata": {},
   "outputs": [],
   "source": [
    "x=9"
   ]
  },
  {
   "cell_type": "code",
   "execution_count": null,
   "id": "1848932e",
   "metadata": {},
   "outputs": [],
   "source": [
    "x"
   ]
  },
  {
   "cell_type": "code",
   "execution_count": null,
   "id": "204dfb3a",
   "metadata": {},
   "outputs": [],
   "source": [
    "8**2"
   ]
  },
  {
   "cell_type": "code",
   "execution_count": null,
   "id": "0d6edd14",
   "metadata": {},
   "outputs": [],
   "source": [
    "7**7"
   ]
  },
  {
   "cell_type": "code",
   "execution_count": null,
   "id": "9e220b08",
   "metadata": {},
   "outputs": [],
   "source": [
    "7**2"
   ]
  },
  {
   "cell_type": "code",
   "execution_count": null,
   "id": "60cfcbff",
   "metadata": {},
   "outputs": [],
   "source": [
    "a"
   ]
  },
  {
   "cell_type": "code",
   "execution_count": null,
   "id": "74f867fd",
   "metadata": {},
   "outputs": [],
   "source": [
    "b"
   ]
  },
  {
   "cell_type": "code",
   "execution_count": null,
   "id": "2b0aee84",
   "metadata": {},
   "outputs": [],
   "source": [
    "a%b"
   ]
  },
  {
   "cell_type": "code",
   "execution_count": null,
   "id": "fc9989b4",
   "metadata": {},
   "outputs": [],
   "source": [
    "# % ---> return remainder\n",
    "# / ---> it will coefficient\n",
    "# // ---> it will floor value of coefficient\n",
    "# + --> addition, - => subtraction, ** ==> power"
   ]
  },
  {
   "cell_type": "code",
   "execution_count": null,
   "id": "276a582d",
   "metadata": {},
   "outputs": [],
   "source": [
    "24//5"
   ]
  },
  {
   "cell_type": "code",
   "execution_count": null,
   "id": "d1368081",
   "metadata": {},
   "outputs": [],
   "source": [
    "b=9"
   ]
  },
  {
   "cell_type": "code",
   "execution_count": null,
   "id": "d442d916",
   "metadata": {},
   "outputs": [],
   "source": [
    "if b%2==0:\n",
    "    print(f'{b} is even number')\n",
    "else:\n",
    "    print(f'{b} is odd number')\n",
    "    "
   ]
  },
  {
   "cell_type": "markdown",
   "id": "f9a5a714",
   "metadata": {},
   "source": [
    "# assignment operators\n",
    "## =, +=, -=, *=, /=, //=, **="
   ]
  },
  {
   "cell_type": "code",
   "execution_count": null,
   "id": "ea8b938a",
   "metadata": {},
   "outputs": [],
   "source": [
    "a=8"
   ]
  },
  {
   "cell_type": "code",
   "execution_count": null,
   "id": "c48b04ae",
   "metadata": {},
   "outputs": [],
   "source": [
    "a"
   ]
  },
  {
   "cell_type": "code",
   "execution_count": null,
   "id": "1eea4532",
   "metadata": {},
   "outputs": [],
   "source": [
    "a+=1"
   ]
  },
  {
   "cell_type": "code",
   "execution_count": null,
   "id": "31c63550",
   "metadata": {},
   "outputs": [],
   "source": [
    "a"
   ]
  },
  {
   "cell_type": "code",
   "execution_count": null,
   "id": "05c8f82d",
   "metadata": {},
   "outputs": [],
   "source": [
    "a=a+1"
   ]
  },
  {
   "cell_type": "code",
   "execution_count": null,
   "id": "9d030988",
   "metadata": {},
   "outputs": [],
   "source": [
    "a"
   ]
  },
  {
   "cell_type": "code",
   "execution_count": null,
   "id": "ffa59429",
   "metadata": {},
   "outputs": [],
   "source": [
    "a-=1"
   ]
  },
  {
   "cell_type": "code",
   "execution_count": null,
   "id": "827c184d",
   "metadata": {},
   "outputs": [],
   "source": [
    "a"
   ]
  },
  {
   "cell_type": "code",
   "execution_count": null,
   "id": "07525b0b",
   "metadata": {},
   "outputs": [],
   "source": [
    "a"
   ]
  },
  {
   "cell_type": "code",
   "execution_count": null,
   "id": "b9624ddd",
   "metadata": {},
   "outputs": [],
   "source": [
    "a/=3"
   ]
  },
  {
   "cell_type": "code",
   "execution_count": null,
   "id": "b1dafc69",
   "metadata": {},
   "outputs": [],
   "source": [
    "a"
   ]
  },
  {
   "cell_type": "code",
   "execution_count": null,
   "id": "50122238",
   "metadata": {},
   "outputs": [],
   "source": [
    "a=3333\n",
    "a=a/3"
   ]
  },
  {
   "cell_type": "code",
   "execution_count": null,
   "id": "5b6433bf",
   "metadata": {},
   "outputs": [],
   "source": [
    "a"
   ]
  },
  {
   "cell_type": "code",
   "execution_count": null,
   "id": "4d56eb14",
   "metadata": {},
   "outputs": [],
   "source": [
    "a/=3"
   ]
  },
  {
   "cell_type": "code",
   "execution_count": null,
   "id": "e5394792",
   "metadata": {},
   "outputs": [],
   "source": [
    "a"
   ]
  },
  {
   "cell_type": "code",
   "execution_count": null,
   "id": "3800e216",
   "metadata": {},
   "outputs": [],
   "source": [
    "a"
   ]
  },
  {
   "cell_type": "code",
   "execution_count": null,
   "id": "ab3964c8",
   "metadata": {},
   "outputs": [],
   "source": [
    "a*=3"
   ]
  },
  {
   "cell_type": "code",
   "execution_count": null,
   "id": "b82e68c4",
   "metadata": {},
   "outputs": [],
   "source": [
    "a"
   ]
  },
  {
   "cell_type": "code",
   "execution_count": null,
   "id": "16e9e992",
   "metadata": {},
   "outputs": [],
   "source": [
    "a=[1,2,3,4,5,6,7,8,9,10,11,12,13,14]\n",
    "ans=0\n",
    "for i in a:\n",
    "    count+=i\n",
    "print(count)"
   ]
  },
  {
   "cell_type": "code",
   "execution_count": null,
   "id": "4a19b395",
   "metadata": {},
   "outputs": [],
   "source": [
    "#the sum of n number = n*(n+1)/2"
   ]
  },
  {
   "cell_type": "code",
   "execution_count": null,
   "id": "a8b6e173",
   "metadata": {},
   "outputs": [],
   "source": [
    "a"
   ]
  },
  {
   "cell_type": "code",
   "execution_count": null,
   "id": "fda88f57",
   "metadata": {},
   "outputs": [],
   "source": [
    "a=98"
   ]
  },
  {
   "cell_type": "code",
   "execution_count": null,
   "id": "63b4b501",
   "metadata": {},
   "outputs": [],
   "source": [
    "a%=5"
   ]
  },
  {
   "cell_type": "code",
   "execution_count": null,
   "id": "81d8ca69",
   "metadata": {},
   "outputs": [],
   "source": [
    "a"
   ]
  },
  {
   "cell_type": "code",
   "execution_count": null,
   "id": "1f2b3e2b",
   "metadata": {},
   "outputs": [],
   "source": [
    "a"
   ]
  },
  {
   "cell_type": "code",
   "execution_count": null,
   "id": "68e0a8b0",
   "metadata": {},
   "outputs": [],
   "source": [
    "a**=2"
   ]
  },
  {
   "cell_type": "code",
   "execution_count": null,
   "id": "c6a6c0e7",
   "metadata": {},
   "outputs": [],
   "source": [
    "a"
   ]
  },
  {
   "cell_type": "code",
   "execution_count": null,
   "id": "2a7fe609",
   "metadata": {},
   "outputs": [],
   "source": [
    "a"
   ]
  },
  {
   "cell_type": "code",
   "execution_count": null,
   "id": "fbfb665b",
   "metadata": {},
   "outputs": [],
   "source": [
    "a//=7"
   ]
  },
  {
   "cell_type": "code",
   "execution_count": null,
   "id": "2c6169d3",
   "metadata": {},
   "outputs": [],
   "source": [
    "a"
   ]
  },
  {
   "cell_type": "code",
   "execution_count": null,
   "id": "58cb11c2",
   "metadata": {},
   "outputs": [],
   "source": [
    "6561/7"
   ]
  },
  {
   "cell_type": "code",
   "execution_count": null,
   "id": "6c1fdd18",
   "metadata": {},
   "outputs": [],
   "source": [
    "a=[1,2,3,4,0]"
   ]
  },
  {
   "cell_type": "code",
   "execution_count": null,
   "id": "6157046a",
   "metadata": {},
   "outputs": [],
   "source": [
    "mul = 1\n",
    "for i in a:\n",
    "    mul*=i\n",
    "    \n",
    "    "
   ]
  },
  {
   "cell_type": "code",
   "execution_count": null,
   "id": "56c5c476",
   "metadata": {},
   "outputs": [],
   "source": [
    "mul"
   ]
  },
  {
   "cell_type": "code",
   "execution_count": null,
   "id": "a5a2619b",
   "metadata": {},
   "outputs": [],
   "source": [
    "for i,j,k in a:\n",
    "    print(ahgahg)"
   ]
  },
  {
   "cell_type": "code",
   "execution_count": null,
   "id": "1a172bb7",
   "metadata": {},
   "outputs": [],
   "source": [
    "a = 9"
   ]
  },
  {
   "cell_type": "code",
   "execution_count": null,
   "id": "d1f9034b",
   "metadata": {},
   "outputs": [],
   "source": [
    "b=8"
   ]
  },
  {
   "cell_type": "code",
   "execution_count": null,
   "id": "5ff4e264",
   "metadata": {},
   "outputs": [],
   "source": [
    "a,b = 8, 2"
   ]
  },
  {
   "cell_type": "code",
   "execution_count": null,
   "id": "c73e933a",
   "metadata": {},
   "outputs": [],
   "source": [
    "a"
   ]
  },
  {
   "cell_type": "code",
   "execution_count": null,
   "id": "acb899c5",
   "metadata": {},
   "outputs": [],
   "source": [
    "b"
   ]
  },
  {
   "cell_type": "code",
   "execution_count": null,
   "id": "32a9b601",
   "metadata": {},
   "outputs": [],
   "source": [
    "a = 'mahendra ooi'"
   ]
  },
  {
   "cell_type": "code",
   "execution_count": null,
   "id": "431a77c1",
   "metadata": {},
   "outputs": [],
   "source": [
    "a"
   ]
  },
  {
   "cell_type": "code",
   "execution_count": null,
   "id": "d17d39aa",
   "metadata": {},
   "outputs": [],
   "source": [
    "a"
   ]
  },
  {
   "cell_type": "code",
   "execution_count": null,
   "id": "36a3ba96",
   "metadata": {},
   "outputs": [],
   "source": [
    "len('mahendraai')"
   ]
  },
  {
   "cell_type": "code",
   "execution_count": null,
   "id": "ec18d26e",
   "metadata": {},
   "outputs": [],
   "source": [
    "a[:]"
   ]
  },
  {
   "cell_type": "code",
   "execution_count": null,
   "id": "c2518c4f",
   "metadata": {},
   "outputs": [],
   "source": [
    "a[0]"
   ]
  },
  {
   "cell_type": "code",
   "execution_count": null,
   "id": "8a8f5e51",
   "metadata": {},
   "outputs": [],
   "source": [
    "a[10]"
   ]
  },
  {
   "cell_type": "code",
   "execution_count": null,
   "id": "bce38afd",
   "metadata": {},
   "outputs": [],
   "source": [
    "type(a[10])"
   ]
  },
  {
   "cell_type": "code",
   "execution_count": null,
   "id": "89e7ba21",
   "metadata": {},
   "outputs": [],
   "source": [
    "a[2:len(a)-2]"
   ]
  },
  {
   "cell_type": "code",
   "execution_count": null,
   "id": "20b8c0ce",
   "metadata": {},
   "outputs": [],
   "source": [
    "a[-4]"
   ]
  },
  {
   "cell_type": "code",
   "execution_count": null,
   "id": "fde0525f",
   "metadata": {},
   "outputs": [],
   "source": [
    "a= 'mahendra'"
   ]
  },
  {
   "cell_type": "code",
   "execution_count": null,
   "id": "522f5554",
   "metadata": {},
   "outputs": [],
   "source": [
    "a[-1]"
   ]
  },
  {
   "cell_type": "code",
   "execution_count": null,
   "id": "b429d73a",
   "metadata": {},
   "outputs": [],
   "source": [
    "a[-2]"
   ]
  },
  {
   "cell_type": "code",
   "execution_count": null,
   "id": "ff2a5d7f",
   "metadata": {},
   "outputs": [],
   "source": [
    "a[-1:len(a)]"
   ]
  },
  {
   "cell_type": "code",
   "execution_count": null,
   "id": "0fe2d14c",
   "metadata": {},
   "outputs": [],
   "source": [
    "a, *b = 'mahendra'"
   ]
  },
  {
   "cell_type": "code",
   "execution_count": null,
   "id": "ca87cb3a",
   "metadata": {},
   "outputs": [],
   "source": [
    "a"
   ]
  },
  {
   "cell_type": "code",
   "execution_count": null,
   "id": "c437bc0c",
   "metadata": {},
   "outputs": [],
   "source": [
    "b"
   ]
  },
  {
   "cell_type": "code",
   "execution_count": null,
   "id": "5bbe87c5",
   "metadata": {},
   "outputs": [],
   "source": [
    "# =, +=, -=, *=, /=, //=, **= (numberic, string)"
   ]
  },
  {
   "cell_type": "code",
   "execution_count": null,
   "id": "eedf3c0d",
   "metadata": {},
   "outputs": [],
   "source": [
    "a, b = 'mahendra', 'amahi'"
   ]
  },
  {
   "cell_type": "code",
   "execution_count": null,
   "id": "db90a54c",
   "metadata": {},
   "outputs": [],
   "source": [
    "a"
   ]
  },
  {
   "cell_type": "code",
   "execution_count": null,
   "id": "46ad7d29",
   "metadata": {},
   "outputs": [],
   "source": [
    "b"
   ]
  },
  {
   "cell_type": "code",
   "execution_count": null,
   "id": "464d310a",
   "metadata": {},
   "outputs": [],
   "source": [
    "a, *b = 'mahendra'"
   ]
  },
  {
   "cell_type": "code",
   "execution_count": null,
   "id": "2efe5a55",
   "metadata": {},
   "outputs": [],
   "source": [
    "a"
   ]
  },
  {
   "cell_type": "code",
   "execution_count": null,
   "id": "9a74b077",
   "metadata": {},
   "outputs": [],
   "source": [
    "b"
   ]
  },
  {
   "cell_type": "markdown",
   "id": "c75a074d",
   "metadata": {},
   "source": [
    "# logical operators\n",
    "# and, or, not"
   ]
  },
  {
   "cell_type": "code",
   "execution_count": null,
   "id": "c42cd79e",
   "metadata": {},
   "outputs": [],
   "source": [
    "0 and 9   "
   ]
  },
  {
   "cell_type": "code",
   "execution_count": null,
   "id": "fcb7bbe5",
   "metadata": {},
   "outputs": [],
   "source": [
    "7 and 9"
   ]
  },
  {
   "cell_type": "code",
   "execution_count": null,
   "id": "778bbcbd",
   "metadata": {},
   "outputs": [],
   "source": [
    "8 or 9"
   ]
  },
  {
   "cell_type": "code",
   "execution_count": null,
   "id": "b918f01f",
   "metadata": {},
   "outputs": [],
   "source": [
    "a=30\n",
    "b=9"
   ]
  },
  {
   "cell_type": "code",
   "execution_count": null,
   "id": "6049a0d4",
   "metadata": {},
   "outputs": [],
   "source": [
    "8 == 9"
   ]
  },
  {
   "cell_type": "code",
   "execution_count": null,
   "id": "fe7ad5ce",
   "metadata": {},
   "outputs": [],
   "source": [
    "a=6\n",
    "b=8\n",
    "a and b"
   ]
  },
  {
   "cell_type": "code",
   "execution_count": null,
   "id": "6268e8a9",
   "metadata": {},
   "outputs": [],
   "source": [
    "a or b"
   ]
  },
  {
   "cell_type": "code",
   "execution_count": null,
   "id": "6363251d",
   "metadata": {},
   "outputs": [],
   "source": [
    "a and a"
   ]
  },
  {
   "cell_type": "code",
   "execution_count": null,
   "id": "34096a96",
   "metadata": {},
   "outputs": [],
   "source": [
    "type(a and b)"
   ]
  },
  {
   "cell_type": "code",
   "execution_count": null,
   "id": "f9d969ff",
   "metadata": {},
   "outputs": [],
   "source": [
    "bool(a and b)"
   ]
  },
  {
   "cell_type": "code",
   "execution_count": null,
   "id": "e8c5ff5a",
   "metadata": {},
   "outputs": [],
   "source": [
    "bool(9 and 9)"
   ]
  },
  {
   "cell_type": "code",
   "execution_count": null,
   "id": "aa8dc341",
   "metadata": {},
   "outputs": [],
   "source": [
    "bool(0 or 8)"
   ]
  },
  {
   "cell_type": "code",
   "execution_count": null,
   "id": "7abe41c6",
   "metadata": {},
   "outputs": [],
   "source": [
    "a"
   ]
  },
  {
   "cell_type": "code",
   "execution_count": null,
   "id": "594d8ace",
   "metadata": {},
   "outputs": [],
   "source": [
    "not a"
   ]
  },
  {
   "cell_type": "code",
   "execution_count": null,
   "id": "62a34409",
   "metadata": {},
   "outputs": [],
   "source": [
    "bool (not 77)"
   ]
  },
  {
   "cell_type": "code",
   "execution_count": null,
   "id": "27999ed1",
   "metadata": {},
   "outputs": [],
   "source": [
    "bool(7777)"
   ]
  },
  {
   "cell_type": "code",
   "execution_count": null,
   "id": "da1d07ce",
   "metadata": {},
   "outputs": [],
   "source": [
    "age = 88\n",
    "salary =828278\n",
    "if age == 50 and salary == 8877:\n",
    "    print('something')\n",
    "else:\n",
    "    print('another')"
   ]
  },
  {
   "cell_type": "code",
   "execution_count": null,
   "id": "4d71febc",
   "metadata": {},
   "outputs": [],
   "source": [
    "9>7 or 8 < 3"
   ]
  },
  {
   "cell_type": "markdown",
   "id": "73666a56",
   "metadata": {},
   "source": [
    "# Comparision operators\n",
    "# ==, !=, <, >, <=, >="
   ]
  },
  {
   "cell_type": "code",
   "execution_count": null,
   "id": "e15cd095",
   "metadata": {},
   "outputs": [],
   "source": [
    "a=9"
   ]
  },
  {
   "cell_type": "code",
   "execution_count": null,
   "id": "ee9eed77",
   "metadata": {},
   "outputs": [],
   "source": [
    "a"
   ]
  },
  {
   "cell_type": "code",
   "execution_count": null,
   "id": "d5d85e85",
   "metadata": {},
   "outputs": [],
   "source": [
    "a==9"
   ]
  },
  {
   "cell_type": "code",
   "execution_count": null,
   "id": "075f31c7",
   "metadata": {},
   "outputs": [],
   "source": [
    "99 == 99"
   ]
  },
  {
   "cell_type": "code",
   "execution_count": null,
   "id": "e04c6b6f",
   "metadata": {},
   "outputs": [],
   "source": [
    "99==99"
   ]
  },
  {
   "cell_type": "code",
   "execution_count": null,
   "id": "5a064883",
   "metadata": {},
   "outputs": [],
   "source": [
    "8 > 8"
   ]
  },
  {
   "cell_type": "code",
   "execution_count": null,
   "id": "5b37fe89",
   "metadata": {},
   "outputs": [],
   "source": [
    "8>= 8"
   ]
  },
  {
   "cell_type": "code",
   "execution_count": null,
   "id": "f172ab40",
   "metadata": {},
   "outputs": [],
   "source": [
    "pass_marks = 50\n",
    "aghaoi =9\n",
    "if Score = pass_marks:\n",
    "    print('yes. you cleared the exam')\n",
    "else:\n",
    "    print('sorry. you didnt clear')"
   ]
  },
  {
   "cell_type": "code",
   "execution_count": null,
   "id": "726254ce",
   "metadata": {},
   "outputs": [],
   "source": [
    "Score"
   ]
  },
  {
   "cell_type": "code",
   "execution_count": null,
   "id": "28652252",
   "metadata": {},
   "outputs": [],
   "source": [
    "score"
   ]
  },
  {
   "cell_type": "markdown",
   "id": "033a7740",
   "metadata": {},
   "source": [
    "# Identity operators"
   ]
  },
  {
   "cell_type": "code",
   "execution_count": null,
   "id": "1df16257",
   "metadata": {},
   "outputs": [],
   "source": [
    "#is, is not"
   ]
  },
  {
   "cell_type": "code",
   "execution_count": null,
   "id": "e3b72aa6",
   "metadata": {},
   "outputs": [],
   "source": [
    "a"
   ]
  },
  {
   "cell_type": "code",
   "execution_count": null,
   "id": "a275edf7",
   "metadata": {},
   "outputs": [],
   "source": [
    "b"
   ]
  },
  {
   "cell_type": "code",
   "execution_count": null,
   "id": "e52a0dd0",
   "metadata": {},
   "outputs": [],
   "source": [
    "a is b"
   ]
  },
  {
   "cell_type": "code",
   "execution_count": null,
   "id": "68270d9e",
   "metadata": {},
   "outputs": [],
   "source": [
    "b is a"
   ]
  },
  {
   "cell_type": "code",
   "execution_count": null,
   "id": "8fcbe10b",
   "metadata": {},
   "outputs": [],
   "source": [
    "a = b"
   ]
  },
  {
   "cell_type": "code",
   "execution_count": null,
   "id": "f4421b53",
   "metadata": {},
   "outputs": [],
   "source": [
    "a"
   ]
  },
  {
   "cell_type": "code",
   "execution_count": null,
   "id": "e7c0599c",
   "metadata": {},
   "outputs": [],
   "source": [
    "a is b"
   ]
  },
  {
   "cell_type": "code",
   "execution_count": null,
   "id": "0ae8ff00",
   "metadata": {},
   "outputs": [],
   "source": [
    "a"
   ]
  },
  {
   "cell_type": "code",
   "execution_count": null,
   "id": "77673adb",
   "metadata": {},
   "outputs": [],
   "source": [
    "b"
   ]
  },
  {
   "cell_type": "code",
   "execution_count": null,
   "id": "b47cd85d",
   "metadata": {},
   "outputs": [],
   "source": [
    "a is not b"
   ]
  },
  {
   "cell_type": "code",
   "execution_count": null,
   "id": "a127055b",
   "metadata": {},
   "outputs": [],
   "source": [
    "a, b = 6, 4"
   ]
  },
  {
   "cell_type": "code",
   "execution_count": null,
   "id": "ac572bea",
   "metadata": {},
   "outputs": [],
   "source": [
    "a"
   ]
  },
  {
   "cell_type": "code",
   "execution_count": null,
   "id": "dd5a5894",
   "metadata": {},
   "outputs": [],
   "source": [
    "b"
   ]
  },
  {
   "cell_type": "code",
   "execution_count": null,
   "id": "219f7b96",
   "metadata": {},
   "outputs": [],
   "source": [
    "a, b = b,a"
   ]
  },
  {
   "cell_type": "code",
   "execution_count": null,
   "id": "0c1fbc0e",
   "metadata": {},
   "outputs": [],
   "source": [
    "a"
   ]
  },
  {
   "cell_type": "code",
   "execution_count": null,
   "id": "1326aebb",
   "metadata": {},
   "outputs": [],
   "source": [
    "b"
   ]
  },
  {
   "cell_type": "code",
   "execution_count": null,
   "id": "3e119907",
   "metadata": {},
   "outputs": [],
   "source": [
    "a= [98,28]\n",
    "b = [98, 28]\n",
    "a = b"
   ]
  },
  {
   "cell_type": "code",
   "execution_count": null,
   "id": "c60a690e",
   "metadata": {},
   "outputs": [],
   "source": [
    "b is a"
   ]
  },
  {
   "cell_type": "code",
   "execution_count": null,
   "id": "34d5ce23",
   "metadata": {},
   "outputs": [],
   "source": [
    "a =9\n",
    "b = 9"
   ]
  },
  {
   "cell_type": "code",
   "execution_count": null,
   "id": "8424c897",
   "metadata": {},
   "outputs": [],
   "source": [
    "a is a"
   ]
  },
  {
   "cell_type": "code",
   "execution_count": null,
   "id": "f262394e",
   "metadata": {},
   "outputs": [],
   "source": [
    "a is b"
   ]
  },
  {
   "cell_type": "code",
   "execution_count": null,
   "id": "8ce8a754",
   "metadata": {},
   "outputs": [],
   "source": [
    "9 is 9"
   ]
  },
  {
   "cell_type": "code",
   "execution_count": null,
   "id": "d562f672",
   "metadata": {},
   "outputs": [],
   "source": [
    "x = [8, 4]\n",
    "y = [8,4]"
   ]
  },
  {
   "cell_type": "code",
   "execution_count": null,
   "id": "9e3b223a",
   "metadata": {},
   "outputs": [],
   "source": [
    "x is y"
   ]
  },
  {
   "cell_type": "code",
   "execution_count": null,
   "id": "3f95271b",
   "metadata": {},
   "outputs": [],
   "source": [
    "y is x"
   ]
  },
  {
   "cell_type": "code",
   "execution_count": null,
   "id": "7b81f8b7",
   "metadata": {},
   "outputs": [],
   "source": [
    "x = y"
   ]
  },
  {
   "cell_type": "code",
   "execution_count": null,
   "id": "2ccdedd1",
   "metadata": {},
   "outputs": [],
   "source": [
    "x is y"
   ]
  },
  {
   "cell_type": "code",
   "execution_count": null,
   "id": "a137fc04",
   "metadata": {},
   "outputs": [],
   "source": [
    "y is x"
   ]
  },
  {
   "cell_type": "markdown",
   "id": "470d755f",
   "metadata": {},
   "source": [
    "# Membership operators"
   ]
  },
  {
   "cell_type": "code",
   "execution_count": null,
   "id": "2480dbe3",
   "metadata": {},
   "outputs": [],
   "source": [
    "# in, not in "
   ]
  },
  {
   "cell_type": "code",
   "execution_count": null,
   "id": "16b77b77",
   "metadata": {},
   "outputs": [],
   "source": [
    "a = [2,4,5]\n",
    "2 in a"
   ]
  },
  {
   "cell_type": "code",
   "execution_count": null,
   "id": "7504c9a5",
   "metadata": {},
   "outputs": [],
   "source": [
    "8 in a"
   ]
  },
  {
   "cell_type": "code",
   "execution_count": null,
   "id": "164d4d86",
   "metadata": {},
   "outputs": [],
   "source": [
    "9 in a"
   ]
  },
  {
   "cell_type": "code",
   "execution_count": null,
   "id": "69a21fb2",
   "metadata": {},
   "outputs": [],
   "source": [
    "9 not in a"
   ]
  },
  {
   "cell_type": "code",
   "execution_count": null,
   "id": "8232e022",
   "metadata": {},
   "outputs": [],
   "source": [
    "a = [2, 3,5, 9]\n",
    "for i in a:\n",
    "    print(i)\n",
    "print('')\n",
    "    "
   ]
  },
  {
   "cell_type": "code",
   "execution_count": null,
   "id": "a37db2bd",
   "metadata": {},
   "outputs": [],
   "source": [
    "a='mahendra'"
   ]
  },
  {
   "cell_type": "code",
   "execution_count": null,
   "id": "d08df3c9",
   "metadata": {},
   "outputs": [],
   "source": [
    "i"
   ]
  },
  {
   "cell_type": "code",
   "execution_count": null,
   "id": "02c1b130",
   "metadata": {},
   "outputs": [],
   "source": [
    "'i' in a"
   ]
  },
  {
   "cell_type": "code",
   "execution_count": null,
   "id": "fa19fcb0",
   "metadata": {},
   "outputs": [],
   "source": [
    "'m' in a"
   ]
  },
  {
   "cell_type": "code",
   "execution_count": null,
   "id": "a8bb6071",
   "metadata": {},
   "outputs": [],
   "source": [
    "'ma' in a"
   ]
  },
  {
   "cell_type": "code",
   "execution_count": null,
   "id": "0951369d",
   "metadata": {},
   "outputs": [],
   "source": [
    "'mahendra' not in a"
   ]
  },
  {
   "cell_type": "code",
   "execution_count": null,
   "id": "3f679fc1",
   "metadata": {},
   "outputs": [],
   "source": [
    "b = 'my name is mahendra'\n",
    "c = 'mahendra'\n",
    "c in b"
   ]
  },
  {
   "cell_type": "code",
   "execution_count": null,
   "id": "caa46486",
   "metadata": {},
   "outputs": [],
   "source": [
    "print(c not in b)"
   ]
  },
  {
   "cell_type": "code",
   "execution_count": null,
   "id": "4ec9007f",
   "metadata": {},
   "outputs": [],
   "source": [
    "arith = 98"
   ]
  },
  {
   "cell_type": "code",
   "execution_count": null,
   "id": "51df96c9",
   "metadata": {},
   "outputs": [],
   "source": [
    "# operators in python\n",
    "arith \n",
    "assignment=0\n",
    "logical=0\n",
    "identity\n",
    "comparative\n",
    "membershipt"
   ]
  },
  {
   "cell_type": "code",
   "execution_count": null,
   "id": "ff67695e",
   "metadata": {},
   "outputs": [],
   "source": [
    "a"
   ]
  },
  {
   "cell_type": "code",
   "execution_count": null,
   "id": "658d68e8",
   "metadata": {},
   "outputs": [],
   "source": [
    "a"
   ]
  },
  {
   "cell_type": "code",
   "execution_count": null,
   "id": "b0d18b1c",
   "metadata": {},
   "outputs": [],
   "source": [
    "del a"
   ]
  },
  {
   "cell_type": "code",
   "execution_count": null,
   "id": "fcab5e2b",
   "metadata": {},
   "outputs": [],
   "source": [
    "a"
   ]
  },
  {
   "cell_type": "code",
   "execution_count": null,
   "id": "307e9eb6",
   "metadata": {},
   "outputs": [],
   "source": [
    "name = 'sam' + ' '"
   ]
  },
  {
   "cell_type": "code",
   "execution_count": null,
   "id": "7304865d",
   "metadata": {},
   "outputs": [],
   "source": [
    "name *= 8"
   ]
  },
  {
   "cell_type": "code",
   "execution_count": null,
   "id": "9313d041",
   "metadata": {},
   "outputs": [],
   "source": [
    "name"
   ]
  },
  {
   "cell_type": "code",
   "execution_count": null,
   "id": "65257864",
   "metadata": {},
   "outputs": [],
   "source": [
    "name.split('sam')"
   ]
  },
  {
   "cell_type": "code",
   "execution_count": null,
   "id": "0cbe63dc",
   "metadata": {},
   "outputs": [],
   "source": [
    "type(' ')"
   ]
  },
  {
   "cell_type": "code",
   "execution_count": null,
   "id": "5f3601c5",
   "metadata": {},
   "outputs": [],
   "source": [
    "' ' * 10"
   ]
  },
  {
   "cell_type": "code",
   "execution_count": null,
   "id": "0f9cf654",
   "metadata": {},
   "outputs": [],
   "source": [
    "a='mahendra is working'"
   ]
  },
  {
   "cell_type": "code",
   "execution_count": null,
   "id": "5c1c0edb",
   "metadata": {},
   "outputs": [],
   "source": [
    "a"
   ]
  },
  {
   "cell_type": "code",
   "execution_count": null,
   "id": "b02c7273",
   "metadata": {},
   "outputs": [],
   "source": [
    "a.split(' ')"
   ]
  },
  {
   "cell_type": "markdown",
   "id": "6c31c0e7",
   "metadata": {},
   "source": [
    "# Control Structures"
   ]
  },
  {
   "cell_type": "code",
   "execution_count": null,
   "id": "f16002c8",
   "metadata": {},
   "outputs": [],
   "source": [
    "#i)selection or conditional \n",
    "# ii) looping or iterative statements\n",
    "# iii)jumping statements"
   ]
  },
  {
   "cell_type": "code",
   "execution_count": null,
   "id": "707b0898",
   "metadata": {},
   "outputs": [],
   "source": [
    "##i) if, else\n",
    "###ii) if, elif, elif,....else\n",
    "## iii) if, else, if elif, ..........else"
   ]
  },
  {
   "cell_type": "code",
   "execution_count": null,
   "id": "fa615211",
   "metadata": {},
   "outputs": [],
   "source": [
    "a=100\n",
    "b = 30"
   ]
  },
  {
   "cell_type": "code",
   "execution_count": null,
   "id": "9da19f92",
   "metadata": {},
   "outputs": [],
   "source": [
    "if a>b:\n",
    "    print('a is higher than b')\n",
    "    print(a)\n",
    "    print(b)\n",
    "    print(a*b)\n",
    "else: \n",
    "    print('a is higher than b')"
   ]
  },
  {
   "cell_type": "code",
   "execution_count": null,
   "id": "f2130b4e",
   "metadata": {},
   "outputs": [],
   "source": [
    "a>b"
   ]
  },
  {
   "cell_type": "code",
   "execution_count": null,
   "id": "74144d0e",
   "metadata": {},
   "outputs": [],
   "source": [
    "case when \n",
    "    when\n",
    "    when\n",
    "    when\n",
    "    else"
   ]
  },
  {
   "cell_type": "code",
   "execution_count": null,
   "id": "f3a7ab56",
   "metadata": {},
   "outputs": [],
   "source": [
    "user_name = 'mahendra'\n",
    "password = '9828279'\n",
    "name = input('enter your username:')\n",
    "passd = input('enter your password:')\n",
    "if name == user_name and passd == password:\n",
    "    print('yes, your credentials is correc')\n",
    "    print('login successful')\n",
    "elif name != user_name:\n",
    "    print('login failed')\n",
    "    print('login failed due to user name is incorrect')\n",
    "elif passd !=password:\n",
    "    print('login failed')\n",
    "    print('failed due to password is incorrect')\n",
    "else:\n",
    "    print('fail')"
   ]
  },
  {
   "cell_type": "code",
   "execution_count": null,
   "id": "5b082112",
   "metadata": {},
   "outputs": [],
   "source": [
    "8 and 9"
   ]
  },
  {
   "cell_type": "code",
   "execution_count": null,
   "id": "7c8232f0",
   "metadata": {},
   "outputs": [],
   "source": [
    "a=100\n",
    "b=290\n",
    "c=45\n",
    "if a>b:\n",
    "    if a>c:\n",
    "        print(f'{a} is higher than {b} and {c}')\n",
    "    else:\n",
    "        print(f'{c} is higher than {a} and {b}')\n",
    "elif b==a:\n",
    "    if b>c:\n",
    "        print(f'{b} is higher than {a} and {c}')\n",
    "    else:\n",
    "        print(f'{c} is higher than {a} and {b}')\n",
    "else:\n",
    "    print('i dont know any comparisions')\n",
    "    "
   ]
  },
  {
   "cell_type": "code",
   "execution_count": null,
   "id": "0f97ebec",
   "metadata": {},
   "outputs": [],
   "source": [
    "if 8>9:\n",
    "    print('its wrong')\n",
    "else:\n",
    "    print('its right')"
   ]
  },
  {
   "cell_type": "code",
   "execution_count": null,
   "id": "dbbd4187",
   "metadata": {},
   "outputs": [],
   "source": [
    "if 100>200:\n",
    "    print('alaaaaa')\n",
    "elif 40>200:\n",
    "    print('alkjga')\n",
    "else:\n",
    "    print('aljgf')"
   ]
  },
  {
   "cell_type": "code",
   "execution_count": null,
   "id": "0e5014ff",
   "metadata": {},
   "outputs": [],
   "source": [
    "range(100)"
   ]
  },
  {
   "cell_type": "code",
   "execution_count": null,
   "id": "1e967cde",
   "metadata": {},
   "outputs": [],
   "source": [
    "a=list(range(100))"
   ]
  },
  {
   "cell_type": "code",
   "execution_count": null,
   "id": "db3e8533",
   "metadata": {},
   "outputs": [],
   "source": [
    "a=a[2:20]"
   ]
  },
  {
   "cell_type": "code",
   "execution_count": null,
   "id": "1303c237",
   "metadata": {},
   "outputs": [],
   "source": [
    "a"
   ]
  },
  {
   "cell_type": "code",
   "execution_count": null,
   "id": "5bb2ef07",
   "metadata": {},
   "outputs": [],
   "source": [
    "a[0:20:3]"
   ]
  },
  {
   "cell_type": "code",
   "execution_count": null,
   "id": "f8ed1dc1",
   "metadata": {},
   "outputs": [],
   "source": [
    "a"
   ]
  },
  {
   "cell_type": "code",
   "execution_count": null,
   "id": "190c9155",
   "metadata": {},
   "outputs": [],
   "source": [
    "a=[1,2,3,4,5,6]"
   ]
  },
  {
   "cell_type": "code",
   "execution_count": null,
   "id": "24833d23",
   "metadata": {},
   "outputs": [],
   "source": [
    "a"
   ]
  },
  {
   "cell_type": "code",
   "execution_count": null,
   "id": "da1ff812",
   "metadata": {},
   "outputs": [],
   "source": [
    "a[:]"
   ]
  },
  {
   "cell_type": "code",
   "execution_count": null,
   "id": "f3f3e734",
   "metadata": {},
   "outputs": [],
   "source": [
    "a[::]"
   ]
  },
  {
   "cell_type": "code",
   "execution_count": null,
   "id": "62d5e381",
   "metadata": {},
   "outputs": [],
   "source": []
  },
  {
   "cell_type": "code",
   "execution_count": null,
   "id": "1855f097",
   "metadata": {},
   "outputs": [],
   "source": [
    "a[::-2]"
   ]
  },
  {
   "cell_type": "code",
   "execution_count": null,
   "id": "e9f60190",
   "metadata": {},
   "outputs": [],
   "source": [
    "a"
   ]
  },
  {
   "cell_type": "code",
   "execution_count": null,
   "id": "f2ca8c5f",
   "metadata": {},
   "outputs": [],
   "source": [
    "a[::2]"
   ]
  },
  {
   "cell_type": "code",
   "execution_count": null,
   "id": "7a591ae8",
   "metadata": {},
   "outputs": [],
   "source": [
    "a + [2]"
   ]
  },
  {
   "cell_type": "code",
   "execution_count": null,
   "id": "56b5b374",
   "metadata": {},
   "outputs": [],
   "source": [
    "a[::2]"
   ]
  },
  {
   "cell_type": "code",
   "execution_count": null,
   "id": "9a5774a1",
   "metadata": {},
   "outputs": [],
   "source": [
    "a[3:5:1]"
   ]
  },
  {
   "cell_type": "code",
   "execution_count": null,
   "id": "b9c9f23d",
   "metadata": {},
   "outputs": [],
   "source": [
    "a[-3:-1:1]"
   ]
  },
  {
   "cell_type": "code",
   "execution_count": null,
   "id": "2d3e7203",
   "metadata": {},
   "outputs": [],
   "source": [
    "a"
   ]
  },
  {
   "cell_type": "code",
   "execution_count": null,
   "id": "0b82b70b",
   "metadata": {},
   "outputs": [],
   "source": [
    "a[0:3]"
   ]
  },
  {
   "cell_type": "code",
   "execution_count": null,
   "id": "59877403",
   "metadata": {},
   "outputs": [],
   "source": [
    "a[:]"
   ]
  },
  {
   "cell_type": "code",
   "execution_count": null,
   "id": "9f823c76",
   "metadata": {},
   "outputs": [],
   "source": [
    "a[::]"
   ]
  },
  {
   "cell_type": "code",
   "execution_count": null,
   "id": "e8fe1be9",
   "metadata": {},
   "outputs": [],
   "source": [
    "len(a)"
   ]
  },
  {
   "cell_type": "code",
   "execution_count": null,
   "id": "2b4507db",
   "metadata": {},
   "outputs": [],
   "source": [
    "a[0:len(a):2]"
   ]
  },
  {
   "cell_type": "code",
   "execution_count": null,
   "id": "06212490",
   "metadata": {},
   "outputs": [],
   "source": [
    "a"
   ]
  },
  {
   "cell_type": "code",
   "execution_count": null,
   "id": "28716e81",
   "metadata": {},
   "outputs": [],
   "source": [
    "a[::-1]"
   ]
  },
  {
   "cell_type": "code",
   "execution_count": null,
   "id": "0be23fef",
   "metadata": {},
   "outputs": [],
   "source": [
    "a[-6:-5:1]"
   ]
  },
  {
   "cell_type": "code",
   "execution_count": null,
   "id": "6a49acd7",
   "metadata": {},
   "outputs": [],
   "source": [
    "a[-6]"
   ]
  },
  {
   "cell_type": "code",
   "execution_count": null,
   "id": "db77f9b0",
   "metadata": {},
   "outputs": [],
   "source": [
    "a"
   ]
  },
  {
   "cell_type": "markdown",
   "id": "6d0775bc",
   "metadata": {},
   "source": [
    "---> 0, 1, 2, 3,4,5,6\n",
    "<--- -6, -5, -4, -3, -2, -1"
   ]
  },
  {
   "cell_type": "code",
   "execution_count": null,
   "id": "1a14b7c7",
   "metadata": {},
   "outputs": [],
   "source": [
    "a[::-1]"
   ]
  },
  {
   "cell_type": "code",
   "execution_count": null,
   "id": "2bb4853a",
   "metadata": {},
   "outputs": [],
   "source": [
    "a[:]"
   ]
  },
  {
   "cell_type": "code",
   "execution_count": null,
   "id": "7ec088ee",
   "metadata": {},
   "outputs": [],
   "source": [
    "a[-6]"
   ]
  },
  {
   "cell_type": "code",
   "execution_count": null,
   "id": "ad1b5a7d",
   "metadata": {},
   "outputs": [],
   "source": [
    "b=a[-6:-1]"
   ]
  },
  {
   "cell_type": "code",
   "execution_count": null,
   "id": "8541c4ff",
   "metadata": {},
   "outputs": [],
   "source": [
    "b"
   ]
  },
  {
   "cell_type": "code",
   "execution_count": null,
   "id": "f22e4d73",
   "metadata": {},
   "outputs": [],
   "source": [
    "b[::-1]"
   ]
  },
  {
   "cell_type": "markdown",
   "id": "c5c8ef66",
   "metadata": {},
   "source": [
    "len(a) ---> len(a) - 1"
   ]
  },
  {
   "cell_type": "code",
   "execution_count": null,
   "id": "3f6c7721",
   "metadata": {},
   "outputs": [],
   "source": [
    "a[-6::-1]"
   ]
  },
  {
   "cell_type": "code",
   "execution_count": null,
   "id": "e78ccd8d",
   "metadata": {},
   "outputs": [],
   "source": [
    "name = 'mahendra'"
   ]
  },
  {
   "cell_type": "code",
   "execution_count": null,
   "id": "d7b154ff",
   "metadata": {},
   "outputs": [],
   "source": [
    "name[0]"
   ]
  },
  {
   "cell_type": "code",
   "execution_count": null,
   "id": "3cb46614",
   "metadata": {},
   "outputs": [],
   "source": [
    "name[:]"
   ]
  },
  {
   "cell_type": "code",
   "execution_count": null,
   "id": "c90a76ae",
   "metadata": {},
   "outputs": [],
   "source": [
    "name[:2]"
   ]
  },
  {
   "cell_type": "code",
   "execution_count": null,
   "id": "f56e55c3",
   "metadata": {},
   "outputs": [],
   "source": [
    "name[::1]"
   ]
  },
  {
   "cell_type": "code",
   "execution_count": null,
   "id": "f0fc63ab",
   "metadata": {},
   "outputs": [],
   "source": [
    "name[::-1]"
   ]
  },
  {
   "cell_type": "markdown",
   "id": "b6af77a9",
   "metadata": {},
   "source": [
    "# Iterative or Looping Statements"
   ]
  },
  {
   "cell_type": "code",
   "execution_count": null,
   "id": "23ef5b90",
   "metadata": {},
   "outputs": [],
   "source": [
    "# i) for\n",
    "# ii) while"
   ]
  },
  {
   "cell_type": "code",
   "execution_count": null,
   "id": "bd93f61f",
   "metadata": {},
   "outputs": [],
   "source": [
    "for x in range(0, 100, 2):\n",
    "    print(x) "
   ]
  },
  {
   "cell_type": "code",
   "execution_count": null,
   "id": "dfe32f87",
   "metadata": {},
   "outputs": [],
   "source": [
    "for i in range(100):\n",
    "    print(i, end=' ')"
   ]
  },
  {
   "cell_type": "code",
   "execution_count": null,
   "id": "84cc7a20",
   "metadata": {},
   "outputs": [],
   "source": [
    "name = 'mahendra'"
   ]
  },
  {
   "cell_type": "code",
   "execution_count": null,
   "id": "15edaec5",
   "metadata": {},
   "outputs": [],
   "source": [
    "name[0]"
   ]
  },
  {
   "cell_type": "code",
   "execution_count": null,
   "id": "800e59d4",
   "metadata": {},
   "outputs": [],
   "source": [
    "name[:]"
   ]
  },
  {
   "cell_type": "code",
   "execution_count": null,
   "id": "c6918cb2",
   "metadata": {},
   "outputs": [],
   "source": [
    "name[:len(name)]"
   ]
  },
  {
   "cell_type": "code",
   "execution_count": null,
   "id": "de67164b",
   "metadata": {},
   "outputs": [],
   "source": [
    "name[len(name):0:-1]"
   ]
  },
  {
   "cell_type": "code",
   "execution_count": null,
   "id": "8fdb6100",
   "metadata": {},
   "outputs": [],
   "source": [
    "name[1]"
   ]
  },
  {
   "cell_type": "code",
   "execution_count": null,
   "id": "0b2730b3",
   "metadata": {},
   "outputs": [],
   "source": [
    "len(name)"
   ]
  },
  {
   "cell_type": "code",
   "execution_count": null,
   "id": "576be6ca",
   "metadata": {},
   "outputs": [],
   "source": [
    "del name"
   ]
  },
  {
   "cell_type": "code",
   "execution_count": null,
   "id": "35743896",
   "metadata": {},
   "outputs": [],
   "source": [
    "name"
   ]
  },
  {
   "cell_type": "code",
   "execution_count": null,
   "id": "12d3dd89",
   "metadata": {},
   "outputs": [],
   "source": [
    "del name\n",
    "del ans"
   ]
  },
  {
   "cell_type": "code",
   "execution_count": null,
   "id": "f3eda157",
   "metadata": {},
   "outputs": [],
   "source": [
    "name = 'something'\n",
    "ans =''"
   ]
  },
  {
   "cell_type": "code",
   "execution_count": null,
   "id": "667c3da0",
   "metadata": {
    "scrolled": true
   },
   "outputs": [],
   "source": [
    "for i in range(0, len(name)):\n",
    "    ans+=name[i] \n",
    "    print(ans)\n",
    "#i) i=0=> name[0]='s' ans='s'\n",
    "#ii) i=1=> name[1]= 'o' ans='s'+'o'=> 'so'"
   ]
  },
  {
   "cell_type": "code",
   "execution_count": null,
   "id": "5c7185b3",
   "metadata": {},
   "outputs": [],
   "source": [
    "for i in range(1, 10):\n",
    "    #i=0\n",
    "    print('*' * i)\n",
    "    "
   ]
  },
  {
   "cell_type": "code",
   "execution_count": null,
   "id": "ab5b717b",
   "metadata": {},
   "outputs": [],
   "source": [
    "'mahi' * 2"
   ]
  },
  {
   "cell_type": "code",
   "execution_count": null,
   "id": "74f27fbd",
   "metadata": {},
   "outputs": [],
   "source": [
    "'*' * 2"
   ]
  },
  {
   "cell_type": "code",
   "execution_count": null,
   "id": "bc4bc93d",
   "metadata": {},
   "outputs": [],
   "source": [
    "ans"
   ]
  },
  {
   "cell_type": "code",
   "execution_count": null,
   "id": "a5f42246",
   "metadata": {},
   "outputs": [],
   "source": [
    "del ans"
   ]
  },
  {
   "cell_type": "code",
   "execution_count": null,
   "id": "69501409",
   "metadata": {},
   "outputs": [],
   "source": [
    "a=[9,2,3,5]\n",
    "suma=0\n",
    "for i in range(len(a)):\n",
    "    suma+=a[i]\n",
    "print(suma)\n",
    "    "
   ]
  },
  {
   "cell_type": "code",
   "execution_count": null,
   "id": "00595ff0",
   "metadata": {},
   "outputs": [],
   "source": [
    "name + 'mhi'"
   ]
  },
  {
   "cell_type": "code",
   "execution_count": null,
   "id": "b9a7a704",
   "metadata": {},
   "outputs": [],
   "source": [
    "name"
   ]
  },
  {
   "cell_type": "code",
   "execution_count": null,
   "id": "5867c998",
   "metadata": {},
   "outputs": [],
   "source": [
    "for i in range(9, 0, -1):\n",
    "    ans1=name[:i]\n",
    "    print(ans1)\n",
    "print(ans1)"
   ]
  },
  {
   "cell_type": "code",
   "execution_count": null,
   "id": "3476314c",
   "metadata": {},
   "outputs": [],
   "source": [
    "del ans1"
   ]
  },
  {
   "cell_type": "code",
   "execution_count": null,
   "id": "1ea4fee5",
   "metadata": {},
   "outputs": [],
   "source": [
    "for i in range(10, 0, -1):\n",
    "    print('*' * i)"
   ]
  },
  {
   "cell_type": "code",
   "execution_count": null,
   "id": "192f7d45",
   "metadata": {},
   "outputs": [],
   "source": [
    "for i in range(10, 1, -1):\n",
    "    print(i)"
   ]
  },
  {
   "cell_type": "code",
   "execution_count": null,
   "id": "6c3b636a",
   "metadata": {},
   "outputs": [],
   "source": [
    "for i in range(10,0,-1):\n",
    "    print(' ' * (10-i) + '*' * i) #i=10, i=9, 8, "
   ]
  },
  {
   "cell_type": "code",
   "execution_count": null,
   "id": "20c43fa6",
   "metadata": {},
   "outputs": [],
   "source": [
    "for i in range(1, 10): #i=1\n",
    "    for j in range(1,10): #j=1\n",
    "        print(j, end=' ')\n",
    "    print()"
   ]
  },
  {
   "cell_type": "code",
   "execution_count": null,
   "id": "3685d003",
   "metadata": {},
   "outputs": [],
   "source": [
    "for i in range(1,10): #i=1\n",
    "    for j in range(1,10): #j=1\n",
    "        if i>j:\n",
    "            print(j, end=' ')\n",
    "    print()"
   ]
  },
  {
   "cell_type": "markdown",
   "id": "97586428",
   "metadata": {},
   "source": [
    "# While"
   ]
  },
  {
   "cell_type": "code",
   "execution_count": null,
   "id": "799298ef",
   "metadata": {},
   "outputs": [],
   "source": [
    "x=10"
   ]
  },
  {
   "cell_type": "code",
   "execution_count": null,
   "id": "23544bca",
   "metadata": {
    "scrolled": true
   },
   "outputs": [],
   "source": [
    "while x>0:\n",
    "    print('something') #x=10\n",
    "    x-=2 #x=x-1"
   ]
  },
  {
   "cell_type": "code",
   "execution_count": null,
   "id": "6073f6d0",
   "metadata": {},
   "outputs": [],
   "source": [
    "if x>100:\n",
    "    print('somj')"
   ]
  },
  {
   "cell_type": "code",
   "execution_count": null,
   "id": "47e0d9c6",
   "metadata": {},
   "outputs": [],
   "source": [
    "x"
   ]
  },
  {
   "cell_type": "code",
   "execution_count": null,
   "id": "e83d9444",
   "metadata": {},
   "outputs": [],
   "source": [
    "x=20\n",
    "while x>1:\n",
    "    print(x, end=' ')\n",
    "    x-=3\n",
    "y-=3\n",
    "print(y)"
   ]
  },
  {
   "cell_type": "code",
   "execution_count": null,
   "id": "26961ad4",
   "metadata": {},
   "outputs": [],
   "source": [
    "x"
   ]
  },
  {
   "cell_type": "code",
   "execution_count": null,
   "id": "96b59dfa",
   "metadata": {},
   "outputs": [],
   "source": [
    "y=20\n",
    "y-=3"
   ]
  },
  {
   "cell_type": "code",
   "execution_count": null,
   "id": "759e165b",
   "metadata": {},
   "outputs": [],
   "source": [
    "y"
   ]
  },
  {
   "cell_type": "code",
   "execution_count": null,
   "id": "18fc6455",
   "metadata": {},
   "outputs": [],
   "source": [
    "x = 30\n",
    "while x<100:\n",
    "    print(x, x*10)\n",
    "    x+=4"
   ]
  },
  {
   "cell_type": "markdown",
   "id": "eb0a5fd8",
   "metadata": {},
   "source": [
    "## Q) given a number, print reverse of the given number."
   ]
  },
  {
   "cell_type": "code",
   "execution_count": null,
   "id": "4346e0aa",
   "metadata": {},
   "outputs": [],
   "source": [
    "h=2877\n",
    "ans = 77822554562222\n",
    "digit = h%10"
   ]
  },
  {
   "cell_type": "code",
   "execution_count": null,
   "id": "4c722086",
   "metadata": {},
   "outputs": [],
   "source": [
    "digit"
   ]
  },
  {
   "cell_type": "code",
   "execution_count": null,
   "id": "92138eee",
   "metadata": {},
   "outputs": [],
   "source": [
    "11/10"
   ]
  },
  {
   "cell_type": "code",
   "execution_count": null,
   "id": "0eb92195",
   "metadata": {},
   "outputs": [],
   "source": [
    "11//10"
   ]
  },
  {
   "cell_type": "code",
   "execution_count": null,
   "id": "f263ecc3",
   "metadata": {},
   "outputs": [],
   "source": [
    "2877//10"
   ]
  },
  {
   "cell_type": "code",
   "execution_count": null,
   "id": "0a656fd9",
   "metadata": {},
   "outputs": [],
   "source": [
    "n = int(input('enter n value:'))\n",
    "g = n\n",
    "rev=0\n",
    "while n >0:\n",
    "    digit = n%10 #digit = 7, 7, 8, 2\n",
    "    rev = rev * 10 +digit #rev = 0+7; # rev = 7 * 10 + 7=77; #rev = 77*10 + 8=778; 778 * 10 + 2==> 7782\n",
    "    n//=10 \n",
    "if rev == g:\n",
    "    print(f'given number {g} is a palindrome')\n",
    "else:\n",
    "    print(f'given number {g} is not a palindrome')"
   ]
  },
  {
   "cell_type": "code",
   "execution_count": null,
   "id": "8058a2a2",
   "metadata": {},
   "outputs": [],
   "source": [
    "if rev=="
   ]
  },
  {
   "cell_type": "code",
   "execution_count": null,
   "id": "b2c6a9b9",
   "metadata": {},
   "outputs": [],
   "source": [
    "n=input('enter n value:')\n",
    "x=n[::-1]\n",
    "u=int(x)\n",
    "u"
   ]
  },
  {
   "cell_type": "code",
   "execution_count": null,
   "id": "f2a4b83f",
   "metadata": {},
   "outputs": [],
   "source": []
  },
  {
   "cell_type": "code",
   "execution_count": null,
   "id": "76b6abf1",
   "metadata": {},
   "outputs": [],
   "source": [
    "2//10"
   ]
  },
  {
   "cell_type": "code",
   "execution_count": null,
   "id": "2acc2f7c",
   "metadata": {},
   "outputs": [],
   "source": [
    "100"
   ]
  },
  {
   "cell_type": "code",
   "execution_count": null,
   "id": "8ba7f729",
   "metadata": {},
   "outputs": [],
   "source": [
    "'001'"
   ]
  },
  {
   "cell_type": "code",
   "execution_count": null,
   "id": "61197c94",
   "metadata": {},
   "outputs": [],
   "source": [
    "a = 'anbnaa'"
   ]
  },
  {
   "cell_type": "code",
   "execution_count": null,
   "id": "b0ca5712",
   "metadata": {},
   "outputs": [],
   "source": [
    "b=a[::-1]"
   ]
  },
  {
   "cell_type": "code",
   "execution_count": null,
   "id": "6cd1b74d",
   "metadata": {},
   "outputs": [],
   "source": [
    "b"
   ]
  },
  {
   "cell_type": "code",
   "execution_count": null,
   "id": "b166fd58",
   "metadata": {},
   "outputs": [],
   "source": [
    "if a==b:\n",
    "    print('pal')\n",
    "else:\n",
    "    print('not pal')"
   ]
  },
  {
   "cell_type": "markdown",
   "id": "bcb2b48e",
   "metadata": {},
   "source": [
    "# Jumping Statements"
   ]
  },
  {
   "cell_type": "code",
   "execution_count": null,
   "id": "ebacca82",
   "metadata": {},
   "outputs": [],
   "source": [
    "# break, continue, pass"
   ]
  },
  {
   "cell_type": "code",
   "execution_count": null,
   "id": "5b385b3b",
   "metadata": {},
   "outputs": [],
   "source": [
    "for i in range(1, 100): \n",
    "    if i<=10:\n",
    "        print(i)\n",
    "    else:\n",
    "        break\n",
    "        print(i)\n",
    "        print(i**8)"
   ]
  },
  {
   "cell_type": "code",
   "execution_count": null,
   "id": "21d6cf81",
   "metadata": {},
   "outputs": [],
   "source": []
  },
  {
   "cell_type": "code",
   "execution_count": null,
   "id": "b7f5d7dd",
   "metadata": {},
   "outputs": [],
   "source": [
    "x=80\n",
    "while x<100:\n",
    "    print(x)\n",
    "    x+=2\n",
    "    if x>=96:\n",
    "        break\n",
    "    else:\n",
    "        break\n",
    "        print()\n",
    "        print('nothing')\n",
    "if x>=96:\n",
    "    print('------------')\n",
    "    print(x)"
   ]
  },
  {
   "cell_type": "code",
   "execution_count": null,
   "id": "7868dfa4",
   "metadata": {},
   "outputs": [],
   "source": [
    "n=int(input('enter n value:'))\n",
    "#(1,n)==> 2 to n-1\n",
    "for i in range(2, 7): #2,3,4,5,6\n",
    "    if n%i==0:\n",
    "        print('not prime')\n",
    "        break\n",
    "else:\n",
    "    print('prime')"
   ]
  },
  {
   "cell_type": "code",
   "execution_count": null,
   "id": "c25ad1c9",
   "metadata": {},
   "outputs": [],
   "source": [
    "def prime(x):\n",
    "    for i in range(2, x): #2,3,4,5,6\n",
    "        if x%i==0:\n",
    "            print('not prime')\n",
    "            break\n",
    "    else:\n",
    "        print('prime')"
   ]
  },
  {
   "cell_type": "code",
   "execution_count": null,
   "id": "3966df35",
   "metadata": {},
   "outputs": [],
   "source": [
    "prime(11)"
   ]
  },
  {
   "cell_type": "code",
   "execution_count": null,
   "id": "012184de",
   "metadata": {},
   "outputs": [],
   "source": [
    "x =int(input('enter n value:'))\n",
    "# 1,182==> prime\n",
    "# 3=> not prime\n",
    "if x<2:\n",
    "    print('not prime')\n",
    "else:\n",
    "    for i in range(2, x): #2,3,4,5,6 sqrt(n)\n",
    "        if x%i==0:\n",
    "            print('not prime')\n",
    "            break\n",
    "    else:\n",
    "        print('prime')"
   ]
  },
  {
   "cell_type": "code",
   "execution_count": null,
   "id": "108bd290",
   "metadata": {},
   "outputs": [],
   "source": [
    "for i in range(2, 9):\n",
    "    print(i)"
   ]
  },
  {
   "cell_type": "code",
   "execution_count": null,
   "id": "f91e0f08",
   "metadata": {},
   "outputs": [],
   "source": [
    "x"
   ]
  },
  {
   "cell_type": "code",
   "execution_count": null,
   "id": "3658e527",
   "metadata": {},
   "outputs": [],
   "source": [
    "n"
   ]
  },
  {
   "cell_type": "code",
   "execution_count": null,
   "id": "b588fe22",
   "metadata": {},
   "outputs": [],
   "source": [
    "n=int(input('enter n value')) #10\n",
    "for i in range(1, n+1): #1 to 10\n",
    "    if i < 2:\n",
    "        pass\n",
    "    else:\n",
    "        for j in range(2, i):\n",
    "            if i%j==0:\n",
    "                break\n",
    "        else:\n",
    "            print(i, end=' ')"
   ]
  },
  {
   "cell_type": "code",
   "execution_count": null,
   "id": "cfc40d0a",
   "metadata": {},
   "outputs": [],
   "source": [
    "for i in range(1, 51):\n",
    "    if i<=35 and i>=30:\n",
    "        continue\n",
    "    print(i, end=' ')"
   ]
  },
  {
   "cell_type": "code",
   "execution_count": null,
   "id": "7de90e51",
   "metadata": {},
   "outputs": [],
   "source": [
    "for i in range(1,10):\n",
    "    if i==10:\n",
    "        continue\n",
    "    print(i)"
   ]
  },
  {
   "cell_type": "code",
   "execution_count": null,
   "id": "f4241634",
   "metadata": {},
   "outputs": [],
   "source": [
    "x=19\n",
    "if x>12:\n",
    "    print('eoaogo')"
   ]
  },
  {
   "cell_type": "markdown",
   "id": "595e29c2",
   "metadata": {},
   "source": [
    "# Data Structures"
   ]
  },
  {
   "cell_type": "markdown",
   "id": "c0066995",
   "metadata": {},
   "source": [
    "# List"
   ]
  },
  {
   "cell_type": "code",
   "execution_count": null,
   "id": "6005076b",
   "metadata": {},
   "outputs": [],
   "source": [
    "a=[1,2,3,4]"
   ]
  },
  {
   "cell_type": "code",
   "execution_count": null,
   "id": "27069aca",
   "metadata": {},
   "outputs": [],
   "source": [
    "a"
   ]
  },
  {
   "cell_type": "code",
   "execution_count": null,
   "id": "d880e712",
   "metadata": {},
   "outputs": [],
   "source": [
    "type(a)"
   ]
  },
  {
   "cell_type": "code",
   "execution_count": null,
   "id": "fcf56473",
   "metadata": {},
   "outputs": [],
   "source": [
    "a[2]"
   ]
  },
  {
   "cell_type": "code",
   "execution_count": null,
   "id": "6ca35500",
   "metadata": {},
   "outputs": [],
   "source": [
    "a[:]"
   ]
  },
  {
   "cell_type": "code",
   "execution_count": null,
   "id": "268f1b76",
   "metadata": {},
   "outputs": [],
   "source": [
    "a[2]=8"
   ]
  },
  {
   "cell_type": "code",
   "execution_count": null,
   "id": "caeea7c7",
   "metadata": {},
   "outputs": [],
   "source": [
    "a"
   ]
  },
  {
   "cell_type": "code",
   "execution_count": null,
   "id": "5b3c1511",
   "metadata": {},
   "outputs": [],
   "source": [
    "a.remove(4)"
   ]
  },
  {
   "cell_type": "code",
   "execution_count": null,
   "id": "4ca65925",
   "metadata": {},
   "outputs": [],
   "source": [
    "a"
   ]
  },
  {
   "cell_type": "code",
   "execution_count": null,
   "id": "6ef69630",
   "metadata": {},
   "outputs": [],
   "source": [
    "a.insert(7,25)"
   ]
  },
  {
   "cell_type": "code",
   "execution_count": null,
   "id": "2e46700e",
   "metadata": {},
   "outputs": [],
   "source": [
    "a"
   ]
  },
  {
   "cell_type": "code",
   "execution_count": null,
   "id": "d78973b3",
   "metadata": {},
   "outputs": [],
   "source": [
    "len(a)"
   ]
  },
  {
   "cell_type": "code",
   "execution_count": null,
   "id": "77b957f6",
   "metadata": {},
   "outputs": [],
   "source": [
    "a.insert(3, 100)"
   ]
  },
  {
   "cell_type": "code",
   "execution_count": null,
   "id": "e0a5533c",
   "metadata": {},
   "outputs": [],
   "source": [
    "a"
   ]
  },
  {
   "cell_type": "code",
   "execution_count": null,
   "id": "84ff2fd0",
   "metadata": {},
   "outputs": [],
   "source": [
    "a[3]=5"
   ]
  },
  {
   "cell_type": "code",
   "execution_count": null,
   "id": "a2cc1169",
   "metadata": {},
   "outputs": [],
   "source": [
    "a"
   ]
  },
  {
   "cell_type": "code",
   "execution_count": null,
   "id": "fdec7d6a",
   "metadata": {},
   "outputs": [],
   "source": [
    "a[-1]=[-1,100]"
   ]
  },
  {
   "cell_type": "code",
   "execution_count": null,
   "id": "f624e354",
   "metadata": {},
   "outputs": [],
   "source": [
    "a"
   ]
  },
  {
   "cell_type": "code",
   "execution_count": null,
   "id": "2b1b0bca",
   "metadata": {},
   "outputs": [],
   "source": [
    "a.insert(-2, 100)"
   ]
  },
  {
   "cell_type": "code",
   "execution_count": null,
   "id": "d0720fc0",
   "metadata": {},
   "outputs": [],
   "source": [
    "a"
   ]
  },
  {
   "cell_type": "code",
   "execution_count": null,
   "id": "a754677b",
   "metadata": {},
   "outputs": [],
   "source": [
    "a"
   ]
  },
  {
   "cell_type": "code",
   "execution_count": null,
   "id": "5813e671",
   "metadata": {},
   "outputs": [],
   "source": [
    "a=[[1,2,4,5,],[5,6,7,7],[2,3,4]]"
   ]
  },
  {
   "cell_type": "code",
   "execution_count": null,
   "id": "31ec1dc6",
   "metadata": {},
   "outputs": [],
   "source": [
    "a.pop()"
   ]
  },
  {
   "cell_type": "code",
   "execution_count": null,
   "id": "7864b61c",
   "metadata": {},
   "outputs": [],
   "source": [
    "a.pop(1)"
   ]
  },
  {
   "cell_type": "code",
   "execution_count": null,
   "id": "dd31ed14",
   "metadata": {},
   "outputs": [],
   "source": [
    "a"
   ]
  },
  {
   "cell_type": "code",
   "execution_count": null,
   "id": "aaae8106",
   "metadata": {},
   "outputs": [],
   "source": [
    "a.remove([2,3,4])"
   ]
  },
  {
   "cell_type": "code",
   "execution_count": null,
   "id": "9ffd6c62",
   "metadata": {},
   "outputs": [],
   "source": [
    "a"
   ]
  },
  {
   "cell_type": "code",
   "execution_count": null,
   "id": "96a73900",
   "metadata": {},
   "outputs": [],
   "source": [
    "a=[2,2,5,9,7,9,6,7]"
   ]
  },
  {
   "cell_type": "code",
   "execution_count": null,
   "id": "01f5ca40",
   "metadata": {},
   "outputs": [],
   "source": [
    "a.remove(7)"
   ]
  },
  {
   "cell_type": "code",
   "execution_count": null,
   "id": "e742beb0",
   "metadata": {},
   "outputs": [],
   "source": [
    "a"
   ]
  },
  {
   "cell_type": "code",
   "execution_count": null,
   "id": "a43ac928",
   "metadata": {},
   "outputs": [],
   "source": [
    "a"
   ]
  },
  {
   "cell_type": "code",
   "execution_count": null,
   "id": "b1410aac",
   "metadata": {},
   "outputs": [],
   "source": [
    "a[0]"
   ]
  },
  {
   "cell_type": "code",
   "execution_count": null,
   "id": "01c70b7f",
   "metadata": {},
   "outputs": [],
   "source": [
    "a[1]"
   ]
  },
  {
   "cell_type": "code",
   "execution_count": null,
   "id": "39fb4b2a",
   "metadata": {},
   "outputs": [],
   "source": [
    "a[0][2]"
   ]
  },
  {
   "cell_type": "code",
   "execution_count": null,
   "id": "dd438213",
   "metadata": {},
   "outputs": [],
   "source": [
    "a[1][3]"
   ]
  },
  {
   "cell_type": "code",
   "execution_count": null,
   "id": "0f7634ea",
   "metadata": {},
   "outputs": [],
   "source": [
    "a"
   ]
  },
  {
   "cell_type": "code",
   "execution_count": null,
   "id": "9f567d58",
   "metadata": {},
   "outputs": [],
   "source": [
    "a.pop()"
   ]
  },
  {
   "cell_type": "code",
   "execution_count": null,
   "id": "bc8af750",
   "metadata": {},
   "outputs": [],
   "source": [
    "a"
   ]
  },
  {
   "cell_type": "code",
   "execution_count": null,
   "id": "51babd3c",
   "metadata": {},
   "outputs": [],
   "source": [
    "a.pop(1)"
   ]
  },
  {
   "cell_type": "code",
   "execution_count": null,
   "id": "909f6bb8",
   "metadata": {},
   "outputs": [],
   "source": [
    "a"
   ]
  },
  {
   "cell_type": "code",
   "execution_count": null,
   "id": "3bde1233",
   "metadata": {},
   "outputs": [],
   "source": [
    "a.extend([2,3])"
   ]
  },
  {
   "cell_type": "code",
   "execution_count": null,
   "id": "d715464b",
   "metadata": {},
   "outputs": [],
   "source": [
    "a"
   ]
  },
  {
   "cell_type": "code",
   "execution_count": null,
   "id": "b54fbb9f",
   "metadata": {},
   "outputs": [],
   "source": [
    "a"
   ]
  },
  {
   "cell_type": "code",
   "execution_count": null,
   "id": "86fb6d72",
   "metadata": {},
   "outputs": [],
   "source": [
    "a=[2,3,4,8]"
   ]
  },
  {
   "cell_type": "code",
   "execution_count": null,
   "id": "dd308c95",
   "metadata": {},
   "outputs": [],
   "source": [
    "a.remove()"
   ]
  },
  {
   "cell_type": "code",
   "execution_count": null,
   "id": "6ceb5d27",
   "metadata": {},
   "outputs": [],
   "source": [
    "type(a)"
   ]
  },
  {
   "cell_type": "code",
   "execution_count": null,
   "id": "f0ae382a",
   "metadata": {},
   "outputs": [],
   "source": [
    "a[0]"
   ]
  },
  {
   "cell_type": "code",
   "execution_count": null,
   "id": "7148b215",
   "metadata": {},
   "outputs": [],
   "source": [
    "a[0][1]"
   ]
  },
  {
   "cell_type": "code",
   "execution_count": null,
   "id": "2fd46468",
   "metadata": {},
   "outputs": [],
   "source": [
    "a[1][3]"
   ]
  },
  {
   "cell_type": "code",
   "execution_count": null,
   "id": "476869aa",
   "metadata": {},
   "outputs": [],
   "source": [
    "a"
   ]
  },
  {
   "cell_type": "code",
   "execution_count": null,
   "id": "4afffdc0",
   "metadata": {},
   "outputs": [],
   "source": [
    "a.pop()"
   ]
  },
  {
   "cell_type": "code",
   "execution_count": null,
   "id": "3fafe6bf",
   "metadata": {},
   "outputs": [],
   "source": [
    "a"
   ]
  },
  {
   "cell_type": "code",
   "execution_count": null,
   "id": "e561ee6f",
   "metadata": {},
   "outputs": [],
   "source": [
    "b=[3,4,5,60]\n",
    "b"
   ]
  },
  {
   "cell_type": "code",
   "execution_count": null,
   "id": "fec6200a",
   "metadata": {},
   "outputs": [],
   "source": [
    "b.pop()"
   ]
  },
  {
   "cell_type": "code",
   "execution_count": null,
   "id": "56f6c6c9",
   "metadata": {},
   "outputs": [],
   "source": [
    "b"
   ]
  },
  {
   "cell_type": "code",
   "execution_count": null,
   "id": "dc7cf689",
   "metadata": {},
   "outputs": [],
   "source": [
    "del b"
   ]
  },
  {
   "cell_type": "code",
   "execution_count": null,
   "id": "1186c83d",
   "metadata": {},
   "outputs": [],
   "source": [
    "b = ['mahendra', 45, ]"
   ]
  },
  {
   "cell_type": "code",
   "execution_count": null,
   "id": "222e7a88",
   "metadata": {},
   "outputs": [],
   "source": [
    "a=[[1,2,3,4],[2,3,4,5]]"
   ]
  },
  {
   "cell_type": "code",
   "execution_count": null,
   "id": "3cc845ed",
   "metadata": {},
   "outputs": [],
   "source": [
    "a.pop()"
   ]
  },
  {
   "cell_type": "code",
   "execution_count": null,
   "id": "c8c513aa",
   "metadata": {},
   "outputs": [],
   "source": [
    "a"
   ]
  },
  {
   "cell_type": "code",
   "execution_count": null,
   "id": "da74c03e",
   "metadata": {},
   "outputs": [],
   "source": []
  },
  {
   "cell_type": "code",
   "execution_count": null,
   "id": "1dae35ca",
   "metadata": {},
   "outputs": [],
   "source": [
    "a=[[2,3,4],[2,3,4],[3,4,5]]"
   ]
  },
  {
   "cell_type": "code",
   "execution_count": null,
   "id": "843357aa",
   "metadata": {},
   "outputs": [],
   "source": [
    "del a[0]"
   ]
  },
  {
   "cell_type": "code",
   "execution_count": null,
   "id": "5327dc2d",
   "metadata": {},
   "outputs": [],
   "source": [
    "a"
   ]
  },
  {
   "cell_type": "code",
   "execution_count": null,
   "id": "c1a40f52",
   "metadata": {},
   "outputs": [],
   "source": [
    "del a[1][2]"
   ]
  },
  {
   "cell_type": "code",
   "execution_count": null,
   "id": "1fad47d4",
   "metadata": {},
   "outputs": [],
   "source": [
    "a"
   ]
  },
  {
   "cell_type": "code",
   "execution_count": null,
   "id": "0c36e91e",
   "metadata": {},
   "outputs": [],
   "source": [
    "a.pop()"
   ]
  },
  {
   "cell_type": "code",
   "execution_count": null,
   "id": "d8d7b337",
   "metadata": {},
   "outputs": [],
   "source": [
    "a=['mahendra', 45, 88787.0, True]"
   ]
  },
  {
   "cell_type": "code",
   "execution_count": null,
   "id": "d84cc50c",
   "metadata": {},
   "outputs": [],
   "source": [
    "a"
   ]
  },
  {
   "cell_type": "code",
   "execution_count": null,
   "id": "412354e7",
   "metadata": {},
   "outputs": [],
   "source": [
    "a.append(4)"
   ]
  },
  {
   "cell_type": "code",
   "execution_count": null,
   "id": "c0796cec",
   "metadata": {},
   "outputs": [],
   "source": [
    "a"
   ]
  },
  {
   "cell_type": "code",
   "execution_count": null,
   "id": "5fdd0d44",
   "metadata": {},
   "outputs": [],
   "source": [
    "a.append([5,6,7])"
   ]
  },
  {
   "cell_type": "code",
   "execution_count": null,
   "id": "789b5de2",
   "metadata": {},
   "outputs": [],
   "source": [
    "a"
   ]
  },
  {
   "cell_type": "code",
   "execution_count": null,
   "id": "3a215809",
   "metadata": {},
   "outputs": [],
   "source": [
    "a.append(78)"
   ]
  },
  {
   "cell_type": "code",
   "execution_count": null,
   "id": "83dc177d",
   "metadata": {},
   "outputs": [],
   "source": [
    "a"
   ]
  },
  {
   "cell_type": "code",
   "execution_count": null,
   "id": "4a349b98",
   "metadata": {},
   "outputs": [],
   "source": [
    "a.sort()"
   ]
  },
  {
   "cell_type": "code",
   "execution_count": null,
   "id": "36ed25fc",
   "metadata": {},
   "outputs": [],
   "source": [
    "b=[2,34,5,6,7]\n",
    "b.sort()"
   ]
  },
  {
   "cell_type": "code",
   "execution_count": null,
   "id": "731c19d2",
   "metadata": {},
   "outputs": [],
   "source": [
    "b"
   ]
  },
  {
   "cell_type": "code",
   "execution_count": null,
   "id": "d0cff9c2",
   "metadata": {},
   "outputs": [],
   "source": [
    "b.sort(reverse=True)"
   ]
  },
  {
   "cell_type": "code",
   "execution_count": null,
   "id": "d7418d03",
   "metadata": {},
   "outputs": [],
   "source": [
    "b"
   ]
  },
  {
   "cell_type": "code",
   "execution_count": null,
   "id": "ab19fd1c",
   "metadata": {},
   "outputs": [],
   "source": [
    "len(b)"
   ]
  },
  {
   "cell_type": "code",
   "execution_count": null,
   "id": "ba483860",
   "metadata": {},
   "outputs": [],
   "source": [
    "b=[2,3,4,5,5,8,9,8, 8, 9]\n",
    "b.count(8)\n"
   ]
  },
  {
   "cell_type": "code",
   "execution_count": null,
   "id": "889ceb60",
   "metadata": {},
   "outputs": [],
   "source": [
    "a[::-1]"
   ]
  },
  {
   "cell_type": "code",
   "execution_count": null,
   "id": "d42d1fa7",
   "metadata": {},
   "outputs": [],
   "source": [
    "a"
   ]
  },
  {
   "cell_type": "code",
   "execution_count": null,
   "id": "ba27816b",
   "metadata": {},
   "outputs": [],
   "source": [
    "b"
   ]
  },
  {
   "cell_type": "code",
   "execution_count": null,
   "id": "b64587ee",
   "metadata": {},
   "outputs": [],
   "source": [
    "sorted(b)"
   ]
  },
  {
   "cell_type": "code",
   "execution_count": null,
   "id": "c0ce4138",
   "metadata": {},
   "outputs": [],
   "source": [
    "b"
   ]
  },
  {
   "cell_type": "code",
   "execution_count": null,
   "id": "eaf59c7d",
   "metadata": {},
   "outputs": [],
   "source": [
    "c=b.sort()"
   ]
  },
  {
   "cell_type": "code",
   "execution_count": null,
   "id": "a0278a3e",
   "metadata": {},
   "outputs": [],
   "source": [
    "b"
   ]
  },
  {
   "cell_type": "code",
   "execution_count": null,
   "id": "8c987e98",
   "metadata": {},
   "outputs": [],
   "source": [
    "c"
   ]
  },
  {
   "cell_type": "code",
   "execution_count": null,
   "id": "39272023",
   "metadata": {},
   "outputs": [],
   "source": [
    "x=[1,4,7,10, 3, 5, 20, 6]\n",
    "x.sort()"
   ]
  },
  {
   "cell_type": "code",
   "execution_count": null,
   "id": "3eda49ea",
   "metadata": {},
   "outputs": [],
   "source": [
    "x"
   ]
  },
  {
   "cell_type": "code",
   "execution_count": null,
   "id": "596fb06e",
   "metadata": {},
   "outputs": [],
   "source": [
    "x"
   ]
  },
  {
   "cell_type": "code",
   "execution_count": null,
   "id": "e7b5552a",
   "metadata": {},
   "outputs": [],
   "source": [
    "x"
   ]
  },
  {
   "cell_type": "code",
   "execution_count": null,
   "id": "d8ab7395",
   "metadata": {},
   "outputs": [],
   "source": [
    "h=x.sort(reverse=True)"
   ]
  },
  {
   "cell_type": "code",
   "execution_count": null,
   "id": "0543588f",
   "metadata": {},
   "outputs": [],
   "source": [
    "h"
   ]
  },
  {
   "cell_type": "code",
   "execution_count": null,
   "id": "485fe443",
   "metadata": {},
   "outputs": [],
   "source": [
    "x"
   ]
  },
  {
   "cell_type": "code",
   "execution_count": null,
   "id": "30af2fa0",
   "metadata": {},
   "outputs": [],
   "source": [
    "h=x"
   ]
  },
  {
   "cell_type": "code",
   "execution_count": null,
   "id": "a33c6e85",
   "metadata": {},
   "outputs": [],
   "source": [
    "h"
   ]
  },
  {
   "cell_type": "code",
   "execution_count": null,
   "id": "4c037d6a",
   "metadata": {},
   "outputs": [],
   "source": [
    "h"
   ]
  },
  {
   "cell_type": "code",
   "execution_count": null,
   "id": "9c9f1e8c",
   "metadata": {},
   "outputs": [],
   "source": [
    "a=[2,3,4]\n",
    "b=[8,28]"
   ]
  },
  {
   "cell_type": "code",
   "execution_count": null,
   "id": "0207b764",
   "metadata": {},
   "outputs": [],
   "source": [
    "a+b"
   ]
  },
  {
   "cell_type": "code",
   "execution_count": null,
   "id": "0eca302f",
   "metadata": {},
   "outputs": [],
   "source": [
    "[i**2 for i in a]"
   ]
  },
  {
   "cell_type": "code",
   "execution_count": null,
   "id": "9f02d6aa",
   "metadata": {},
   "outputs": [],
   "source": [
    "sum(a)"
   ]
  },
  {
   "cell_type": "code",
   "execution_count": null,
   "id": "fc56b350",
   "metadata": {},
   "outputs": [],
   "source": [
    "min(a)"
   ]
  },
  {
   "cell_type": "code",
   "execution_count": null,
   "id": "9573aa04",
   "metadata": {},
   "outputs": [],
   "source": [
    "max(a)"
   ]
  },
  {
   "cell_type": "code",
   "execution_count": null,
   "id": "b4be0484",
   "metadata": {},
   "outputs": [],
   "source": []
  },
  {
   "cell_type": "code",
   "execution_count": null,
   "id": "bd3b6ef5",
   "metadata": {},
   "outputs": [],
   "source": [
    "print(h)"
   ]
  },
  {
   "cell_type": "code",
   "execution_count": null,
   "id": "067d553f",
   "metadata": {},
   "outputs": [],
   "source": [
    "x+x+x"
   ]
  },
  {
   "cell_type": "code",
   "execution_count": null,
   "id": "c630dd08",
   "metadata": {},
   "outputs": [],
   "source": [
    "x"
   ]
  },
  {
   "cell_type": "code",
   "execution_count": null,
   "id": "d899a4ce",
   "metadata": {},
   "outputs": [],
   "source": [
    "x*3"
   ]
  },
  {
   "cell_type": "code",
   "execution_count": null,
   "id": "b0f5abb3",
   "metadata": {},
   "outputs": [],
   "source": [
    "[i**2 for i in x] #list comprehension"
   ]
  },
  {
   "cell_type": "code",
   "execution_count": null,
   "id": "b829799e",
   "metadata": {},
   "outputs": [],
   "source": [
    "[x**2 for x in range(10) if x%2!=0]"
   ]
  },
  {
   "cell_type": "code",
   "execution_count": null,
   "id": "d9cc6dda",
   "metadata": {},
   "outputs": [],
   "source": [
    "[x[y] for y in range(len(x))]"
   ]
  },
  {
   "cell_type": "code",
   "execution_count": null,
   "id": "15e6b80f",
   "metadata": {},
   "outputs": [],
   "source": [
    "[x[i] for i in range(0,len(x)) if i%2==0]"
   ]
  },
  {
   "cell_type": "code",
   "execution_count": null,
   "id": "4b633b69",
   "metadata": {},
   "outputs": [],
   "source": [
    "a=[]\n",
    "def f(x):\n",
    "    for i in range(0, len(x),2): #0,1, 2,3 4,5, 6,\n",
    "        if i%2==0:\n",
    "            a.append(x[i])\n",
    "    print(a)\n",
    "        "
   ]
  },
  {
   "cell_type": "code",
   "execution_count": null,
   "id": "27d8d7f7",
   "metadata": {},
   "outputs": [],
   "source": [
    "f(x)"
   ]
  },
  {
   "cell_type": "code",
   "execution_count": null,
   "id": "577ab69e",
   "metadata": {},
   "outputs": [],
   "source": [
    "name = 'mahendra'\n",
    "n=[name[x] for x in range(len(name)) if x%2==0]"
   ]
  },
  {
   "cell_type": "code",
   "execution_count": null,
   "id": "5b80fbe0",
   "metadata": {},
   "outputs": [],
   "source": [
    "n"
   ]
  },
  {
   "cell_type": "code",
   "execution_count": null,
   "id": "19e37227",
   "metadata": {},
   "outputs": [],
   "source": [
    "name"
   ]
  },
  {
   "cell_type": "code",
   "execution_count": null,
   "id": "022866d7",
   "metadata": {},
   "outputs": [],
   "source": [
    "name[0]"
   ]
  },
  {
   "cell_type": "code",
   "execution_count": null,
   "id": "2b55278b",
   "metadata": {},
   "outputs": [],
   "source": [
    "name[1]"
   ]
  },
  {
   "cell_type": "code",
   "execution_count": null,
   "id": "46a62d5b",
   "metadata": {},
   "outputs": [],
   "source": [
    "name[2]='ah'"
   ]
  },
  {
   "cell_type": "code",
   "execution_count": null,
   "id": "90d20eec",
   "metadata": {},
   "outputs": [],
   "source": [
    "name[:]"
   ]
  },
  {
   "cell_type": "code",
   "execution_count": null,
   "id": "26a7ae02",
   "metadata": {},
   "outputs": [],
   "source": [
    "name[3]='a'"
   ]
  },
  {
   "cell_type": "code",
   "execution_count": null,
   "id": "57c9e28c",
   "metadata": {},
   "outputs": [],
   "source": [
    "name + 'mahe'"
   ]
  },
  {
   "cell_type": "markdown",
   "id": "1829c7b0",
   "metadata": {},
   "source": [
    "# List"
   ]
  },
  {
   "cell_type": "code",
   "execution_count": null,
   "id": "b1f0adcc",
   "metadata": {},
   "outputs": [],
   "source": []
  },
  {
   "cell_type": "code",
   "execution_count": null,
   "id": "cc73c452",
   "metadata": {},
   "outputs": [],
   "source": []
  },
  {
   "cell_type": "code",
   "execution_count": null,
   "id": "b9e86137",
   "metadata": {},
   "outputs": [],
   "source": [
    "a"
   ]
  },
  {
   "cell_type": "code",
   "execution_count": null,
   "id": "060e3c68",
   "metadata": {},
   "outputs": [],
   "source": [
    "for i in range(10):\n",
    "    print(i)"
   ]
  },
  {
   "cell_type": "code",
   "execution_count": null,
   "id": "81bde5a0",
   "metadata": {},
   "outputs": [],
   "source": [
    "len(a)"
   ]
  },
  {
   "cell_type": "code",
   "execution_count": null,
   "id": "d1562b70",
   "metadata": {},
   "outputs": [],
   "source": [
    "length_of_a = len(a)"
   ]
  },
  {
   "cell_type": "code",
   "execution_count": null,
   "id": "9dc0d81c",
   "metadata": {},
   "outputs": [],
   "source": [
    "for i in range(len(a)): #0, 1, 2\n",
    "    print(a[i])"
   ]
  },
  {
   "cell_type": "code",
   "execution_count": null,
   "id": "0aebff0f",
   "metadata": {},
   "outputs": [],
   "source": [
    "a=[1,2,3,4,5,9,87,766]"
   ]
  },
  {
   "cell_type": "code",
   "execution_count": null,
   "id": "53c6b173",
   "metadata": {},
   "outputs": [],
   "source": [
    "sum_a=0\n",
    "for i in range(len(a)):\n",
    "    sum_a+=1\n",
    "print(sum_a)"
   ]
  },
  {
   "cell_type": "code",
   "execution_count": null,
   "id": "4162210e",
   "metadata": {},
   "outputs": [],
   "source": [
    "len(a)"
   ]
  },
  {
   "cell_type": "code",
   "execution_count": null,
   "id": "fb3b67f6",
   "metadata": {},
   "outputs": [],
   "source": [
    "a"
   ]
  },
  {
   "cell_type": "code",
   "execution_count": null,
   "id": "1e609968",
   "metadata": {},
   "outputs": [],
   "source": [
    "ans=0\n",
    "for i in a:\n",
    "    ans+=i\n",
    "print(ans)"
   ]
  },
  {
   "cell_type": "markdown",
   "id": "f0fc0525",
   "metadata": {},
   "source": [
    "# Tuple"
   ]
  },
  {
   "cell_type": "code",
   "execution_count": null,
   "id": "2ac0ab74",
   "metadata": {},
   "outputs": [],
   "source": [
    "a=(1)"
   ]
  },
  {
   "cell_type": "code",
   "execution_count": null,
   "id": "3c78128f",
   "metadata": {},
   "outputs": [],
   "source": [
    "type(a)"
   ]
  },
  {
   "cell_type": "code",
   "execution_count": null,
   "id": "7bc1fcce",
   "metadata": {},
   "outputs": [],
   "source": [
    "a=(1,)"
   ]
  },
  {
   "cell_type": "code",
   "execution_count": null,
   "id": "7215189c",
   "metadata": {},
   "outputs": [],
   "source": [
    "type(a)"
   ]
  },
  {
   "cell_type": "code",
   "execution_count": null,
   "id": "81b74e41",
   "metadata": {},
   "outputs": [],
   "source": [
    "b=tuple()"
   ]
  },
  {
   "cell_type": "code",
   "execution_count": null,
   "id": "dfec6bde",
   "metadata": {},
   "outputs": [],
   "source": [
    "type(b)"
   ]
  },
  {
   "cell_type": "code",
   "execution_count": null,
   "id": "857586c5",
   "metadata": {},
   "outputs": [],
   "source": [
    "a=list()"
   ]
  },
  {
   "cell_type": "code",
   "execution_count": null,
   "id": "32631d37",
   "metadata": {},
   "outputs": [],
   "source": [
    "type(a)"
   ]
  },
  {
   "cell_type": "code",
   "execution_count": null,
   "id": "4d6b0478",
   "metadata": {},
   "outputs": [],
   "source": [
    "a"
   ]
  },
  {
   "cell_type": "code",
   "execution_count": null,
   "id": "feb2cc50",
   "metadata": {},
   "outputs": [],
   "source": [
    "b"
   ]
  },
  {
   "cell_type": "code",
   "execution_count": null,
   "id": "9ff8c37b",
   "metadata": {},
   "outputs": [],
   "source": [
    "x=(1,2,3,4,5,8)\n",
    "x[:]"
   ]
  },
  {
   "cell_type": "code",
   "execution_count": null,
   "id": "9aea0b0f",
   "metadata": {},
   "outputs": [],
   "source": [
    "x[0]"
   ]
  },
  {
   "cell_type": "code",
   "execution_count": null,
   "id": "3b78d677",
   "metadata": {},
   "outputs": [],
   "source": [
    "x[1]"
   ]
  },
  {
   "cell_type": "code",
   "execution_count": null,
   "id": "4b5eb092",
   "metadata": {},
   "outputs": [],
   "source": [
    "x[1:4]"
   ]
  },
  {
   "cell_type": "code",
   "execution_count": null,
   "id": "3140aa17",
   "metadata": {},
   "outputs": [],
   "source": [
    "x.add(8)"
   ]
  },
  {
   "cell_type": "code",
   "execution_count": null,
   "id": "bf85c33f",
   "metadata": {},
   "outputs": [],
   "source": [
    "x.append(8)"
   ]
  },
  {
   "cell_type": "code",
   "execution_count": null,
   "id": "30b5fb7c",
   "metadata": {},
   "outputs": [],
   "source": [
    "x.remove(8)"
   ]
  },
  {
   "cell_type": "code",
   "execution_count": null,
   "id": "55a68acd",
   "metadata": {},
   "outputs": [],
   "source": [
    "x[0]"
   ]
  },
  {
   "cell_type": "code",
   "execution_count": null,
   "id": "fe0b06e0",
   "metadata": {},
   "outputs": [],
   "source": [
    "x[0]=5"
   ]
  },
  {
   "cell_type": "code",
   "execution_count": null,
   "id": "d939d188",
   "metadata": {},
   "outputs": [],
   "source": [
    "p=[4,5,8]\n",
    "p"
   ]
  },
  {
   "cell_type": "code",
   "execution_count": null,
   "id": "589e6726",
   "metadata": {},
   "outputs": [],
   "source": [
    "p[1]"
   ]
  },
  {
   "cell_type": "code",
   "execution_count": null,
   "id": "2e37b259",
   "metadata": {},
   "outputs": [],
   "source": [
    "p[1]=9"
   ]
  },
  {
   "cell_type": "code",
   "execution_count": null,
   "id": "9d276ee4",
   "metadata": {},
   "outputs": [],
   "source": [
    "p"
   ]
  },
  {
   "cell_type": "code",
   "execution_count": null,
   "id": "2425352a",
   "metadata": {},
   "outputs": [],
   "source": [
    "p.remove(8)"
   ]
  },
  {
   "cell_type": "code",
   "execution_count": null,
   "id": "d9838049",
   "metadata": {},
   "outputs": [],
   "source": [
    "p"
   ]
  },
  {
   "cell_type": "code",
   "execution_count": null,
   "id": "a5190697",
   "metadata": {},
   "outputs": [],
   "source": [
    "x"
   ]
  },
  {
   "cell_type": "code",
   "execution_count": null,
   "id": "696340a5",
   "metadata": {},
   "outputs": [],
   "source": [
    "x.insert(2,9)"
   ]
  },
  {
   "cell_type": "code",
   "execution_count": null,
   "id": "b50ad4f0",
   "metadata": {},
   "outputs": [],
   "source": [
    "p"
   ]
  },
  {
   "cell_type": "code",
   "execution_count": null,
   "id": "29df16bf",
   "metadata": {},
   "outputs": [],
   "source": [
    "p.insert(2,20)"
   ]
  },
  {
   "cell_type": "code",
   "execution_count": null,
   "id": "e7f7710e",
   "metadata": {},
   "outputs": [],
   "source": [
    "p"
   ]
  },
  {
   "cell_type": "code",
   "execution_count": null,
   "id": "ce4c8b16",
   "metadata": {},
   "outputs": [],
   "source": [
    "x"
   ]
  },
  {
   "cell_type": "code",
   "execution_count": null,
   "id": "5b238004",
   "metadata": {},
   "outputs": [],
   "source": [
    "x.pop()"
   ]
  },
  {
   "cell_type": "code",
   "execution_count": null,
   "id": "27c884b8",
   "metadata": {},
   "outputs": [],
   "source": [
    "type(x)"
   ]
  },
  {
   "cell_type": "code",
   "execution_count": null,
   "id": "9d4196b2",
   "metadata": {},
   "outputs": [],
   "source": [
    "a=x.copy()"
   ]
  },
  {
   "cell_type": "code",
   "execution_count": null,
   "id": "fc1e9deb",
   "metadata": {},
   "outputs": [],
   "source": [
    "a=x"
   ]
  },
  {
   "cell_type": "code",
   "execution_count": null,
   "id": "c9548f37",
   "metadata": {},
   "outputs": [],
   "source": [
    "a"
   ]
  },
  {
   "cell_type": "code",
   "execution_count": null,
   "id": "2c66c9a9",
   "metadata": {},
   "outputs": [],
   "source": [
    "type(a)"
   ]
  },
  {
   "cell_type": "code",
   "execution_count": null,
   "id": "09da567f",
   "metadata": {},
   "outputs": [],
   "source": [
    "tuple(list(a))"
   ]
  },
  {
   "cell_type": "code",
   "execution_count": null,
   "id": "c3d7db02",
   "metadata": {},
   "outputs": [],
   "source": [
    "a=98.7"
   ]
  },
  {
   "cell_type": "code",
   "execution_count": null,
   "id": "20db2426",
   "metadata": {},
   "outputs": [],
   "source": [
    "type(a)"
   ]
  },
  {
   "cell_type": "code",
   "execution_count": null,
   "id": "45984e3e",
   "metadata": {},
   "outputs": [],
   "source": [
    "b=int(a)"
   ]
  },
  {
   "cell_type": "code",
   "execution_count": null,
   "id": "7dbd8208",
   "metadata": {},
   "outputs": [],
   "source": [
    "float(b)"
   ]
  },
  {
   "cell_type": "code",
   "execution_count": null,
   "id": "aed9d443",
   "metadata": {},
   "outputs": [],
   "source": [
    "str(a)"
   ]
  },
  {
   "cell_type": "code",
   "execution_count": null,
   "id": "cb9fb4dc",
   "metadata": {},
   "outputs": [],
   "source": [
    "a=(2,5,8)\n",
    "b=(4,9,28)"
   ]
  },
  {
   "cell_type": "code",
   "execution_count": null,
   "id": "ba4fc0b7",
   "metadata": {},
   "outputs": [],
   "source": [
    "v=list(a)"
   ]
  },
  {
   "cell_type": "code",
   "execution_count": null,
   "id": "48fefb85",
   "metadata": {},
   "outputs": [],
   "source": [
    "v.append(76)"
   ]
  },
  {
   "cell_type": "code",
   "execution_count": null,
   "id": "d180ff34",
   "metadata": {},
   "outputs": [],
   "source": [
    "v"
   ]
  },
  {
   "cell_type": "code",
   "execution_count": null,
   "id": "dc101e04",
   "metadata": {},
   "outputs": [],
   "source": [
    "a=tuple(v)"
   ]
  },
  {
   "cell_type": "code",
   "execution_count": null,
   "id": "0c1688bb",
   "metadata": {},
   "outputs": [],
   "source": [
    "a"
   ]
  },
  {
   "cell_type": "code",
   "execution_count": null,
   "id": "c0aadba5",
   "metadata": {},
   "outputs": [],
   "source": [
    "c=a+b"
   ]
  },
  {
   "cell_type": "code",
   "execution_count": null,
   "id": "3536bc5e",
   "metadata": {},
   "outputs": [],
   "source": [
    "c"
   ]
  },
  {
   "cell_type": "code",
   "execution_count": null,
   "id": "063ca6f2",
   "metadata": {},
   "outputs": [],
   "source": [
    "a.extend((2827))"
   ]
  },
  {
   "cell_type": "code",
   "execution_count": null,
   "id": "425de3a8",
   "metadata": {},
   "outputs": [],
   "source": [
    "a.update((23,34,45))"
   ]
  },
  {
   "cell_type": "code",
   "execution_count": null,
   "id": "3b30c55e",
   "metadata": {},
   "outputs": [],
   "source": [
    "v"
   ]
  },
  {
   "cell_type": "code",
   "execution_count": null,
   "id": "b2c56cbc",
   "metadata": {},
   "outputs": [],
   "source": [
    "o=tuple(v)"
   ]
  },
  {
   "cell_type": "code",
   "execution_count": null,
   "id": "14ef0022",
   "metadata": {},
   "outputs": [],
   "source": [
    "o[1]=9"
   ]
  },
  {
   "cell_type": "markdown",
   "id": "56df32cb",
   "metadata": {},
   "source": [
    "#Sets"
   ]
  },
  {
   "cell_type": "code",
   "execution_count": null,
   "id": "10aa72e8",
   "metadata": {},
   "outputs": [],
   "source": [
    "a={}"
   ]
  },
  {
   "cell_type": "code",
   "execution_count": null,
   "id": "ac93045e",
   "metadata": {},
   "outputs": [],
   "source": [
    "type(a)"
   ]
  },
  {
   "cell_type": "code",
   "execution_count": null,
   "id": "98064c9f",
   "metadata": {},
   "outputs": [],
   "source": [
    "a=set()"
   ]
  },
  {
   "cell_type": "code",
   "execution_count": null,
   "id": "1abb0f6f",
   "metadata": {},
   "outputs": [],
   "source": [
    "a"
   ]
  },
  {
   "cell_type": "code",
   "execution_count": null,
   "id": "610885a2",
   "metadata": {},
   "outputs": [],
   "source": [
    "a=list()"
   ]
  },
  {
   "cell_type": "code",
   "execution_count": null,
   "id": "86efa43b",
   "metadata": {},
   "outputs": [],
   "source": [
    "a"
   ]
  },
  {
   "cell_type": "code",
   "execution_count": null,
   "id": "9b2704c8",
   "metadata": {},
   "outputs": [],
   "source": [
    "b=tuple()"
   ]
  },
  {
   "cell_type": "code",
   "execution_count": null,
   "id": "497ad51e",
   "metadata": {},
   "outputs": [],
   "source": [
    "b"
   ]
  },
  {
   "cell_type": "code",
   "execution_count": null,
   "id": "955fefb0",
   "metadata": {},
   "outputs": [],
   "source": [
    "d=dict()"
   ]
  },
  {
   "cell_type": "code",
   "execution_count": null,
   "id": "baf40c6f",
   "metadata": {},
   "outputs": [],
   "source": [
    "d"
   ]
  },
  {
   "cell_type": "code",
   "execution_count": null,
   "id": "ae5c0556",
   "metadata": {},
   "outputs": [],
   "source": [
    "p={1,2,3,4}"
   ]
  },
  {
   "cell_type": "code",
   "execution_count": null,
   "id": "e2854e98",
   "metadata": {},
   "outputs": [],
   "source": [
    "type(p)"
   ]
  },
  {
   "cell_type": "code",
   "execution_count": null,
   "id": "bed902bd",
   "metadata": {},
   "outputs": [],
   "source": [
    "n={2,9,9,282,3,5,7,8,9,9,5,7}"
   ]
  },
  {
   "cell_type": "code",
   "execution_count": null,
   "id": "cfe6b8bb",
   "metadata": {},
   "outputs": [],
   "source": [
    "len(n)"
   ]
  },
  {
   "cell_type": "code",
   "execution_count": null,
   "id": "954ed638",
   "metadata": {},
   "outputs": [],
   "source": [
    "n"
   ]
  },
  {
   "cell_type": "code",
   "execution_count": null,
   "id": "eb3ad843",
   "metadata": {},
   "outputs": [],
   "source": [
    "n"
   ]
  },
  {
   "cell_type": "code",
   "execution_count": null,
   "id": "feae2484",
   "metadata": {},
   "outputs": [],
   "source": [
    "a=[2,3,3,4,5]"
   ]
  },
  {
   "cell_type": "code",
   "execution_count": null,
   "id": "1c45870d",
   "metadata": {},
   "outputs": [],
   "source": [
    "a"
   ]
  },
  {
   "cell_type": "code",
   "execution_count": null,
   "id": "6193c986",
   "metadata": {},
   "outputs": [],
   "source": [
    "b=(2,5,7,8)"
   ]
  },
  {
   "cell_type": "code",
   "execution_count": null,
   "id": "cf22d2bc",
   "metadata": {},
   "outputs": [],
   "source": [
    "b"
   ]
  },
  {
   "cell_type": "code",
   "execution_count": null,
   "id": "f4159275",
   "metadata": {},
   "outputs": [],
   "source": [
    "b[0]"
   ]
  },
  {
   "cell_type": "code",
   "execution_count": null,
   "id": "258e6d3a",
   "metadata": {},
   "outputs": [],
   "source": [
    "a[0]"
   ]
  },
  {
   "cell_type": "code",
   "execution_count": null,
   "id": "04167857",
   "metadata": {},
   "outputs": [],
   "source": [
    "n[0]"
   ]
  },
  {
   "cell_type": "code",
   "execution_count": null,
   "id": "eef3cfdb",
   "metadata": {},
   "outputs": [],
   "source": [
    "set(list(n))"
   ]
  },
  {
   "cell_type": "code",
   "execution_count": null,
   "id": "704b768f",
   "metadata": {},
   "outputs": [],
   "source": [
    "n"
   ]
  },
  {
   "cell_type": "code",
   "execution_count": null,
   "id": "211e7d97",
   "metadata": {},
   "outputs": [],
   "source": [
    "type(n)"
   ]
  },
  {
   "cell_type": "code",
   "execution_count": null,
   "id": "df142333",
   "metadata": {},
   "outputs": [],
   "source": [
    "n.add(87)"
   ]
  },
  {
   "cell_type": "code",
   "execution_count": null,
   "id": "17a345d5",
   "metadata": {},
   "outputs": [],
   "source": [
    "n"
   ]
  },
  {
   "cell_type": "code",
   "execution_count": null,
   "id": "8f5a6e55",
   "metadata": {},
   "outputs": [],
   "source": [
    "n.remove(8)"
   ]
  },
  {
   "cell_type": "code",
   "execution_count": null,
   "id": "8fed9c58",
   "metadata": {},
   "outputs": [],
   "source": [
    "n"
   ]
  },
  {
   "cell_type": "code",
   "execution_count": null,
   "id": "b9ae2884",
   "metadata": {},
   "outputs": [],
   "source": [
    "n.insert(2,444)"
   ]
  },
  {
   "cell_type": "code",
   "execution_count": null,
   "id": "0f8737d5",
   "metadata": {},
   "outputs": [],
   "source": [
    "n.pop()"
   ]
  },
  {
   "cell_type": "code",
   "execution_count": null,
   "id": "b7a27f1f",
   "metadata": {},
   "outputs": [],
   "source": [
    "n"
   ]
  },
  {
   "cell_type": "code",
   "execution_count": null,
   "id": "46f8465c",
   "metadata": {},
   "outputs": [],
   "source": [
    "a"
   ]
  },
  {
   "cell_type": "code",
   "execution_count": null,
   "id": "dabebc0a",
   "metadata": {},
   "outputs": [],
   "source": [
    "b"
   ]
  },
  {
   "cell_type": "code",
   "execution_count": null,
   "id": "e1cdb6f1",
   "metadata": {},
   "outputs": [],
   "source": [
    "a.update(b)"
   ]
  },
  {
   "cell_type": "code",
   "execution_count": null,
   "id": "744592b7",
   "metadata": {},
   "outputs": [],
   "source": [
    "a={2,5,7,8,8,9}\n",
    "b={3,5,6,89,0}"
   ]
  },
  {
   "cell_type": "code",
   "execution_count": null,
   "id": "2c6c02ae",
   "metadata": {},
   "outputs": [],
   "source": [
    "a"
   ]
  },
  {
   "cell_type": "code",
   "execution_count": null,
   "id": "2927d7a0",
   "metadata": {},
   "outputs": [],
   "source": [
    "b"
   ]
  },
  {
   "cell_type": "code",
   "execution_count": null,
   "id": "fb09b5f3",
   "metadata": {},
   "outputs": [],
   "source": [
    "c=a.update(b)"
   ]
  },
  {
   "cell_type": "code",
   "execution_count": null,
   "id": "92d8c3e2",
   "metadata": {},
   "outputs": [],
   "source": [
    "c=a"
   ]
  },
  {
   "cell_type": "code",
   "execution_count": null,
   "id": "2d42d56b",
   "metadata": {},
   "outputs": [],
   "source": [
    "c"
   ]
  },
  {
   "cell_type": "code",
   "execution_count": null,
   "id": "0cde09d2",
   "metadata": {},
   "outputs": [],
   "source": [
    "a"
   ]
  },
  {
   "cell_type": "code",
   "execution_count": null,
   "id": "6b5eb07c",
   "metadata": {},
   "outputs": [],
   "source": [
    "a.append(a)"
   ]
  },
  {
   "cell_type": "code",
   "execution_count": null,
   "id": "af7c5074",
   "metadata": {},
   "outputs": [],
   "source": [
    "a"
   ]
  },
  {
   "cell_type": "code",
   "execution_count": null,
   "id": "be635595",
   "metadata": {},
   "outputs": [],
   "source": [
    "b"
   ]
  },
  {
   "cell_type": "code",
   "execution_count": null,
   "id": "1f8ebbc8",
   "metadata": {},
   "outputs": [],
   "source": [
    "a={4,5.5,'mahendra',8, 'mahendra'}"
   ]
  },
  {
   "cell_type": "code",
   "execution_count": null,
   "id": "b03475a9",
   "metadata": {},
   "outputs": [],
   "source": [
    "a"
   ]
  },
  {
   "cell_type": "code",
   "execution_count": null,
   "id": "091f7e51",
   "metadata": {},
   "outputs": [],
   "source": [
    "a[0]"
   ]
  },
  {
   "cell_type": "code",
   "execution_count": null,
   "id": "f2e62845",
   "metadata": {},
   "outputs": [],
   "source": [
    "a[:]"
   ]
  },
  {
   "cell_type": "code",
   "execution_count": null,
   "id": "d3737b6a",
   "metadata": {},
   "outputs": [],
   "source": [
    "tuple(a)"
   ]
  },
  {
   "cell_type": "code",
   "execution_count": null,
   "id": "2f315842",
   "metadata": {},
   "outputs": [],
   "source": [
    "a"
   ]
  },
  {
   "cell_type": "code",
   "execution_count": null,
   "id": "4896ee93",
   "metadata": {},
   "outputs": [],
   "source": [
    "a={2,5,6,8}\n",
    "b={4,5,9,8,8}\n",
    "a.intersection(b)"
   ]
  },
  {
   "cell_type": "code",
   "execution_count": null,
   "id": "9f00402b",
   "metadata": {},
   "outputs": [],
   "source": [
    "a.difference(b) #a-b"
   ]
  },
  {
   "cell_type": "code",
   "execution_count": null,
   "id": "07068413",
   "metadata": {},
   "outputs": [],
   "source": [
    "b.difference(a)"
   ]
  },
  {
   "cell_type": "code",
   "execution_count": null,
   "id": "17947ca4",
   "metadata": {},
   "outputs": [],
   "source": [
    "a.union(b)"
   ]
  },
  {
   "cell_type": "code",
   "execution_count": null,
   "id": "1ae32c7b",
   "metadata": {},
   "outputs": [],
   "source": [
    "a.unionall(b)"
   ]
  },
  {
   "cell_type": "code",
   "execution_count": null,
   "id": "fe363235",
   "metadata": {},
   "outputs": [],
   "source": [
    "d={}"
   ]
  },
  {
   "cell_type": "code",
   "execution_count": null,
   "id": "efba36fa",
   "metadata": {},
   "outputs": [],
   "source": [
    "type(d)"
   ]
  },
  {
   "cell_type": "code",
   "execution_count": null,
   "id": "2d6725b0",
   "metadata": {},
   "outputs": [],
   "source": [
    "d={'name': 'mahendra', 'age':98, 'location':'usa', 'name': 'something'}"
   ]
  },
  {
   "cell_type": "code",
   "execution_count": null,
   "id": "96769ef1",
   "metadata": {},
   "outputs": [],
   "source": [
    "d"
   ]
  },
  {
   "cell_type": "code",
   "execution_count": null,
   "id": "29dffbf8",
   "metadata": {},
   "outputs": [],
   "source": [
    "d['name']"
   ]
  },
  {
   "cell_type": "code",
   "execution_count": null,
   "id": "4a040c6d",
   "metadata": {},
   "outputs": [],
   "source": [
    "d['age']"
   ]
  },
  {
   "cell_type": "code",
   "execution_count": null,
   "id": "0a93f36a",
   "metadata": {},
   "outputs": [],
   "source": [
    "d['location']"
   ]
  },
  {
   "cell_type": "code",
   "execution_count": null,
   "id": "aa56a4d7",
   "metadata": {},
   "outputs": [],
   "source": [
    "d.keys()"
   ]
  },
  {
   "cell_type": "code",
   "execution_count": null,
   "id": "30f24e53",
   "metadata": {},
   "outputs": [],
   "source": [
    "d.values()"
   ]
  },
  {
   "cell_type": "code",
   "execution_count": null,
   "id": "7e01efc7",
   "metadata": {},
   "outputs": [],
   "source": [
    "d.items()"
   ]
  },
  {
   "cell_type": "code",
   "execution_count": null,
   "id": "797fa843",
   "metadata": {},
   "outputs": [],
   "source": [
    "d['location']='uk'"
   ]
  },
  {
   "cell_type": "code",
   "execution_count": null,
   "id": "35ad7a14",
   "metadata": {},
   "outputs": [],
   "source": [
    "d"
   ]
  },
  {
   "cell_type": "code",
   "execution_count": null,
   "id": "a902a4a5",
   "metadata": {},
   "outputs": [],
   "source": [
    "d['mobile_num']='898272772'"
   ]
  },
  {
   "cell_type": "code",
   "execution_count": null,
   "id": "2402f264",
   "metadata": {},
   "outputs": [],
   "source": [
    "d"
   ]
  },
  {
   "cell_type": "code",
   "execution_count": null,
   "id": "36d2d483",
   "metadata": {},
   "outputs": [],
   "source": [
    "d.pop('name')"
   ]
  },
  {
   "cell_type": "code",
   "execution_count": null,
   "id": "abd2e4a1",
   "metadata": {},
   "outputs": [],
   "source": [
    "d"
   ]
  },
  {
   "cell_type": "code",
   "execution_count": null,
   "id": "bd4be4d2",
   "metadata": {},
   "outputs": [],
   "source": [
    "d[0]"
   ]
  },
  {
   "cell_type": "code",
   "execution_count": null,
   "id": "a3e7e642",
   "metadata": {},
   "outputs": [],
   "source": [
    "i={x:x*x for x in a}"
   ]
  },
  {
   "cell_type": "code",
   "execution_count": null,
   "id": "b7f53155",
   "metadata": {},
   "outputs": [],
   "source": [
    "a"
   ]
  },
  {
   "cell_type": "code",
   "execution_count": null,
   "id": "5f21ae03",
   "metadata": {},
   "outputs": [],
   "source": [
    "type(i)"
   ]
  },
  {
   "cell_type": "code",
   "execution_count": null,
   "id": "aa8f28aa",
   "metadata": {},
   "outputs": [],
   "source": [
    "i"
   ]
  },
  {
   "cell_type": "code",
   "execution_count": null,
   "id": "37e5ecd8",
   "metadata": {},
   "outputs": [],
   "source": [
    "s=tuple(x for x in range(10))"
   ]
  },
  {
   "cell_type": "code",
   "execution_count": null,
   "id": "a631acc2",
   "metadata": {},
   "outputs": [],
   "source": [
    "s"
   ]
  },
  {
   "cell_type": "code",
   "execution_count": null,
   "id": "ec498398",
   "metadata": {},
   "outputs": [],
   "source": [
    "school={\n",
    "    'Class I': {'st1':\n",
    "                {'age':87,'name':872,'gender':'m'}, \n",
    "                'st2':{'name':'mahendra', 'age':87, 'gender':'m'}, \n",
    "                'st3':{'name':'algoa','age':73,'gender':'f'}\n",
    "               }, \n",
    "    'Class II': {\n",
    "        'st1':\n",
    "                 {\n",
    "        'name' : 'asome','age':72, 'gender':87, 'mob.num':2828272\n",
    "                 }, \n",
    "        'st2':{\n",
    "            'name':'amhge', 'age':27, 'fee':272227\n",
    "        },\n",
    "        'st3':{\n",
    "            'name':'alkg','age':28, 'address': 'aljglj'\n",
    "        },\n",
    "        'st4':{\n",
    "            'name':'alhg','age':22}\n",
    "    },\n",
    "    'ClassIII' : {'st1','st2','st3','st4','st5'}\n",
    "}"
   ]
  },
  {
   "cell_type": "code",
   "execution_count": null,
   "id": "80c666d8",
   "metadata": {},
   "outputs": [],
   "source": [
    "school"
   ]
  },
  {
   "cell_type": "code",
   "execution_count": null,
   "id": "2bd2b09a",
   "metadata": {},
   "outputs": [],
   "source": [
    "school['Class II']['st4']['age']=77"
   ]
  },
  {
   "cell_type": "code",
   "execution_count": null,
   "id": "db46fb5a",
   "metadata": {},
   "outputs": [],
   "source": [
    "school['Class II']['st4']['age']"
   ]
  },
  {
   "cell_type": "code",
   "execution_count": null,
   "id": "3c51f112",
   "metadata": {},
   "outputs": [],
   "source": [
    "school"
   ]
  },
  {
   "cell_type": "code",
   "execution_count": null,
   "id": "ca65d36e",
   "metadata": {},
   "outputs": [],
   "source": [
    "salary, employee_name,..............\n",
    "csv, orc, parquet,...........\n",
    "e........\n",
    ".........\n",
    "......\n",
    "salary:{.....................}"
   ]
  },
  {
   "cell_type": "code",
   "execution_count": null,
   "id": "c111c107",
   "metadata": {},
   "outputs": [],
   "source": [
    "import pandas as pd\n",
    "pd.DataFrame(school)"
   ]
  },
  {
   "cell_type": "code",
   "execution_count": null,
   "id": "c4d9dbee",
   "metadata": {},
   "outputs": [],
   "source": [
    "pd.DataFrame({'name':['mahendra','mahi'],'salary':[200]})"
   ]
  },
  {
   "cell_type": "code",
   "execution_count": null,
   "id": "37029d86",
   "metadata": {},
   "outputs": [],
   "source": [
    "a=[2,35,67,8,9,9,3,8,2,2,2]\n",
    "ans={}\n",
    "for i in a:\n",
    "    if i in ans:\n",
    "        ans[i]+=1\n",
    "    else:\n",
    "        ans[i]=1\n",
    "print(ans)"
   ]
  },
  {
   "cell_type": "code",
   "execution_count": null,
   "id": "83048602",
   "metadata": {},
   "outputs": [],
   "source": [
    "{2:.., 35:.., 67:............}"
   ]
  },
  {
   "cell_type": "code",
   "execution_count": null,
   "id": "a1b94f7c",
   "metadata": {},
   "outputs": [],
   "source": [
    "school.keys()"
   ]
  },
  {
   "cell_type": "code",
   "execution_count": null,
   "id": "07fe34ef",
   "metadata": {},
   "outputs": [],
   "source": [
    "school['Class I']"
   ]
  },
  {
   "cell_type": "code",
   "execution_count": null,
   "id": "f13f681b",
   "metadata": {},
   "outputs": [],
   "source": [
    "ans"
   ]
  },
  {
   "cell_type": "code",
   "execution_count": null,
   "id": "6baf061c",
   "metadata": {},
   "outputs": [],
   "source": [
    "ans.items()"
   ]
  },
  {
   "cell_type": "code",
   "execution_count": null,
   "id": "7ef93bc4",
   "metadata": {},
   "outputs": [],
   "source": [
    "ans.keys()"
   ]
  },
  {
   "cell_type": "code",
   "execution_count": null,
   "id": "681d96b6",
   "metadata": {},
   "outputs": [],
   "source": [
    "ans.values()"
   ]
  },
  {
   "cell_type": "code",
   "execution_count": null,
   "id": "a7968861",
   "metadata": {},
   "outputs": [],
   "source": [
    "for key, value in ans.items():\n",
    "    print(value, key)"
   ]
  },
  {
   "cell_type": "code",
   "execution_count": null,
   "id": "e8e1ef95",
   "metadata": {},
   "outputs": [],
   "source": [
    "for i in a:\n",
    "    pass"
   ]
  },
  {
   "cell_type": "code",
   "execution_count": null,
   "id": "66ab7e11",
   "metadata": {},
   "outputs": [],
   "source": [
    "p=[2,2,3]\n",
    "for i in p:\n",
    "    print(i)"
   ]
  },
  {
   "cell_type": "code",
   "execution_count": null,
   "id": "c0667522",
   "metadata": {},
   "outputs": [],
   "source": [
    "[x for x in range(20)]"
   ]
  },
  {
   "cell_type": "code",
   "execution_count": null,
   "id": "6b4df9e8",
   "metadata": {},
   "outputs": [],
   "source": [
    "{x:x for x in range(20)}"
   ]
  },
  {
   "cell_type": "code",
   "execution_count": null,
   "id": "7b7d6b20",
   "metadata": {},
   "outputs": [],
   "source": [
    "ans"
   ]
  },
  {
   "cell_type": "code",
   "execution_count": null,
   "id": "58951e19",
   "metadata": {},
   "outputs": [],
   "source": [
    "a={x:y for x, y in ans.items()}"
   ]
  },
  {
   "cell_type": "code",
   "execution_count": null,
   "id": "0537d33c",
   "metadata": {},
   "outputs": [],
   "source": [
    "a[2]"
   ]
  },
  {
   "cell_type": "code",
   "execution_count": null,
   "id": "28c9ea82",
   "metadata": {},
   "outputs": [],
   "source": [
    "a[2]=99"
   ]
  },
  {
   "cell_type": "code",
   "execution_count": null,
   "id": "44f47cde",
   "metadata": {},
   "outputs": [],
   "source": [
    "a[2]"
   ]
  },
  {
   "cell_type": "code",
   "execution_count": null,
   "id": "9cef7871",
   "metadata": {},
   "outputs": [],
   "source": [
    "{x:x**3 for x in range(5)}"
   ]
  },
  {
   "cell_type": "code",
   "execution_count": null,
   "id": "316455ac",
   "metadata": {},
   "outputs": [],
   "source": [
    "tuple(x for x in range(20))"
   ]
  },
  {
   "cell_type": "markdown",
   "id": "06a856a3",
   "metadata": {},
   "source": [
    "# Inbuilt functions"
   ]
  },
  {
   "cell_type": "code",
   "execution_count": null,
   "id": "271d8d39",
   "metadata": {},
   "outputs": [],
   "source": [
    "# i. type casting ---> int(), float(), str(),list(), tuple()...............\n",
    "# reading functions --> input(), print()\n",
    "#string functions--> len(), split(), append(), ord(), chr(),..........\n",
    "#math---> min(), max(), abs(), round(), floor(), sqrt(), \n",
    "#help(), dir(), sort(), sorted(), reverse(), reverse(), range(), .............."
   ]
  },
  {
   "cell_type": "code",
   "execution_count": null,
   "id": "9fbb04f4",
   "metadata": {},
   "outputs": [],
   "source": [
    "dir(__builtins__)"
   ]
  },
  {
   "cell_type": "code",
   "execution_count": null,
   "id": "32b87cfb",
   "metadata": {},
   "outputs": [],
   "source": [
    "import math"
   ]
  },
  {
   "cell_type": "code",
   "execution_count": null,
   "id": "b4fccb55",
   "metadata": {},
   "outputs": [],
   "source": [
    "dir(math)"
   ]
  },
  {
   "cell_type": "code",
   "execution_count": null,
   "id": "c537e38f",
   "metadata": {},
   "outputs": [],
   "source": [
    "dir('sqrt')"
   ]
  },
  {
   "cell_type": "code",
   "execution_count": null,
   "id": "a599f289",
   "metadata": {},
   "outputs": [],
   "source": [
    "math.sqrt(8)"
   ]
  },
  {
   "cell_type": "code",
   "execution_count": null,
   "id": "d5fce017",
   "metadata": {},
   "outputs": [],
   "source": [
    "import sys"
   ]
  },
  {
   "cell_type": "code",
   "execution_count": null,
   "id": "1723944e",
   "metadata": {},
   "outputs": [],
   "source": [
    "dir(sys)"
   ]
  },
  {
   "cell_type": "code",
   "execution_count": null,
   "id": "724d3eac",
   "metadata": {},
   "outputs": [],
   "source": [
    "import random"
   ]
  },
  {
   "cell_type": "code",
   "execution_count": null,
   "id": "84a05b15",
   "metadata": {},
   "outputs": [],
   "source": [
    "dir(random)"
   ]
  },
  {
   "cell_type": "code",
   "execution_count": null,
   "id": "8abdc5ef",
   "metadata": {},
   "outputs": [],
   "source": [
    "import numpy\n",
    "import pandas"
   ]
  },
  {
   "cell_type": "code",
   "execution_count": null,
   "id": "a41ead28",
   "metadata": {},
   "outputs": [],
   "source": [
    "import pandas as pd"
   ]
  },
  {
   "cell_type": "code",
   "execution_count": null,
   "id": "724f88cc",
   "metadata": {},
   "outputs": [],
   "source": [
    "dir(pandas)"
   ]
  },
  {
   "cell_type": "code",
   "execution_count": null,
   "id": "63571e91",
   "metadata": {},
   "outputs": [],
   "source": [
    "dir('Series')"
   ]
  },
  {
   "cell_type": "code",
   "execution_count": null,
   "id": "9989712a",
   "metadata": {},
   "outputs": [],
   "source": [
    "dir(numpy)"
   ]
  },
  {
   "cell_type": "markdown",
   "id": "9193b969",
   "metadata": {},
   "source": [
    "# User Defined functions"
   ]
  },
  {
   "cell_type": "code",
   "execution_count": null,
   "id": "c6dd6d5e",
   "metadata": {},
   "outputs": [],
   "source": [
    "def printing():\n",
    "    for i in range(20):\n",
    "        print(i)"
   ]
  },
  {
   "cell_type": "code",
   "execution_count": null,
   "id": "1f9e2225",
   "metadata": {},
   "outputs": [],
   "source": [
    "printing"
   ]
  },
  {
   "cell_type": "code",
   "execution_count": null,
   "id": "effd4fee",
   "metadata": {},
   "outputs": [],
   "source": [
    "def printf():\n",
    "    print()"
   ]
  },
  {
   "cell_type": "code",
   "execution_count": null,
   "id": "02f47599",
   "metadata": {},
   "outputs": [],
   "source": [
    "printf"
   ]
  },
  {
   "cell_type": "code",
   "execution_count": null,
   "id": "425d0eb5",
   "metadata": {},
   "outputs": [],
   "source": [
    "printing()"
   ]
  },
  {
   "cell_type": "code",
   "execution_count": null,
   "id": "a5720450",
   "metadata": {},
   "outputs": [],
   "source": [
    "def welcome():\n",
    "    print('hello welcome to python programming')\n",
    "    print('my name is something')"
   ]
  },
  {
   "cell_type": "code",
   "execution_count": null,
   "id": "0519b4b1",
   "metadata": {},
   "outputs": [],
   "source": [
    "welcome()"
   ]
  },
  {
   "cell_type": "code",
   "execution_count": null,
   "id": "cf0e8050",
   "metadata": {},
   "outputs": [],
   "source": [
    "welcome()"
   ]
  },
  {
   "cell_type": "code",
   "execution_count": null,
   "id": "f7e46bdd",
   "metadata": {},
   "outputs": [],
   "source": [
    "def mahendra():\n",
    "    print('hi my name is mahendra')\n",
    "    print(welcome())\n",
    "    return welcome()"
   ]
  },
  {
   "cell_type": "code",
   "execution_count": null,
   "id": "18a8e769",
   "metadata": {},
   "outputs": [],
   "source": [
    "mahendra()"
   ]
  },
  {
   "cell_type": "code",
   "execution_count": null,
   "id": "b534e74d",
   "metadata": {},
   "outputs": [],
   "source": [
    "def greeting():\n",
    "    print('hello')\n",
    "    return 'welcome'"
   ]
  },
  {
   "cell_type": "code",
   "execution_count": null,
   "id": "598cffe4",
   "metadata": {},
   "outputs": [],
   "source": [
    "greeting()"
   ]
  },
  {
   "cell_type": "code",
   "execution_count": null,
   "id": "10a6dee4",
   "metadata": {},
   "outputs": [],
   "source": [
    "def welcome():\n",
    "    return greeting()"
   ]
  },
  {
   "cell_type": "code",
   "execution_count": null,
   "id": "3791321c",
   "metadata": {},
   "outputs": [],
   "source": [
    "welcome()"
   ]
  },
  {
   "cell_type": "code",
   "execution_count": null,
   "id": "653fc556",
   "metadata": {},
   "outputs": [],
   "source": []
  },
  {
   "cell_type": "code",
   "execution_count": null,
   "id": "d98e0db2",
   "metadata": {},
   "outputs": [],
   "source": [
    "factorail()"
   ]
  },
  {
   "cell_type": "code",
   "execution_count": null,
   "id": "711beffb",
   "metadata": {},
   "outputs": [],
   "source": [
    "factorial=9"
   ]
  },
  {
   "cell_type": "code",
   "execution_count": null,
   "id": "6f23b21e",
   "metadata": {},
   "outputs": [],
   "source": [
    "math.factorial(8)"
   ]
  },
  {
   "cell_type": "code",
   "execution_count": null,
   "id": "19b05aa4",
   "metadata": {},
   "outputs": [],
   "source": [
    "factorial"
   ]
  },
  {
   "cell_type": "code",
   "execution_count": null,
   "id": "a58a112d",
   "metadata": {},
   "outputs": [],
   "source": [
    "def factorial(n):\n",
    "    return n"
   ]
  },
  {
   "cell_type": "code",
   "execution_count": null,
   "id": "1853006c",
   "metadata": {},
   "outputs": [],
   "source": [
    "factorial(6)"
   ]
  },
  {
   "cell_type": "code",
   "execution_count": null,
   "id": "7e461efd",
   "metadata": {},
   "outputs": [],
   "source": [
    "def mahi(x,y):\n",
    "    def mahi(o):\n",
    "        return o"
   ]
  },
  {
   "cell_type": "code",
   "execution_count": null,
   "id": "231a4cdc",
   "metadata": {},
   "outputs": [],
   "source": [
    "mahi(5,6)"
   ]
  },
  {
   "cell_type": "code",
   "execution_count": null,
   "id": "cc4b415b",
   "metadata": {},
   "outputs": [],
   "source": [
    "def mahi(x,y):\n",
    "    return 1\n",
    "def mahi3():\n",
    "    return 0"
   ]
  },
  {
   "cell_type": "code",
   "execution_count": null,
   "id": "db2f6689",
   "metadata": {},
   "outputs": [],
   "source": [
    "mahi3()"
   ]
  },
  {
   "cell_type": "code",
   "execution_count": null,
   "id": "d9465770",
   "metadata": {},
   "outputs": [],
   "source": [
    "mahi(8,9)"
   ]
  },
  {
   "cell_type": "code",
   "execution_count": null,
   "id": "97e574bb",
   "metadata": {},
   "outputs": [],
   "source": [
    "def addition(x,y,z):\n",
    "    return x+y+z"
   ]
  },
  {
   "cell_type": "code",
   "execution_count": null,
   "id": "bbc8761f",
   "metadata": {},
   "outputs": [],
   "source": [
    "addition(8,25,5)"
   ]
  },
  {
   "cell_type": "code",
   "execution_count": null,
   "id": "49973b8f",
   "metadata": {},
   "outputs": [],
   "source": [
    "def f(h):\n",
    "    return h*addition(u,i,o)"
   ]
  },
  {
   "cell_type": "code",
   "execution_count": null,
   "id": "c43e5d85",
   "metadata": {},
   "outputs": [],
   "source": [
    "f(8)"
   ]
  },
  {
   "cell_type": "code",
   "execution_count": null,
   "id": "3f210644",
   "metadata": {},
   "outputs": [],
   "source": [
    "u=9"
   ]
  },
  {
   "cell_type": "code",
   "execution_count": null,
   "id": "a2254d26",
   "metadata": {},
   "outputs": [],
   "source": [
    "i"
   ]
  },
  {
   "cell_type": "code",
   "execution_count": null,
   "id": "72ff879b",
   "metadata": {},
   "outputs": [],
   "source": [
    "o=8"
   ]
  },
  {
   "cell_type": "code",
   "execution_count": null,
   "id": "22cd339e",
   "metadata": {},
   "outputs": [],
   "source": [
    "def multiplication(e,f,g):\n",
    "    return e*f*g"
   ]
  },
  {
   "cell_type": "code",
   "execution_count": null,
   "id": "d6d56870",
   "metadata": {},
   "outputs": [],
   "source": [
    "e=2\n",
    "f=8\n",
    "g=8"
   ]
  },
  {
   "cell_type": "code",
   "execution_count": null,
   "id": "f4a4171e",
   "metadata": {},
   "outputs": [],
   "source": [
    "multiplication(e,f,g)"
   ]
  },
  {
   "cell_type": "code",
   "execution_count": null,
   "id": "2f0f78b0",
   "metadata": {},
   "outputs": [],
   "source": [
    "def welcome(x,y):\n",
    "    print(f' welcome {x} to the world of {y}')"
   ]
  },
  {
   "cell_type": "code",
   "execution_count": null,
   "id": "09a90b89",
   "metadata": {},
   "outputs": [],
   "source": [
    "welcome('mahendra', 'Python')"
   ]
  },
  {
   "cell_type": "code",
   "execution_count": null,
   "id": "ee8ccf38",
   "metadata": {},
   "outputs": [],
   "source": [
    "def fact(n):\n",
    "    fact=1\n",
    "    for i in range(1,n+1):\n",
    "        fact*=i\n",
    "    return fact"
   ]
  },
  {
   "cell_type": "code",
   "execution_count": null,
   "id": "f194a377",
   "metadata": {},
   "outputs": [],
   "source": [
    "fact(5)"
   ]
  },
  {
   "cell_type": "code",
   "execution_count": null,
   "id": "7ed12156",
   "metadata": {},
   "outputs": [],
   "source": [
    "n=int(input('enter n value:'))\n",
    "fact=1\n",
    "for i in range(1,n+1):\n",
    "    fact*=i\n",
    "print(fact)"
   ]
  },
  {
   "cell_type": "code",
   "execution_count": null,
   "id": "a141dc14",
   "metadata": {},
   "outputs": [],
   "source": [
    "def f(x):\n",
    "    return x*fact(3)"
   ]
  },
  {
   "cell_type": "code",
   "execution_count": null,
   "id": "a4f2a76e",
   "metadata": {},
   "outputs": [],
   "source": [
    "f(8)"
   ]
  },
  {
   "cell_type": "code",
   "execution_count": null,
   "id": "f1af695f",
   "metadata": {},
   "outputs": [],
   "source": [
    "fact(8)"
   ]
  },
  {
   "cell_type": "code",
   "execution_count": null,
   "id": "371db063",
   "metadata": {},
   "outputs": [],
   "source": [
    "dir(__builtins__)"
   ]
  },
  {
   "cell_type": "code",
   "execution_count": null,
   "id": "0f0ef241",
   "metadata": {},
   "outputs": [],
   "source": [
    "import sys\n",
    "print(sys.builtin_module_names)\n"
   ]
  },
  {
   "cell_type": "code",
   "execution_count": null,
   "id": "511a900e",
   "metadata": {},
   "outputs": [],
   "source": [
    "def prime_series(n):\n",
    "    \n",
    "    "
   ]
  },
  {
   "cell_type": "code",
   "execution_count": null,
   "id": "d1afadb7",
   "metadata": {},
   "outputs": [],
   "source": [
    "help()"
   ]
  },
  {
   "cell_type": "code",
   "execution_count": null,
   "id": "203af8f6",
   "metadata": {},
   "outputs": [],
   "source": [
    "a=10\n",
    "def f(x):\n",
    "    a=3\n",
    "    return a"
   ]
  },
  {
   "cell_type": "code",
   "execution_count": null,
   "id": "e962f076",
   "metadata": {},
   "outputs": [],
   "source": [
    "print(a)"
   ]
  },
  {
   "cell_type": "code",
   "execution_count": null,
   "id": "8e8e4356",
   "metadata": {},
   "outputs": [],
   "source": [
    "f(8)"
   ]
  },
  {
   "cell_type": "code",
   "execution_count": null,
   "id": "e468cef8",
   "metadata": {},
   "outputs": [],
   "source": [
    "a=8\n",
    "def addition(x,y):\n",
    "    return x+y+a"
   ]
  },
  {
   "cell_type": "code",
   "execution_count": null,
   "id": "756c27fa",
   "metadata": {},
   "outputs": [],
   "source": [
    "x=2\n",
    "y=5\n",
    "addition(x,y)"
   ]
  },
  {
   "cell_type": "code",
   "execution_count": null,
   "id": "ecf66c22",
   "metadata": {},
   "outputs": [],
   "source": [
    "a"
   ]
  },
  {
   "cell_type": "code",
   "execution_count": null,
   "id": "625c22c3",
   "metadata": {},
   "outputs": [],
   "source": [
    "del addition"
   ]
  },
  {
   "cell_type": "code",
   "execution_count": null,
   "id": "ffe5b0af",
   "metadata": {},
   "outputs": [],
   "source": [
    "addition(x,y)"
   ]
  },
  {
   "cell_type": "code",
   "execution_count": null,
   "id": "e95d9af8",
   "metadata": {},
   "outputs": [],
   "source": [
    "a"
   ]
  },
  {
   "cell_type": "code",
   "execution_count": null,
   "id": "2f373ef6",
   "metadata": {},
   "outputs": [],
   "source": [
    "del a"
   ]
  },
  {
   "cell_type": "code",
   "execution_count": null,
   "id": "a9e4dca2",
   "metadata": {},
   "outputs": [],
   "source": [
    "a"
   ]
  },
  {
   "cell_type": "code",
   "execution_count": null,
   "id": "8bab9dc9",
   "metadata": {},
   "outputs": [],
   "source": [
    "s=lambda x: x**2"
   ]
  },
  {
   "cell_type": "code",
   "execution_count": null,
   "id": "1fb4e4a2",
   "metadata": {},
   "outputs": [],
   "source": [
    "s"
   ]
  },
  {
   "cell_type": "code",
   "execution_count": null,
   "id": "8cba0768",
   "metadata": {},
   "outputs": [],
   "source": [
    "type(s)"
   ]
  },
  {
   "cell_type": "code",
   "execution_count": null,
   "id": "78330d7c",
   "metadata": {},
   "outputs": [],
   "source": [
    "def g(x):\n",
    "    return x+4\n",
    "def f(x):\n",
    "    a=g(x)\n",
    "    return a"
   ]
  },
  {
   "cell_type": "code",
   "execution_count": null,
   "id": "2d73c85b",
   "metadata": {},
   "outputs": [],
   "source": [
    "g(5)"
   ]
  },
  {
   "cell_type": "code",
   "execution_count": null,
   "id": "fe807a23",
   "metadata": {},
   "outputs": [],
   "source": [
    "f(9)"
   ]
  },
  {
   "cell_type": "code",
   "execution_count": null,
   "id": "0112d52d",
   "metadata": {},
   "outputs": [],
   "source": [
    "s(5)"
   ]
  },
  {
   "cell_type": "code",
   "execution_count": null,
   "id": "f0f7622d",
   "metadata": {},
   "outputs": [],
   "source": [
    "def power(x):\n",
    "    return x**2"
   ]
  },
  {
   "cell_type": "code",
   "execution_count": null,
   "id": "d1bc1dc6",
   "metadata": {},
   "outputs": [],
   "source": [
    "power(5)"
   ]
  },
  {
   "cell_type": "code",
   "execution_count": null,
   "id": "dd4309c5",
   "metadata": {},
   "outputs": [],
   "source": [
    "mul = lambda x,y,z: x*y*z\n",
    "mul2 = lambda m,x,y: m+x+y"
   ]
  },
  {
   "cell_type": "code",
   "execution_count": null,
   "id": "bacdff7c",
   "metadata": {},
   "outputs": [],
   "source": [
    "mul"
   ]
  },
  {
   "cell_type": "code",
   "execution_count": null,
   "id": "04e2cc0e",
   "metadata": {},
   "outputs": [],
   "source": [
    "x=20\n",
    "y=9\n",
    "z=8\n",
    "h= mul(x,y,z)\n",
    "print(h)"
   ]
  },
  {
   "cell_type": "code",
   "execution_count": null,
   "id": "e928f4d6",
   "metadata": {},
   "outputs": [],
   "source": [
    "mul2(3,5,9)"
   ]
  },
  {
   "cell_type": "code",
   "execution_count": null,
   "id": "ba6cb262",
   "metadata": {},
   "outputs": [],
   "source": [
    "h"
   ]
  },
  {
   "cell_type": "code",
   "execution_count": null,
   "id": "db33ed0d",
   "metadata": {},
   "outputs": [],
   "source": [
    "gh = lambda h:h*9"
   ]
  },
  {
   "cell_type": "code",
   "execution_count": null,
   "id": "af24cbd4",
   "metadata": {},
   "outputs": [],
   "source": [
    "gh(h)"
   ]
  },
  {
   "cell_type": "code",
   "execution_count": null,
   "id": "4b172a53",
   "metadata": {},
   "outputs": [],
   "source": [
    "tuple(map(lambda x:x**2, (22,)))"
   ]
  },
  {
   "cell_type": "code",
   "execution_count": null,
   "id": "686aafe3",
   "metadata": {},
   "outputs": [],
   "source": [
    "(9)"
   ]
  },
  {
   "cell_type": "code",
   "execution_count": null,
   "id": "c78397a5",
   "metadata": {},
   "outputs": [],
   "source": [
    "type((9,))"
   ]
  },
  {
   "cell_type": "code",
   "execution_count": null,
   "id": "b96c2755",
   "metadata": {},
   "outputs": [],
   "source": [
    "dict"
   ]
  },
  {
   "cell_type": "code",
   "execution_count": null,
   "id": "3548dc58",
   "metadata": {},
   "outputs": [],
   "source": [
    "salaries = [2000, 45000, 5000, 5000]\n",
    "(lambda x: x*0.9, salaries)"
   ]
  },
  {
   "cell_type": "code",
   "execution_count": null,
   "id": "9a608687",
   "metadata": {},
   "outputs": [],
   "source": [
    "help()"
   ]
  },
  {
   "cell_type": "code",
   "execution_count": null,
   "id": "b93c8bae",
   "metadata": {},
   "outputs": [],
   "source": [
    "a.py\n",
    "--task1\n",
    "b.py\n",
    "c.py\n",
    "d.py\n",
    "\n",
    "moudles==> variable, function, classes, ...............\n"
   ]
  },
  {
   "cell_type": "code",
   "execution_count": null,
   "id": "ebc626ca",
   "metadata": {},
   "outputs": [],
   "source": [
    "%%writefile ha.py\n",
    "a=0\n",
    "b=9\n",
    "c=25\n",
    "def f(x):\n",
    "    return x*7\n",
    "def g(x):\n",
    "    return x**2"
   ]
  },
  {
   "cell_type": "code",
   "execution_count": null,
   "id": "1c549411",
   "metadata": {},
   "outputs": [],
   "source": [
    "g(8)"
   ]
  },
  {
   "cell_type": "code",
   "execution_count": null,
   "id": "cd585a62",
   "metadata": {},
   "outputs": [],
   "source": [
    "import ha"
   ]
  },
  {
   "cell_type": "code",
   "execution_count": null,
   "id": "bb9a4900",
   "metadata": {},
   "outputs": [],
   "source": [
    "ha.a"
   ]
  },
  {
   "cell_type": "code",
   "execution_count": null,
   "id": "f8442f46",
   "metadata": {},
   "outputs": [],
   "source": [
    "from ha import c"
   ]
  },
  {
   "cell_type": "code",
   "execution_count": null,
   "id": "e7b04fc3",
   "metadata": {},
   "outputs": [],
   "source": [
    "c"
   ]
  },
  {
   "cell_type": "code",
   "execution_count": null,
   "id": "c850a028",
   "metadata": {},
   "outputs": [],
   "source": [
    "g(8)"
   ]
  },
  {
   "cell_type": "code",
   "execution_count": null,
   "id": "9ae84137",
   "metadata": {},
   "outputs": [],
   "source": [
    "ha.g(6)"
   ]
  },
  {
   "cell_type": "code",
   "execution_count": null,
   "id": "16ecd8cd",
   "metadata": {},
   "outputs": [],
   "source": [
    "f(200)"
   ]
  },
  {
   "cell_type": "code",
   "execution_count": null,
   "id": "f8f520ef",
   "metadata": {},
   "outputs": [],
   "source": [
    "from ha import f,g"
   ]
  },
  {
   "cell_type": "code",
   "execution_count": null,
   "id": "f0d7f963",
   "metadata": {},
   "outputs": [],
   "source": [
    "f(8)"
   ]
  },
  {
   "cell_type": "code",
   "execution_count": null,
   "id": "0dcacbe9",
   "metadata": {},
   "outputs": [],
   "source": [
    "g(7)"
   ]
  },
  {
   "cell_type": "code",
   "execution_count": null,
   "id": "f1318c08",
   "metadata": {},
   "outputs": [],
   "source": [
    "%%writefile mahi.py\n",
    "name = 'mahendra'\n",
    "age = 88\n",
    "def f(x):\n",
    "    return x*6\n",
    "def some(r):\n",
    "    return r"
   ]
  },
  {
   "cell_type": "code",
   "execution_count": null,
   "id": "677611b0",
   "metadata": {},
   "outputs": [],
   "source": [
    "a"
   ]
  },
  {
   "cell_type": "code",
   "execution_count": null,
   "id": "90f1d7d6",
   "metadata": {},
   "outputs": [],
   "source": [
    "name"
   ]
  },
  {
   "cell_type": "code",
   "execution_count": null,
   "id": "f111b7ea",
   "metadata": {},
   "outputs": [],
   "source": [
    "import mahi \n",
    "from mahi import some, f"
   ]
  },
  {
   "cell_type": "code",
   "execution_count": null,
   "id": "44f044f0",
   "metadata": {},
   "outputs": [],
   "source": [
    "age"
   ]
  },
  {
   "cell_type": "code",
   "execution_count": null,
   "id": "9b6a26e5",
   "metadata": {},
   "outputs": [],
   "source": [
    "f(7)"
   ]
  },
  {
   "cell_type": "code",
   "execution_count": null,
   "id": "41dec6c2",
   "metadata": {},
   "outputs": [],
   "source": [
    "some(5)"
   ]
  },
  {
   "cell_type": "code",
   "execution_count": null,
   "id": "12274b6b",
   "metadata": {},
   "outputs": [],
   "source": [
    "%%writefile mahi.py\n",
    "name = 'mahendra'\n",
    "age = 87\n",
    "location = 'usa'\n",
    "def work():\n",
    "    print('doing something')\n",
    "def f(x):\n",
    "    return x*7\n",
    "def g(y):\n",
    "    return y**2\n",
    "def gh(h):\n",
    "    print(f'{h} is doing nothing')\n",
    "work()\n",
    "f(7)\n",
    "g(3)\n",
    "gh('mahendra')\n"
   ]
  },
  {
   "cell_type": "code",
   "execution_count": null,
   "id": "e98d23c4",
   "metadata": {},
   "outputs": [],
   "source": [
    "!python mahi.py"
   ]
  },
  {
   "cell_type": "code",
   "execution_count": null,
   "id": "c663f37c",
   "metadata": {},
   "outputs": [],
   "source": [
    "!mkdir hari"
   ]
  },
  {
   "cell_type": "code",
   "execution_count": null,
   "id": "37168c7f",
   "metadata": {},
   "outputs": [],
   "source": [
    "import os"
   ]
  },
  {
   "cell_type": "code",
   "execution_count": null,
   "id": "f985d9a1",
   "metadata": {},
   "outputs": [],
   "source": [
    "os.mkdir('mahendra')"
   ]
  },
  {
   "cell_type": "code",
   "execution_count": 1,
   "id": "5e574089",
   "metadata": {},
   "outputs": [
    {
     "name": "stdout",
     "output_type": "stream",
     "text": [
      "Overwriting hari/a.py\n"
     ]
    }
   ],
   "source": [
    "%%writefile hari/a.py\n",
    "a=49\n",
    "g=20\n",
    "g=99"
   ]
  },
  {
   "cell_type": "code",
   "execution_count": null,
   "id": "14ed6c61",
   "metadata": {},
   "outputs": [],
   "source": [
    "%%writefile hari/b.py\n",
    "name = 'mahendra'\n",
    "age = 98\n",
    "def work():\n",
    "    print('something')"
   ]
  },
  {
   "cell_type": "code",
   "execution_count": null,
   "id": "77ae6dfb",
   "metadata": {},
   "outputs": [],
   "source": [
    "age"
   ]
  },
  {
   "cell_type": "code",
   "execution_count": null,
   "id": "7a7cd014",
   "metadata": {},
   "outputs": [],
   "source": [
    "import b"
   ]
  },
  {
   "cell_type": "code",
   "execution_count": null,
   "id": "98681052",
   "metadata": {},
   "outputs": [],
   "source": [
    "import hari"
   ]
  },
  {
   "cell_type": "code",
   "execution_count": null,
   "id": "2a8fbd94",
   "metadata": {},
   "outputs": [],
   "source": [
    "from hari import b"
   ]
  },
  {
   "cell_type": "code",
   "execution_count": null,
   "id": "9f7eee16",
   "metadata": {},
   "outputs": [],
   "source": [
    "b.age"
   ]
  },
  {
   "cell_type": "code",
   "execution_count": null,
   "id": "15768f7c",
   "metadata": {},
   "outputs": [],
   "source": [
    "b.work()"
   ]
  },
  {
   "cell_type": "code",
   "execution_count": null,
   "id": "dfc0a3a6",
   "metadata": {},
   "outputs": [],
   "source": [
    "import a"
   ]
  },
  {
   "cell_type": "code",
   "execution_count": null,
   "id": "531fd700",
   "metadata": {},
   "outputs": [],
   "source": [
    "import hari.a"
   ]
  },
  {
   "cell_type": "code",
   "execution_count": null,
   "id": "28bb90ca",
   "metadata": {},
   "outputs": [],
   "source": [
    "hari.a.a"
   ]
  },
  {
   "cell_type": "code",
   "execution_count": null,
   "id": "2300238d",
   "metadata": {},
   "outputs": [],
   "source": [
    "from hari import a"
   ]
  },
  {
   "cell_type": "code",
   "execution_count": null,
   "id": "81a72909",
   "metadata": {},
   "outputs": [],
   "source": [
    "a.a"
   ]
  },
  {
   "cell_type": "code",
   "execution_count": null,
   "id": "524592f3",
   "metadata": {},
   "outputs": [],
   "source": [
    "a.g"
   ]
  },
  {
   "cell_type": "code",
   "execution_count": 6,
   "id": "6ad18fa6",
   "metadata": {},
   "outputs": [],
   "source": [
    "from hari.a import a,g"
   ]
  },
  {
   "cell_type": "code",
   "execution_count": 4,
   "id": "b419c10b",
   "metadata": {},
   "outputs": [
    {
     "data": {
      "text/plain": [
       "99"
      ]
     },
     "execution_count": 4,
     "metadata": {},
     "output_type": "execute_result"
    }
   ],
   "source": [
    "g"
   ]
  },
  {
   "cell_type": "code",
   "execution_count": null,
   "id": "77b54873",
   "metadata": {},
   "outputs": [],
   "source": [
    "g(8)"
   ]
  },
  {
   "cell_type": "code",
   "execution_count": null,
   "id": "fe258497",
   "metadata": {},
   "outputs": [],
   "source": [
    "g(8)"
   ]
  },
  {
   "cell_type": "code",
   "execution_count": null,
   "id": "9aead0ba",
   "metadata": {},
   "outputs": [],
   "source": []
  },
  {
   "cell_type": "code",
   "execution_count": null,
   "id": "660832f3",
   "metadata": {},
   "outputs": [],
   "source": [
    "f(76)"
   ]
  },
  {
   "cell_type": "code",
   "execution_count": 7,
   "id": "e7c29688",
   "metadata": {},
   "outputs": [
    {
     "name": "stdout",
     "output_type": "stream",
     "text": [
      "Writing hari/hari2/mahi.py\n"
     ]
    }
   ],
   "source": [
    "%%writefile hari/hari2/mahi.py\n",
    "a=9\n",
    "b=200\n",
    "def f(x):\n",
    "    return x"
   ]
  },
  {
   "cell_type": "code",
   "execution_count": 8,
   "id": "e556f915",
   "metadata": {},
   "outputs": [],
   "source": [
    "import hari.hari2"
   ]
  },
  {
   "cell_type": "code",
   "execution_count": 9,
   "id": "79613fa8",
   "metadata": {},
   "outputs": [],
   "source": [
    "from hari.hari2 import mahi"
   ]
  },
  {
   "cell_type": "code",
   "execution_count": 10,
   "id": "eb8f81b2",
   "metadata": {},
   "outputs": [
    {
     "data": {
      "text/plain": [
       "9"
      ]
     },
     "execution_count": 10,
     "metadata": {},
     "output_type": "execute_result"
    }
   ],
   "source": [
    "mahi.a"
   ]
  },
  {
   "cell_type": "code",
   "execution_count": 12,
   "id": "4018bd82",
   "metadata": {},
   "outputs": [
    {
     "name": "stdout",
     "output_type": "stream",
     "text": [
      "Writing hari/hari2/mahi2.py\n"
     ]
    }
   ],
   "source": [
    "%%writefile hari/hari2/mahi2.py\n",
    "a=9\n",
    "b=200\n",
    "def f(x):\n",
    "    return x"
   ]
  },
  {
   "cell_type": "code",
   "execution_count": null,
   "id": "79c8717e",
   "metadata": {},
   "outputs": [],
   "source": [
    "pip install pandas "
   ]
  },
  {
   "cell_type": "code",
   "execution_count": 13,
   "id": "7ded2d34",
   "metadata": {},
   "outputs": [],
   "source": [
    "import datetime"
   ]
  },
  {
   "cell_type": "code",
   "execution_count": 14,
   "id": "24bbe0ec",
   "metadata": {},
   "outputs": [
    {
     "ename": "AttributeError",
     "evalue": "module 'datetime' has no attribute 'now'",
     "output_type": "error",
     "traceback": [
      "\u001b[1;31m---------------------------------------------------------------------------\u001b[0m",
      "\u001b[1;31mAttributeError\u001b[0m                            Traceback (most recent call last)",
      "Cell \u001b[1;32mIn[14], line 1\u001b[0m\n\u001b[1;32m----> 1\u001b[0m \u001b[43mdatetime\u001b[49m\u001b[38;5;241;43m.\u001b[39;49m\u001b[43mnow\u001b[49m()\n",
      "\u001b[1;31mAttributeError\u001b[0m: module 'datetime' has no attribute 'now'"
     ]
    }
   ],
   "source": [
    "datetime.now()"
   ]
  },
  {
   "cell_type": "code",
   "execution_count": 15,
   "id": "bfb0f8b0",
   "metadata": {},
   "outputs": [],
   "source": [
    "from datetime import datetime"
   ]
  },
  {
   "cell_type": "code",
   "execution_count": 16,
   "id": "fe4e05c6",
   "metadata": {},
   "outputs": [
    {
     "data": {
      "text/plain": [
       "datetime.datetime(2025, 3, 18, 19, 14, 24, 194266)"
      ]
     },
     "execution_count": 16,
     "metadata": {},
     "output_type": "execute_result"
    }
   ],
   "source": [
    "datetime.now()"
   ]
  },
  {
   "cell_type": "code",
   "execution_count": 17,
   "id": "e6af559d",
   "metadata": {},
   "outputs": [
    {
     "data": {
      "text/plain": [
       "['__add__',\n",
       " '__class__',\n",
       " '__delattr__',\n",
       " '__dir__',\n",
       " '__doc__',\n",
       " '__eq__',\n",
       " '__format__',\n",
       " '__ge__',\n",
       " '__getattribute__',\n",
       " '__gt__',\n",
       " '__hash__',\n",
       " '__init__',\n",
       " '__init_subclass__',\n",
       " '__le__',\n",
       " '__lt__',\n",
       " '__ne__',\n",
       " '__new__',\n",
       " '__radd__',\n",
       " '__reduce__',\n",
       " '__reduce_ex__',\n",
       " '__repr__',\n",
       " '__rsub__',\n",
       " '__setattr__',\n",
       " '__sizeof__',\n",
       " '__str__',\n",
       " '__sub__',\n",
       " '__subclasshook__',\n",
       " 'astimezone',\n",
       " 'combine',\n",
       " 'ctime',\n",
       " 'date',\n",
       " 'day',\n",
       " 'dst',\n",
       " 'fold',\n",
       " 'fromisocalendar',\n",
       " 'fromisoformat',\n",
       " 'fromordinal',\n",
       " 'fromtimestamp',\n",
       " 'hour',\n",
       " 'isocalendar',\n",
       " 'isoformat',\n",
       " 'isoweekday',\n",
       " 'max',\n",
       " 'microsecond',\n",
       " 'min',\n",
       " 'minute',\n",
       " 'month',\n",
       " 'now',\n",
       " 'replace',\n",
       " 'resolution',\n",
       " 'second',\n",
       " 'strftime',\n",
       " 'strptime',\n",
       " 'time',\n",
       " 'timestamp',\n",
       " 'timetuple',\n",
       " 'timetz',\n",
       " 'today',\n",
       " 'toordinal',\n",
       " 'tzinfo',\n",
       " 'tzname',\n",
       " 'utcfromtimestamp',\n",
       " 'utcnow',\n",
       " 'utcoffset',\n",
       " 'utctimetuple',\n",
       " 'weekday',\n",
       " 'year']"
      ]
     },
     "execution_count": 17,
     "metadata": {},
     "output_type": "execute_result"
    }
   ],
   "source": [
    "dir(datetime)"
   ]
  },
  {
   "cell_type": "code",
   "execution_count": 18,
   "id": "8e759ba7",
   "metadata": {},
   "outputs": [
    {
     "data": {
      "text/plain": [
       "['__add__',\n",
       " '__class__',\n",
       " '__contains__',\n",
       " '__delattr__',\n",
       " '__dir__',\n",
       " '__doc__',\n",
       " '__eq__',\n",
       " '__format__',\n",
       " '__ge__',\n",
       " '__getattribute__',\n",
       " '__getitem__',\n",
       " '__getnewargs__',\n",
       " '__gt__',\n",
       " '__hash__',\n",
       " '__init__',\n",
       " '__init_subclass__',\n",
       " '__iter__',\n",
       " '__le__',\n",
       " '__len__',\n",
       " '__lt__',\n",
       " '__mod__',\n",
       " '__mul__',\n",
       " '__ne__',\n",
       " '__new__',\n",
       " '__reduce__',\n",
       " '__reduce_ex__',\n",
       " '__repr__',\n",
       " '__rmod__',\n",
       " '__rmul__',\n",
       " '__setattr__',\n",
       " '__sizeof__',\n",
       " '__str__',\n",
       " '__subclasshook__',\n",
       " 'capitalize',\n",
       " 'casefold',\n",
       " 'center',\n",
       " 'count',\n",
       " 'encode',\n",
       " 'endswith',\n",
       " 'expandtabs',\n",
       " 'find',\n",
       " 'format',\n",
       " 'format_map',\n",
       " 'index',\n",
       " 'isalnum',\n",
       " 'isalpha',\n",
       " 'isascii',\n",
       " 'isdecimal',\n",
       " 'isdigit',\n",
       " 'isidentifier',\n",
       " 'islower',\n",
       " 'isnumeric',\n",
       " 'isprintable',\n",
       " 'isspace',\n",
       " 'istitle',\n",
       " 'isupper',\n",
       " 'join',\n",
       " 'ljust',\n",
       " 'lower',\n",
       " 'lstrip',\n",
       " 'maketrans',\n",
       " 'partition',\n",
       " 'removeprefix',\n",
       " 'removesuffix',\n",
       " 'replace',\n",
       " 'rfind',\n",
       " 'rindex',\n",
       " 'rjust',\n",
       " 'rpartition',\n",
       " 'rsplit',\n",
       " 'rstrip',\n",
       " 'split',\n",
       " 'splitlines',\n",
       " 'startswith',\n",
       " 'strip',\n",
       " 'swapcase',\n",
       " 'title',\n",
       " 'translate',\n",
       " 'upper',\n",
       " 'zfill']"
      ]
     },
     "execution_count": 18,
     "metadata": {},
     "output_type": "execute_result"
    }
   ],
   "source": [
    "dir('year')"
   ]
  },
  {
   "cell_type": "markdown",
   "id": "424adfa9",
   "metadata": {},
   "source": [
    "# file handing"
   ]
  },
  {
   "cell_type": "code",
   "execution_count": 21,
   "id": "6b2e255d",
   "metadata": {},
   "outputs": [],
   "source": [
    "# open, close\n",
    "#read, write\n",
    "#modes==> r, w, a, r+, w+, a+\n",
    "#seek(0) ==> file pointer enter into begin of the file"
   ]
  },
  {
   "cell_type": "code",
   "execution_count": 23,
   "id": "c05c2690",
   "metadata": {},
   "outputs": [
    {
     "name": "stdout",
     "output_type": "stream",
     "text": [
      "a=49\n",
      "g=20\n",
      "g=99\n",
      "\n"
     ]
    }
   ],
   "source": [
    "a=open('hari/a.py', 'r')\n",
    "print(a.read())\n",
    "a.close()\n"
   ]
  },
  {
   "cell_type": "code",
   "execution_count": 37,
   "id": "bcf59da8",
   "metadata": {},
   "outputs": [],
   "source": [
    "a=open('hari/a.py', 'a+')\n",
    "b=a.write('hello welcome to 222\\n')\n",
    "a.close()"
   ]
  },
  {
   "cell_type": "code",
   "execution_count": 43,
   "id": "58631fed",
   "metadata": {},
   "outputs": [],
   "source": [
    "with open('hari/a.py', 'a') as file:\n",
    "    file.seek(0)\n",
    "    file.write('new things\\n')"
   ]
  },
  {
   "cell_type": "code",
   "execution_count": 31,
   "id": "23b05878",
   "metadata": {},
   "outputs": [],
   "source": [
    "with open('mahi.txt', 'w') as file:\n",
    "    file.write('hello mahendra welcome to the world of programming')"
   ]
  },
  {
   "cell_type": "code",
   "execution_count": 32,
   "id": "14100bee",
   "metadata": {},
   "outputs": [
    {
     "name": "stdout",
     "output_type": "stream",
     "text": [
      "\n"
     ]
    }
   ],
   "source": [
    "with open('mahi.txt', 'r+') as file:\n",
    "    x=file.read()\n",
    "    y=x.replace('mahendra', 'mahindra')\n",
    "    file.seek(0)\n",
    "#     file.write(y)\n",
    "#     file.truncate()\n",
    "    a=file.write(y)\n",
    "    print(file.read())\n"
   ]
  },
  {
   "cell_type": "code",
   "execution_count": 34,
   "id": "8490b1bc",
   "metadata": {},
   "outputs": [],
   "source": [
    "# try:\n",
    "#     code write block\n",
    "# except:\n",
    "#     print('lkjogkj')"
   ]
  },
  {
   "cell_type": "code",
   "execution_count": 38,
   "id": "0cc0bf48",
   "metadata": {},
   "outputs": [],
   "source": [
    "a=open(r\"C:\\Users\\mahen\\Desktop\\gg.sql\")"
   ]
  },
  {
   "cell_type": "code",
   "execution_count": 39,
   "id": "57a8b0ca",
   "metadata": {},
   "outputs": [
    {
     "name": "stdout",
     "output_type": "stream",
     "text": [
      "\n",
      "--Q) How Do you handle null values or missing values or inconsistent \n",
      "---values in a table that stays in a DB. \n",
      "\n",
      "--isnull\n",
      "---coalesce\n",
      "--- conditional statements\n",
      "\n",
      "select * from empss \n",
      "\n",
      "select count(employee_name) from empss \n",
      "\n",
      "select isnull(null, 9)\n",
      "\n",
      "\n",
      "select employee_id, isnull(employee_name, 'unknown'), isnull(age, 19), \n",
      "isnull(department, 'IT'), isnull(salary, 10000) from empss\n",
      "\n",
      "select employee_id, coalesce(employee_name, department, 'unknown'), \n",
      "coalesce(age, employee_id *10, 20), coalesce(department, 'IT'), coalesce(salary, \n",
      "employee_id *1000, age * 100, 30000) from empss \n",
      "\n",
      "select coalesce(null, null, null, 10, 30)\n",
      "\n",
      "select employee_id, \n",
      "\tcase when employee_name is null or department is null \n",
      "\t\tthen 'unknown' else employee_name end as employee_name, \n",
      "\tcase when age is null then 28 else age end as age, \n",
      "\tcase when department is null and employee_name is null then 'IT' \n",
      "\t\twhen department is null then 'Sales' \n",
      "\t\telse department end as department, \n",
      "\tcase when salary is null then 78000 else salary end as salary from empss \n",
      "\n",
      "\n",
      "\n",
      "-- Create Orders Table\n",
      "CREATE TABLE orders (\n",
      "    order_id INT PRIMARY KEY,\n",
      "    customer_id INT,\n",
      "    order_date DATE,\n",
      "    total_amount DECIMAL(10,2),\n",
      "    FOREIGN KEY (customer_id) REFERENCES customers(customer_id)\n",
      ");\n",
      "\n",
      "-- Insert Sample Data into Orders\n",
      "INSERT INTO orders (order_id, customer_id, order_date, total_amount) VALUES\n",
      "(101, 1, '2025-03-01', 150.0),\n",
      "(102, 1, '2025-03-05', 200.0),\n",
      "(103, 2, '2025-03-02', 250.0),\n",
      "(104, 2, '2025-03-06', 300.0),\n",
      "(105, 3, '2025-03-03', 100.0),\n",
      "(106,1, '2025-03-08', 240.0);\n",
      "\n",
      "\n",
      "--- Variable Declarations in SQL\n",
      "===================================\n",
      "\n",
      "declare @x int;\n",
      "set @x = 8\n",
      "select @x=30\n",
      "select @x\n",
      "\n",
      "select * from employees where \n",
      "\n",
      "\n",
      "\n",
      "\n",
      "create function fa(@x int, @y int)\n",
      "returns int\n",
      "as \n",
      "begin\n",
      "return @x+@y\n",
      "end \n",
      "\n",
      "select dbo.fa(2,3)\n",
      "\n",
      "-------------\n",
      "use dataanalyst \n",
      "\n",
      "\n",
      "\n",
      "\n",
      "\n",
      "\n",
      "\n",
      "\n",
      "create table family_members(id int, name varchar(20), earnings_per_month int)\n",
      "\n",
      "insert into family_members values (1, 'gowtham', 50000),\n",
      "(2, 'harshini', 74000), (3, 'balu', 45000), \n",
      "(4, 'gowramma', 3000), (5, 'ravesh', 12000), (6, 'eswari', 5000)\n",
      "--Q) Return The Percentage of earnings Contributed by The top 2 highest earners in the family.  \n",
      "\n",
      "select * from family_members\n",
      "\n",
      "with cte as(\n",
      "select top 2 * from family_members order by earnings_per_month desc )\n",
      "select sum(earnings_per_month) *100.0 / (select sum(earnings_per_month) from \n",
      "family_members) from cte \n",
      "\n",
      "with cte as(\n",
      "select *, dense_rank() over(order by earnings_per_month desc) drnk from family_members)\n",
      ",cte1 as(\n",
      "select id, name, earnings_per_month from cte where drnk <=2 )\n",
      "select sum(earnings_per_month) *100.0 / (select sum(earnings_per_month) from \n",
      "family_members ) from cte1 \n",
      "\n",
      "1,2,3 ==> 20000\n",
      "4 ==> 18000\n",
      "\n",
      "\n",
      "\n",
      "\n",
      "\n",
      "\n",
      "\n",
      "\n",
      "\n",
      "\n",
      "\n",
      "\n",
      "\n",
      "\n",
      "select * from employee_details\n",
      "\n",
      "with cte as(\n",
      "\n",
      "\n",
      "select * from (\n",
      "select *, rank() over(partition by department order by age desc) as rnk from \n",
      "employee_details )a where a.rnk =1somethingsomethingsomethingsomethingcreate table mahi(id int, name varchar(20))create table mahi(id int, name varchar(20))\n",
      "create table mahi(id int, name varchar(20))\n"
     ]
    }
   ],
   "source": [
    "print(a.read())"
   ]
  },
  {
   "cell_type": "code",
   "execution_count": 40,
   "id": "6938ac4d",
   "metadata": {},
   "outputs": [],
   "source": [
    "data = {'name': ['mahendra', 'mahi'], 'age': [20, 50]}"
   ]
  },
  {
   "cell_type": "code",
   "execution_count": 2,
   "id": "6f5a5451",
   "metadata": {
    "scrolled": false
   },
   "outputs": [],
   "source": [
    "import pandas as pd"
   ]
  },
  {
   "cell_type": "code",
   "execution_count": 44,
   "id": "522a6a69",
   "metadata": {},
   "outputs": [],
   "source": [
    "df=pd.DataFrame(data)"
   ]
  },
  {
   "cell_type": "code",
   "execution_count": 45,
   "id": "ec44fff9",
   "metadata": {},
   "outputs": [
    {
     "data": {
      "text/html": [
       "<div>\n",
       "<style scoped>\n",
       "    .dataframe tbody tr th:only-of-type {\n",
       "        vertical-align: middle;\n",
       "    }\n",
       "\n",
       "    .dataframe tbody tr th {\n",
       "        vertical-align: top;\n",
       "    }\n",
       "\n",
       "    .dataframe thead th {\n",
       "        text-align: right;\n",
       "    }\n",
       "</style>\n",
       "<table border=\"1\" class=\"dataframe\">\n",
       "  <thead>\n",
       "    <tr style=\"text-align: right;\">\n",
       "      <th></th>\n",
       "      <th>name</th>\n",
       "      <th>age</th>\n",
       "    </tr>\n",
       "  </thead>\n",
       "  <tbody>\n",
       "    <tr>\n",
       "      <th>0</th>\n",
       "      <td>mahendra</td>\n",
       "      <td>20</td>\n",
       "    </tr>\n",
       "    <tr>\n",
       "      <th>1</th>\n",
       "      <td>mahi</td>\n",
       "      <td>50</td>\n",
       "    </tr>\n",
       "  </tbody>\n",
       "</table>\n",
       "</div>"
      ],
      "text/plain": [
       "       name  age\n",
       "0  mahendra   20\n",
       "1      mahi   50"
      ]
     },
     "execution_count": 45,
     "metadata": {},
     "output_type": "execute_result"
    }
   ],
   "source": [
    "df"
   ]
  },
  {
   "cell_type": "code",
   "execution_count": 55,
   "id": "11f9c25a",
   "metadata": {},
   "outputs": [],
   "source": [
    "df.to_csv(r\"C:\\Users\\mahen\\Desktop\\python\\data.xlsx\")"
   ]
  },
  {
   "cell_type": "code",
   "execution_count": 71,
   "id": "3cc0952a",
   "metadata": {},
   "outputs": [
    {
     "name": "stdout",
     "output_type": "stream",
     "text": [
      "file exists\n",
      ",name,age\n",
      "0,mahendra,20\n",
      "1,mahi,50\n",
      "\n",
      "code executed successfully\n"
     ]
    }
   ],
   "source": [
    "try:\n",
    "    a= open(r'C:\\Users\\mahen\\Desktop\\python\\data.xlsx', 'r')\n",
    "#     print(a.read())\n",
    "except FileNotFoundError:\n",
    "    print('file not found')\n",
    "except Exception as e:\n",
    "    print(f'error occured due to {e}')\n",
    "except:\n",
    "    print('file not found error')\n",
    "else:\n",
    "    print('file exists')\n",
    "    print(a.read())\n",
    "finally:\n",
    "    print('code executed successfully')"
   ]
  },
  {
   "cell_type": "code",
   "execution_count": 112,
   "id": "d280bab8",
   "metadata": {},
   "outputs": [
    {
     "name": "stdout",
     "output_type": "stream",
     "text": [
      "value mismatiching\n"
     ]
    }
   ],
   "source": [
    "try:\n",
    "    result =int('mahendra')\n",
    "#         print(result)\n",
    "except ValueError:\n",
    "    print('value mismatiching')\n",
    "except TypeError:\n",
    "    print('error ah')\n",
    "except Exception as e:\n",
    "    print(f'error occured{e}')\n",
    "except:\n",
    "    print('error')"
   ]
  },
  {
   "cell_type": "code",
   "execution_count": 135,
   "id": "44bb4f5d",
   "metadata": {},
   "outputs": [],
   "source": [
    "def f(x,y):\n",
    "    try:\n",
    "        result= x/y\n",
    "    except TypeError:\n",
    "        print('type error')\n",
    "    except ValueError:\n",
    "        print('value error')\n",
    "    except Exception as e:\n",
    "        print(f'error occured {e}')\n",
    "    except:\n",
    "        print('error')"
   ]
  },
  {
   "cell_type": "code",
   "execution_count": 137,
   "id": "8f5146b2",
   "metadata": {},
   "outputs": [
    {
     "name": "stdout",
     "output_type": "stream",
     "text": [
      "error occured division by zero\n"
     ]
    }
   ],
   "source": [
    "f(9, 0)"
   ]
  },
  {
   "cell_type": "code",
   "execution_count": 125,
   "id": "02cd8c3b",
   "metadata": {},
   "outputs": [],
   "source": [
    "def f(x,y):\n",
    "    print(x/y)"
   ]
  },
  {
   "cell_type": "code",
   "execution_count": 126,
   "id": "e6707fc4",
   "metadata": {},
   "outputs": [
    {
     "name": "stdout",
     "output_type": "stream",
     "text": [
      "0.8\n"
     ]
    }
   ],
   "source": [
    "f(4,5)"
   ]
  },
  {
   "cell_type": "code",
   "execution_count": 122,
   "id": "bf73212d",
   "metadata": {},
   "outputs": [
    {
     "ename": "TypeError",
     "evalue": "unsupported operand type(s) for /: 'int' and 'str'",
     "output_type": "error",
     "traceback": [
      "\u001b[1;31m---------------------------------------------------------------------------\u001b[0m",
      "\u001b[1;31mTypeError\u001b[0m                                 Traceback (most recent call last)",
      "Cell \u001b[1;32mIn[122], line 1\u001b[0m\n\u001b[1;32m----> 1\u001b[0m \u001b[43mf\u001b[49m\u001b[43m(\u001b[49m\u001b[38;5;241;43m4\u001b[39;49m\u001b[43m,\u001b[49m\u001b[38;5;124;43m'\u001b[39;49m\u001b[38;5;124;43mmahi\u001b[39;49m\u001b[38;5;124;43m'\u001b[39;49m\u001b[43m)\u001b[49m\n",
      "Cell \u001b[1;32mIn[120], line 2\u001b[0m, in \u001b[0;36mf\u001b[1;34m(x, y)\u001b[0m\n\u001b[0;32m      1\u001b[0m \u001b[38;5;28;01mdef\u001b[39;00m \u001b[38;5;21mf\u001b[39m(x,y):\n\u001b[1;32m----> 2\u001b[0m     \u001b[38;5;28mprint\u001b[39m(\u001b[43mx\u001b[49m\u001b[38;5;241;43m/\u001b[39;49m\u001b[43my\u001b[49m)\n",
      "\u001b[1;31mTypeError\u001b[0m: unsupported operand type(s) for /: 'int' and 'str'"
     ]
    }
   ],
   "source": [
    "f(4,'mahi')"
   ]
  },
  {
   "cell_type": "code",
   "execution_count": 161,
   "id": "509d62d2",
   "metadata": {},
   "outputs": [],
   "source": [
    "def f(x,y):\n",
    "    result = x/y\n",
    "    print(result)"
   ]
  },
  {
   "cell_type": "code",
   "execution_count": 166,
   "id": "467bba33",
   "metadata": {},
   "outputs": [
    {
     "name": "stdout",
     "output_type": "stream",
     "text": [
      "value error\n"
     ]
    }
   ],
   "source": [
    "try:\n",
    "    print(f(5,int('mahi')))\n",
    "except ValueError:\n",
    "    print('value error')\n",
    "except TypeError:\n",
    "    print('type error')\n",
    "except ZeroDivisionError:\n",
    "    print('zero division error occured')\n",
    "except Exception as e:\n",
    "    print(e)"
   ]
  },
  {
   "cell_type": "code",
   "execution_count": 156,
   "id": "14a96fe9",
   "metadata": {},
   "outputs": [
    {
     "data": {
      "text/plain": [
       "0.8571428571428571"
      ]
     },
     "execution_count": 156,
     "metadata": {},
     "output_type": "execute_result"
    }
   ],
   "source": [
    "f(6,7)"
   ]
  },
  {
   "cell_type": "code",
   "execution_count": 157,
   "id": "3816184c",
   "metadata": {},
   "outputs": [
    {
     "data": {
      "text/plain": [
       "0.375"
      ]
     },
     "execution_count": 157,
     "metadata": {},
     "output_type": "execute_result"
    }
   ],
   "source": [
    "f(3,8)"
   ]
  },
  {
   "cell_type": "code",
   "execution_count": 167,
   "id": "73a5fef7",
   "metadata": {},
   "outputs": [],
   "source": [
    "# deposti, withdraw"
   ]
  },
  {
   "cell_type": "code",
   "execution_count": 272,
   "id": "09bb4e65",
   "metadata": {},
   "outputs": [],
   "source": [
    "class Account:\n",
    "    name = 'SBI'\n",
    "    def deposit(self, amount):\n",
    "        self.y += amount\n",
    "        print(f'{amount} is deposited, the current balance is :{self.y}')\n",
    "    def withdrawl(self, amount):\n",
    "        if self.y >= amount:\n",
    "            self.y -= amount\n",
    "            print(f'withdrawl the amount {amount}, the current balance is {self.y}')\n",
    "        else:\n",
    "            print('insufficient balance')"
   ]
  },
  {
   "cell_type": "code",
   "execution_count": 273,
   "id": "07312b6b",
   "metadata": {},
   "outputs": [],
   "source": [
    "maha = Account()"
   ]
  },
  {
   "cell_type": "code",
   "execution_count": 274,
   "id": "57294a93",
   "metadata": {},
   "outputs": [
    {
     "data": {
      "text/plain": [
       "'mahendra'"
      ]
     },
     "execution_count": 274,
     "metadata": {},
     "output_type": "execute_result"
    }
   ],
   "source": [
    "maha.name"
   ]
  },
  {
   "cell_type": "code",
   "execution_count": 259,
   "id": "ba242266",
   "metadata": {},
   "outputs": [
    {
     "name": "stdout",
     "output_type": "stream",
     "text": [
      "withdrawl the amount 3000, the current balance is 1000\n"
     ]
    }
   ],
   "source": [
    "maha.withdrawl(3000)"
   ]
  },
  {
   "cell_type": "code",
   "execution_count": null,
   "id": "e9de4f61",
   "metadata": {},
   "outputs": [],
   "source": []
  },
  {
   "cell_type": "code",
   "execution_count": null,
   "id": "d17fc62c",
   "metadata": {},
   "outputs": [],
   "source": []
  },
  {
   "cell_type": "code",
   "execution_count": 254,
   "id": "af2d351a",
   "metadata": {},
   "outputs": [],
   "source": [
    "mahi=Account('mahi', 50000, 'USA')\n",
    "mahendra = Account('mahendra', 40000, 'India')"
   ]
  },
  {
   "cell_type": "code",
   "execution_count": 256,
   "id": "58688c93",
   "metadata": {},
   "outputs": [
    {
     "name": "stdout",
     "output_type": "stream",
     "text": [
      "withdrawl the amount 20000, the current balance is 20000\n"
     ]
    }
   ],
   "source": [
    "mahendra.withdrawl(20000)"
   ]
  },
  {
   "cell_type": "code",
   "execution_count": null,
   "id": "aeb12a98",
   "metadata": {},
   "outputs": [],
   "source": []
  },
  {
   "cell_type": "code",
   "execution_count": null,
   "id": "5c9405bf",
   "metadata": {},
   "outputs": [],
   "source": []
  },
  {
   "cell_type": "code",
   "execution_count": null,
   "id": "82365355",
   "metadata": {},
   "outputs": [],
   "source": []
  },
  {
   "cell_type": "code",
   "execution_count": 248,
   "id": "a671cdbd",
   "metadata": {},
   "outputs": [
    {
     "data": {
      "text/plain": [
       "'mahi'"
      ]
     },
     "execution_count": 248,
     "metadata": {},
     "output_type": "execute_result"
    }
   ],
   "source": [
    "mahi.x"
   ]
  },
  {
   "cell_type": "code",
   "execution_count": 249,
   "id": "d372c705",
   "metadata": {},
   "outputs": [
    {
     "name": "stdout",
     "output_type": "stream",
     "text": [
      "3300 is deposited, the current balance is :53300\n"
     ]
    }
   ],
   "source": [
    "mahi.deposit(3300)"
   ]
  },
  {
   "cell_type": "code",
   "execution_count": 250,
   "id": "8be021a9",
   "metadata": {},
   "outputs": [
    {
     "name": "stdout",
     "output_type": "stream",
     "text": [
      "2000 is deposited, the current balance is :42000\n"
     ]
    }
   ],
   "source": [
    "mahendra.deposit(2000)"
   ]
  },
  {
   "cell_type": "code",
   "execution_count": null,
   "id": "77803119",
   "metadata": {},
   "outputs": [],
   "source": []
  },
  {
   "cell_type": "code",
   "execution_count": null,
   "id": "7a367336",
   "metadata": {},
   "outputs": [],
   "source": []
  },
  {
   "cell_type": "code",
   "execution_count": null,
   "id": "ea67e25c",
   "metadata": {},
   "outputs": [],
   "source": []
  },
  {
   "cell_type": "code",
   "execution_count": 235,
   "id": "7758fd59",
   "metadata": {},
   "outputs": [
    {
     "data": {
      "text/plain": [
       "'mahra'"
      ]
     },
     "execution_count": 235,
     "metadata": {},
     "output_type": "execute_result"
    }
   ],
   "source": [
    "b.x"
   ]
  },
  {
   "cell_type": "code",
   "execution_count": 236,
   "id": "9930c044",
   "metadata": {},
   "outputs": [
    {
     "name": "stdout",
     "output_type": "stream",
     "text": [
      "7000 is deposited, the current balance is :57000\n"
     ]
    }
   ],
   "source": [
    "b.deposit(7000)"
   ]
  },
  {
   "cell_type": "code",
   "execution_count": null,
   "id": "bcf351fe",
   "metadata": {},
   "outputs": [],
   "source": []
  },
  {
   "cell_type": "code",
   "execution_count": null,
   "id": "99b0afaf",
   "metadata": {},
   "outputs": [],
   "source": []
  },
  {
   "cell_type": "code",
   "execution_count": null,
   "id": "5b0c31d2",
   "metadata": {},
   "outputs": [],
   "source": []
  },
  {
   "cell_type": "code",
   "execution_count": null,
   "id": "acf882c1",
   "metadata": {},
   "outputs": [],
   "source": []
  },
  {
   "cell_type": "code",
   "execution_count": 212,
   "id": "8e9b3524",
   "metadata": {},
   "outputs": [
    {
     "data": {
      "text/plain": [
       "'mahra'"
      ]
     },
     "execution_count": 212,
     "metadata": {},
     "output_type": "execute_result"
    }
   ],
   "source": [
    "b.name"
   ]
  },
  {
   "cell_type": "code",
   "execution_count": 213,
   "id": "6e21d2a5",
   "metadata": {},
   "outputs": [
    {
     "name": "stdout",
     "output_type": "stream",
     "text": [
      "3000 is deposited, the current balance is :53000\n"
     ]
    }
   ],
   "source": [
    "b.deposit(3000)"
   ]
  },
  {
   "cell_type": "code",
   "execution_count": 214,
   "id": "2b08dbf9",
   "metadata": {},
   "outputs": [],
   "source": [
    "h=Account('sindhu', 60000)"
   ]
  },
  {
   "cell_type": "code",
   "execution_count": 219,
   "id": "81a4206b",
   "metadata": {},
   "outputs": [
    {
     "name": "stdout",
     "output_type": "stream",
     "text": [
      "6000 is deposited, the current balance is :66000\n"
     ]
    }
   ],
   "source": [
    "h.deposit(6000)"
   ]
  },
  {
   "cell_type": "code",
   "execution_count": 216,
   "id": "3b6436da",
   "metadata": {},
   "outputs": [
    {
     "name": "stdout",
     "output_type": "stream",
     "text": [
      "<class '__main__.Account'>\n"
     ]
    }
   ],
   "source": [
    "print(type(h))"
   ]
  },
  {
   "cell_type": "code",
   "execution_count": 217,
   "id": "594fd54f",
   "metadata": {},
   "outputs": [
    {
     "data": {
      "text/plain": [
       "['__class__',\n",
       " '__delattr__',\n",
       " '__dict__',\n",
       " '__dir__',\n",
       " '__doc__',\n",
       " '__eq__',\n",
       " '__format__',\n",
       " '__ge__',\n",
       " '__getattribute__',\n",
       " '__gt__',\n",
       " '__hash__',\n",
       " '__init__',\n",
       " '__init_subclass__',\n",
       " '__le__',\n",
       " '__lt__',\n",
       " '__module__',\n",
       " '__ne__',\n",
       " '__new__',\n",
       " '__reduce__',\n",
       " '__reduce_ex__',\n",
       " '__repr__',\n",
       " '__setattr__',\n",
       " '__sizeof__',\n",
       " '__str__',\n",
       " '__subclasshook__',\n",
       " '__weakref__',\n",
       " 'balance',\n",
       " 'deposit',\n",
       " 'name']"
      ]
     },
     "execution_count": 217,
     "metadata": {},
     "output_type": "execute_result"
    }
   ],
   "source": [
    "dir(h)"
   ]
  },
  {
   "cell_type": "code",
   "execution_count": null,
   "id": "d43ad185",
   "metadata": {},
   "outputs": [],
   "source": [
    "h.namea"
   ]
  },
  {
   "cell_type": "code",
   "execution_count": 195,
   "id": "347cd3e9",
   "metadata": {},
   "outputs": [],
   "source": [
    "a=Account('mahendra', 20000)"
   ]
  },
  {
   "cell_type": "code",
   "execution_count": 182,
   "id": "41a7d951",
   "metadata": {},
   "outputs": [
    {
     "data": {
      "text/plain": [
       "'mahendra'"
      ]
     },
     "execution_count": 182,
     "metadata": {},
     "output_type": "execute_result"
    }
   ],
   "source": [
    "a.name"
   ]
  },
  {
   "cell_type": "code",
   "execution_count": 183,
   "id": "9c34fc3a",
   "metadata": {},
   "outputs": [
    {
     "data": {
      "text/plain": [
       "20000"
      ]
     },
     "execution_count": 183,
     "metadata": {},
     "output_type": "execute_result"
    }
   ],
   "source": [
    "a.balance"
   ]
  },
  {
   "cell_type": "code",
   "execution_count": 263,
   "id": "6531b640",
   "metadata": {},
   "outputs": [],
   "source": [
    "class car:\n",
    "    def __init__(self, color, brand):\n",
    "        self.color = color\n",
    "        self.brand = brand\n",
    "    def speed(self):\n",
    "        print('this car has unlimited speed')"
   ]
  },
  {
   "cell_type": "code",
   "execution_count": 264,
   "id": "98dbf96b",
   "metadata": {},
   "outputs": [],
   "source": [
    "obj = car('black', 'A')"
   ]
  },
  {
   "cell_type": "code",
   "execution_count": 265,
   "id": "ff7ac44e",
   "metadata": {},
   "outputs": [
    {
     "data": {
      "text/plain": [
       "'black'"
      ]
     },
     "execution_count": 265,
     "metadata": {},
     "output_type": "execute_result"
    }
   ],
   "source": [
    "obj.color"
   ]
  },
  {
   "cell_type": "code",
   "execution_count": 266,
   "id": "71e90b57",
   "metadata": {},
   "outputs": [
    {
     "data": {
      "text/plain": [
       "'A'"
      ]
     },
     "execution_count": 266,
     "metadata": {},
     "output_type": "execute_result"
    }
   ],
   "source": [
    "obj.brand"
   ]
  },
  {
   "cell_type": "code",
   "execution_count": 267,
   "id": "35d1cb8f",
   "metadata": {},
   "outputs": [],
   "source": [
    "b=car('white', 'B')"
   ]
  },
  {
   "cell_type": "code",
   "execution_count": 268,
   "id": "1d9e783b",
   "metadata": {},
   "outputs": [
    {
     "data": {
      "text/plain": [
       "'white'"
      ]
     },
     "execution_count": 268,
     "metadata": {},
     "output_type": "execute_result"
    }
   ],
   "source": [
    "b.color"
   ]
  },
  {
   "cell_type": "code",
   "execution_count": 269,
   "id": "6f72fadd",
   "metadata": {},
   "outputs": [
    {
     "data": {
      "text/plain": [
       "'B'"
      ]
     },
     "execution_count": 269,
     "metadata": {},
     "output_type": "execute_result"
    }
   ],
   "source": [
    "b.brand"
   ]
  },
  {
   "cell_type": "code",
   "execution_count": 270,
   "id": "afbb2533",
   "metadata": {},
   "outputs": [
    {
     "name": "stdout",
     "output_type": "stream",
     "text": [
      "this car has unlimited speed\n"
     ]
    }
   ],
   "source": [
    "b.speed()"
   ]
  },
  {
   "cell_type": "code",
   "execution_count": 46,
   "id": "f72cb830",
   "metadata": {},
   "outputs": [],
   "source": [
    "class A:\n",
    "    _name = 'amehndra'\n",
    "    def move(self):\n",
    "        print(f'{self._name} is moving')\n",
    "class B(A):\n",
    "    def move1(self):\n",
    "        print(self._name)"
   ]
  },
  {
   "cell_type": "code",
   "execution_count": 50,
   "id": "0c806a35",
   "metadata": {},
   "outputs": [],
   "source": [
    "ax = B()"
   ]
  },
  {
   "cell_type": "code",
   "execution_count": 52,
   "id": "51f11d04",
   "metadata": {},
   "outputs": [],
   "source": [
    "a=A()"
   ]
  },
  {
   "cell_type": "code",
   "execution_count": 53,
   "id": "63047820",
   "metadata": {},
   "outputs": [
    {
     "name": "stdout",
     "output_type": "stream",
     "text": [
      "amehndra is moving\n"
     ]
    }
   ],
   "source": [
    "a.move()"
   ]
  },
  {
   "cell_type": "code",
   "execution_count": 54,
   "id": "4a4df278",
   "metadata": {},
   "outputs": [
    {
     "name": "stdout",
     "output_type": "stream",
     "text": [
      "amehndra\n"
     ]
    }
   ],
   "source": [
    "ax.move1()"
   ]
  },
  {
   "cell_type": "code",
   "execution_count": 55,
   "id": "6837c991",
   "metadata": {},
   "outputs": [
    {
     "data": {
      "text/plain": [
       "'amehndra'"
      ]
     },
     "execution_count": 55,
     "metadata": {},
     "output_type": "execute_result"
    }
   ],
   "source": [
    "a._name"
   ]
  },
  {
   "cell_type": "code",
   "execution_count": 56,
   "id": "aaa06f16",
   "metadata": {},
   "outputs": [
    {
     "data": {
      "text/plain": [
       "'amehndra'"
      ]
     },
     "execution_count": 56,
     "metadata": {},
     "output_type": "execute_result"
    }
   ],
   "source": [
    "ax._name"
   ]
  },
  {
   "cell_type": "code",
   "execution_count": null,
   "id": "851630c2",
   "metadata": {},
   "outputs": [],
   "source": [
    "1---> name = 'mahendra'\n",
    "\n",
    "name = 'mahi'\n",
    "80 \n",
    "100---> funtion"
   ]
  },
  {
   "cell_type": "code",
   "execution_count": 21,
   "id": "4aa9e240",
   "metadata": {},
   "outputs": [],
   "source": [
    "acc_holder_name = 'mahi'\n",
    "balance = 50000\n",
    "\n",
    "def deposit(amount):\n",
    "    global balance\n",
    "    balance += amount\n",
    "    print(f'{amount} is deposited, the current balance is :{balance}')"
   ]
  },
  {
   "cell_type": "code",
   "execution_count": 22,
   "id": "abe6e02a",
   "metadata": {},
   "outputs": [
    {
     "name": "stdout",
     "output_type": "stream",
     "text": [
      "8000 is deposited, the current balance is :58000\n"
     ]
    }
   ],
   "source": [
    "deposit(8000)"
   ]
  },
  {
   "cell_type": "code",
   "execution_count": 23,
   "id": "f2a6fb31",
   "metadata": {},
   "outputs": [],
   "source": [
    "def withdrawl(amount):\n",
    "#     balance =40000\n",
    "    global balance\n",
    "    if balance >= amount:\n",
    "        balance -= amount\n",
    "        print(f'withdrawl the amount {amount}, the current balance is {balance}')\n",
    "    else:\n",
    "        print('insufficient balance')"
   ]
  },
  {
   "cell_type": "code",
   "execution_count": 24,
   "id": "4bf6dd92",
   "metadata": {},
   "outputs": [
    {
     "name": "stdout",
     "output_type": "stream",
     "text": [
      "withdrawl the amount 3000, the current balance is 55000\n"
     ]
    }
   ],
   "source": [
    "withdrawl(3000)"
   ]
  },
  {
   "cell_type": "code",
   "execution_count": null,
   "id": "dfa49e0e",
   "metadata": {},
   "outputs": [],
   "source": [
    "# class ==> blue print ===> car===> color, brand, shape, ............."
   ]
  },
  {
   "cell_type": "code",
   "execution_count": 25,
   "id": "59aca5da",
   "metadata": {},
   "outputs": [],
   "source": [
    "a=9"
   ]
  },
  {
   "cell_type": "code",
   "execution_count": 26,
   "id": "42601dab",
   "metadata": {},
   "outputs": [
    {
     "name": "stdout",
     "output_type": "stream",
     "text": [
      "9\n"
     ]
    }
   ],
   "source": [
    "print(a)"
   ]
  },
  {
   "cell_type": "code",
   "execution_count": 27,
   "id": "b8b35fb1",
   "metadata": {},
   "outputs": [
    {
     "name": "stdout",
     "output_type": "stream",
     "text": [
      "<class 'int'>\n"
     ]
    }
   ],
   "source": [
    "print(type(a))"
   ]
  },
  {
   "cell_type": "code",
   "execution_count": 28,
   "id": "2b5ab5c7",
   "metadata": {},
   "outputs": [
    {
     "data": {
      "text/plain": [
       "int"
      ]
     },
     "execution_count": 28,
     "metadata": {},
     "output_type": "execute_result"
    }
   ],
   "source": [
    "type(a)"
   ]
  },
  {
   "cell_type": "code",
   "execution_count": 29,
   "id": "f28acb7a",
   "metadata": {},
   "outputs": [
    {
     "name": "stdout",
     "output_type": "stream",
     "text": [
      "<class 'int'>\n"
     ]
    }
   ],
   "source": [
    "b=20\n",
    "print(type(b))"
   ]
  },
  {
   "cell_type": "code",
   "execution_count": 38,
   "id": "768371ca",
   "metadata": {},
   "outputs": [],
   "source": [
    "class Car:\n",
    "    name = 'tatacaars'\n",
    "    brand = 'tata'\n",
    "    def speed(self):\n",
    "        print('speed is 100km')"
   ]
  },
  {
   "cell_type": "code",
   "execution_count": 39,
   "id": "cd8bdbe4",
   "metadata": {},
   "outputs": [],
   "source": [
    "a=Car()"
   ]
  },
  {
   "cell_type": "code",
   "execution_count": 40,
   "id": "cc32027b",
   "metadata": {},
   "outputs": [],
   "source": [
    "b=Car()"
   ]
  },
  {
   "cell_type": "code",
   "execution_count": 41,
   "id": "df2fb0d6",
   "metadata": {},
   "outputs": [
    {
     "data": {
      "text/plain": [
       "'tatacaars'"
      ]
     },
     "execution_count": 41,
     "metadata": {},
     "output_type": "execute_result"
    }
   ],
   "source": [
    "a.name"
   ]
  },
  {
   "cell_type": "code",
   "execution_count": 42,
   "id": "c7b942f3",
   "metadata": {},
   "outputs": [
    {
     "data": {
      "text/plain": [
       "'tatacaars'"
      ]
     },
     "execution_count": 42,
     "metadata": {},
     "output_type": "execute_result"
    }
   ],
   "source": [
    "b.name"
   ]
  },
  {
   "cell_type": "code",
   "execution_count": 43,
   "id": "b0f9dca4",
   "metadata": {},
   "outputs": [
    {
     "name": "stdout",
     "output_type": "stream",
     "text": [
      "speed is 100km\n"
     ]
    }
   ],
   "source": [
    "a.speed()"
   ]
  },
  {
   "cell_type": "code",
   "execution_count": 66,
   "id": "0a2e199d",
   "metadata": {},
   "outputs": [],
   "source": [
    "class Car:\n",
    "    def __init__(self, name='bola', brand='B', color='white'):\n",
    "        self.name = name\n",
    "        self.brand = brand\n",
    "        self.color = color\n",
    "    def speed(self):\n",
    "        print('speed is 100km/h')\n",
    "        "
   ]
  },
  {
   "cell_type": "code",
   "execution_count": 67,
   "id": "70eed7ad",
   "metadata": {},
   "outputs": [],
   "source": [
    "car1=Car('Tata', 'A', 'black')"
   ]
  },
  {
   "cell_type": "code",
   "execution_count": 68,
   "id": "7ded0aab",
   "metadata": {},
   "outputs": [],
   "source": [
    "car2 = Car()"
   ]
  },
  {
   "cell_type": "code",
   "execution_count": 71,
   "id": "5b490ed0",
   "metadata": {},
   "outputs": [
    {
     "name": "stdout",
     "output_type": "stream",
     "text": [
      "bola white  B\n"
     ]
    }
   ],
   "source": [
    "print(f'{car2.name} {car2.color}  {car2.brand}')"
   ]
  },
  {
   "cell_type": "code",
   "execution_count": 58,
   "id": "73621b90",
   "metadata": {},
   "outputs": [
    {
     "name": "stdout",
     "output_type": "stream",
     "text": [
      "<__main__.Car object at 0x0000010F393DB850>\n"
     ]
    }
   ],
   "source": [
    "print(car1)"
   ]
  },
  {
   "cell_type": "code",
   "execution_count": 59,
   "id": "5f565631",
   "metadata": {},
   "outputs": [
    {
     "data": {
      "text/plain": [
       "__main__.Car"
      ]
     },
     "execution_count": 59,
     "metadata": {},
     "output_type": "execute_result"
    }
   ],
   "source": [
    "type(car1)"
   ]
  },
  {
   "cell_type": "code",
   "execution_count": 60,
   "id": "424c9a82",
   "metadata": {},
   "outputs": [
    {
     "data": {
      "text/plain": [
       "'Tata'"
      ]
     },
     "execution_count": 60,
     "metadata": {},
     "output_type": "execute_result"
    }
   ],
   "source": [
    "car1.name"
   ]
  },
  {
   "cell_type": "code",
   "execution_count": 61,
   "id": "6a92585c",
   "metadata": {},
   "outputs": [
    {
     "ename": "AttributeError",
     "evalue": "'Car' object has no attribute 'x'",
     "output_type": "error",
     "traceback": [
      "\u001b[1;31m---------------------------------------------------------------------------\u001b[0m",
      "\u001b[1;31mAttributeError\u001b[0m                            Traceback (most recent call last)",
      "Cell \u001b[1;32mIn[61], line 1\u001b[0m\n\u001b[1;32m----> 1\u001b[0m \u001b[43mcar1\u001b[49m\u001b[38;5;241;43m.\u001b[39;49m\u001b[43mx\u001b[49m\n",
      "\u001b[1;31mAttributeError\u001b[0m: 'Car' object has no attribute 'x'"
     ]
    }
   ],
   "source": [
    "car1.x"
   ]
  },
  {
   "cell_type": "code",
   "execution_count": 62,
   "id": "36c4f9e2",
   "metadata": {},
   "outputs": [
    {
     "ename": "AttributeError",
     "evalue": "'Car' object has no attribute 'y'",
     "output_type": "error",
     "traceback": [
      "\u001b[1;31m---------------------------------------------------------------------------\u001b[0m",
      "\u001b[1;31mAttributeError\u001b[0m                            Traceback (most recent call last)",
      "Cell \u001b[1;32mIn[62], line 1\u001b[0m\n\u001b[1;32m----> 1\u001b[0m \u001b[43mcar1\u001b[49m\u001b[38;5;241;43m.\u001b[39;49m\u001b[43my\u001b[49m\n",
      "\u001b[1;31mAttributeError\u001b[0m: 'Car' object has no attribute 'y'"
     ]
    }
   ],
   "source": [
    "car1.y"
   ]
  },
  {
   "cell_type": "code",
   "execution_count": 63,
   "id": "5aeca4c6",
   "metadata": {},
   "outputs": [
    {
     "ename": "AttributeError",
     "evalue": "'Car' object has no attribute 'z'",
     "output_type": "error",
     "traceback": [
      "\u001b[1;31m---------------------------------------------------------------------------\u001b[0m",
      "\u001b[1;31mAttributeError\u001b[0m                            Traceback (most recent call last)",
      "Cell \u001b[1;32mIn[63], line 1\u001b[0m\n\u001b[1;32m----> 1\u001b[0m \u001b[43mcar1\u001b[49m\u001b[38;5;241;43m.\u001b[39;49m\u001b[43mz\u001b[49m\n",
      "\u001b[1;31mAttributeError\u001b[0m: 'Car' object has no attribute 'z'"
     ]
    }
   ],
   "source": [
    "car1.z"
   ]
  },
  {
   "cell_type": "code",
   "execution_count": 64,
   "id": "4ff122f1",
   "metadata": {},
   "outputs": [
    {
     "data": {
      "text/plain": [
       "'A'"
      ]
     },
     "execution_count": 64,
     "metadata": {},
     "output_type": "execute_result"
    }
   ],
   "source": [
    "car1.brand"
   ]
  },
  {
   "cell_type": "code",
   "execution_count": 65,
   "id": "864cf454",
   "metadata": {},
   "outputs": [
    {
     "data": {
      "text/plain": [
       "'black'"
      ]
     },
     "execution_count": 65,
     "metadata": {},
     "output_type": "execute_result"
    }
   ],
   "source": [
    "car1.color"
   ]
  },
  {
   "cell_type": "code",
   "execution_count": 114,
   "id": "0b00e110",
   "metadata": {},
   "outputs": [],
   "source": [
    "class Account:\n",
    "    bank = 'SBI'\n",
    "    def __init__(self, acc_num, balance, location):\n",
    "        self.acc_number = acc_num\n",
    "        self.bal = balance\n",
    "        self.loc = location\n",
    "    def deposit(self, amount):\n",
    "        self.bal += amount\n",
    "        print(f'{amount} is deposited and the current balance is {self.bal}')\n",
    "    def withdrawl(self, amount):\n",
    "        if self.bal >= amount:\n",
    "            self.bal -= amount\n",
    "            print(f'{amount} is withdrwal from your account and the current balance is {self.bal} from {Account.bank}')\n",
    "        else:\n",
    "            print('insufficient balance')"
   ]
  },
  {
   "cell_type": "code",
   "execution_count": 115,
   "id": "36ab5759",
   "metadata": {},
   "outputs": [
    {
     "data": {
      "text/plain": [
       "'SBI'"
      ]
     },
     "execution_count": 115,
     "metadata": {},
     "output_type": "execute_result"
    }
   ],
   "source": [
    "mahi.bank"
   ]
  },
  {
   "cell_type": "code",
   "execution_count": 116,
   "id": "1584f6b7",
   "metadata": {},
   "outputs": [],
   "source": [
    "mahi = Account(1111, 20000, 'India')"
   ]
  },
  {
   "cell_type": "code",
   "execution_count": 117,
   "id": "59d0bfbb",
   "metadata": {},
   "outputs": [
    {
     "name": "stdout",
     "output_type": "stream",
     "text": [
      "1200 is deposited and the current balance is 21200\n"
     ]
    }
   ],
   "source": [
    "mahi.deposit(1200)"
   ]
  },
  {
   "cell_type": "code",
   "execution_count": 118,
   "id": "51f25f02",
   "metadata": {},
   "outputs": [
    {
     "name": "stdout",
     "output_type": "stream",
     "text": [
      "3000 is withdrwal from your account and the current balance is 18200 from SBI\n"
     ]
    }
   ],
   "source": [
    "mahi.withdrawl(3000)"
   ]
  },
  {
   "cell_type": "code",
   "execution_count": 85,
   "id": "207ebead",
   "metadata": {},
   "outputs": [],
   "source": [
    "mahendra = Account(22222, 40000, 'India')"
   ]
  },
  {
   "cell_type": "code",
   "execution_count": 87,
   "id": "e2a2ab78",
   "metadata": {},
   "outputs": [
    {
     "data": {
      "text/plain": [
       "22222"
      ]
     },
     "execution_count": 87,
     "metadata": {},
     "output_type": "execute_result"
    }
   ],
   "source": [
    "mahendra.acc_number "
   ]
  },
  {
   "cell_type": "code",
   "execution_count": 88,
   "id": "9e7a193d",
   "metadata": {},
   "outputs": [
    {
     "data": {
      "text/plain": [
       "'India'"
      ]
     },
     "execution_count": 88,
     "metadata": {},
     "output_type": "execute_result"
    }
   ],
   "source": [
    "mahendra.loc"
   ]
  },
  {
   "cell_type": "code",
   "execution_count": 89,
   "id": "8597706d",
   "metadata": {},
   "outputs": [
    {
     "name": "stdout",
     "output_type": "stream",
     "text": [
      "3000 is deposited and the current balance is 43000\n"
     ]
    }
   ],
   "source": [
    "mahendra.deposit(3000)"
   ]
  },
  {
   "cell_type": "code",
   "execution_count": 103,
   "id": "ad9a3c25",
   "metadata": {},
   "outputs": [],
   "source": [
    "mahi= Account(4444, 77777, 'India')"
   ]
  },
  {
   "cell_type": "code",
   "execution_count": 104,
   "id": "693c67e4",
   "metadata": {},
   "outputs": [
    {
     "data": {
      "text/plain": [
       "'SBI'"
      ]
     },
     "execution_count": 104,
     "metadata": {},
     "output_type": "execute_result"
    }
   ],
   "source": [
    "mahi.bank"
   ]
  },
  {
   "cell_type": "code",
   "execution_count": 144,
   "id": "0f6937c3",
   "metadata": {},
   "outputs": [],
   "source": [
    "class Student:\n",
    "    def __init__(self, name, marks):\n",
    "        self.x = name\n",
    "        self.y = marks\n",
    "    def average_marks(self):\n",
    "        sum = 0\n",
    "        for i in range(len(self.y)):\n",
    "            sum+=self.y[i]\n",
    "        return sum/len(self.y)\n",
    "    def printing(self):\n",
    "        print('the average marks is printed')"
   ]
  },
  {
   "cell_type": "code",
   "execution_count": 145,
   "id": "a421c6e6",
   "metadata": {},
   "outputs": [],
   "source": [
    "a = Student('mahindra', [40, 50, 50, 40, 28, 20])"
   ]
  },
  {
   "cell_type": "code",
   "execution_count": 146,
   "id": "a13e162f",
   "metadata": {},
   "outputs": [
    {
     "data": {
      "text/plain": [
       "'mahindra'"
      ]
     },
     "execution_count": 146,
     "metadata": {},
     "output_type": "execute_result"
    }
   ],
   "source": [
    "a.x"
   ]
  },
  {
   "cell_type": "code",
   "execution_count": 147,
   "id": "6d6a8c9e",
   "metadata": {},
   "outputs": [
    {
     "data": {
      "text/plain": [
       "[40, 50, 50, 40, 28, 20]"
      ]
     },
     "execution_count": 147,
     "metadata": {},
     "output_type": "execute_result"
    }
   ],
   "source": [
    "a.y"
   ]
  },
  {
   "cell_type": "code",
   "execution_count": 148,
   "id": "e9841828",
   "metadata": {},
   "outputs": [
    {
     "data": {
      "text/plain": [
       "38.0"
      ]
     },
     "execution_count": 148,
     "metadata": {},
     "output_type": "execute_result"
    }
   ],
   "source": [
    "a.average_marks()"
   ]
  },
  {
   "cell_type": "code",
   "execution_count": null,
   "id": "9729b41b",
   "metadata": {},
   "outputs": [],
   "source": []
  },
  {
   "cell_type": "code",
   "execution_count": null,
   "id": "00bced08",
   "metadata": {},
   "outputs": [],
   "source": []
  },
  {
   "cell_type": "code",
   "execution_count": null,
   "id": "5bf2ecd1",
   "metadata": {},
   "outputs": [],
   "source": []
  },
  {
   "cell_type": "code",
   "execution_count": 149,
   "id": "21b36c49",
   "metadata": {},
   "outputs": [
    {
     "name": "stdout",
     "output_type": "stream",
     "text": [
      "the average marks is printed\n"
     ]
    }
   ],
   "source": [
    "a.printing()"
   ]
  },
  {
   "cell_type": "code",
   "execution_count": 179,
   "id": "45e2fc2a",
   "metadata": {},
   "outputs": [],
   "source": []
  },
  {
   "cell_type": "code",
   "execution_count": 177,
   "id": "0376837a",
   "metadata": {},
   "outputs": [],
   "source": [
    "son = Son()\n",
    "mother = Mother()"
   ]
  },
  {
   "cell_type": "code",
   "execution_count": 162,
   "id": "25c72e00",
   "metadata": {},
   "outputs": [
    {
     "data": {
      "text/plain": [
       "'son'"
      ]
     },
     "execution_count": 162,
     "metadata": {},
     "output_type": "execute_result"
    }
   ],
   "source": [
    "son.name1"
   ]
  },
  {
   "cell_type": "code",
   "execution_count": 163,
   "id": "afdbe990",
   "metadata": {},
   "outputs": [
    {
     "data": {
      "text/plain": [
       "'amma'"
      ]
     },
     "execution_count": 163,
     "metadata": {},
     "output_type": "execute_result"
    }
   ],
   "source": [
    "mother.name"
   ]
  },
  {
   "cell_type": "code",
   "execution_count": 165,
   "id": "05e013cb",
   "metadata": {},
   "outputs": [
    {
     "data": {
      "text/plain": [
       "45"
      ]
     },
     "execution_count": 165,
     "metadata": {},
     "output_type": "execute_result"
    }
   ],
   "source": [
    "son.age1"
   ]
  },
  {
   "cell_type": "code",
   "execution_count": 166,
   "id": "7cb9696c",
   "metadata": {},
   "outputs": [
    {
     "data": {
      "text/plain": [
       "90"
      ]
     },
     "execution_count": 166,
     "metadata": {},
     "output_type": "execute_result"
    }
   ],
   "source": [
    "mother.age"
   ]
  },
  {
   "cell_type": "code",
   "execution_count": 172,
   "id": "602880c1",
   "metadata": {},
   "outputs": [
    {
     "name": "stdout",
     "output_type": "stream",
     "text": [
      "method\n"
     ]
    }
   ],
   "source": [
    "son.method()"
   ]
  },
  {
   "cell_type": "code",
   "execution_count": 173,
   "id": "c0d44964",
   "metadata": {},
   "outputs": [
    {
     "data": {
      "text/plain": [
       "90"
      ]
     },
     "execution_count": 173,
     "metadata": {},
     "output_type": "execute_result"
    }
   ],
   "source": [
    "son.age"
   ]
  },
  {
   "cell_type": "code",
   "execution_count": 174,
   "id": "d19ac6ad",
   "metadata": {},
   "outputs": [
    {
     "data": {
      "text/plain": [
       "'amma'"
      ]
     },
     "execution_count": 174,
     "metadata": {},
     "output_type": "execute_result"
    }
   ],
   "source": [
    "son.name"
   ]
  },
  {
   "cell_type": "code",
   "execution_count": 178,
   "id": "ab60e906",
   "metadata": {},
   "outputs": [
    {
     "data": {
      "text/plain": [
       "45"
      ]
     },
     "execution_count": 178,
     "metadata": {},
     "output_type": "execute_result"
    }
   ],
   "source": [
    "mother.age1"
   ]
  },
  {
   "cell_type": "code",
   "execution_count": 20,
   "id": "5ad37ec7",
   "metadata": {},
   "outputs": [],
   "source": []
  },
  {
   "cell_type": "code",
   "execution_count": 21,
   "id": "76fd5744",
   "metadata": {},
   "outputs": [],
   "source": [
    "son = Son('mahendra', 30)"
   ]
  },
  {
   "cell_type": "code",
   "execution_count": 22,
   "id": "6a93e107",
   "metadata": {},
   "outputs": [],
   "source": [
    "son = Son('mahi', 45)"
   ]
  },
  {
   "cell_type": "code",
   "execution_count": 23,
   "id": "9d73ed4d",
   "metadata": {},
   "outputs": [
    {
     "data": {
      "text/plain": [
       "'mahi'"
      ]
     },
     "execution_count": 23,
     "metadata": {},
     "output_type": "execute_result"
    }
   ],
   "source": [
    "son.name"
   ]
  },
  {
   "cell_type": "code",
   "execution_count": 24,
   "id": "db73e4b1",
   "metadata": {},
   "outputs": [],
   "source": [
    "son2 = Son('mahendra', 40)"
   ]
  },
  {
   "cell_type": "code",
   "execution_count": 25,
   "id": "92cf6768",
   "metadata": {},
   "outputs": [],
   "source": [
    "mother = Mother('amma', 60)"
   ]
  },
  {
   "cell_type": "code",
   "execution_count": 26,
   "id": "832699ca",
   "metadata": {},
   "outputs": [
    {
     "name": "stdout",
     "output_type": "stream",
     "text": [
      "method\n"
     ]
    }
   ],
   "source": [
    "mother.method()"
   ]
  },
  {
   "cell_type": "code",
   "execution_count": 27,
   "id": "2782fab8",
   "metadata": {},
   "outputs": [
    {
     "name": "stdout",
     "output_type": "stream",
     "text": [
      "method1\n"
     ]
    }
   ],
   "source": [
    "son.method1()"
   ]
  },
  {
   "cell_type": "code",
   "execution_count": 28,
   "id": "8e154579",
   "metadata": {},
   "outputs": [
    {
     "name": "stdout",
     "output_type": "stream",
     "text": [
      "method\n"
     ]
    }
   ],
   "source": [
    "son.method()"
   ]
  },
  {
   "cell_type": "code",
   "execution_count": 29,
   "id": "30050d8c",
   "metadata": {},
   "outputs": [
    {
     "data": {
      "text/plain": [
       "'mahi'"
      ]
     },
     "execution_count": 29,
     "metadata": {},
     "output_type": "execute_result"
    }
   ],
   "source": [
    "son.name"
   ]
  },
  {
   "cell_type": "code",
   "execution_count": 30,
   "id": "9a409c89",
   "metadata": {},
   "outputs": [],
   "source": [
    "son = Son('mahi', 40)"
   ]
  },
  {
   "cell_type": "code",
   "execution_count": 31,
   "id": "dd7399a8",
   "metadata": {},
   "outputs": [
    {
     "data": {
      "text/plain": [
       "'mahi'"
      ]
     },
     "execution_count": 31,
     "metadata": {},
     "output_type": "execute_result"
    }
   ],
   "source": [
    "son.name"
   ]
  },
  {
   "cell_type": "code",
   "execution_count": 32,
   "id": "57c083d8",
   "metadata": {},
   "outputs": [
    {
     "data": {
      "text/plain": [
       "40"
      ]
     },
     "execution_count": 32,
     "metadata": {},
     "output_type": "execute_result"
    }
   ],
   "source": [
    "son.age"
   ]
  },
  {
   "cell_type": "code",
   "execution_count": 33,
   "id": "e4a9d436",
   "metadata": {},
   "outputs": [
    {
     "data": {
      "text/plain": [
       "'mahi'"
      ]
     },
     "execution_count": 33,
     "metadata": {},
     "output_type": "execute_result"
    }
   ],
   "source": [
    "son.name1"
   ]
  },
  {
   "cell_type": "code",
   "execution_count": 34,
   "id": "aaff55d5",
   "metadata": {},
   "outputs": [
    {
     "data": {
      "text/plain": [
       "40"
      ]
     },
     "execution_count": 34,
     "metadata": {},
     "output_type": "execute_result"
    }
   ],
   "source": [
    "son.age1"
   ]
  },
  {
   "cell_type": "code",
   "execution_count": 35,
   "id": "5ad78c0c",
   "metadata": {},
   "outputs": [],
   "source": [
    "son = Mother('mahendra', 30)"
   ]
  },
  {
   "cell_type": "code",
   "execution_count": 36,
   "id": "548c450c",
   "metadata": {},
   "outputs": [
    {
     "data": {
      "text/plain": [
       "'mahendra'"
      ]
     },
     "execution_count": 36,
     "metadata": {},
     "output_type": "execute_result"
    }
   ],
   "source": [
    "son.name"
   ]
  },
  {
   "cell_type": "code",
   "execution_count": 37,
   "id": "f9c27892",
   "metadata": {},
   "outputs": [
    {
     "data": {
      "text/plain": [
       "30"
      ]
     },
     "execution_count": 37,
     "metadata": {},
     "output_type": "execute_result"
    }
   ],
   "source": [
    "son.age"
   ]
  },
  {
   "cell_type": "code",
   "execution_count": 38,
   "id": "e47fdb45",
   "metadata": {},
   "outputs": [
    {
     "ename": "AttributeError",
     "evalue": "'Mother' object has no attribute 'name1'",
     "output_type": "error",
     "traceback": [
      "\u001b[1;31m---------------------------------------------------------------------------\u001b[0m",
      "\u001b[1;31mAttributeError\u001b[0m                            Traceback (most recent call last)",
      "Cell \u001b[1;32mIn[38], line 1\u001b[0m\n\u001b[1;32m----> 1\u001b[0m \u001b[43mson\u001b[49m\u001b[38;5;241;43m.\u001b[39;49m\u001b[43mname1\u001b[49m\n",
      "\u001b[1;31mAttributeError\u001b[0m: 'Mother' object has no attribute 'name1'"
     ]
    }
   ],
   "source": [
    "son.name1"
   ]
  },
  {
   "cell_type": "code",
   "execution_count": 13,
   "id": "b21e77fc",
   "metadata": {},
   "outputs": [],
   "source": [
    "class Mother:\n",
    "    def __init__(self, name, age):\n",
    "        self.name = name\n",
    "        self.age = age\n",
    "    def method(self):\n",
    "        print('method')\n",
    "        print(f'{self.name}')\n",
    "class Son(Mother):\n",
    "    def __init__(self, name, age):\n",
    "        self.name1 = 'son'\n",
    "        self.age1 = 45\n",
    "    def method1(self):\n",
    "        print('method1')"
   ]
  },
  {
   "cell_type": "code",
   "execution_count": 14,
   "id": "caf94955",
   "metadata": {},
   "outputs": [],
   "source": [
    "mother1 = Mother('ammma', 30)\n",
    "mother2 = Mother('ammamma', 88)"
   ]
  },
  {
   "cell_type": "code",
   "execution_count": 15,
   "id": "89613e8f",
   "metadata": {},
   "outputs": [
    {
     "data": {
      "text/plain": [
       "'amma'"
      ]
     },
     "execution_count": 15,
     "metadata": {},
     "output_type": "execute_result"
    }
   ],
   "source": [
    "mother1.name"
   ]
  },
  {
   "cell_type": "code",
   "execution_count": 18,
   "id": "88bc12ec",
   "metadata": {},
   "outputs": [
    {
     "name": "stdout",
     "output_type": "stream",
     "text": [
      "method\n",
      "samala\n"
     ]
    }
   ],
   "source": [
    "mother1.method()"
   ]
  },
  {
   "cell_type": "code",
   "execution_count": 17,
   "id": "413f7773",
   "metadata": {},
   "outputs": [],
   "source": [
    "mother1.name = 'samala'"
   ]
  },
  {
   "cell_type": "code",
   "execution_count": 22,
   "id": "3705b612",
   "metadata": {},
   "outputs": [],
   "source": [
    "c = Son('mahendra', 22)"
   ]
  },
  {
   "cell_type": "code",
   "execution_count": 24,
   "id": "c3571383",
   "metadata": {},
   "outputs": [],
   "source": [
    "c.name1='mahi'"
   ]
  },
  {
   "cell_type": "code",
   "execution_count": 25,
   "id": "58878301",
   "metadata": {},
   "outputs": [
    {
     "data": {
      "text/plain": [
       "'mahi'"
      ]
     },
     "execution_count": 25,
     "metadata": {},
     "output_type": "execute_result"
    }
   ],
   "source": [
    "c.name1 "
   ]
  },
  {
   "cell_type": "markdown",
   "id": "6c7c1af5",
   "metadata": {},
   "source": [
    "# Multi level  inheritance"
   ]
  },
  {
   "cell_type": "code",
   "execution_count": 78,
   "id": "cd7ad9da",
   "metadata": {},
   "outputs": [],
   "source": [
    "class Mother:\n",
    "    bank = 'SBI'\n",
    "    def __init__(self, name, age):\n",
    "        self.name = 'ma'\n",
    "        self.age = 50\n",
    "#         self.bank = 'Something'\n",
    "    def method(self):\n",
    "        print('method')\n",
    "class Son(Mother):\n",
    "    def __init__(self, name, age):\n",
    "#         super().__init__(name='amma', age=87)\n",
    "        Mother.__init__(self, name, age)\n",
    "        self.name1 = name\n",
    "        self.age1 = age\n",
    "        self.bank = 'Axis'\n",
    "    def method1(self):\n",
    "#         bank = 'HDFC'\n",
    "        super().method()\n",
    "        print('method1')\n",
    "        print(self.bank)\n",
    "#         print(bank)"
   ]
  },
  {
   "cell_type": "code",
   "execution_count": 79,
   "id": "a0a42b6a",
   "metadata": {},
   "outputs": [],
   "source": [
    "a=Son('mahendra', 30)"
   ]
  },
  {
   "cell_type": "code",
   "execution_count": 80,
   "id": "b3d1a654",
   "metadata": {},
   "outputs": [
    {
     "name": "stdout",
     "output_type": "stream",
     "text": [
      "method\n",
      "method1\n",
      "Axis\n"
     ]
    }
   ],
   "source": [
    "a.method1()"
   ]
  },
  {
   "cell_type": "code",
   "execution_count": 55,
   "id": "8210f547",
   "metadata": {},
   "outputs": [
    {
     "name": "stdout",
     "output_type": "stream",
     "text": [
      "method\n"
     ]
    }
   ],
   "source": [
    "a.method()"
   ]
  },
  {
   "cell_type": "code",
   "execution_count": 51,
   "id": "f020a97f",
   "metadata": {},
   "outputs": [
    {
     "name": "stdout",
     "output_type": "stream",
     "text": [
      "ma\n",
      "50\n"
     ]
    }
   ],
   "source": [
    "print(a.name)\n",
    "print(a.age)"
   ]
  },
  {
   "cell_type": "code",
   "execution_count": 38,
   "id": "aa9548f7",
   "metadata": {},
   "outputs": [
    {
     "data": {
      "text/plain": [
       "'mahendra'"
      ]
     },
     "execution_count": 38,
     "metadata": {},
     "output_type": "execute_result"
    }
   ],
   "source": [
    "a.name1"
   ]
  },
  {
   "cell_type": "code",
   "execution_count": 39,
   "id": "887c8330",
   "metadata": {},
   "outputs": [
    {
     "data": {
      "text/plain": [
       "30"
      ]
     },
     "execution_count": 39,
     "metadata": {},
     "output_type": "execute_result"
    }
   ],
   "source": [
    "a.age1"
   ]
  },
  {
   "cell_type": "code",
   "execution_count": 40,
   "id": "333c6d27",
   "metadata": {},
   "outputs": [
    {
     "name": "stdout",
     "output_type": "stream",
     "text": [
      "method1\n"
     ]
    }
   ],
   "source": [
    "a.method1()"
   ]
  },
  {
   "cell_type": "code",
   "execution_count": 41,
   "id": "e5fed9a1",
   "metadata": {},
   "outputs": [
    {
     "data": {
      "text/plain": [
       "'mahendra'"
      ]
     },
     "execution_count": 41,
     "metadata": {},
     "output_type": "execute_result"
    }
   ],
   "source": [
    "a.name"
   ]
  },
  {
   "cell_type": "code",
   "execution_count": 42,
   "id": "ecc8ccc2",
   "metadata": {},
   "outputs": [
    {
     "data": {
      "text/plain": [
       "30"
      ]
     },
     "execution_count": 42,
     "metadata": {},
     "output_type": "execute_result"
    }
   ],
   "source": [
    "a.age"
   ]
  },
  {
   "cell_type": "code",
   "execution_count": 105,
   "id": "53a0f6ae",
   "metadata": {},
   "outputs": [],
   "source": [
    "class Mother:\n",
    "    bank = 'SBI'\n",
    "    def __init__(self, name, age):\n",
    "        self.name = name\n",
    "        self.age = 50\n",
    "#         self.bank = 'Something'\n",
    "    def method(self):\n",
    "        print('method')\n",
    "class Son(Mother):\n",
    "    def __init__(self, name, age):\n",
    "#         super().__init__(name='amma', age=87)\n",
    "#         Mother.__init__(self, name='ammamma', age=77)\n",
    "        self.name1 = name\n",
    "        self.age1 = age\n",
    "        self.bank = 'Axis'\n",
    "    def method1(self):\n",
    "#         bank = 'HDFC'\n",
    "        super().method()\n",
    "        print('method1')\n",
    "        print(self.bank)\n",
    "#         print(bank)\n",
    "class Child(Son):\n",
    "    def __init__(self, name, age):\n",
    "        super().__init__(name='mahi', age=67)\n",
    "        self.name2 = name\n",
    "        self.age2 = age\n",
    "    def method2(self):\n",
    "        super().method1()\n",
    "        print('method2')"
   ]
  },
  {
   "cell_type": "code",
   "execution_count": 106,
   "id": "d3a47562",
   "metadata": {},
   "outputs": [],
   "source": [
    "c = Child('mahendra', 30)"
   ]
  },
  {
   "cell_type": "code",
   "execution_count": 107,
   "id": "e9819b15",
   "metadata": {},
   "outputs": [
    {
     "data": {
      "text/plain": [
       "'ammamma'"
      ]
     },
     "execution_count": 107,
     "metadata": {},
     "output_type": "execute_result"
    }
   ],
   "source": [
    "c.name"
   ]
  },
  {
   "cell_type": "code",
   "execution_count": 108,
   "id": "e57582ca",
   "metadata": {},
   "outputs": [
    {
     "data": {
      "text/plain": [
       "50"
      ]
     },
     "execution_count": 108,
     "metadata": {},
     "output_type": "execute_result"
    }
   ],
   "source": [
    "c.age"
   ]
  },
  {
   "cell_type": "code",
   "execution_count": 91,
   "id": "76025508",
   "metadata": {},
   "outputs": [
    {
     "data": {
      "text/plain": [
       "'mahendra'"
      ]
     },
     "execution_count": 91,
     "metadata": {},
     "output_type": "execute_result"
    }
   ],
   "source": [
    "c.name2"
   ]
  },
  {
   "cell_type": "code",
   "execution_count": 92,
   "id": "44131379",
   "metadata": {},
   "outputs": [
    {
     "data": {
      "text/plain": [
       "30"
      ]
     },
     "execution_count": 92,
     "metadata": {},
     "output_type": "execute_result"
    }
   ],
   "source": [
    "c.age2"
   ]
  },
  {
   "cell_type": "code",
   "execution_count": 93,
   "id": "c2b67871",
   "metadata": {},
   "outputs": [
    {
     "name": "stdout",
     "output_type": "stream",
     "text": [
      "method\n"
     ]
    }
   ],
   "source": [
    "c.method()"
   ]
  },
  {
   "cell_type": "code",
   "execution_count": 94,
   "id": "21ee3ffb",
   "metadata": {},
   "outputs": [
    {
     "name": "stdout",
     "output_type": "stream",
     "text": [
      "method\n",
      "method1\n",
      "SBI\n",
      "method2\n"
     ]
    }
   ],
   "source": [
    "c.method2()"
   ]
  },
  {
   "cell_type": "code",
   "execution_count": 95,
   "id": "16531fd8",
   "metadata": {},
   "outputs": [
    {
     "name": "stdout",
     "output_type": "stream",
     "text": [
      "method\n",
      "method1\n",
      "SBI\n"
     ]
    }
   ],
   "source": [
    "c.method1()"
   ]
  },
  {
   "cell_type": "markdown",
   "id": "5614ba3b",
   "metadata": {},
   "source": [
    "# Multiple Inheritance"
   ]
  },
  {
   "cell_type": "code",
   "execution_count": 130,
   "id": "44f56037",
   "metadata": {},
   "outputs": [],
   "source": [
    "class Mother:\n",
    "    def __init__(self):\n",
    "        self.name='amma'\n",
    "        self.age = 87\n",
    "    def method(self):\n",
    "        print('method')\n",
    "class Father:\n",
    "    def __init__(self):\n",
    "        self.name1= 'dad'\n",
    "        self.age1 = 89\n",
    "    def method1(self):\n",
    "        print('method1')\n",
    "class Child(Mother, Father):\n",
    "    def __init__(self):\n",
    "        Father.__init__(self)\n",
    "        Mother.__init__(self)\n",
    "        self.name2 = 'son'\n",
    "        self.age2 = 34\n",
    "    def method2(self):\n",
    "        print('method2')"
   ]
  },
  {
   "cell_type": "code",
   "execution_count": 131,
   "id": "1257c0ea",
   "metadata": {},
   "outputs": [],
   "source": [
    "c = Child()"
   ]
  },
  {
   "cell_type": "code",
   "execution_count": 132,
   "id": "0dcd07d2",
   "metadata": {},
   "outputs": [
    {
     "data": {
      "text/plain": [
       "'amma'"
      ]
     },
     "execution_count": 132,
     "metadata": {},
     "output_type": "execute_result"
    }
   ],
   "source": [
    "c.name"
   ]
  },
  {
   "cell_type": "code",
   "execution_count": 133,
   "id": "d78815b6",
   "metadata": {},
   "outputs": [
    {
     "data": {
      "text/plain": [
       "87"
      ]
     },
     "execution_count": 133,
     "metadata": {},
     "output_type": "execute_result"
    }
   ],
   "source": [
    "c.age"
   ]
  },
  {
   "cell_type": "code",
   "execution_count": 117,
   "id": "1fd7d80b",
   "metadata": {},
   "outputs": [
    {
     "data": {
      "text/plain": [
       "'son'"
      ]
     },
     "execution_count": 117,
     "metadata": {},
     "output_type": "execute_result"
    }
   ],
   "source": [
    "c.name2"
   ]
  },
  {
   "cell_type": "code",
   "execution_count": 118,
   "id": "f1b48fa2",
   "metadata": {},
   "outputs": [
    {
     "data": {
      "text/plain": [
       "34"
      ]
     },
     "execution_count": 118,
     "metadata": {},
     "output_type": "execute_result"
    }
   ],
   "source": [
    "c.age2"
   ]
  },
  {
   "cell_type": "code",
   "execution_count": 120,
   "id": "66328ca7",
   "metadata": {},
   "outputs": [
    {
     "name": "stdout",
     "output_type": "stream",
     "text": [
      "method2\n"
     ]
    }
   ],
   "source": [
    "c.method2()"
   ]
  },
  {
   "cell_type": "code",
   "execution_count": 121,
   "id": "93fd89ca",
   "metadata": {},
   "outputs": [
    {
     "name": "stdout",
     "output_type": "stream",
     "text": [
      "method\n"
     ]
    }
   ],
   "source": [
    "c.method()"
   ]
  },
  {
   "cell_type": "code",
   "execution_count": 124,
   "id": "5cf04932",
   "metadata": {},
   "outputs": [
    {
     "name": "stdout",
     "output_type": "stream",
     "text": [
      "method1\n"
     ]
    }
   ],
   "source": [
    "c.method1()"
   ]
  },
  {
   "cell_type": "markdown",
   "id": "65467935",
   "metadata": {},
   "source": [
    "# Hierarchicle inheritance"
   ]
  },
  {
   "cell_type": "code",
   "execution_count": 176,
   "id": "fae17d6a",
   "metadata": {},
   "outputs": [],
   "source": [
    "class Mother:\n",
    "    def __init__(self):\n",
    "        self.age = 55\n",
    "        self.name = 'mma'\n",
    "        self.salary = 9989\n",
    "        print('something')\n",
    "    def method(self):\n",
    "        print('mother class method')\n",
    "class child1(Mother):\n",
    "    def __init__(self):\n",
    "        self.name1 = 'gowtham'\n",
    "        self.age1 = 50\n",
    "    def method1(self):\n",
    "        if self.age>40:\n",
    "            print('old')\n",
    "        else:\n",
    "            print('young')\n",
    "class child2(Mother):\n",
    "    def __init__(self):\n",
    "#         Mother.__init__(self, name='amma', age=78, salary=88777)\n",
    "        super().__init__()\n",
    "        self.name2 = 'sam'\n",
    "        self.age2 = 45\n",
    "    def method2(self):\n",
    "        super().method()\n",
    "        print(f'{self.name2}s age is:{self.age2}')\n",
    "        print(f'{self.name}s age is:{self.age}')\n",
    "    "
   ]
  },
  {
   "cell_type": "code",
   "execution_count": 177,
   "id": "03167ed1",
   "metadata": {},
   "outputs": [
    {
     "name": "stdout",
     "output_type": "stream",
     "text": [
      "something\n"
     ]
    }
   ],
   "source": [
    "a= child2()"
   ]
  },
  {
   "cell_type": "code",
   "execution_count": 178,
   "id": "6026c551",
   "metadata": {},
   "outputs": [
    {
     "name": "stdout",
     "output_type": "stream",
     "text": [
      "mother class method\n",
      "sams age is:45\n",
      "mmas age is:55\n"
     ]
    }
   ],
   "source": [
    "a.method2()"
   ]
  },
  {
   "cell_type": "code",
   "execution_count": 142,
   "id": "ef2932f7",
   "metadata": {},
   "outputs": [
    {
     "name": "stdout",
     "output_type": "stream",
     "text": [
      "something\n"
     ]
    }
   ],
   "source": [
    "a = Mother('maha', 78, 8888)"
   ]
  },
  {
   "cell_type": "code",
   "execution_count": 143,
   "id": "e502365e",
   "metadata": {},
   "outputs": [
    {
     "data": {
      "text/plain": [
       "'maha'"
      ]
     },
     "execution_count": 143,
     "metadata": {},
     "output_type": "execute_result"
    }
   ],
   "source": [
    "a.name"
   ]
  },
  {
   "cell_type": "code",
   "execution_count": 144,
   "id": "be5c3efa",
   "metadata": {},
   "outputs": [
    {
     "data": {
      "text/plain": [
       "78"
      ]
     },
     "execution_count": 144,
     "metadata": {},
     "output_type": "execute_result"
    }
   ],
   "source": [
    "a.age"
   ]
  },
  {
   "cell_type": "code",
   "execution_count": 145,
   "id": "0d495857",
   "metadata": {},
   "outputs": [
    {
     "data": {
      "text/plain": [
       "8888"
      ]
     },
     "execution_count": 145,
     "metadata": {},
     "output_type": "execute_result"
    }
   ],
   "source": [
    "a.salary"
   ]
  },
  {
   "cell_type": "code",
   "execution_count": 180,
   "id": "f11b065f",
   "metadata": {},
   "outputs": [],
   "source": [
    "class A:\n",
    "    def __init__(self):\n",
    "        self.name = 'A'\n",
    "    def method(self):\n",
    "        print('A class method')\n",
    "class B(A):\n",
    "    def __init__(self):\n",
    "        self.name = 'B'\n",
    "    def method1(self):\n",
    "        print('B class method')\n",
    "class C:\n",
    "    def __init__(self):\n",
    "        self.name = 'C'\n",
    "    def method2(self):\n",
    "        print('class C method')\n",
    "class D(B, C):\n",
    "    def __init__(self):\n",
    "        self.name = 'D'\n",
    "    def method(self):\n",
    "        print('Class D method')"
   ]
  },
  {
   "cell_type": "markdown",
   "id": "48569e77",
   "metadata": {},
   "source": [
    "# Encapsulation"
   ]
  },
  {
   "cell_type": "code",
   "execution_count": 26,
   "id": "6b0f4059",
   "metadata": {},
   "outputs": [],
   "source": [
    "# Access specifiers ==> public, private, protected"
   ]
  },
  {
   "cell_type": "code",
   "execution_count": 140,
   "id": "3d34bd83",
   "metadata": {},
   "outputs": [],
   "source": [
    "class Mother:\n",
    "    def __init__(self, name, age, name1, age1):\n",
    "        self.name = name #public accessed data\n",
    "        self.age = age\n",
    "        self._name = name1 #protected\n",
    "        self._age = age1\n",
    "        self.__name=name\n",
    "        self.__age = age\n",
    "        print('creating the data for objects')\n",
    "    def get_method(self):\n",
    "        return __method1()\n",
    "    def set_method(self, name):\n",
    "        self.__name = name\n",
    "    def method(self):\n",
    "        print(f'{self.__name}, {self.__age}')\n",
    "class Son(Mother):\n",
    "    def __init__(self, name, age):\n",
    "        super().__init__(name='mahi', age=87, name1='mahanana', age1=66)\n",
    "        self.age1 = age\n",
    "        self.name1=name\n",
    "        self.__name2 = 'something'\n",
    "    def method(self):\n",
    "        print('method')\n",
    "        print(f'{self.__name2}')"
   ]
  },
  {
   "cell_type": "code",
   "execution_count": 141,
   "id": "af13fd0d",
   "metadata": {},
   "outputs": [
    {
     "name": "stdout",
     "output_type": "stream",
     "text": [
      "creating the data for objects\n"
     ]
    }
   ],
   "source": [
    "son = Son('mahi', 20)"
   ]
  },
  {
   "cell_type": "code",
   "execution_count": 145,
   "id": "2552b058",
   "metadata": {},
   "outputs": [
    {
     "data": {
      "text/plain": [
       "87"
      ]
     },
     "execution_count": 145,
     "metadata": {},
     "output_type": "execute_result"
    }
   ],
   "source": [
    "son.age"
   ]
  },
  {
   "cell_type": "code",
   "execution_count": 143,
   "id": "3067563b",
   "metadata": {},
   "outputs": [
    {
     "name": "stdout",
     "output_type": "stream",
     "text": [
      "method\n",
      "something\n"
     ]
    }
   ],
   "source": [
    "son.method()"
   ]
  },
  {
   "cell_type": "code",
   "execution_count": 110,
   "id": "863db1d0",
   "metadata": {},
   "outputs": [
    {
     "name": "stdout",
     "output_type": "stream",
     "text": [
      "creating the data for objects\n"
     ]
    }
   ],
   "source": [
    "a= Mother('hema', 55)"
   ]
  },
  {
   "cell_type": "code",
   "execution_count": 111,
   "id": "357354c2",
   "metadata": {},
   "outputs": [
    {
     "ename": "NameError",
     "evalue": "name '_Mother__method1' is not defined",
     "output_type": "error",
     "traceback": [
      "\u001b[1;31m---------------------------------------------------------------------------\u001b[0m",
      "\u001b[1;31mNameError\u001b[0m                                 Traceback (most recent call last)",
      "Cell \u001b[1;32mIn[111], line 1\u001b[0m\n\u001b[1;32m----> 1\u001b[0m \u001b[43ma\u001b[49m\u001b[38;5;241;43m.\u001b[39;49m\u001b[43mget_method\u001b[49m\u001b[43m(\u001b[49m\u001b[43m)\u001b[49m\n",
      "Cell \u001b[1;32mIn[109], line 13\u001b[0m, in \u001b[0;36mMother.get_method\u001b[1;34m(self)\u001b[0m\n\u001b[0;32m     12\u001b[0m \u001b[38;5;28;01mdef\u001b[39;00m \u001b[38;5;21mget_method\u001b[39m(\u001b[38;5;28mself\u001b[39m):\n\u001b[1;32m---> 13\u001b[0m     \u001b[38;5;28mprint\u001b[39m(__method1())\n",
      "\u001b[1;31mNameError\u001b[0m: name '_Mother__method1' is not defined"
     ]
    }
   ],
   "source": [
    "a.get_method()"
   ]
  },
  {
   "cell_type": "code",
   "execution_count": 102,
   "id": "9a72658e",
   "metadata": {},
   "outputs": [
    {
     "ename": "AttributeError",
     "evalue": "'Mother' object has no attribute '__method1'",
     "output_type": "error",
     "traceback": [
      "\u001b[1;31m---------------------------------------------------------------------------\u001b[0m",
      "\u001b[1;31mAttributeError\u001b[0m                            Traceback (most recent call last)",
      "Cell \u001b[1;32mIn[102], line 1\u001b[0m\n\u001b[1;32m----> 1\u001b[0m \u001b[43ma\u001b[49m\u001b[38;5;241;43m.\u001b[39;49m\u001b[43m__method1\u001b[49m()\n",
      "\u001b[1;31mAttributeError\u001b[0m: 'Mother' object has no attribute '__method1'"
     ]
    }
   ],
   "source": [
    "a.__method1()"
   ]
  },
  {
   "cell_type": "code",
   "execution_count": 99,
   "id": "16ced831",
   "metadata": {},
   "outputs": [
    {
     "data": {
      "text/plain": [
       "'maha'"
      ]
     },
     "execution_count": 99,
     "metadata": {},
     "output_type": "execute_result"
    }
   ],
   "source": [
    "a.get_method()"
   ]
  },
  {
   "cell_type": "code",
   "execution_count": 91,
   "id": "a74cd1c1",
   "metadata": {},
   "outputs": [
    {
     "ename": "AttributeError",
     "evalue": "'Mother' object has no attribute '__name'",
     "output_type": "error",
     "traceback": [
      "\u001b[1;31m---------------------------------------------------------------------------\u001b[0m",
      "\u001b[1;31mAttributeError\u001b[0m                            Traceback (most recent call last)",
      "Cell \u001b[1;32mIn[91], line 1\u001b[0m\n\u001b[1;32m----> 1\u001b[0m \u001b[43ma\u001b[49m\u001b[38;5;241;43m.\u001b[39;49m\u001b[43m__name\u001b[49m\n",
      "\u001b[1;31mAttributeError\u001b[0m: 'Mother' object has no attribute '__name'"
     ]
    }
   ],
   "source": [
    "a.__name"
   ]
  },
  {
   "cell_type": "code",
   "execution_count": 98,
   "id": "17c8656a",
   "metadata": {},
   "outputs": [],
   "source": [
    "a.set_method('maha')"
   ]
  },
  {
   "cell_type": "code",
   "execution_count": 65,
   "id": "1277fd4e",
   "metadata": {},
   "outputs": [
    {
     "ename": "AttributeError",
     "evalue": "'Mother' object has no attribute 'age'",
     "output_type": "error",
     "traceback": [
      "\u001b[1;31m---------------------------------------------------------------------------\u001b[0m",
      "\u001b[1;31mAttributeError\u001b[0m                            Traceback (most recent call last)",
      "Cell \u001b[1;32mIn[65], line 1\u001b[0m\n\u001b[1;32m----> 1\u001b[0m \u001b[43ma\u001b[49m\u001b[38;5;241;43m.\u001b[39;49m\u001b[43mage\u001b[49m\n",
      "\u001b[1;31mAttributeError\u001b[0m: 'Mother' object has no attribute 'age'"
     ]
    }
   ],
   "source": [
    "a.age"
   ]
  },
  {
   "cell_type": "code",
   "execution_count": 66,
   "id": "a4f3b963",
   "metadata": {},
   "outputs": [
    {
     "ename": "AttributeError",
     "evalue": "'Mother' object has no attribute '_name'",
     "output_type": "error",
     "traceback": [
      "\u001b[1;31m---------------------------------------------------------------------------\u001b[0m",
      "\u001b[1;31mAttributeError\u001b[0m                            Traceback (most recent call last)",
      "Cell \u001b[1;32mIn[66], line 1\u001b[0m\n\u001b[1;32m----> 1\u001b[0m \u001b[43ma\u001b[49m\u001b[38;5;241;43m.\u001b[39;49m\u001b[43m_name\u001b[49m\n",
      "\u001b[1;31mAttributeError\u001b[0m: 'Mother' object has no attribute '_name'"
     ]
    }
   ],
   "source": [
    "a._name"
   ]
  },
  {
   "cell_type": "code",
   "execution_count": 67,
   "id": "f3b9c966",
   "metadata": {},
   "outputs": [
    {
     "ename": "AttributeError",
     "evalue": "'Mother' object has no attribute '_age'",
     "output_type": "error",
     "traceback": [
      "\u001b[1;31m---------------------------------------------------------------------------\u001b[0m",
      "\u001b[1;31mAttributeError\u001b[0m                            Traceback (most recent call last)",
      "Cell \u001b[1;32mIn[67], line 1\u001b[0m\n\u001b[1;32m----> 1\u001b[0m \u001b[43ma\u001b[49m\u001b[38;5;241;43m.\u001b[39;49m\u001b[43m_age\u001b[49m\n",
      "\u001b[1;31mAttributeError\u001b[0m: 'Mother' object has no attribute '_age'"
     ]
    }
   ],
   "source": [
    "a._age"
   ]
  },
  {
   "cell_type": "code",
   "execution_count": 68,
   "id": "240902ca",
   "metadata": {},
   "outputs": [
    {
     "ename": "AttributeError",
     "evalue": "'Mother' object has no attribute '__name'",
     "output_type": "error",
     "traceback": [
      "\u001b[1;31m---------------------------------------------------------------------------\u001b[0m",
      "\u001b[1;31mAttributeError\u001b[0m                            Traceback (most recent call last)",
      "Cell \u001b[1;32mIn[68], line 1\u001b[0m\n\u001b[1;32m----> 1\u001b[0m \u001b[43ma\u001b[49m\u001b[38;5;241;43m.\u001b[39;49m\u001b[43m__name\u001b[49m\n",
      "\u001b[1;31mAttributeError\u001b[0m: 'Mother' object has no attribute '__name'"
     ]
    }
   ],
   "source": [
    "a.__name"
   ]
  },
  {
   "cell_type": "code",
   "execution_count": 69,
   "id": "8a66540d",
   "metadata": {},
   "outputs": [
    {
     "ename": "AttributeError",
     "evalue": "'Mother' object has no attribute '__age'",
     "output_type": "error",
     "traceback": [
      "\u001b[1;31m---------------------------------------------------------------------------\u001b[0m",
      "\u001b[1;31mAttributeError\u001b[0m                            Traceback (most recent call last)",
      "Cell \u001b[1;32mIn[69], line 1\u001b[0m\n\u001b[1;32m----> 1\u001b[0m \u001b[43ma\u001b[49m\u001b[38;5;241;43m.\u001b[39;49m\u001b[43m__age\u001b[49m\n",
      "\u001b[1;31mAttributeError\u001b[0m: 'Mother' object has no attribute '__age'"
     ]
    }
   ],
   "source": [
    "a.__age"
   ]
  },
  {
   "cell_type": "code",
   "execution_count": 70,
   "id": "43229533",
   "metadata": {},
   "outputs": [
    {
     "name": "stdout",
     "output_type": "stream",
     "text": [
      "hema, 55\n"
     ]
    }
   ],
   "source": [
    "a.method()"
   ]
  },
  {
   "cell_type": "code",
   "execution_count": 71,
   "id": "1adcb023",
   "metadata": {},
   "outputs": [
    {
     "ename": "AttributeError",
     "evalue": "'Mother' object has no attribute '_Mother'",
     "output_type": "error",
     "traceback": [
      "\u001b[1;31m---------------------------------------------------------------------------\u001b[0m",
      "\u001b[1;31mAttributeError\u001b[0m                            Traceback (most recent call last)",
      "Cell \u001b[1;32mIn[71], line 1\u001b[0m\n\u001b[1;32m----> 1\u001b[0m \u001b[43ma\u001b[49m\u001b[38;5;241;43m.\u001b[39;49m\u001b[43m_Mother\u001b[49m\u001b[38;5;241m.\u001b[39m__name\n",
      "\u001b[1;31mAttributeError\u001b[0m: 'Mother' object has no attribute '_Mother'"
     ]
    }
   ],
   "source": [
    "a._Mother.__name"
   ]
  },
  {
   "cell_type": "code",
   "execution_count": 73,
   "id": "a3e53064",
   "metadata": {},
   "outputs": [],
   "source": [
    "a.__name = 'mahi'"
   ]
  },
  {
   "cell_type": "code",
   "execution_count": 74,
   "id": "8b303aaa",
   "metadata": {},
   "outputs": [
    {
     "data": {
      "text/plain": [
       "'mahi'"
      ]
     },
     "execution_count": 74,
     "metadata": {},
     "output_type": "execute_result"
    }
   ],
   "source": [
    "a.__name"
   ]
  },
  {
   "cell_type": "code",
   "execution_count": 146,
   "id": "a6487965",
   "metadata": {},
   "outputs": [
    {
     "name": "stdout",
     "output_type": "stream",
     "text": [
      "128\n"
     ]
    }
   ],
   "source": [
    "print(40 + 88)"
   ]
  },
  {
   "cell_type": "code",
   "execution_count": 147,
   "id": "3b1c303c",
   "metadata": {},
   "outputs": [
    {
     "name": "stdout",
     "output_type": "stream",
     "text": [
      "4088\n"
     ]
    }
   ],
   "source": [
    "print('40' + '88')"
   ]
  },
  {
   "cell_type": "code",
   "execution_count": 148,
   "id": "9551a62f",
   "metadata": {},
   "outputs": [
    {
     "data": {
      "text/plain": [
       "8"
      ]
     },
     "execution_count": 148,
     "metadata": {},
     "output_type": "execute_result"
    }
   ],
   "source": [
    "len('mahendra')"
   ]
  },
  {
   "cell_type": "code",
   "execution_count": 149,
   "id": "9e2c2963",
   "metadata": {},
   "outputs": [
    {
     "data": {
      "text/plain": [
       "1"
      ]
     },
     "execution_count": 149,
     "metadata": {},
     "output_type": "execute_result"
    }
   ],
   "source": [
    "len(['mahendra'])"
   ]
  },
  {
   "cell_type": "code",
   "execution_count": 150,
   "id": "43af37d8",
   "metadata": {},
   "outputs": [
    {
     "data": {
      "text/plain": [
       "str"
      ]
     },
     "execution_count": 150,
     "metadata": {},
     "output_type": "execute_result"
    }
   ],
   "source": [
    "type('mahendra')"
   ]
  },
  {
   "cell_type": "code",
   "execution_count": 151,
   "id": "bc1cf3d4",
   "metadata": {},
   "outputs": [
    {
     "data": {
      "text/plain": [
       "list"
      ]
     },
     "execution_count": 151,
     "metadata": {},
     "output_type": "execute_result"
    }
   ],
   "source": [
    "type(['ameaha'])"
   ]
  },
  {
   "cell_type": "code",
   "execution_count": 175,
   "id": "67bf6963",
   "metadata": {},
   "outputs": [],
   "source": [
    "class Teacher:\n",
    "    def __init__(self, name, age, teaching_style):\n",
    "        self.name = name\n",
    "        self.age= age\n",
    "        self.c = teaching_style\n",
    "    def performance(self):\n",
    "        if self.age > 55:\n",
    "            print('old')\n",
    "        else:\n",
    "            print('young')\n",
    "class Student(Teacher):\n",
    "    def __init__(self, name, marks, ex_act):\n",
    "        super().__init__(name = 'ma', age = 88, teaching_style = 'good')\n",
    "        self.a = name\n",
    "        self.b = marks\n",
    "        self.c = ex_act\n",
    "    def performance(self):\n",
    "        print(f'{self.a} performing well in {self.c} and getting {self.b}')"
   ]
  },
  {
   "cell_type": "code",
   "execution_count": null,
   "id": "3f152d8e",
   "metadata": {},
   "outputs": [],
   "source": []
  },
  {
   "cell_type": "code",
   "execution_count": 176,
   "id": "cdb3b275",
   "metadata": {},
   "outputs": [],
   "source": [
    "s = Student('mahendra', 88, 'cricket')"
   ]
  },
  {
   "cell_type": "code",
   "execution_count": 178,
   "id": "cbb896fb",
   "metadata": {},
   "outputs": [
    {
     "name": "stdout",
     "output_type": "stream",
     "text": [
      "mahendra performing well in cricket and getting 88\n"
     ]
    }
   ],
   "source": [
    "s.performance1()"
   ]
  },
  {
   "cell_type": "code",
   "execution_count": 212,
   "id": "18f1dd32",
   "metadata": {},
   "outputs": [],
   "source": [
    "class boy:\n",
    "    def __init__(self, age=99, score=77):\n",
    "        self.a = age\n",
    "        self.b = score\n",
    "    def method(self, age = 388, score=88):\n",
    "        return age + score\n",
    "    def method(self):\n",
    "        print('method')"
   ]
  },
  {
   "cell_type": "code",
   "execution_count": 213,
   "id": "84615638",
   "metadata": {},
   "outputs": [],
   "source": [
    "b = boy()"
   ]
  },
  {
   "cell_type": "code",
   "execution_count": 214,
   "id": "cee0becb",
   "metadata": {},
   "outputs": [
    {
     "name": "stdout",
     "output_type": "stream",
     "text": [
      "method\n"
     ]
    }
   ],
   "source": [
    "b.method()"
   ]
  },
  {
   "cell_type": "code",
   "execution_count": 215,
   "id": "7b0b251f",
   "metadata": {},
   "outputs": [],
   "source": [
    "b = boy(2,3)"
   ]
  },
  {
   "cell_type": "code",
   "execution_count": 216,
   "id": "3cd5d80b",
   "metadata": {},
   "outputs": [
    {
     "ename": "TypeError",
     "evalue": "boy.method() takes 1 positional argument but 2 were given",
     "output_type": "error",
     "traceback": [
      "\u001b[1;31m---------------------------------------------------------------------------\u001b[0m",
      "\u001b[1;31mTypeError\u001b[0m                                 Traceback (most recent call last)",
      "Cell \u001b[1;32mIn[216], line 1\u001b[0m\n\u001b[1;32m----> 1\u001b[0m \u001b[43mb\u001b[49m\u001b[38;5;241;43m.\u001b[39;49m\u001b[43mmethod\u001b[49m\u001b[43m(\u001b[49m\u001b[38;5;241;43m8\u001b[39;49m\u001b[43m)\u001b[49m\n",
      "\u001b[1;31mTypeError\u001b[0m: boy.method() takes 1 positional argument but 2 were given"
     ]
    }
   ],
   "source": [
    "b.method(8)"
   ]
  },
  {
   "cell_type": "code",
   "execution_count": 217,
   "id": "628c5259",
   "metadata": {},
   "outputs": [
    {
     "ename": "TypeError",
     "evalue": "boy.method() takes 1 positional argument but 3 were given",
     "output_type": "error",
     "traceback": [
      "\u001b[1;31m---------------------------------------------------------------------------\u001b[0m",
      "\u001b[1;31mTypeError\u001b[0m                                 Traceback (most recent call last)",
      "Cell \u001b[1;32mIn[217], line 1\u001b[0m\n\u001b[1;32m----> 1\u001b[0m \u001b[43mb\u001b[49m\u001b[38;5;241;43m.\u001b[39;49m\u001b[43mmethod\u001b[49m\u001b[43m(\u001b[49m\u001b[38;5;241;43m4\u001b[39;49m\u001b[43m,\u001b[49m\u001b[38;5;241;43m5\u001b[39;49m\u001b[43m)\u001b[49m\n",
      "\u001b[1;31mTypeError\u001b[0m: boy.method() takes 1 positional argument but 3 were given"
     ]
    }
   ],
   "source": [
    "b.method(4,5)"
   ]
  },
  {
   "cell_type": "code",
   "execution_count": 218,
   "id": "09956ed2",
   "metadata": {},
   "outputs": [
    {
     "name": "stdout",
     "output_type": "stream",
     "text": [
      "method\n"
     ]
    }
   ],
   "source": [
    "b.method()"
   ]
  },
  {
   "cell_type": "code",
   "execution_count": null,
   "id": "90590c2d",
   "metadata": {},
   "outputs": [],
   "source": []
  }
 ],
 "metadata": {
  "kernelspec": {
   "display_name": "Python 3 (ipykernel)",
   "language": "python",
   "name": "python3"
  },
  "language_info": {
   "codemirror_mode": {
    "name": "ipython",
    "version": 3
   },
   "file_extension": ".py",
   "mimetype": "text/x-python",
   "name": "python",
   "nbconvert_exporter": "python",
   "pygments_lexer": "ipython3",
   "version": "3.10.9"
  }
 },
 "nbformat": 4,
 "nbformat_minor": 5
}
