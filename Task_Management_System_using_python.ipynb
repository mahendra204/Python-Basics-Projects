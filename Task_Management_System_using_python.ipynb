{
  "nbformat": 4,
  "nbformat_minor": 0,
  "metadata": {
    "colab": {
      "provenance": [],
      "authorship_tag": "ABX9TyNa9GaufqRVGafpiKjaYzy6",
      "include_colab_link": true
    },
    "kernelspec": {
      "name": "python3",
      "display_name": "Python 3"
    },
    "language_info": {
      "name": "python"
    }
  },
  "cells": [
    {
      "cell_type": "markdown",
      "metadata": {
        "id": "view-in-github",
        "colab_type": "text"
      },
      "source": [
        "<a href=\"https://colab.research.google.com/github/mahendra204/Python-problemsolving-source_code---practice/blob/main/Task_Management_System_using_python.ipynb\" target=\"_parent\"><img src=\"https://colab.research.google.com/assets/colab-badge.svg\" alt=\"Open In Colab\"/></a>"
      ]
    },
    {
      "cell_type": "code",
      "execution_count": null,
      "metadata": {
        "id": "CmBeyyBLfIhg"
      },
      "outputs": [],
      "source": [
        "import json\n",
        "import datetime\n",
        "\n",
        "def load_tasks():\n",
        "    try:\n",
        "        with open('tasks.json', 'r') as file:\n",
        "            tasks = json.load(file)\n",
        "    except FileNotFoundError:\n",
        "        tasks = []\n",
        "    return tasks\n",
        "\n",
        "def save_tasks(tasks):\n",
        "    with open('tasks.json', 'w') as file:\n",
        "        json.dump(tasks, file)\n",
        "\n",
        "def add_task(title, description, due_date):\n",
        "    tasks = load_tasks()\n",
        "    task = {\n",
        "        'title': title,\n",
        "        'description': description,\n",
        "        'due_date': due_date,\n",
        "        'status': 'pending'\n",
        "    }\n",
        "    tasks.append(task)\n",
        "    save_tasks(tasks)\n",
        "    print('Task added successfully.')\n",
        "\n",
        "def view_tasks():\n",
        "    tasks = load_tasks()\n",
        "    if not tasks:\n",
        "        print('No tasks found.')\n",
        "    else:\n",
        "        for i, task in enumerate(tasks, start=1):\n",
        "            print(f\"{i}. Title: {task['title']}, Due Date: {task['due_date']}, Status: {task['status']}\")\n",
        "\n",
        "def mark_completed(index):\n",
        "    tasks = load_tasks()\n",
        "    if 1 <= index <= len(tasks):\n",
        "        tasks[index - 1]['status'] = 'completed'\n",
        "        save_tasks(tasks)\n",
        "        print('Task marked as completed.')\n",
        "    else:\n",
        "        print('Invalid task index.')\n",
        "\n",
        "def delete_task(index):\n",
        "    tasks = load_tasks()\n",
        "    if 1 <= index <= len(tasks):\n",
        "        del tasks[index - 1]\n",
        "        save_tasks(tasks)\n",
        "        print('Task deleted successfully.')\n",
        "    else:\n",
        "        print('Invalid task index.')"
      ]
    },
    {
      "cell_type": "code",
      "source": [
        "add_task('Complete Project', 'Finish the task management system project', '2023-12-31')\n",
        "view_tasks()\n",
        "mark_completed(1)\n",
        "delete_task(1)\n",
        "view_tasks()"
      ],
      "metadata": {
        "colab": {
          "base_uri": "https://localhost:8080/"
        },
        "id": "kxkOyAnXhstC",
        "outputId": "34ee550c-e369-46e7-8f75-c90577ae21b4"
      },
      "execution_count": null,
      "outputs": [
        {
          "output_type": "stream",
          "name": "stdout",
          "text": [
            "Task added successfully.\n",
            "1. Title: Complete Project, Due Date: 2023-12-31, Status: pending\n",
            "Task marked as completed.\n",
            "Task deleted successfully.\n",
            "No tasks found.\n"
          ]
        }
      ]
    },
    {
      "cell_type": "code",
      "source": [],
      "metadata": {
        "id": "NBhwmRFoiBjy"
      },
      "execution_count": null,
      "outputs": []
    }
  ]
}